{
  "nbformat": 4,
  "nbformat_minor": 0,
  "metadata": {
    "colab": {
      "provenance": []
    },
    "kernelspec": {
      "name": "python3",
      "display_name": "Python 3"
    },
    "language_info": {
      "name": "python"
    }
  },
  "cells": [
    {
      "cell_type": "code",
      "execution_count": null,
      "metadata": {
        "id": "IyrF9ax_j1b2"
      },
      "outputs": [],
      "source": [
        "# Importing all the packages we are going to need.\n",
        "\n",
        "import requests\n",
        "from bs4 import BeautifulSoup\n",
        "import re\n",
        "\n",
        "import numpy as np\n",
        "import pandas as pd\n",
        "\n",
        "import string\n",
        "import time"
      ]
    },
    {
      "cell_type": "code",
      "source": [
        "def get_profile_links(letter):\n",
        "\n",
        "\n",
        "    time.sleep(5)\n",
        "\n",
        "    base_url = f'https://en.khl.ru/players/season/all/?letter={letter}'\n",
        "\n",
        "    result = requests.get(base_url)\n",
        "    soup = BeautifulSoup(result.text, 'html.parser')\n",
        "    result = requests.get(base_url)\n",
        "    result_pandas = pd.read_html(result.text)\n",
        "\n",
        "    links = []\n",
        "    for link in soup.find_all('a', class_='players-table__player'):\n",
        "      links.append(link.get('href').strip())\n",
        "    player_info = result_pandas[-1]\n",
        "\n",
        "    profile_links = pd.DataFrame(links, columns=['Profile link'])\n",
        "\n",
        "    profile_links = pd.concat([profile_links,player_info], axis = 1)\n",
        "    #goalkeepers = profile_links[profile_links['Position'] == 'Position goaltender']\n",
        "    profile_links = profile_links.loc[profile_links['Position']  != 'Position goaltender']\n",
        "    #print(position)\n",
        "    return profile_links\n",
        "get_profile_links('F')"
      ],
      "metadata": {
        "colab": {
          "base_uri": "https://localhost:8080/",
          "height": 1000
        },
        "id": "RAFKqS0fj6XF",
        "outputId": "e4f91293-9fcb-4b3c-a542-52126805b1e8"
      },
      "execution_count": null,
      "outputs": [
        {
          "output_type": "execute_result",
          "data": {
            "text/plain": [
              "       Profile link             Name Player  \\\n",
              "0   /players/17910/          Fabricius Karl   \n",
              "1    /players/4537/          Fadeyev Evgeny   \n",
              "2   /players/20356/             Fahey Brian   \n",
              "3   /players/22526/          Fairchild Cade   \n",
              "4   /players/16688/         Faizullin Danil   \n",
              "5   /players/15054/      Fakhrutdinov Denis   \n",
              "6   /players/14825/      Fakhrutdinov Marat   \n",
              "7   /players/20724/        Falkovsky Stepan   \n",
              "9   /players/20124/        Fantenberg Oscar   \n",
              "12  /players/22746/           Fateyev Yegor   \n",
              "13  /players/21101/         Fatkullin Timur   \n",
              "14  /players/35746/         Fattakhov Vadim   \n",
              "15  /players/14168/          Fazleyev Radel   \n",
              "16  /players/21133/       Fazylzyanov Kamil   \n",
              "17  /players/14596/              Fedin Ilya   \n",
              "18  /players/16304/  Fedoseyev Alexander S.   \n",
              "19  /players/14496/       Fedoseyev Mikhail   \n",
              "20  /players/20480/        Fedotenko Ruslan   \n",
              "21  /players/35921/            Fedotov Ilya   \n",
              "23  /players/35032/        Fedotov Maxim S.   \n",
              "24  /players/16447/            Fefelov Igor   \n",
              "25  /players/41195/               Fehr Eric   \n",
              "26  /players/16946/       Feoktistov Nikita   \n",
              "27  /players/16648/         Fernholm Daniel   \n",
              "28  /players/16427/      Fetisov Vyacheslav   \n",
              "29  /players/15309/            Fiala Ondrej   \n",
              "\n",
              "                                                 Team          Position  \\\n",
              "0                                        Lev (Poprad)  Position forward   \n",
              "1                                      Barys (Astana)  Position defense   \n",
              "2                              Vityaz (Moscow Region)  Position defense   \n",
              "3                                       Dinamo (Riga)  Position defense   \n",
              "4                               Admiral (Vladivostok)  Position forward   \n",
              "5                           Neftekhimik (Nizhnekamsk)  Position forward   \n",
              "6              Traktor (Chelyabinsk) Lada (Togliatti)  Position forward   \n",
              "7                              SKA (Saint Petersburg)  Position defense   \n",
              "9                              SKA (Saint Petersburg)  Position defense   \n",
              "12                              Traktor (Chelyabinsk)  Position forward   \n",
              "13                          Neftekhimik (Nizhnekamsk)  Position defense   \n",
              "14                                   Spartak (Moscow)  Position forward   \n",
              "15                          Neftekhimik (Nizhnekamsk)  Position forward   \n",
              "16                              Admiral (Vladivostok)  Position defense   \n",
              "17                                   HC Sochi (Sochi)  Position forward   \n",
              "18                            Severstal (Cherepovets)  Position forward   \n",
              "19                             HC MVD (Moscow Region)  Position defense   \n",
              "20                                  Donbass (Donetsk)  Position forward   \n",
              "21  Torpedo (Nizhny Novgorod) Neftekhimik (Nizhnek...  Position forward   \n",
              "23                          Torpedo (Nizhny Novgorod)  Position defense   \n",
              "24  Sibir (Novosibirsk Region) Ugra (Khanty-Mansiysk)  Position forward   \n",
              "25                                    Ak Bars (Kazan)  Position forward   \n",
              "26                                   HC Sochi (Sochi)  Position forward   \n",
              "27                             Atlant (Moscow Region)  Position defense   \n",
              "28                                      CSKA (Moscow)  Position defense   \n",
              "29                                   Spartak (Moscow)  Position forward   \n",
              "\n",
              "                      Born     Age             Country             Contract to  \n",
              "0   Born 29 September 1982  Age 40      Country Sweden             Contract to  \n",
              "1         Born 9 July 1982  Age 40  Country Kazakhstan             Contract to  \n",
              "2        Born 2 March 1981  Age 42         Country USA             Contract to  \n",
              "3     Born 15 January 1989  Age 34         Country USA             Contract to  \n",
              "4     Born 3 December 1993  Age 29      Country Russia  Contract to 30.04.2024  \n",
              "5       Born 21 March 1990  Age 33      Country Russia             Contract to  \n",
              "6    Born 27 November 1988  Age 34      Country Russia             Contract to  \n",
              "7    Born 18 December 1996  Age 26     Country Belarus  Contract to 30.04.2026  \n",
              "9      Born 7 October 1991  Age 31      Country Sweden             Contract to  \n",
              "12    Born 3 November 1997  Age 25      Country Russia  Contract to 30.04.2024  \n",
              "13   Born 10 February 1997  Age 26      Country Russia             Contract to  \n",
              "14    Born 20 October 2003  Age 19      Country Russia  Contract to 30.04.2025  \n",
              "15     Born 7 January 1996  Age 27      Country Russia             Contract to  \n",
              "16    Born 31 October 1997  Age 25      Country Russia             Contract to  \n",
              "17         Born 6 May 1989  Age 34      Country Russia             Contract to  \n",
              "18       Born 20 July 1991  Age 31      Country Russia             Contract to  \n",
              "19         Born 6 May 1986  Age 37      Country Russia             Contract to  \n",
              "20    Born 18 January 1979  Age 44     Country Ukraine             Contract to  \n",
              "21      Born 19 March 2003  Age 20      Country Russia  Contract to 30.04.2024  \n",
              "23    Born 22 January 2002  Age 21      Country Russia  Contract to 30.04.2024  \n",
              "24      Born 3 August 1993  Age 29      Country Russia             Contract to  \n",
              "25   Born 7 September 1985  Age 37      Country Canada             Contract to  \n",
              "26       Born 23 June 1990  Age 32     Country Belarus             Contract to  \n",
              "27   Born 20 December 1983  Age 39      Country Sweden             Contract to  \n",
              "28      Born 20 April 1958  Age 65      Country Russia             Contract to  \n",
              "29    Born 4 November 1987  Age 35     Country Czechia             Contract to  "
            ],
            "text/html": [
              "\n",
              "  <div id=\"df-d06cc6e3-0c7a-4b55-becd-09b92e27ca21\">\n",
              "    <div class=\"colab-df-container\">\n",
              "      <div>\n",
              "<style scoped>\n",
              "    .dataframe tbody tr th:only-of-type {\n",
              "        vertical-align: middle;\n",
              "    }\n",
              "\n",
              "    .dataframe tbody tr th {\n",
              "        vertical-align: top;\n",
              "    }\n",
              "\n",
              "    .dataframe thead th {\n",
              "        text-align: right;\n",
              "    }\n",
              "</style>\n",
              "<table border=\"1\" class=\"dataframe\">\n",
              "  <thead>\n",
              "    <tr style=\"text-align: right;\">\n",
              "      <th></th>\n",
              "      <th>Profile link</th>\n",
              "      <th>Name Player</th>\n",
              "      <th>Team</th>\n",
              "      <th>Position</th>\n",
              "      <th>Born</th>\n",
              "      <th>Age</th>\n",
              "      <th>Country</th>\n",
              "      <th>Contract to</th>\n",
              "    </tr>\n",
              "  </thead>\n",
              "  <tbody>\n",
              "    <tr>\n",
              "      <th>0</th>\n",
              "      <td>/players/17910/</td>\n",
              "      <td>Fabricius Karl</td>\n",
              "      <td>Lev (Poprad)</td>\n",
              "      <td>Position forward</td>\n",
              "      <td>Born 29 September 1982</td>\n",
              "      <td>Age 40</td>\n",
              "      <td>Country Sweden</td>\n",
              "      <td>Contract to</td>\n",
              "    </tr>\n",
              "    <tr>\n",
              "      <th>1</th>\n",
              "      <td>/players/4537/</td>\n",
              "      <td>Fadeyev Evgeny</td>\n",
              "      <td>Barys (Astana)</td>\n",
              "      <td>Position defense</td>\n",
              "      <td>Born 9 July 1982</td>\n",
              "      <td>Age 40</td>\n",
              "      <td>Country Kazakhstan</td>\n",
              "      <td>Contract to</td>\n",
              "    </tr>\n",
              "    <tr>\n",
              "      <th>2</th>\n",
              "      <td>/players/20356/</td>\n",
              "      <td>Fahey Brian</td>\n",
              "      <td>Vityaz (Moscow Region)</td>\n",
              "      <td>Position defense</td>\n",
              "      <td>Born 2 March 1981</td>\n",
              "      <td>Age 42</td>\n",
              "      <td>Country USA</td>\n",
              "      <td>Contract to</td>\n",
              "    </tr>\n",
              "    <tr>\n",
              "      <th>3</th>\n",
              "      <td>/players/22526/</td>\n",
              "      <td>Fairchild Cade</td>\n",
              "      <td>Dinamo (Riga)</td>\n",
              "      <td>Position defense</td>\n",
              "      <td>Born 15 January 1989</td>\n",
              "      <td>Age 34</td>\n",
              "      <td>Country USA</td>\n",
              "      <td>Contract to</td>\n",
              "    </tr>\n",
              "    <tr>\n",
              "      <th>4</th>\n",
              "      <td>/players/16688/</td>\n",
              "      <td>Faizullin Danil</td>\n",
              "      <td>Admiral (Vladivostok)</td>\n",
              "      <td>Position forward</td>\n",
              "      <td>Born 3 December 1993</td>\n",
              "      <td>Age 29</td>\n",
              "      <td>Country Russia</td>\n",
              "      <td>Contract to 30.04.2024</td>\n",
              "    </tr>\n",
              "    <tr>\n",
              "      <th>5</th>\n",
              "      <td>/players/15054/</td>\n",
              "      <td>Fakhrutdinov Denis</td>\n",
              "      <td>Neftekhimik (Nizhnekamsk)</td>\n",
              "      <td>Position forward</td>\n",
              "      <td>Born 21 March 1990</td>\n",
              "      <td>Age 33</td>\n",
              "      <td>Country Russia</td>\n",
              "      <td>Contract to</td>\n",
              "    </tr>\n",
              "    <tr>\n",
              "      <th>6</th>\n",
              "      <td>/players/14825/</td>\n",
              "      <td>Fakhrutdinov Marat</td>\n",
              "      <td>Traktor (Chelyabinsk) Lada (Togliatti)</td>\n",
              "      <td>Position forward</td>\n",
              "      <td>Born 27 November 1988</td>\n",
              "      <td>Age 34</td>\n",
              "      <td>Country Russia</td>\n",
              "      <td>Contract to</td>\n",
              "    </tr>\n",
              "    <tr>\n",
              "      <th>7</th>\n",
              "      <td>/players/20724/</td>\n",
              "      <td>Falkovsky Stepan</td>\n",
              "      <td>SKA (Saint Petersburg)</td>\n",
              "      <td>Position defense</td>\n",
              "      <td>Born 18 December 1996</td>\n",
              "      <td>Age 26</td>\n",
              "      <td>Country Belarus</td>\n",
              "      <td>Contract to 30.04.2026</td>\n",
              "    </tr>\n",
              "    <tr>\n",
              "      <th>9</th>\n",
              "      <td>/players/20124/</td>\n",
              "      <td>Fantenberg Oscar</td>\n",
              "      <td>SKA (Saint Petersburg)</td>\n",
              "      <td>Position defense</td>\n",
              "      <td>Born 7 October 1991</td>\n",
              "      <td>Age 31</td>\n",
              "      <td>Country Sweden</td>\n",
              "      <td>Contract to</td>\n",
              "    </tr>\n",
              "    <tr>\n",
              "      <th>12</th>\n",
              "      <td>/players/22746/</td>\n",
              "      <td>Fateyev Yegor</td>\n",
              "      <td>Traktor (Chelyabinsk)</td>\n",
              "      <td>Position forward</td>\n",
              "      <td>Born 3 November 1997</td>\n",
              "      <td>Age 25</td>\n",
              "      <td>Country Russia</td>\n",
              "      <td>Contract to 30.04.2024</td>\n",
              "    </tr>\n",
              "    <tr>\n",
              "      <th>13</th>\n",
              "      <td>/players/21101/</td>\n",
              "      <td>Fatkullin Timur</td>\n",
              "      <td>Neftekhimik (Nizhnekamsk)</td>\n",
              "      <td>Position defense</td>\n",
              "      <td>Born 10 February 1997</td>\n",
              "      <td>Age 26</td>\n",
              "      <td>Country Russia</td>\n",
              "      <td>Contract to</td>\n",
              "    </tr>\n",
              "    <tr>\n",
              "      <th>14</th>\n",
              "      <td>/players/35746/</td>\n",
              "      <td>Fattakhov Vadim</td>\n",
              "      <td>Spartak (Moscow)</td>\n",
              "      <td>Position forward</td>\n",
              "      <td>Born 20 October 2003</td>\n",
              "      <td>Age 19</td>\n",
              "      <td>Country Russia</td>\n",
              "      <td>Contract to 30.04.2025</td>\n",
              "    </tr>\n",
              "    <tr>\n",
              "      <th>15</th>\n",
              "      <td>/players/14168/</td>\n",
              "      <td>Fazleyev Radel</td>\n",
              "      <td>Neftekhimik (Nizhnekamsk)</td>\n",
              "      <td>Position forward</td>\n",
              "      <td>Born 7 January 1996</td>\n",
              "      <td>Age 27</td>\n",
              "      <td>Country Russia</td>\n",
              "      <td>Contract to</td>\n",
              "    </tr>\n",
              "    <tr>\n",
              "      <th>16</th>\n",
              "      <td>/players/21133/</td>\n",
              "      <td>Fazylzyanov Kamil</td>\n",
              "      <td>Admiral (Vladivostok)</td>\n",
              "      <td>Position defense</td>\n",
              "      <td>Born 31 October 1997</td>\n",
              "      <td>Age 25</td>\n",
              "      <td>Country Russia</td>\n",
              "      <td>Contract to</td>\n",
              "    </tr>\n",
              "    <tr>\n",
              "      <th>17</th>\n",
              "      <td>/players/14596/</td>\n",
              "      <td>Fedin Ilya</td>\n",
              "      <td>HC Sochi (Sochi)</td>\n",
              "      <td>Position forward</td>\n",
              "      <td>Born 6 May 1989</td>\n",
              "      <td>Age 34</td>\n",
              "      <td>Country Russia</td>\n",
              "      <td>Contract to</td>\n",
              "    </tr>\n",
              "    <tr>\n",
              "      <th>18</th>\n",
              "      <td>/players/16304/</td>\n",
              "      <td>Fedoseyev Alexander S.</td>\n",
              "      <td>Severstal (Cherepovets)</td>\n",
              "      <td>Position forward</td>\n",
              "      <td>Born 20 July 1991</td>\n",
              "      <td>Age 31</td>\n",
              "      <td>Country Russia</td>\n",
              "      <td>Contract to</td>\n",
              "    </tr>\n",
              "    <tr>\n",
              "      <th>19</th>\n",
              "      <td>/players/14496/</td>\n",
              "      <td>Fedoseyev Mikhail</td>\n",
              "      <td>HC MVD (Moscow Region)</td>\n",
              "      <td>Position defense</td>\n",
              "      <td>Born 6 May 1986</td>\n",
              "      <td>Age 37</td>\n",
              "      <td>Country Russia</td>\n",
              "      <td>Contract to</td>\n",
              "    </tr>\n",
              "    <tr>\n",
              "      <th>20</th>\n",
              "      <td>/players/20480/</td>\n",
              "      <td>Fedotenko Ruslan</td>\n",
              "      <td>Donbass (Donetsk)</td>\n",
              "      <td>Position forward</td>\n",
              "      <td>Born 18 January 1979</td>\n",
              "      <td>Age 44</td>\n",
              "      <td>Country Ukraine</td>\n",
              "      <td>Contract to</td>\n",
              "    </tr>\n",
              "    <tr>\n",
              "      <th>21</th>\n",
              "      <td>/players/35921/</td>\n",
              "      <td>Fedotov Ilya</td>\n",
              "      <td>Torpedo (Nizhny Novgorod) Neftekhimik (Nizhnek...</td>\n",
              "      <td>Position forward</td>\n",
              "      <td>Born 19 March 2003</td>\n",
              "      <td>Age 20</td>\n",
              "      <td>Country Russia</td>\n",
              "      <td>Contract to 30.04.2024</td>\n",
              "    </tr>\n",
              "    <tr>\n",
              "      <th>23</th>\n",
              "      <td>/players/35032/</td>\n",
              "      <td>Fedotov Maxim S.</td>\n",
              "      <td>Torpedo (Nizhny Novgorod)</td>\n",
              "      <td>Position defense</td>\n",
              "      <td>Born 22 January 2002</td>\n",
              "      <td>Age 21</td>\n",
              "      <td>Country Russia</td>\n",
              "      <td>Contract to 30.04.2024</td>\n",
              "    </tr>\n",
              "    <tr>\n",
              "      <th>24</th>\n",
              "      <td>/players/16447/</td>\n",
              "      <td>Fefelov Igor</td>\n",
              "      <td>Sibir (Novosibirsk Region) Ugra (Khanty-Mansiysk)</td>\n",
              "      <td>Position forward</td>\n",
              "      <td>Born 3 August 1993</td>\n",
              "      <td>Age 29</td>\n",
              "      <td>Country Russia</td>\n",
              "      <td>Contract to</td>\n",
              "    </tr>\n",
              "    <tr>\n",
              "      <th>25</th>\n",
              "      <td>/players/41195/</td>\n",
              "      <td>Fehr Eric</td>\n",
              "      <td>Ak Bars (Kazan)</td>\n",
              "      <td>Position forward</td>\n",
              "      <td>Born 7 September 1985</td>\n",
              "      <td>Age 37</td>\n",
              "      <td>Country Canada</td>\n",
              "      <td>Contract to</td>\n",
              "    </tr>\n",
              "    <tr>\n",
              "      <th>26</th>\n",
              "      <td>/players/16946/</td>\n",
              "      <td>Feoktistov Nikita</td>\n",
              "      <td>HC Sochi (Sochi)</td>\n",
              "      <td>Position forward</td>\n",
              "      <td>Born 23 June 1990</td>\n",
              "      <td>Age 32</td>\n",
              "      <td>Country Belarus</td>\n",
              "      <td>Contract to</td>\n",
              "    </tr>\n",
              "    <tr>\n",
              "      <th>27</th>\n",
              "      <td>/players/16648/</td>\n",
              "      <td>Fernholm Daniel</td>\n",
              "      <td>Atlant (Moscow Region)</td>\n",
              "      <td>Position defense</td>\n",
              "      <td>Born 20 December 1983</td>\n",
              "      <td>Age 39</td>\n",
              "      <td>Country Sweden</td>\n",
              "      <td>Contract to</td>\n",
              "    </tr>\n",
              "    <tr>\n",
              "      <th>28</th>\n",
              "      <td>/players/16427/</td>\n",
              "      <td>Fetisov Vyacheslav</td>\n",
              "      <td>CSKA (Moscow)</td>\n",
              "      <td>Position defense</td>\n",
              "      <td>Born 20 April 1958</td>\n",
              "      <td>Age 65</td>\n",
              "      <td>Country Russia</td>\n",
              "      <td>Contract to</td>\n",
              "    </tr>\n",
              "    <tr>\n",
              "      <th>29</th>\n",
              "      <td>/players/15309/</td>\n",
              "      <td>Fiala Ondrej</td>\n",
              "      <td>Spartak (Moscow)</td>\n",
              "      <td>Position forward</td>\n",
              "      <td>Born 4 November 1987</td>\n",
              "      <td>Age 35</td>\n",
              "      <td>Country Czechia</td>\n",
              "      <td>Contract to</td>\n",
              "    </tr>\n",
              "  </tbody>\n",
              "</table>\n",
              "</div>\n",
              "      <button class=\"colab-df-convert\" onclick=\"convertToInteractive('df-d06cc6e3-0c7a-4b55-becd-09b92e27ca21')\"\n",
              "              title=\"Convert this dataframe to an interactive table.\"\n",
              "              style=\"display:none;\">\n",
              "        \n",
              "  <svg xmlns=\"http://www.w3.org/2000/svg\" height=\"24px\"viewBox=\"0 0 24 24\"\n",
              "       width=\"24px\">\n",
              "    <path d=\"M0 0h24v24H0V0z\" fill=\"none\"/>\n",
              "    <path d=\"M18.56 5.44l.94 2.06.94-2.06 2.06-.94-2.06-.94-.94-2.06-.94 2.06-2.06.94zm-11 1L8.5 8.5l.94-2.06 2.06-.94-2.06-.94L8.5 2.5l-.94 2.06-2.06.94zm10 10l.94 2.06.94-2.06 2.06-.94-2.06-.94-.94-2.06-.94 2.06-2.06.94z\"/><path d=\"M17.41 7.96l-1.37-1.37c-.4-.4-.92-.59-1.43-.59-.52 0-1.04.2-1.43.59L10.3 9.45l-7.72 7.72c-.78.78-.78 2.05 0 2.83L4 21.41c.39.39.9.59 1.41.59.51 0 1.02-.2 1.41-.59l7.78-7.78 2.81-2.81c.8-.78.8-2.07 0-2.86zM5.41 20L4 18.59l7.72-7.72 1.47 1.35L5.41 20z\"/>\n",
              "  </svg>\n",
              "      </button>\n",
              "      \n",
              "  <style>\n",
              "    .colab-df-container {\n",
              "      display:flex;\n",
              "      flex-wrap:wrap;\n",
              "      gap: 12px;\n",
              "    }\n",
              "\n",
              "    .colab-df-convert {\n",
              "      background-color: #E8F0FE;\n",
              "      border: none;\n",
              "      border-radius: 50%;\n",
              "      cursor: pointer;\n",
              "      display: none;\n",
              "      fill: #1967D2;\n",
              "      height: 32px;\n",
              "      padding: 0 0 0 0;\n",
              "      width: 32px;\n",
              "    }\n",
              "\n",
              "    .colab-df-convert:hover {\n",
              "      background-color: #E2EBFA;\n",
              "      box-shadow: 0px 1px 2px rgba(60, 64, 67, 0.3), 0px 1px 3px 1px rgba(60, 64, 67, 0.15);\n",
              "      fill: #174EA6;\n",
              "    }\n",
              "\n",
              "    [theme=dark] .colab-df-convert {\n",
              "      background-color: #3B4455;\n",
              "      fill: #D2E3FC;\n",
              "    }\n",
              "\n",
              "    [theme=dark] .colab-df-convert:hover {\n",
              "      background-color: #434B5C;\n",
              "      box-shadow: 0px 1px 3px 1px rgba(0, 0, 0, 0.15);\n",
              "      filter: drop-shadow(0px 1px 2px rgba(0, 0, 0, 0.3));\n",
              "      fill: #FFFFFF;\n",
              "    }\n",
              "  </style>\n",
              "\n",
              "      <script>\n",
              "        const buttonEl =\n",
              "          document.querySelector('#df-d06cc6e3-0c7a-4b55-becd-09b92e27ca21 button.colab-df-convert');\n",
              "        buttonEl.style.display =\n",
              "          google.colab.kernel.accessAllowed ? 'block' : 'none';\n",
              "\n",
              "        async function convertToInteractive(key) {\n",
              "          const element = document.querySelector('#df-d06cc6e3-0c7a-4b55-becd-09b92e27ca21');\n",
              "          const dataTable =\n",
              "            await google.colab.kernel.invokeFunction('convertToInteractive',\n",
              "                                                     [key], {});\n",
              "          if (!dataTable) return;\n",
              "\n",
              "          const docLinkHtml = 'Like what you see? Visit the ' +\n",
              "            '<a target=\"_blank\" href=https://colab.research.google.com/notebooks/data_table.ipynb>data table notebook</a>'\n",
              "            + ' to learn more about interactive tables.';\n",
              "          element.innerHTML = '';\n",
              "          dataTable['output_type'] = 'display_data';\n",
              "          await google.colab.output.renderOutput(dataTable, element);\n",
              "          const docLink = document.createElement('div');\n",
              "          docLink.innerHTML = docLinkHtml;\n",
              "          element.appendChild(docLink);\n",
              "        }\n",
              "      </script>\n",
              "    </div>\n",
              "  </div>\n",
              "  "
            ]
          },
          "metadata": {},
          "execution_count": 2
        }
      ]
    },
    {
      "cell_type": "code",
      "source": [
        "def scrape_player_info(profile_link):\n",
        "  base_url = f'https://en.khl.ru/{profile_link}'\n",
        "  result = requests.get(base_url)\n",
        "  soup = BeautifulSoup(result.text, 'html.parser')\n",
        "  infos = []\n",
        "  for info in soup.find_all('p', class_='roboto roboto-bold roboto-lg roboto-lg__lg-bigger color-black'):\n",
        "      infos.append(info.text.strip())\n",
        "\n",
        "  headers = []\n",
        "  for header in soup.find_all('p', class_ = 'roboto roboto-normal roboto-md color-black roboto-md_lh-ll'):\n",
        "    headers.append(header.text.strip())\n",
        "\n",
        "  player_info = pd.DataFrame([infos], columns=[headers])\n",
        "  name = soup.find('span', class_='frameCard-header__detail-titleItem').text\n",
        "  position = soup.find('p',class_='frameCard-header__detail-local').text.strip()\n",
        "  player_name = pd.DataFrame([{ 'URL': base_url, 'Player name': name, 'Position' : position} ])\n",
        "\n",
        "\n",
        "  return player_name, player_info\n",
        "scrape_player_info('players/5516/')"
      ],
      "metadata": {
        "colab": {
          "base_uri": "https://localhost:8080/"
        },
        "id": "Fdy3OzLAMKkA",
        "outputId": "99fa14de-2269-4b2f-952b-ac75eabb3b22"
      },
      "execution_count": null,
      "outputs": [
        {
          "output_type": "execute_result",
          "data": {
            "text/plain": [
              "(                               URL        Player name    Position\n",
              " 0  https://en.khl.ru/players/5516/  Vasily Koshechkin  goaltender,\n",
              "             Born Age Country Height Weight Shoots\n",
              " 0  27 March 1983  40  Russia    200    115   left)"
            ]
          },
          "metadata": {},
          "execution_count": 3
        }
      ]
    },
    {
      "cell_type": "code",
      "source": [
        "def scrape_player_data(profile_link):\n",
        "\n",
        "\n",
        "    time.sleep(5)\n",
        "\n",
        "\n",
        "    #base_url = f'https://en.khl.ru/{profile_link}'\n",
        "    #result = requests.get(base_url)\n",
        "    #soup = BeautifulSoup(result.text, 'html.parser')\n",
        "    base_url = f'https://en.khl.ru/{profile_link}'\n",
        "    result = requests.get(base_url)\n",
        "    result_pandas = pd.read_html(result.text)\n",
        "\n",
        "\n",
        "    if len(result_pandas) < 2:\n",
        "      #player_season_stat = result_pandas[-1]\n",
        "      player_khl_stat = result_pandas[-1]\n",
        "      player_games_in_khl_stat = None\n",
        "\n",
        "    else:\n",
        "      player_khl_stat = result_pandas[-2]\n",
        "      player_games_in_khl_stat = result_pandas[-1]\n",
        "      player_games_in_khl_stat.columns = ['Date', 'Teams', 'Score',\t'№',\t'G',\t'Assists',\t'PTS',\t'+/-',\t'+',\t'-',\t'PIM',\t'ESG',\t'PPG',\t'SHG',\t'OTG',\t'GWG',\t'SDS',\t'SOG',\t'%SOG',\t'FO',\t'FOW',\t'%FO',\t'TOI',\t'SFT',\t'TIE',\t'SFTE',\t'TIPP',\t'SFTPP',\t'TISH',\t'SFTSH',\t'TIEN',\t'SFTEN',\t'HITS',\t'BLS',\t'FOA',\t'TkA']\n",
        "\n",
        "\n",
        "\n",
        "    player_khl_stat.columns = ['Tournament/Team', '№',\t'GP',\t'G',\t'Assists',\t'PTS',\t'+/-',\t'+',\t'-',\t'PIM',\t'ESG',\t'PPG',\t'SHG',\t'OTG',\t'GWG',\t'SDS',\t'SOG',\t'%SOG',\t'S/G',\t'FO',\t'FOW',\t'%FO',\t'TOI/G',\t'SFT/G',\t'TIE/G',\t'SFTE/G',\t'TIPP/G',\t'SFTPP/G',\t'TISH/G',\t'SFTSH/G',\t'HITS',\t'BLS',\t'FOA',\t'TkA']\n",
        "    #\n",
        "    #if ('Tournament / Team GP Games played W Wins L Losses SOP Shootouts played SOG Shots on goal GA Goals allowed Sv Saves %Sv Saves percentage GAA Goals against average G Goals Assists Assists SO Shutouts PIM Penalty in minutes TOI Time on ice' in player_khl_stat.columns):\n",
        "     # player_khl_stat = player_khl_stat.rename(columns={'Tournament / Team GP Games played W Wins L Losses SOP Shootouts played SOG Shots on goal GA Goals allowed Sv Saves %Sv Saves percentage GAA Goals against average G Goals Assists Assists SO Shutouts PIM Penalty in minutes TOI Time on ice': 'Tournament/Team'})\n",
        "    #player_khl_stat = player_match_stat.columns=['Tournament/Team','№',\t'GP',\t'G',\t'Assists',\t'PTS',\t'+/-',\t'+',\t'-',\t'PIM',\t'ESG',\t'PPG',\t'SHG',\t'OTG',\t'GWG',\t'SDS',\t'SOG',\t'%SOG',\t'S/G',\t'FO',\t'FOW',\t'%FO',\t'TOI/G',\t'SFT/G',\t'TIE/G',\t'SFTE/G',\t'TIPP/G',\t'SFTPP/G',\t'TISH/G',\t'SFTSH/G',\t'HITS',\t'BLS',\t'FOA',\t'TkA']\n",
        "    return player_khl_stat#, player_games_in_khl_stat\n",
        "scrape_player_data('players/34721/')\n"
      ],
      "metadata": {
        "colab": {
          "base_uri": "https://localhost:8080/",
          "height": 581
        },
        "id": "CO_ugj6skFzn",
        "outputId": "ffb74743-1fbf-4ff2-bab1-9cbf640de016"
      },
      "execution_count": null,
      "outputs": [
        {
          "output_type": "execute_result",
          "data": {
            "text/plain": [
              "       Tournament/Team    №     GP     G  Assists   PTS  +/-     +     -  \\\n",
              "0     21/22 | playoffs  NaN    NaN   NaN      NaN   NaN  NaN   NaN   NaN   \n",
              "1   Jokerit (Helsinki)    -    0.0   0.0      0.0   0.0  0.0   0.0   0.0   \n",
              "2     20/21 | playoffs  NaN    NaN   NaN      NaN   NaN  NaN   NaN   NaN   \n",
              "3   Jokerit (Helsinki)   25    2.0   0.0      0.0   0.0 -1.0   0.0   1.0   \n",
              "4      20/21 | regular  NaN    NaN   NaN      NaN   NaN  NaN   NaN   NaN   \n",
              "5   Jokerit (Helsinki)   25   50.0   8.0     18.0  26.0 -6.0  25.0  31.0   \n",
              "6     19/20 | playoffs  NaN    NaN   NaN      NaN   NaN  NaN   NaN   NaN   \n",
              "7   Jokerit (Helsinki)   25    6.0   2.0      2.0   4.0  4.0   6.0   2.0   \n",
              "8      19/20 | regular  NaN    NaN   NaN      NaN   NaN  NaN   NaN   NaN   \n",
              "9   Jokerit (Helsinki)   25   56.0   6.0     23.0  29.0  4.0  33.0  29.0   \n",
              "10         KHL Summary  NaN    NaN   NaN      NaN   NaN  NaN   NaN   NaN   \n",
              "11     Regular season:  NaN  106.0  14.0     41.0  55.0 -2.0  58.0  60.0   \n",
              "12           Playoffs:  NaN    8.0   2.0      2.0   4.0  3.0   6.0   3.0   \n",
              "13          KHL Total:  NaN  114.0  16.0     43.0  59.0  1.0  64.0  63.0   \n",
              "\n",
              "     PIM  ...  TIE/G  SFTE/G  TIPP/G  SFTPP/G  TISH/G  SFTSH/G  HITS   BLS  \\\n",
              "0    NaN  ...    NaN     NaN     NaN      NaN     NaN      NaN   NaN   NaN   \n",
              "1    0.0  ...      -       -       -        -       -        -   0.0   0.0   \n",
              "2    NaN  ...    NaN     NaN     NaN      NaN     NaN      NaN   NaN   NaN   \n",
              "3    0.0  ...  12:37      17   01:08        1   00:00        0   4.0   0.0   \n",
              "4    NaN  ...    NaN     NaN     NaN      NaN     NaN      NaN   NaN   NaN   \n",
              "5   24.0  ...  12:05    17.1   02:09     2.76   00:01     0.08  24.0   3.0   \n",
              "6    NaN  ...    NaN     NaN     NaN      NaN     NaN      NaN   NaN   NaN   \n",
              "7    0.0  ...  11:00      17   03:06     3.67   00:00        0   3.0   2.0   \n",
              "8    NaN  ...    NaN     NaN     NaN      NaN     NaN      NaN   NaN   NaN   \n",
              "9   16.0  ...  12:27   18.11   02:43     3.21   00:02     0.07  22.0  13.0   \n",
              "10   NaN  ...    NaN     NaN     NaN      NaN     NaN      NaN   NaN   NaN   \n",
              "11  40.0  ...  12:17   17.63   02:27        3   00:02     0.08  46.0  16.0   \n",
              "12   0.0  ...  11:24      17   02:36        3   00:00        0   7.0   2.0   \n",
              "13  40.0  ...  12:13   17.59   02:28        3   00:01     0.07  53.0  18.0   \n",
              "\n",
              "     FOA  TkA  \n",
              "0    NaN  NaN  \n",
              "1    0.0  NaN  \n",
              "2    NaN  NaN  \n",
              "3    1.0  NaN  \n",
              "4    NaN  NaN  \n",
              "5   12.0  NaN  \n",
              "6    NaN  NaN  \n",
              "7    0.0  NaN  \n",
              "8    NaN  NaN  \n",
              "9   15.0  NaN  \n",
              "10   NaN  NaN  \n",
              "11  27.0  0.0  \n",
              "12   1.0  0.0  \n",
              "13  28.0  0.0  \n",
              "\n",
              "[14 rows x 34 columns]"
            ],
            "text/html": [
              "\n",
              "  <div id=\"df-faed080e-b746-4df3-809e-8059c056c810\">\n",
              "    <div class=\"colab-df-container\">\n",
              "      <div>\n",
              "<style scoped>\n",
              "    .dataframe tbody tr th:only-of-type {\n",
              "        vertical-align: middle;\n",
              "    }\n",
              "\n",
              "    .dataframe tbody tr th {\n",
              "        vertical-align: top;\n",
              "    }\n",
              "\n",
              "    .dataframe thead th {\n",
              "        text-align: right;\n",
              "    }\n",
              "</style>\n",
              "<table border=\"1\" class=\"dataframe\">\n",
              "  <thead>\n",
              "    <tr style=\"text-align: right;\">\n",
              "      <th></th>\n",
              "      <th>Tournament/Team</th>\n",
              "      <th>№</th>\n",
              "      <th>GP</th>\n",
              "      <th>G</th>\n",
              "      <th>Assists</th>\n",
              "      <th>PTS</th>\n",
              "      <th>+/-</th>\n",
              "      <th>+</th>\n",
              "      <th>-</th>\n",
              "      <th>PIM</th>\n",
              "      <th>...</th>\n",
              "      <th>TIE/G</th>\n",
              "      <th>SFTE/G</th>\n",
              "      <th>TIPP/G</th>\n",
              "      <th>SFTPP/G</th>\n",
              "      <th>TISH/G</th>\n",
              "      <th>SFTSH/G</th>\n",
              "      <th>HITS</th>\n",
              "      <th>BLS</th>\n",
              "      <th>FOA</th>\n",
              "      <th>TkA</th>\n",
              "    </tr>\n",
              "  </thead>\n",
              "  <tbody>\n",
              "    <tr>\n",
              "      <th>0</th>\n",
              "      <td>21/22 | playoffs</td>\n",
              "      <td>NaN</td>\n",
              "      <td>NaN</td>\n",
              "      <td>NaN</td>\n",
              "      <td>NaN</td>\n",
              "      <td>NaN</td>\n",
              "      <td>NaN</td>\n",
              "      <td>NaN</td>\n",
              "      <td>NaN</td>\n",
              "      <td>NaN</td>\n",
              "      <td>...</td>\n",
              "      <td>NaN</td>\n",
              "      <td>NaN</td>\n",
              "      <td>NaN</td>\n",
              "      <td>NaN</td>\n",
              "      <td>NaN</td>\n",
              "      <td>NaN</td>\n",
              "      <td>NaN</td>\n",
              "      <td>NaN</td>\n",
              "      <td>NaN</td>\n",
              "      <td>NaN</td>\n",
              "    </tr>\n",
              "    <tr>\n",
              "      <th>1</th>\n",
              "      <td>Jokerit (Helsinki)</td>\n",
              "      <td>-</td>\n",
              "      <td>0.0</td>\n",
              "      <td>0.0</td>\n",
              "      <td>0.0</td>\n",
              "      <td>0.0</td>\n",
              "      <td>0.0</td>\n",
              "      <td>0.0</td>\n",
              "      <td>0.0</td>\n",
              "      <td>0.0</td>\n",
              "      <td>...</td>\n",
              "      <td>-</td>\n",
              "      <td>-</td>\n",
              "      <td>-</td>\n",
              "      <td>-</td>\n",
              "      <td>-</td>\n",
              "      <td>-</td>\n",
              "      <td>0.0</td>\n",
              "      <td>0.0</td>\n",
              "      <td>0.0</td>\n",
              "      <td>NaN</td>\n",
              "    </tr>\n",
              "    <tr>\n",
              "      <th>2</th>\n",
              "      <td>20/21 | playoffs</td>\n",
              "      <td>NaN</td>\n",
              "      <td>NaN</td>\n",
              "      <td>NaN</td>\n",
              "      <td>NaN</td>\n",
              "      <td>NaN</td>\n",
              "      <td>NaN</td>\n",
              "      <td>NaN</td>\n",
              "      <td>NaN</td>\n",
              "      <td>NaN</td>\n",
              "      <td>...</td>\n",
              "      <td>NaN</td>\n",
              "      <td>NaN</td>\n",
              "      <td>NaN</td>\n",
              "      <td>NaN</td>\n",
              "      <td>NaN</td>\n",
              "      <td>NaN</td>\n",
              "      <td>NaN</td>\n",
              "      <td>NaN</td>\n",
              "      <td>NaN</td>\n",
              "      <td>NaN</td>\n",
              "    </tr>\n",
              "    <tr>\n",
              "      <th>3</th>\n",
              "      <td>Jokerit (Helsinki)</td>\n",
              "      <td>25</td>\n",
              "      <td>2.0</td>\n",
              "      <td>0.0</td>\n",
              "      <td>0.0</td>\n",
              "      <td>0.0</td>\n",
              "      <td>-1.0</td>\n",
              "      <td>0.0</td>\n",
              "      <td>1.0</td>\n",
              "      <td>0.0</td>\n",
              "      <td>...</td>\n",
              "      <td>12:37</td>\n",
              "      <td>17</td>\n",
              "      <td>01:08</td>\n",
              "      <td>1</td>\n",
              "      <td>00:00</td>\n",
              "      <td>0</td>\n",
              "      <td>4.0</td>\n",
              "      <td>0.0</td>\n",
              "      <td>1.0</td>\n",
              "      <td>NaN</td>\n",
              "    </tr>\n",
              "    <tr>\n",
              "      <th>4</th>\n",
              "      <td>20/21 | regular</td>\n",
              "      <td>NaN</td>\n",
              "      <td>NaN</td>\n",
              "      <td>NaN</td>\n",
              "      <td>NaN</td>\n",
              "      <td>NaN</td>\n",
              "      <td>NaN</td>\n",
              "      <td>NaN</td>\n",
              "      <td>NaN</td>\n",
              "      <td>NaN</td>\n",
              "      <td>...</td>\n",
              "      <td>NaN</td>\n",
              "      <td>NaN</td>\n",
              "      <td>NaN</td>\n",
              "      <td>NaN</td>\n",
              "      <td>NaN</td>\n",
              "      <td>NaN</td>\n",
              "      <td>NaN</td>\n",
              "      <td>NaN</td>\n",
              "      <td>NaN</td>\n",
              "      <td>NaN</td>\n",
              "    </tr>\n",
              "    <tr>\n",
              "      <th>5</th>\n",
              "      <td>Jokerit (Helsinki)</td>\n",
              "      <td>25</td>\n",
              "      <td>50.0</td>\n",
              "      <td>8.0</td>\n",
              "      <td>18.0</td>\n",
              "      <td>26.0</td>\n",
              "      <td>-6.0</td>\n",
              "      <td>25.0</td>\n",
              "      <td>31.0</td>\n",
              "      <td>24.0</td>\n",
              "      <td>...</td>\n",
              "      <td>12:05</td>\n",
              "      <td>17.1</td>\n",
              "      <td>02:09</td>\n",
              "      <td>2.76</td>\n",
              "      <td>00:01</td>\n",
              "      <td>0.08</td>\n",
              "      <td>24.0</td>\n",
              "      <td>3.0</td>\n",
              "      <td>12.0</td>\n",
              "      <td>NaN</td>\n",
              "    </tr>\n",
              "    <tr>\n",
              "      <th>6</th>\n",
              "      <td>19/20 | playoffs</td>\n",
              "      <td>NaN</td>\n",
              "      <td>NaN</td>\n",
              "      <td>NaN</td>\n",
              "      <td>NaN</td>\n",
              "      <td>NaN</td>\n",
              "      <td>NaN</td>\n",
              "      <td>NaN</td>\n",
              "      <td>NaN</td>\n",
              "      <td>NaN</td>\n",
              "      <td>...</td>\n",
              "      <td>NaN</td>\n",
              "      <td>NaN</td>\n",
              "      <td>NaN</td>\n",
              "      <td>NaN</td>\n",
              "      <td>NaN</td>\n",
              "      <td>NaN</td>\n",
              "      <td>NaN</td>\n",
              "      <td>NaN</td>\n",
              "      <td>NaN</td>\n",
              "      <td>NaN</td>\n",
              "    </tr>\n",
              "    <tr>\n",
              "      <th>7</th>\n",
              "      <td>Jokerit (Helsinki)</td>\n",
              "      <td>25</td>\n",
              "      <td>6.0</td>\n",
              "      <td>2.0</td>\n",
              "      <td>2.0</td>\n",
              "      <td>4.0</td>\n",
              "      <td>4.0</td>\n",
              "      <td>6.0</td>\n",
              "      <td>2.0</td>\n",
              "      <td>0.0</td>\n",
              "      <td>...</td>\n",
              "      <td>11:00</td>\n",
              "      <td>17</td>\n",
              "      <td>03:06</td>\n",
              "      <td>3.67</td>\n",
              "      <td>00:00</td>\n",
              "      <td>0</td>\n",
              "      <td>3.0</td>\n",
              "      <td>2.0</td>\n",
              "      <td>0.0</td>\n",
              "      <td>NaN</td>\n",
              "    </tr>\n",
              "    <tr>\n",
              "      <th>8</th>\n",
              "      <td>19/20 | regular</td>\n",
              "      <td>NaN</td>\n",
              "      <td>NaN</td>\n",
              "      <td>NaN</td>\n",
              "      <td>NaN</td>\n",
              "      <td>NaN</td>\n",
              "      <td>NaN</td>\n",
              "      <td>NaN</td>\n",
              "      <td>NaN</td>\n",
              "      <td>NaN</td>\n",
              "      <td>...</td>\n",
              "      <td>NaN</td>\n",
              "      <td>NaN</td>\n",
              "      <td>NaN</td>\n",
              "      <td>NaN</td>\n",
              "      <td>NaN</td>\n",
              "      <td>NaN</td>\n",
              "      <td>NaN</td>\n",
              "      <td>NaN</td>\n",
              "      <td>NaN</td>\n",
              "      <td>NaN</td>\n",
              "    </tr>\n",
              "    <tr>\n",
              "      <th>9</th>\n",
              "      <td>Jokerit (Helsinki)</td>\n",
              "      <td>25</td>\n",
              "      <td>56.0</td>\n",
              "      <td>6.0</td>\n",
              "      <td>23.0</td>\n",
              "      <td>29.0</td>\n",
              "      <td>4.0</td>\n",
              "      <td>33.0</td>\n",
              "      <td>29.0</td>\n",
              "      <td>16.0</td>\n",
              "      <td>...</td>\n",
              "      <td>12:27</td>\n",
              "      <td>18.11</td>\n",
              "      <td>02:43</td>\n",
              "      <td>3.21</td>\n",
              "      <td>00:02</td>\n",
              "      <td>0.07</td>\n",
              "      <td>22.0</td>\n",
              "      <td>13.0</td>\n",
              "      <td>15.0</td>\n",
              "      <td>NaN</td>\n",
              "    </tr>\n",
              "    <tr>\n",
              "      <th>10</th>\n",
              "      <td>KHL Summary</td>\n",
              "      <td>NaN</td>\n",
              "      <td>NaN</td>\n",
              "      <td>NaN</td>\n",
              "      <td>NaN</td>\n",
              "      <td>NaN</td>\n",
              "      <td>NaN</td>\n",
              "      <td>NaN</td>\n",
              "      <td>NaN</td>\n",
              "      <td>NaN</td>\n",
              "      <td>...</td>\n",
              "      <td>NaN</td>\n",
              "      <td>NaN</td>\n",
              "      <td>NaN</td>\n",
              "      <td>NaN</td>\n",
              "      <td>NaN</td>\n",
              "      <td>NaN</td>\n",
              "      <td>NaN</td>\n",
              "      <td>NaN</td>\n",
              "      <td>NaN</td>\n",
              "      <td>NaN</td>\n",
              "    </tr>\n",
              "    <tr>\n",
              "      <th>11</th>\n",
              "      <td>Regular season:</td>\n",
              "      <td>NaN</td>\n",
              "      <td>106.0</td>\n",
              "      <td>14.0</td>\n",
              "      <td>41.0</td>\n",
              "      <td>55.0</td>\n",
              "      <td>-2.0</td>\n",
              "      <td>58.0</td>\n",
              "      <td>60.0</td>\n",
              "      <td>40.0</td>\n",
              "      <td>...</td>\n",
              "      <td>12:17</td>\n",
              "      <td>17.63</td>\n",
              "      <td>02:27</td>\n",
              "      <td>3</td>\n",
              "      <td>00:02</td>\n",
              "      <td>0.08</td>\n",
              "      <td>46.0</td>\n",
              "      <td>16.0</td>\n",
              "      <td>27.0</td>\n",
              "      <td>0.0</td>\n",
              "    </tr>\n",
              "    <tr>\n",
              "      <th>12</th>\n",
              "      <td>Playoffs:</td>\n",
              "      <td>NaN</td>\n",
              "      <td>8.0</td>\n",
              "      <td>2.0</td>\n",
              "      <td>2.0</td>\n",
              "      <td>4.0</td>\n",
              "      <td>3.0</td>\n",
              "      <td>6.0</td>\n",
              "      <td>3.0</td>\n",
              "      <td>0.0</td>\n",
              "      <td>...</td>\n",
              "      <td>11:24</td>\n",
              "      <td>17</td>\n",
              "      <td>02:36</td>\n",
              "      <td>3</td>\n",
              "      <td>00:00</td>\n",
              "      <td>0</td>\n",
              "      <td>7.0</td>\n",
              "      <td>2.0</td>\n",
              "      <td>1.0</td>\n",
              "      <td>0.0</td>\n",
              "    </tr>\n",
              "    <tr>\n",
              "      <th>13</th>\n",
              "      <td>KHL Total:</td>\n",
              "      <td>NaN</td>\n",
              "      <td>114.0</td>\n",
              "      <td>16.0</td>\n",
              "      <td>43.0</td>\n",
              "      <td>59.0</td>\n",
              "      <td>1.0</td>\n",
              "      <td>64.0</td>\n",
              "      <td>63.0</td>\n",
              "      <td>40.0</td>\n",
              "      <td>...</td>\n",
              "      <td>12:13</td>\n",
              "      <td>17.59</td>\n",
              "      <td>02:28</td>\n",
              "      <td>3</td>\n",
              "      <td>00:01</td>\n",
              "      <td>0.07</td>\n",
              "      <td>53.0</td>\n",
              "      <td>18.0</td>\n",
              "      <td>28.0</td>\n",
              "      <td>0.0</td>\n",
              "    </tr>\n",
              "  </tbody>\n",
              "</table>\n",
              "<p>14 rows × 34 columns</p>\n",
              "</div>\n",
              "      <button class=\"colab-df-convert\" onclick=\"convertToInteractive('df-faed080e-b746-4df3-809e-8059c056c810')\"\n",
              "              title=\"Convert this dataframe to an interactive table.\"\n",
              "              style=\"display:none;\">\n",
              "        \n",
              "  <svg xmlns=\"http://www.w3.org/2000/svg\" height=\"24px\"viewBox=\"0 0 24 24\"\n",
              "       width=\"24px\">\n",
              "    <path d=\"M0 0h24v24H0V0z\" fill=\"none\"/>\n",
              "    <path d=\"M18.56 5.44l.94 2.06.94-2.06 2.06-.94-2.06-.94-.94-2.06-.94 2.06-2.06.94zm-11 1L8.5 8.5l.94-2.06 2.06-.94-2.06-.94L8.5 2.5l-.94 2.06-2.06.94zm10 10l.94 2.06.94-2.06 2.06-.94-2.06-.94-.94-2.06-.94 2.06-2.06.94z\"/><path d=\"M17.41 7.96l-1.37-1.37c-.4-.4-.92-.59-1.43-.59-.52 0-1.04.2-1.43.59L10.3 9.45l-7.72 7.72c-.78.78-.78 2.05 0 2.83L4 21.41c.39.39.9.59 1.41.59.51 0 1.02-.2 1.41-.59l7.78-7.78 2.81-2.81c.8-.78.8-2.07 0-2.86zM5.41 20L4 18.59l7.72-7.72 1.47 1.35L5.41 20z\"/>\n",
              "  </svg>\n",
              "      </button>\n",
              "      \n",
              "  <style>\n",
              "    .colab-df-container {\n",
              "      display:flex;\n",
              "      flex-wrap:wrap;\n",
              "      gap: 12px;\n",
              "    }\n",
              "\n",
              "    .colab-df-convert {\n",
              "      background-color: #E8F0FE;\n",
              "      border: none;\n",
              "      border-radius: 50%;\n",
              "      cursor: pointer;\n",
              "      display: none;\n",
              "      fill: #1967D2;\n",
              "      height: 32px;\n",
              "      padding: 0 0 0 0;\n",
              "      width: 32px;\n",
              "    }\n",
              "\n",
              "    .colab-df-convert:hover {\n",
              "      background-color: #E2EBFA;\n",
              "      box-shadow: 0px 1px 2px rgba(60, 64, 67, 0.3), 0px 1px 3px 1px rgba(60, 64, 67, 0.15);\n",
              "      fill: #174EA6;\n",
              "    }\n",
              "\n",
              "    [theme=dark] .colab-df-convert {\n",
              "      background-color: #3B4455;\n",
              "      fill: #D2E3FC;\n",
              "    }\n",
              "\n",
              "    [theme=dark] .colab-df-convert:hover {\n",
              "      background-color: #434B5C;\n",
              "      box-shadow: 0px 1px 3px 1px rgba(0, 0, 0, 0.15);\n",
              "      filter: drop-shadow(0px 1px 2px rgba(0, 0, 0, 0.3));\n",
              "      fill: #FFFFFF;\n",
              "    }\n",
              "  </style>\n",
              "\n",
              "      <script>\n",
              "        const buttonEl =\n",
              "          document.querySelector('#df-faed080e-b746-4df3-809e-8059c056c810 button.colab-df-convert');\n",
              "        buttonEl.style.display =\n",
              "          google.colab.kernel.accessAllowed ? 'block' : 'none';\n",
              "\n",
              "        async function convertToInteractive(key) {\n",
              "          const element = document.querySelector('#df-faed080e-b746-4df3-809e-8059c056c810');\n",
              "          const dataTable =\n",
              "            await google.colab.kernel.invokeFunction('convertToInteractive',\n",
              "                                                     [key], {});\n",
              "          if (!dataTable) return;\n",
              "\n",
              "          const docLinkHtml = 'Like what you see? Visit the ' +\n",
              "            '<a target=\"_blank\" href=https://colab.research.google.com/notebooks/data_table.ipynb>data table notebook</a>'\n",
              "            + ' to learn more about interactive tables.';\n",
              "          element.innerHTML = '';\n",
              "          dataTable['output_type'] = 'display_data';\n",
              "          await google.colab.output.renderOutput(dataTable, element);\n",
              "          const docLink = document.createElement('div');\n",
              "          docLink.innerHTML = docLinkHtml;\n",
              "          element.appendChild(docLink);\n",
              "        }\n",
              "      </script>\n",
              "    </div>\n",
              "  </div>\n",
              "  "
            ]
          },
          "metadata": {},
          "execution_count": 4
        }
      ]
    },
    {
      "cell_type": "code",
      "source": [
        "def fix_player_khl_stat(player_khl_stat):\n",
        "  #Добавить колонку сезон\n",
        "  player_khl_stat['Season'] = np.where(np.isnan(player_khl_stat['GP']), player_khl_stat['Tournament/Team'], np.NaN)\n",
        "  #В каждой строке прописать название сезона\n",
        "  player_khl_stat['Season'] = player_khl_stat['Season'].fillna(method='ffill')\n",
        "\n",
        "\n",
        "  player_khl_stat = player_khl_stat[player_khl_stat['Tournament/Team'] != player_khl_stat['Season']]\n",
        "\n",
        "  player_khl_stat =  player_khl_stat[['Season'] + [col for col in player_khl_stat.columns if col != 'Season']]\n",
        "\n",
        "\n",
        "  player_khl_stat = player_khl_stat.reset_index(drop=True)\n",
        "\n",
        "  return player_khl_stat\n",
        "player_khl_stat = scrape_player_data('players/34721/')\n",
        "print(player_khl_stat)\n",
        "fix_player_khl_stat(player_khl_stat)"
      ],
      "metadata": {
        "colab": {
          "base_uri": "https://localhost:8080/",
          "height": 1000
        },
        "id": "KiVnPp5vkKX_",
        "outputId": "0100fc6e-be64-4ad1-b587-50ad793bad59"
      },
      "execution_count": null,
      "outputs": [
        {
          "output_type": "stream",
          "name": "stdout",
          "text": [
            "       Tournament/Team    №     GP     G  Assists   PTS  +/-     +     -  \\\n",
            "0     21/22 | playoffs  NaN    NaN   NaN      NaN   NaN  NaN   NaN   NaN   \n",
            "1   Jokerit (Helsinki)    -    0.0   0.0      0.0   0.0  0.0   0.0   0.0   \n",
            "2     20/21 | playoffs  NaN    NaN   NaN      NaN   NaN  NaN   NaN   NaN   \n",
            "3   Jokerit (Helsinki)   25    2.0   0.0      0.0   0.0 -1.0   0.0   1.0   \n",
            "4      20/21 | regular  NaN    NaN   NaN      NaN   NaN  NaN   NaN   NaN   \n",
            "5   Jokerit (Helsinki)   25   50.0   8.0     18.0  26.0 -6.0  25.0  31.0   \n",
            "6     19/20 | playoffs  NaN    NaN   NaN      NaN   NaN  NaN   NaN   NaN   \n",
            "7   Jokerit (Helsinki)   25    6.0   2.0      2.0   4.0  4.0   6.0   2.0   \n",
            "8      19/20 | regular  NaN    NaN   NaN      NaN   NaN  NaN   NaN   NaN   \n",
            "9   Jokerit (Helsinki)   25   56.0   6.0     23.0  29.0  4.0  33.0  29.0   \n",
            "10         KHL Summary  NaN    NaN   NaN      NaN   NaN  NaN   NaN   NaN   \n",
            "11     Regular season:  NaN  106.0  14.0     41.0  55.0 -2.0  58.0  60.0   \n",
            "12           Playoffs:  NaN    8.0   2.0      2.0   4.0  3.0   6.0   3.0   \n",
            "13          KHL Total:  NaN  114.0  16.0     43.0  59.0  1.0  64.0  63.0   \n",
            "\n",
            "     PIM  ...  TIE/G  SFTE/G  TIPP/G  SFTPP/G  TISH/G  SFTSH/G  HITS   BLS  \\\n",
            "0    NaN  ...    NaN     NaN     NaN      NaN     NaN      NaN   NaN   NaN   \n",
            "1    0.0  ...      -       -       -        -       -        -   0.0   0.0   \n",
            "2    NaN  ...    NaN     NaN     NaN      NaN     NaN      NaN   NaN   NaN   \n",
            "3    0.0  ...  12:37      17   01:08        1   00:00        0   4.0   0.0   \n",
            "4    NaN  ...    NaN     NaN     NaN      NaN     NaN      NaN   NaN   NaN   \n",
            "5   24.0  ...  12:05    17.1   02:09     2.76   00:01     0.08  24.0   3.0   \n",
            "6    NaN  ...    NaN     NaN     NaN      NaN     NaN      NaN   NaN   NaN   \n",
            "7    0.0  ...  11:00      17   03:06     3.67   00:00        0   3.0   2.0   \n",
            "8    NaN  ...    NaN     NaN     NaN      NaN     NaN      NaN   NaN   NaN   \n",
            "9   16.0  ...  12:27   18.11   02:43     3.21   00:02     0.07  22.0  13.0   \n",
            "10   NaN  ...    NaN     NaN     NaN      NaN     NaN      NaN   NaN   NaN   \n",
            "11  40.0  ...  12:17   17.63   02:27        3   00:02     0.08  46.0  16.0   \n",
            "12   0.0  ...  11:24      17   02:36        3   00:00        0   7.0   2.0   \n",
            "13  40.0  ...  12:13   17.59   02:28        3   00:01     0.07  53.0  18.0   \n",
            "\n",
            "     FOA  TkA  \n",
            "0    NaN  NaN  \n",
            "1    0.0  NaN  \n",
            "2    NaN  NaN  \n",
            "3    1.0  NaN  \n",
            "4    NaN  NaN  \n",
            "5   12.0  NaN  \n",
            "6    NaN  NaN  \n",
            "7    0.0  NaN  \n",
            "8    NaN  NaN  \n",
            "9   15.0  NaN  \n",
            "10   NaN  NaN  \n",
            "11  27.0  0.0  \n",
            "12   1.0  0.0  \n",
            "13  28.0  0.0  \n",
            "\n",
            "[14 rows x 34 columns]\n"
          ]
        },
        {
          "output_type": "execute_result",
          "data": {
            "text/plain": [
              "             Season     Tournament/Team    №     GP     G  Assists   PTS  +/-  \\\n",
              "0  21/22 | playoffs  Jokerit (Helsinki)    -    0.0   0.0      0.0   0.0  0.0   \n",
              "1  20/21 | playoffs  Jokerit (Helsinki)   25    2.0   0.0      0.0   0.0 -1.0   \n",
              "2   20/21 | regular  Jokerit (Helsinki)   25   50.0   8.0     18.0  26.0 -6.0   \n",
              "3  19/20 | playoffs  Jokerit (Helsinki)   25    6.0   2.0      2.0   4.0  4.0   \n",
              "4   19/20 | regular  Jokerit (Helsinki)   25   56.0   6.0     23.0  29.0  4.0   \n",
              "5       KHL Summary     Regular season:  NaN  106.0  14.0     41.0  55.0 -2.0   \n",
              "6       KHL Summary           Playoffs:  NaN    8.0   2.0      2.0   4.0  3.0   \n",
              "7       KHL Summary          KHL Total:  NaN  114.0  16.0     43.0  59.0  1.0   \n",
              "\n",
              "      +     -  ...  TIE/G  SFTE/G  TIPP/G  SFTPP/G  TISH/G  SFTSH/G  HITS  \\\n",
              "0   0.0   0.0  ...      -       -       -        -       -        -   0.0   \n",
              "1   0.0   1.0  ...  12:37      17   01:08        1   00:00        0   4.0   \n",
              "2  25.0  31.0  ...  12:05    17.1   02:09     2.76   00:01     0.08  24.0   \n",
              "3   6.0   2.0  ...  11:00      17   03:06     3.67   00:00        0   3.0   \n",
              "4  33.0  29.0  ...  12:27   18.11   02:43     3.21   00:02     0.07  22.0   \n",
              "5  58.0  60.0  ...  12:17   17.63   02:27        3   00:02     0.08  46.0   \n",
              "6   6.0   3.0  ...  11:24      17   02:36        3   00:00        0   7.0   \n",
              "7  64.0  63.0  ...  12:13   17.59   02:28        3   00:01     0.07  53.0   \n",
              "\n",
              "    BLS   FOA  TkA  \n",
              "0   0.0   0.0  NaN  \n",
              "1   0.0   1.0  NaN  \n",
              "2   3.0  12.0  NaN  \n",
              "3   2.0   0.0  NaN  \n",
              "4  13.0  15.0  NaN  \n",
              "5  16.0  27.0  0.0  \n",
              "6   2.0   1.0  0.0  \n",
              "7  18.0  28.0  0.0  \n",
              "\n",
              "[8 rows x 35 columns]"
            ],
            "text/html": [
              "\n",
              "  <div id=\"df-6033c5b2-c07a-4b65-b651-f38bf91884b1\">\n",
              "    <div class=\"colab-df-container\">\n",
              "      <div>\n",
              "<style scoped>\n",
              "    .dataframe tbody tr th:only-of-type {\n",
              "        vertical-align: middle;\n",
              "    }\n",
              "\n",
              "    .dataframe tbody tr th {\n",
              "        vertical-align: top;\n",
              "    }\n",
              "\n",
              "    .dataframe thead th {\n",
              "        text-align: right;\n",
              "    }\n",
              "</style>\n",
              "<table border=\"1\" class=\"dataframe\">\n",
              "  <thead>\n",
              "    <tr style=\"text-align: right;\">\n",
              "      <th></th>\n",
              "      <th>Season</th>\n",
              "      <th>Tournament/Team</th>\n",
              "      <th>№</th>\n",
              "      <th>GP</th>\n",
              "      <th>G</th>\n",
              "      <th>Assists</th>\n",
              "      <th>PTS</th>\n",
              "      <th>+/-</th>\n",
              "      <th>+</th>\n",
              "      <th>-</th>\n",
              "      <th>...</th>\n",
              "      <th>TIE/G</th>\n",
              "      <th>SFTE/G</th>\n",
              "      <th>TIPP/G</th>\n",
              "      <th>SFTPP/G</th>\n",
              "      <th>TISH/G</th>\n",
              "      <th>SFTSH/G</th>\n",
              "      <th>HITS</th>\n",
              "      <th>BLS</th>\n",
              "      <th>FOA</th>\n",
              "      <th>TkA</th>\n",
              "    </tr>\n",
              "  </thead>\n",
              "  <tbody>\n",
              "    <tr>\n",
              "      <th>0</th>\n",
              "      <td>21/22 | playoffs</td>\n",
              "      <td>Jokerit (Helsinki)</td>\n",
              "      <td>-</td>\n",
              "      <td>0.0</td>\n",
              "      <td>0.0</td>\n",
              "      <td>0.0</td>\n",
              "      <td>0.0</td>\n",
              "      <td>0.0</td>\n",
              "      <td>0.0</td>\n",
              "      <td>0.0</td>\n",
              "      <td>...</td>\n",
              "      <td>-</td>\n",
              "      <td>-</td>\n",
              "      <td>-</td>\n",
              "      <td>-</td>\n",
              "      <td>-</td>\n",
              "      <td>-</td>\n",
              "      <td>0.0</td>\n",
              "      <td>0.0</td>\n",
              "      <td>0.0</td>\n",
              "      <td>NaN</td>\n",
              "    </tr>\n",
              "    <tr>\n",
              "      <th>1</th>\n",
              "      <td>20/21 | playoffs</td>\n",
              "      <td>Jokerit (Helsinki)</td>\n",
              "      <td>25</td>\n",
              "      <td>2.0</td>\n",
              "      <td>0.0</td>\n",
              "      <td>0.0</td>\n",
              "      <td>0.0</td>\n",
              "      <td>-1.0</td>\n",
              "      <td>0.0</td>\n",
              "      <td>1.0</td>\n",
              "      <td>...</td>\n",
              "      <td>12:37</td>\n",
              "      <td>17</td>\n",
              "      <td>01:08</td>\n",
              "      <td>1</td>\n",
              "      <td>00:00</td>\n",
              "      <td>0</td>\n",
              "      <td>4.0</td>\n",
              "      <td>0.0</td>\n",
              "      <td>1.0</td>\n",
              "      <td>NaN</td>\n",
              "    </tr>\n",
              "    <tr>\n",
              "      <th>2</th>\n",
              "      <td>20/21 | regular</td>\n",
              "      <td>Jokerit (Helsinki)</td>\n",
              "      <td>25</td>\n",
              "      <td>50.0</td>\n",
              "      <td>8.0</td>\n",
              "      <td>18.0</td>\n",
              "      <td>26.0</td>\n",
              "      <td>-6.0</td>\n",
              "      <td>25.0</td>\n",
              "      <td>31.0</td>\n",
              "      <td>...</td>\n",
              "      <td>12:05</td>\n",
              "      <td>17.1</td>\n",
              "      <td>02:09</td>\n",
              "      <td>2.76</td>\n",
              "      <td>00:01</td>\n",
              "      <td>0.08</td>\n",
              "      <td>24.0</td>\n",
              "      <td>3.0</td>\n",
              "      <td>12.0</td>\n",
              "      <td>NaN</td>\n",
              "    </tr>\n",
              "    <tr>\n",
              "      <th>3</th>\n",
              "      <td>19/20 | playoffs</td>\n",
              "      <td>Jokerit (Helsinki)</td>\n",
              "      <td>25</td>\n",
              "      <td>6.0</td>\n",
              "      <td>2.0</td>\n",
              "      <td>2.0</td>\n",
              "      <td>4.0</td>\n",
              "      <td>4.0</td>\n",
              "      <td>6.0</td>\n",
              "      <td>2.0</td>\n",
              "      <td>...</td>\n",
              "      <td>11:00</td>\n",
              "      <td>17</td>\n",
              "      <td>03:06</td>\n",
              "      <td>3.67</td>\n",
              "      <td>00:00</td>\n",
              "      <td>0</td>\n",
              "      <td>3.0</td>\n",
              "      <td>2.0</td>\n",
              "      <td>0.0</td>\n",
              "      <td>NaN</td>\n",
              "    </tr>\n",
              "    <tr>\n",
              "      <th>4</th>\n",
              "      <td>19/20 | regular</td>\n",
              "      <td>Jokerit (Helsinki)</td>\n",
              "      <td>25</td>\n",
              "      <td>56.0</td>\n",
              "      <td>6.0</td>\n",
              "      <td>23.0</td>\n",
              "      <td>29.0</td>\n",
              "      <td>4.0</td>\n",
              "      <td>33.0</td>\n",
              "      <td>29.0</td>\n",
              "      <td>...</td>\n",
              "      <td>12:27</td>\n",
              "      <td>18.11</td>\n",
              "      <td>02:43</td>\n",
              "      <td>3.21</td>\n",
              "      <td>00:02</td>\n",
              "      <td>0.07</td>\n",
              "      <td>22.0</td>\n",
              "      <td>13.0</td>\n",
              "      <td>15.0</td>\n",
              "      <td>NaN</td>\n",
              "    </tr>\n",
              "    <tr>\n",
              "      <th>5</th>\n",
              "      <td>KHL Summary</td>\n",
              "      <td>Regular season:</td>\n",
              "      <td>NaN</td>\n",
              "      <td>106.0</td>\n",
              "      <td>14.0</td>\n",
              "      <td>41.0</td>\n",
              "      <td>55.0</td>\n",
              "      <td>-2.0</td>\n",
              "      <td>58.0</td>\n",
              "      <td>60.0</td>\n",
              "      <td>...</td>\n",
              "      <td>12:17</td>\n",
              "      <td>17.63</td>\n",
              "      <td>02:27</td>\n",
              "      <td>3</td>\n",
              "      <td>00:02</td>\n",
              "      <td>0.08</td>\n",
              "      <td>46.0</td>\n",
              "      <td>16.0</td>\n",
              "      <td>27.0</td>\n",
              "      <td>0.0</td>\n",
              "    </tr>\n",
              "    <tr>\n",
              "      <th>6</th>\n",
              "      <td>KHL Summary</td>\n",
              "      <td>Playoffs:</td>\n",
              "      <td>NaN</td>\n",
              "      <td>8.0</td>\n",
              "      <td>2.0</td>\n",
              "      <td>2.0</td>\n",
              "      <td>4.0</td>\n",
              "      <td>3.0</td>\n",
              "      <td>6.0</td>\n",
              "      <td>3.0</td>\n",
              "      <td>...</td>\n",
              "      <td>11:24</td>\n",
              "      <td>17</td>\n",
              "      <td>02:36</td>\n",
              "      <td>3</td>\n",
              "      <td>00:00</td>\n",
              "      <td>0</td>\n",
              "      <td>7.0</td>\n",
              "      <td>2.0</td>\n",
              "      <td>1.0</td>\n",
              "      <td>0.0</td>\n",
              "    </tr>\n",
              "    <tr>\n",
              "      <th>7</th>\n",
              "      <td>KHL Summary</td>\n",
              "      <td>KHL Total:</td>\n",
              "      <td>NaN</td>\n",
              "      <td>114.0</td>\n",
              "      <td>16.0</td>\n",
              "      <td>43.0</td>\n",
              "      <td>59.0</td>\n",
              "      <td>1.0</td>\n",
              "      <td>64.0</td>\n",
              "      <td>63.0</td>\n",
              "      <td>...</td>\n",
              "      <td>12:13</td>\n",
              "      <td>17.59</td>\n",
              "      <td>02:28</td>\n",
              "      <td>3</td>\n",
              "      <td>00:01</td>\n",
              "      <td>0.07</td>\n",
              "      <td>53.0</td>\n",
              "      <td>18.0</td>\n",
              "      <td>28.0</td>\n",
              "      <td>0.0</td>\n",
              "    </tr>\n",
              "  </tbody>\n",
              "</table>\n",
              "<p>8 rows × 35 columns</p>\n",
              "</div>\n",
              "      <button class=\"colab-df-convert\" onclick=\"convertToInteractive('df-6033c5b2-c07a-4b65-b651-f38bf91884b1')\"\n",
              "              title=\"Convert this dataframe to an interactive table.\"\n",
              "              style=\"display:none;\">\n",
              "        \n",
              "  <svg xmlns=\"http://www.w3.org/2000/svg\" height=\"24px\"viewBox=\"0 0 24 24\"\n",
              "       width=\"24px\">\n",
              "    <path d=\"M0 0h24v24H0V0z\" fill=\"none\"/>\n",
              "    <path d=\"M18.56 5.44l.94 2.06.94-2.06 2.06-.94-2.06-.94-.94-2.06-.94 2.06-2.06.94zm-11 1L8.5 8.5l.94-2.06 2.06-.94-2.06-.94L8.5 2.5l-.94 2.06-2.06.94zm10 10l.94 2.06.94-2.06 2.06-.94-2.06-.94-.94-2.06-.94 2.06-2.06.94z\"/><path d=\"M17.41 7.96l-1.37-1.37c-.4-.4-.92-.59-1.43-.59-.52 0-1.04.2-1.43.59L10.3 9.45l-7.72 7.72c-.78.78-.78 2.05 0 2.83L4 21.41c.39.39.9.59 1.41.59.51 0 1.02-.2 1.41-.59l7.78-7.78 2.81-2.81c.8-.78.8-2.07 0-2.86zM5.41 20L4 18.59l7.72-7.72 1.47 1.35L5.41 20z\"/>\n",
              "  </svg>\n",
              "      </button>\n",
              "      \n",
              "  <style>\n",
              "    .colab-df-container {\n",
              "      display:flex;\n",
              "      flex-wrap:wrap;\n",
              "      gap: 12px;\n",
              "    }\n",
              "\n",
              "    .colab-df-convert {\n",
              "      background-color: #E8F0FE;\n",
              "      border: none;\n",
              "      border-radius: 50%;\n",
              "      cursor: pointer;\n",
              "      display: none;\n",
              "      fill: #1967D2;\n",
              "      height: 32px;\n",
              "      padding: 0 0 0 0;\n",
              "      width: 32px;\n",
              "    }\n",
              "\n",
              "    .colab-df-convert:hover {\n",
              "      background-color: #E2EBFA;\n",
              "      box-shadow: 0px 1px 2px rgba(60, 64, 67, 0.3), 0px 1px 3px 1px rgba(60, 64, 67, 0.15);\n",
              "      fill: #174EA6;\n",
              "    }\n",
              "\n",
              "    [theme=dark] .colab-df-convert {\n",
              "      background-color: #3B4455;\n",
              "      fill: #D2E3FC;\n",
              "    }\n",
              "\n",
              "    [theme=dark] .colab-df-convert:hover {\n",
              "      background-color: #434B5C;\n",
              "      box-shadow: 0px 1px 3px 1px rgba(0, 0, 0, 0.15);\n",
              "      filter: drop-shadow(0px 1px 2px rgba(0, 0, 0, 0.3));\n",
              "      fill: #FFFFFF;\n",
              "    }\n",
              "  </style>\n",
              "\n",
              "      <script>\n",
              "        const buttonEl =\n",
              "          document.querySelector('#df-6033c5b2-c07a-4b65-b651-f38bf91884b1 button.colab-df-convert');\n",
              "        buttonEl.style.display =\n",
              "          google.colab.kernel.accessAllowed ? 'block' : 'none';\n",
              "\n",
              "        async function convertToInteractive(key) {\n",
              "          const element = document.querySelector('#df-6033c5b2-c07a-4b65-b651-f38bf91884b1');\n",
              "          const dataTable =\n",
              "            await google.colab.kernel.invokeFunction('convertToInteractive',\n",
              "                                                     [key], {});\n",
              "          if (!dataTable) return;\n",
              "\n",
              "          const docLinkHtml = 'Like what you see? Visit the ' +\n",
              "            '<a target=\"_blank\" href=https://colab.research.google.com/notebooks/data_table.ipynb>data table notebook</a>'\n",
              "            + ' to learn more about interactive tables.';\n",
              "          element.innerHTML = '';\n",
              "          dataTable['output_type'] = 'display_data';\n",
              "          await google.colab.output.renderOutput(dataTable, element);\n",
              "          const docLink = document.createElement('div');\n",
              "          docLink.innerHTML = docLinkHtml;\n",
              "          element.appendChild(docLink);\n",
              "        }\n",
              "      </script>\n",
              "    </div>\n",
              "  </div>\n",
              "  "
            ]
          },
          "metadata": {},
          "execution_count": 5
        }
      ]
    },
    {
      "cell_type": "code",
      "source": [
        "def fix_player_games_in_khl_stat(player_games_in_khl_stat):\n",
        "  player_games_in_khl_stat['Season'] = np.where(np.isnan(player_games_in_khl_stat['Assists']),player_games_in_khl_stat['Teams'], np.NaN)\n",
        "  player_games_in_khl_stat['Season'] = player_games_in_khl_stat['Season'].fillna(method='ffill')\n",
        "  player_games_in_khl_stat = player_games_in_khl_stat[player_games_in_khl_stat['Teams'] != player_games_in_khl_stat['Season']]\n",
        "  player_games_in_khl_stat = player_games_in_khl_stat[['Season'] + [col for col in player_games_in_khl_stat.columns if col != 'Season']]\n",
        "  player_games_in_khl_stat = player_games_in_khl_stat.reset_index(drop=True)\n",
        "  return player_games_in_khl_stat\n",
        "player_games_in_khl_stat = scrape_player_data('players/34721/')\n",
        "print(player_khl_stat)\n",
        "fix_player_games_in_khl_stat(player_games_in_khl_stat)"
      ],
      "metadata": {
        "id": "PLswayvyaj6p"
      },
      "execution_count": null,
      "outputs": []
    },
    {
      "cell_type": "code",
      "source": [
        "def add_player_name(player_name, player_info,  player_khl_stat):\n",
        "\n",
        "\n",
        "    player_info = pd.concat([player_name, player_info], axis=1)\n",
        "    #КОСТЫЛЬ ИСПРАВИТЬ\n",
        "    #player_info.columns=['URL',\t'Player name',\t'Born',\t'Age',\t'Country',\t'Height',\t'Weight', 'Shoots']\n",
        "    #КОСТЫЛЬ ИСПРАВИТЬ\n",
        "\n",
        "\n",
        "    player_khl_stat = pd.concat([player_name, player_khl_stat], axis=1)\n",
        "    player_khl_stat[['URL','Player name']] = player_khl_stat[['URL','Player name']].fillna(method='ffill')\n",
        "    player_khl_stat['Position'] = player_khl_stat['Position'].fillna(method='ffill')\n",
        "   # else:\n",
        "\n",
        "        # We do not need your kind in here.\n",
        "\n",
        "       # pass\n",
        "\n",
        "    return  player_info, player_khl_stat#, player_match_stat\n",
        "#player_season_stat\n",
        "player_khl_stat  = scrape_player_data('players/34721/')\n",
        "#player_games_in_khl_stat = fix_player_games_in_khl_stat(player_games_in_khl_stat)\n",
        "player_khl_stat = fix_player_khl_stat(player_khl_stat)\n",
        "player_name, player_info = scrape_player_info('players/34721/')\n",
        "#add_player_name(player_name, player_info, player_season_stat, player_match_stat)\n",
        "player_info, player_khl_stat = add_player_name(player_name, player_info, player_khl_stat)\n",
        "player_khl_stat"
      ],
      "metadata": {
        "colab": {
          "base_uri": "https://localhost:8080/",
          "height": 549
        },
        "id": "TGRX8mV_kNO2",
        "outputId": "27aaf0d3-2189-4e98-8d3e-00b163c71635"
      },
      "execution_count": null,
      "outputs": [
        {
          "output_type": "execute_result",
          "data": {
            "text/plain": [
              "                                URL     Player name Position  \\\n",
              "0  https://en.khl.ru/players/34721/  Henrik Haapala  forward   \n",
              "1  https://en.khl.ru/players/34721/  Henrik Haapala  forward   \n",
              "2  https://en.khl.ru/players/34721/  Henrik Haapala  forward   \n",
              "3  https://en.khl.ru/players/34721/  Henrik Haapala  forward   \n",
              "4  https://en.khl.ru/players/34721/  Henrik Haapala  forward   \n",
              "5  https://en.khl.ru/players/34721/  Henrik Haapala  forward   \n",
              "6  https://en.khl.ru/players/34721/  Henrik Haapala  forward   \n",
              "7  https://en.khl.ru/players/34721/  Henrik Haapala  forward   \n",
              "\n",
              "             Season     Tournament/Team    №     GP     G  Assists   PTS  ...  \\\n",
              "0  21/22 | playoffs  Jokerit (Helsinki)    -    0.0   0.0      0.0   0.0  ...   \n",
              "1  20/21 | playoffs  Jokerit (Helsinki)   25    2.0   0.0      0.0   0.0  ...   \n",
              "2   20/21 | regular  Jokerit (Helsinki)   25   50.0   8.0     18.0  26.0  ...   \n",
              "3  19/20 | playoffs  Jokerit (Helsinki)   25    6.0   2.0      2.0   4.0  ...   \n",
              "4   19/20 | regular  Jokerit (Helsinki)   25   56.0   6.0     23.0  29.0  ...   \n",
              "5       KHL Summary     Regular season:  NaN  106.0  14.0     41.0  55.0  ...   \n",
              "6       KHL Summary           Playoffs:  NaN    8.0   2.0      2.0   4.0  ...   \n",
              "7       KHL Summary          KHL Total:  NaN  114.0  16.0     43.0  59.0  ...   \n",
              "\n",
              "   TIE/G  SFTE/G  TIPP/G  SFTPP/G  TISH/G  SFTSH/G  HITS   BLS   FOA  TkA  \n",
              "0      -       -       -        -       -        -   0.0   0.0   0.0  NaN  \n",
              "1  12:37      17   01:08        1   00:00        0   4.0   0.0   1.0  NaN  \n",
              "2  12:05    17.1   02:09     2.76   00:01     0.08  24.0   3.0  12.0  NaN  \n",
              "3  11:00      17   03:06     3.67   00:00        0   3.0   2.0   0.0  NaN  \n",
              "4  12:27   18.11   02:43     3.21   00:02     0.07  22.0  13.0  15.0  NaN  \n",
              "5  12:17   17.63   02:27        3   00:02     0.08  46.0  16.0  27.0  0.0  \n",
              "6  11:24      17   02:36        3   00:00        0   7.0   2.0   1.0  0.0  \n",
              "7  12:13   17.59   02:28        3   00:01     0.07  53.0  18.0  28.0  0.0  \n",
              "\n",
              "[8 rows x 38 columns]"
            ],
            "text/html": [
              "\n",
              "  <div id=\"df-c5e27d60-69d3-45a9-a0b4-c07de31225b5\">\n",
              "    <div class=\"colab-df-container\">\n",
              "      <div>\n",
              "<style scoped>\n",
              "    .dataframe tbody tr th:only-of-type {\n",
              "        vertical-align: middle;\n",
              "    }\n",
              "\n",
              "    .dataframe tbody tr th {\n",
              "        vertical-align: top;\n",
              "    }\n",
              "\n",
              "    .dataframe thead th {\n",
              "        text-align: right;\n",
              "    }\n",
              "</style>\n",
              "<table border=\"1\" class=\"dataframe\">\n",
              "  <thead>\n",
              "    <tr style=\"text-align: right;\">\n",
              "      <th></th>\n",
              "      <th>URL</th>\n",
              "      <th>Player name</th>\n",
              "      <th>Position</th>\n",
              "      <th>Season</th>\n",
              "      <th>Tournament/Team</th>\n",
              "      <th>№</th>\n",
              "      <th>GP</th>\n",
              "      <th>G</th>\n",
              "      <th>Assists</th>\n",
              "      <th>PTS</th>\n",
              "      <th>...</th>\n",
              "      <th>TIE/G</th>\n",
              "      <th>SFTE/G</th>\n",
              "      <th>TIPP/G</th>\n",
              "      <th>SFTPP/G</th>\n",
              "      <th>TISH/G</th>\n",
              "      <th>SFTSH/G</th>\n",
              "      <th>HITS</th>\n",
              "      <th>BLS</th>\n",
              "      <th>FOA</th>\n",
              "      <th>TkA</th>\n",
              "    </tr>\n",
              "  </thead>\n",
              "  <tbody>\n",
              "    <tr>\n",
              "      <th>0</th>\n",
              "      <td>https://en.khl.ru/players/34721/</td>\n",
              "      <td>Henrik Haapala</td>\n",
              "      <td>forward</td>\n",
              "      <td>21/22 | playoffs</td>\n",
              "      <td>Jokerit (Helsinki)</td>\n",
              "      <td>-</td>\n",
              "      <td>0.0</td>\n",
              "      <td>0.0</td>\n",
              "      <td>0.0</td>\n",
              "      <td>0.0</td>\n",
              "      <td>...</td>\n",
              "      <td>-</td>\n",
              "      <td>-</td>\n",
              "      <td>-</td>\n",
              "      <td>-</td>\n",
              "      <td>-</td>\n",
              "      <td>-</td>\n",
              "      <td>0.0</td>\n",
              "      <td>0.0</td>\n",
              "      <td>0.0</td>\n",
              "      <td>NaN</td>\n",
              "    </tr>\n",
              "    <tr>\n",
              "      <th>1</th>\n",
              "      <td>https://en.khl.ru/players/34721/</td>\n",
              "      <td>Henrik Haapala</td>\n",
              "      <td>forward</td>\n",
              "      <td>20/21 | playoffs</td>\n",
              "      <td>Jokerit (Helsinki)</td>\n",
              "      <td>25</td>\n",
              "      <td>2.0</td>\n",
              "      <td>0.0</td>\n",
              "      <td>0.0</td>\n",
              "      <td>0.0</td>\n",
              "      <td>...</td>\n",
              "      <td>12:37</td>\n",
              "      <td>17</td>\n",
              "      <td>01:08</td>\n",
              "      <td>1</td>\n",
              "      <td>00:00</td>\n",
              "      <td>0</td>\n",
              "      <td>4.0</td>\n",
              "      <td>0.0</td>\n",
              "      <td>1.0</td>\n",
              "      <td>NaN</td>\n",
              "    </tr>\n",
              "    <tr>\n",
              "      <th>2</th>\n",
              "      <td>https://en.khl.ru/players/34721/</td>\n",
              "      <td>Henrik Haapala</td>\n",
              "      <td>forward</td>\n",
              "      <td>20/21 | regular</td>\n",
              "      <td>Jokerit (Helsinki)</td>\n",
              "      <td>25</td>\n",
              "      <td>50.0</td>\n",
              "      <td>8.0</td>\n",
              "      <td>18.0</td>\n",
              "      <td>26.0</td>\n",
              "      <td>...</td>\n",
              "      <td>12:05</td>\n",
              "      <td>17.1</td>\n",
              "      <td>02:09</td>\n",
              "      <td>2.76</td>\n",
              "      <td>00:01</td>\n",
              "      <td>0.08</td>\n",
              "      <td>24.0</td>\n",
              "      <td>3.0</td>\n",
              "      <td>12.0</td>\n",
              "      <td>NaN</td>\n",
              "    </tr>\n",
              "    <tr>\n",
              "      <th>3</th>\n",
              "      <td>https://en.khl.ru/players/34721/</td>\n",
              "      <td>Henrik Haapala</td>\n",
              "      <td>forward</td>\n",
              "      <td>19/20 | playoffs</td>\n",
              "      <td>Jokerit (Helsinki)</td>\n",
              "      <td>25</td>\n",
              "      <td>6.0</td>\n",
              "      <td>2.0</td>\n",
              "      <td>2.0</td>\n",
              "      <td>4.0</td>\n",
              "      <td>...</td>\n",
              "      <td>11:00</td>\n",
              "      <td>17</td>\n",
              "      <td>03:06</td>\n",
              "      <td>3.67</td>\n",
              "      <td>00:00</td>\n",
              "      <td>0</td>\n",
              "      <td>3.0</td>\n",
              "      <td>2.0</td>\n",
              "      <td>0.0</td>\n",
              "      <td>NaN</td>\n",
              "    </tr>\n",
              "    <tr>\n",
              "      <th>4</th>\n",
              "      <td>https://en.khl.ru/players/34721/</td>\n",
              "      <td>Henrik Haapala</td>\n",
              "      <td>forward</td>\n",
              "      <td>19/20 | regular</td>\n",
              "      <td>Jokerit (Helsinki)</td>\n",
              "      <td>25</td>\n",
              "      <td>56.0</td>\n",
              "      <td>6.0</td>\n",
              "      <td>23.0</td>\n",
              "      <td>29.0</td>\n",
              "      <td>...</td>\n",
              "      <td>12:27</td>\n",
              "      <td>18.11</td>\n",
              "      <td>02:43</td>\n",
              "      <td>3.21</td>\n",
              "      <td>00:02</td>\n",
              "      <td>0.07</td>\n",
              "      <td>22.0</td>\n",
              "      <td>13.0</td>\n",
              "      <td>15.0</td>\n",
              "      <td>NaN</td>\n",
              "    </tr>\n",
              "    <tr>\n",
              "      <th>5</th>\n",
              "      <td>https://en.khl.ru/players/34721/</td>\n",
              "      <td>Henrik Haapala</td>\n",
              "      <td>forward</td>\n",
              "      <td>KHL Summary</td>\n",
              "      <td>Regular season:</td>\n",
              "      <td>NaN</td>\n",
              "      <td>106.0</td>\n",
              "      <td>14.0</td>\n",
              "      <td>41.0</td>\n",
              "      <td>55.0</td>\n",
              "      <td>...</td>\n",
              "      <td>12:17</td>\n",
              "      <td>17.63</td>\n",
              "      <td>02:27</td>\n",
              "      <td>3</td>\n",
              "      <td>00:02</td>\n",
              "      <td>0.08</td>\n",
              "      <td>46.0</td>\n",
              "      <td>16.0</td>\n",
              "      <td>27.0</td>\n",
              "      <td>0.0</td>\n",
              "    </tr>\n",
              "    <tr>\n",
              "      <th>6</th>\n",
              "      <td>https://en.khl.ru/players/34721/</td>\n",
              "      <td>Henrik Haapala</td>\n",
              "      <td>forward</td>\n",
              "      <td>KHL Summary</td>\n",
              "      <td>Playoffs:</td>\n",
              "      <td>NaN</td>\n",
              "      <td>8.0</td>\n",
              "      <td>2.0</td>\n",
              "      <td>2.0</td>\n",
              "      <td>4.0</td>\n",
              "      <td>...</td>\n",
              "      <td>11:24</td>\n",
              "      <td>17</td>\n",
              "      <td>02:36</td>\n",
              "      <td>3</td>\n",
              "      <td>00:00</td>\n",
              "      <td>0</td>\n",
              "      <td>7.0</td>\n",
              "      <td>2.0</td>\n",
              "      <td>1.0</td>\n",
              "      <td>0.0</td>\n",
              "    </tr>\n",
              "    <tr>\n",
              "      <th>7</th>\n",
              "      <td>https://en.khl.ru/players/34721/</td>\n",
              "      <td>Henrik Haapala</td>\n",
              "      <td>forward</td>\n",
              "      <td>KHL Summary</td>\n",
              "      <td>KHL Total:</td>\n",
              "      <td>NaN</td>\n",
              "      <td>114.0</td>\n",
              "      <td>16.0</td>\n",
              "      <td>43.0</td>\n",
              "      <td>59.0</td>\n",
              "      <td>...</td>\n",
              "      <td>12:13</td>\n",
              "      <td>17.59</td>\n",
              "      <td>02:28</td>\n",
              "      <td>3</td>\n",
              "      <td>00:01</td>\n",
              "      <td>0.07</td>\n",
              "      <td>53.0</td>\n",
              "      <td>18.0</td>\n",
              "      <td>28.0</td>\n",
              "      <td>0.0</td>\n",
              "    </tr>\n",
              "  </tbody>\n",
              "</table>\n",
              "<p>8 rows × 38 columns</p>\n",
              "</div>\n",
              "      <button class=\"colab-df-convert\" onclick=\"convertToInteractive('df-c5e27d60-69d3-45a9-a0b4-c07de31225b5')\"\n",
              "              title=\"Convert this dataframe to an interactive table.\"\n",
              "              style=\"display:none;\">\n",
              "        \n",
              "  <svg xmlns=\"http://www.w3.org/2000/svg\" height=\"24px\"viewBox=\"0 0 24 24\"\n",
              "       width=\"24px\">\n",
              "    <path d=\"M0 0h24v24H0V0z\" fill=\"none\"/>\n",
              "    <path d=\"M18.56 5.44l.94 2.06.94-2.06 2.06-.94-2.06-.94-.94-2.06-.94 2.06-2.06.94zm-11 1L8.5 8.5l.94-2.06 2.06-.94-2.06-.94L8.5 2.5l-.94 2.06-2.06.94zm10 10l.94 2.06.94-2.06 2.06-.94-2.06-.94-.94-2.06-.94 2.06-2.06.94z\"/><path d=\"M17.41 7.96l-1.37-1.37c-.4-.4-.92-.59-1.43-.59-.52 0-1.04.2-1.43.59L10.3 9.45l-7.72 7.72c-.78.78-.78 2.05 0 2.83L4 21.41c.39.39.9.59 1.41.59.51 0 1.02-.2 1.41-.59l7.78-7.78 2.81-2.81c.8-.78.8-2.07 0-2.86zM5.41 20L4 18.59l7.72-7.72 1.47 1.35L5.41 20z\"/>\n",
              "  </svg>\n",
              "      </button>\n",
              "      \n",
              "  <style>\n",
              "    .colab-df-container {\n",
              "      display:flex;\n",
              "      flex-wrap:wrap;\n",
              "      gap: 12px;\n",
              "    }\n",
              "\n",
              "    .colab-df-convert {\n",
              "      background-color: #E8F0FE;\n",
              "      border: none;\n",
              "      border-radius: 50%;\n",
              "      cursor: pointer;\n",
              "      display: none;\n",
              "      fill: #1967D2;\n",
              "      height: 32px;\n",
              "      padding: 0 0 0 0;\n",
              "      width: 32px;\n",
              "    }\n",
              "\n",
              "    .colab-df-convert:hover {\n",
              "      background-color: #E2EBFA;\n",
              "      box-shadow: 0px 1px 2px rgba(60, 64, 67, 0.3), 0px 1px 3px 1px rgba(60, 64, 67, 0.15);\n",
              "      fill: #174EA6;\n",
              "    }\n",
              "\n",
              "    [theme=dark] .colab-df-convert {\n",
              "      background-color: #3B4455;\n",
              "      fill: #D2E3FC;\n",
              "    }\n",
              "\n",
              "    [theme=dark] .colab-df-convert:hover {\n",
              "      background-color: #434B5C;\n",
              "      box-shadow: 0px 1px 3px 1px rgba(0, 0, 0, 0.15);\n",
              "      filter: drop-shadow(0px 1px 2px rgba(0, 0, 0, 0.3));\n",
              "      fill: #FFFFFF;\n",
              "    }\n",
              "  </style>\n",
              "\n",
              "      <script>\n",
              "        const buttonEl =\n",
              "          document.querySelector('#df-c5e27d60-69d3-45a9-a0b4-c07de31225b5 button.colab-df-convert');\n",
              "        buttonEl.style.display =\n",
              "          google.colab.kernel.accessAllowed ? 'block' : 'none';\n",
              "\n",
              "        async function convertToInteractive(key) {\n",
              "          const element = document.querySelector('#df-c5e27d60-69d3-45a9-a0b4-c07de31225b5');\n",
              "          const dataTable =\n",
              "            await google.colab.kernel.invokeFunction('convertToInteractive',\n",
              "                                                     [key], {});\n",
              "          if (!dataTable) return;\n",
              "\n",
              "          const docLinkHtml = 'Like what you see? Visit the ' +\n",
              "            '<a target=\"_blank\" href=https://colab.research.google.com/notebooks/data_table.ipynb>data table notebook</a>'\n",
              "            + ' to learn more about interactive tables.';\n",
              "          element.innerHTML = '';\n",
              "          dataTable['output_type'] = 'display_data';\n",
              "          await google.colab.output.renderOutput(dataTable, element);\n",
              "          const docLink = document.createElement('div');\n",
              "          docLink.innerHTML = docLinkHtml;\n",
              "          element.appendChild(docLink);\n",
              "        }\n",
              "      </script>\n",
              "    </div>\n",
              "  </div>\n",
              "  "
            ]
          },
          "metadata": {},
          "execution_count": 6
        }
      ]
    },
    {
      "cell_type": "code",
      "source": [
        "\n",
        "list_profile_links = pd.DataFrame()\n",
        "list_player_info = pd.DataFrame()\n",
        "list_player_season_stat = pd.DataFrame()\n",
        "list_player_khl_stat = pd.DataFrame()\n",
        "\n",
        "\n",
        "alphabet = list(string.ascii_uppercase)\n",
        "#alphabet = ['X']\n",
        "for letter in alphabet:\n",
        "\n",
        "    profile_links = get_profile_links(letter)\n",
        "    print(profile_links)\n",
        "    list_profile_links =  list_profile_links.append(profile_links, ignore_index=True)\n",
        "\n",
        "# And let us save it straight away.\n",
        "\n",
        "list_profile_links.to_csv('players_profile.csv', encoding='utf8', index=False)\n",
        "\n",
        "\n",
        "\n",
        "for profile in list_profile_links['Profile link']:\n",
        "    print(profile)\n",
        "    player_name,player_info = scrape_player_info(profile)\n",
        "    player_khl_stat = scrape_player_data(profile)\n",
        "\n",
        "    player_khl_stat = fix_player_khl_stat(player_khl_stat)\n",
        "    player_info, player_khl_stat = add_player_name(player_name, player_info, player_khl_stat)\n",
        "\n",
        "\n",
        "    list_player_info = list_player_info.append(player_info, ignore_index=True)\n",
        "   #list_player_season_stat = list_player_season_stat.append(player_season_stat, ignore_index=True)\n",
        "    list_player_khl_stat = list_player_khl_stat.append(player_khl_stat, ignore_index=True)\n",
        "\n",
        "\n",
        "\n",
        "list_player_career_stat = list_player_khl_stat[list_player_khl_stat['Season'] != 'KHL Summary']\n",
        "list_player_season_stat = list_player_khl_stat[list_player_khl_stat['Season'] == 'KHL Summary']\n",
        "\n",
        "\n",
        "list_player_info.to_csv('raw_players_info.csv', encoding='utf8', index=False)\n",
        "list_player_career_stat.to_csv('raw_players_career.csv', encoding='utf8', index=False)\n",
        "list_player_season_stat.to_csv('raw_players_khl_summary.csv', encoding='utf8', index=False)\n",
        "list_player_khl_stat.to_csv('raw_players_khl_stat.csv', encoding='utf8', index=False)"
      ],
      "metadata": {
        "colab": {
          "base_uri": "https://localhost:8080/"
        },
        "id": "JMvDcrAskOQc",
        "outputId": "603e62b5-f160-4461-dc81-82cfc6ca0c5c"
      },
      "execution_count": null,
      "outputs": [
        {
          "output_type": "stream",
          "name": "stdout",
          "text": [
            "       Profile link          Name Player                         Team  \\\n",
            "0   /players/16785/   Aaltonen Juhamatti           Jokerit (Helsinki)   \n",
            "1   /players/17585/        Aaltonen Miro       Vityaz (Moscow Region)   \n",
            "2   /players/13041/  Abdrakhmanov Ruslan            Amur (Khabarovsk)   \n",
            "3   /players/38736/       Abdul Jindrich      Severstal (Cherepovets)   \n",
            "5   /players/13873/       Abdullin Denis       Vityaz (Moscow Region)   \n",
            "6   /players/19010/         Aberg Pontus        Traktor (Chelyabinsk)   \n",
            "7   /players/16221/           Abid Ramzi        Traktor (Chelyabinsk)   \n",
            "8   /players/19276/       Ablayev Kirill             Spartak (Moscow)   \n",
            "9   /players/20861/        Abols Rodrigo                Dinamo (Riga)   \n",
            "10  /players/23630/   Abramov Mikhail A.             HC Sochi (Sochi)   \n",
            "11  /players/16673/    Abramov Sergei V.            Amur (Khabarovsk)   \n",
            "12  /players/23248/       Abramov Vitaly                CSKA (Moscow)   \n",
            "13  /players/17968/      Abrosimov Roman       Vityaz (Moscow Region)   \n",
            "14  /players/30629/     Abrosimov Ruslan      Severstal (Cherepovets)   \n",
            "15  /players/18961/      Adamchuk Kirill              Ak Bars (Kazan)   \n",
            "16  /players/13490/   Afanasenkov Dmitry  Avtomobilist (Ekaterinburg)   \n",
            "17  /players/27444/   Afanasyev Kristian    Kunlun Red Star (Beijing)   \n",
            "18  /players/22616/   Afanasyev Maxim A.             Spartak (Moscow)   \n",
            "19  /players/31046/      Afanasyev Yegor                CSKA (Moscow)   \n",
            "20  /players/13121/     Afinogenov Maxim              Dynamo (Moscow)   \n",
            "21  /players/20844/  Afonasyevsky Semyon        Traktor (Chelyabinsk)   \n",
            "22  /players/33320/     Agapov Alexander      Severstal (Cherepovets)   \n",
            "24  /players/40283/       Agostino Kenny    Torpedo (Nizhny Novgorod)   \n",
            "25  /players/23434/        Ahnelov Jonas              Avangard (Omsk)   \n",
            "27  /players/35353/       Aimurzin Danil         Salavat Yulaev (Ufa)   \n",
            "28  /players/15218/        Akerman Johan        Lokomotiv (Yaroslavl)   \n",
            "29  /players/25739/         Akeson Jason        Admiral (Vladivostok)   \n",
            "\n",
            "            Position                    Born     Age          Country  \\\n",
            "0   Position forward        Born 4 June 1985  Age 37  Country Finland   \n",
            "1   Position forward        Born 7 June 1993  Age 29  Country Finland   \n",
            "2   Position forward   Born 25 December 1984  Age 38   Country Russia   \n",
            "3   Position forward    Born 1 February 1996  Age 27  Country Czechia   \n",
            "5   Position forward     Born 1 January 1985  Age 38   Country Russia   \n",
            "6   Position forward  Born 23 September 1993  Age 29   Country Sweden   \n",
            "7   Position forward      Born 24 March 1980  Age 43   Country Canada   \n",
            "8   Position defense       Born 1 March 1996  Age 27   Country Russia   \n",
            "9   Position forward     Born 5 January 1996  Age 27   Country Latvia   \n",
            "10  Position forward   Born 16 December 1998  Age 24   Country Russia   \n",
            "11  Position forward    Born 1 February 1993  Age 30   Country Russia   \n",
            "12  Position forward         Born 8 May 1998  Age 25   Country Russia   \n",
            "13  Position defense       Born 31 July 1994  Age 28   Country Russia   \n",
            "14  Position forward        Born 15 May 2001  Age 22   Country Russia   \n",
            "15  Position defense        Born 24 May 1994  Age 29   Country Russia   \n",
            "16  Position forward        Born 12 May 1980  Age 43   Country Russia   \n",
            "17  Position forward       Born 28 July 1998  Age 24   Country Russia   \n",
            "18  Position defense    Born 11 January 1998  Age 25   Country Russia   \n",
            "19  Position forward    Born 23 January 2001  Age 22   Country Russia   \n",
            "20  Position forward   Born 4 September 1979  Age 43   Country Russia   \n",
            "21  Position forward    Born 15 October 1996  Age 26   Country Russia   \n",
            "22  Position forward   Born 13 February 2002  Age 21   Country Russia   \n",
            "24  Position forward      Born 30 April 1992  Age 31      Country USA   \n",
            "25  Position defense   Born 11 December 1987  Age 35   Country Sweden   \n",
            "27  Position forward      Born 17 April 2002  Age 21   Country Russia   \n",
            "28  Position defense   Born 20 November 1972  Age 50   Country Sweden   \n",
            "29  Position forward        Born 3 June 1990  Age 32   Country Canada   \n",
            "\n",
            "               Contract to  \n",
            "0              Contract to  \n",
            "1              Contract to  \n",
            "2              Contract to  \n",
            "3              Contract to  \n",
            "5              Contract to  \n",
            "6              Contract to  \n",
            "7              Contract to  \n",
            "8              Contract to  \n",
            "9              Contract to  \n",
            "10             Contract to  \n",
            "11             Contract to  \n",
            "12  Contract to 30.04.2027  \n",
            "13  Contract to 30.04.2025  \n",
            "14  Contract to 30.04.2025  \n",
            "15  Contract to 30.04.2024  \n",
            "16             Contract to  \n",
            "17             Contract to  \n",
            "18             Contract to  \n",
            "19             Contract to  \n",
            "20             Contract to  \n",
            "21             Contract to  \n",
            "22             Contract to  \n",
            "24             Contract to  \n",
            "25             Contract to  \n",
            "27             Contract to  \n",
            "28             Contract to  \n",
            "29             Contract to  \n"
          ]
        },
        {
          "output_type": "stream",
          "name": "stderr",
          "text": [
            "<ipython-input-7-5e25f54b2bf4>:19: FutureWarning: The frame.append method is deprecated and will be removed from pandas in a future version. Use pandas.concat instead.\n",
            "  list_profile_links =  list_profile_links.append(profile_links, ignore_index=True)\n"
          ]
        },
        {
          "output_type": "stream",
          "name": "stdout",
          "text": [
            "       Profile link          Name Player  \\\n",
            "0    /players/3950/        Babchuk Anton   \n",
            "1   /players/21263/        Babenko Yegor   \n",
            "2   /players/10892/      Babenko Yury I.   \n",
            "3   /players/26798/       Babintsev Gleb   \n",
            "4   /players/23764/     Babintsev Semyon   \n",
            "5   /players/15943/       Bachurin Denis   \n",
            "6   /players/23640/         Bacik Patrik   \n",
            "8   /players/20553/    Backstrom Nicklas   \n",
            "9   /players/21604/         Badun Alexei   \n",
            "10   /players/4087/      Badyukov Alexei   \n",
            "11  /players/22147/          Bailen Nick   \n",
            "12  /players/33314/         Bailey Casey   \n",
            "13  /players/39812/       Bakanov Andrei   \n",
            "14  /players/14342/  Bakhriddinov Rustam   \n",
            "15  /players/15063/      Bakika Vladimir   \n",
            "16  /players/18926/         Bakos Martin   \n",
            "17  /players/22190/      Bakushin Artyom   \n",
            "18  /players/17678/      Balan Stanislav   \n",
            "19   /players/4800/     Balandin Mikhail   \n",
            "20  /players/18974/      Baldayev Viktor   \n",
            "21  /players/23503/        Baldin Kirill   \n",
            "22  /players/24048/       Balinskis Uvis   \n",
            "23  /players/10846/    Balmochnykh Maxim   \n",
            "24  /players/15746/      Bannikov Kirill   \n",
            "25  /players/17210/  Barabanov Alexander   \n",
            "26  /players/20973/   Barabanov Vladimir   \n",
            "27  /players/15215/         Baranka Ivan   \n",
            "28  /players/20711/      Baranov Ilya G.   \n",
            "29  /players/19544/     Baranov Maxim S.   \n",
            "\n",
            "                                                Team          Position  \\\n",
            "0   Torpedo (Nizhny Novgorod) Atlant (Moscow Region)  Position defense   \n",
            "1                                   HC Sochi (Sochi)  Position forward   \n",
            "2                                OHC Dynamo (Moscow)  Position forward   \n",
            "3                           Metallurg (Magnitogorsk)  Position defense   \n",
            "4                                   HC Sochi (Sochi)  Position forward   \n",
            "5                                     Barys (Astana)  Position defense   \n",
            "6                                Slovan (Bratislava)  Position defense   \n",
            "8                                OHC Dynamo (Moscow)  Position forward   \n",
            "9                                     Dinamo (Minsk)  Position defense   \n",
            "10                         Torpedo (Nizhny Novgorod)  Position forward   \n",
            "11                             Traktor (Chelyabinsk)  Position defense   \n",
            "12                               Slovan (Bratislava)  Position forward   \n",
            "13                                  HC Sochi (Sochi)  Position forward   \n",
            "14                            Vityaz (Moscow Region)  Position defense   \n",
            "15                        Sibir (Novosibirsk Region)  Position forward   \n",
            "16                                  HC Sochi (Sochi)  Position forward   \n",
            "17                                    Barys (Astana)  Position defense   \n",
            "18                                      Lev (Poprad)  Position forward   \n",
            "19                               OHC Dynamo (Moscow)  Position defense   \n",
            "20                                 Amur (Khabarovsk)  Position defense   \n",
            "21                                    Barys (Astana)  Position forward   \n",
            "22                                     Dinamo (Riga)  Position defense   \n",
            "23                                    Dinamo (Minsk)  Position forward   \n",
            "24                          Metallurg (Magnitogorsk)  Position forward   \n",
            "25                            SKA (Saint Petersburg)  Position forward   \n",
            "26                            Vityaz (Moscow Region)  Position forward   \n",
            "27                               Slovan (Bratislava)  Position defense   \n",
            "28                                  Spartak (Moscow)  Position forward   \n",
            "29                                    Barys (Astana)  Position forward   \n",
            "\n",
            "                      Born     Age             Country             Contract to  \n",
            "0          Born 6 May 1984  Age 39      Country Russia             Contract to  \n",
            "1     Born 5 February 1997  Age 26      Country Russia  Contract to 30.04.2024  \n",
            "2      Born 2 January 1978  Age 45      Country Russia             Contract to  \n",
            "3      Born 8 January 2000  Age 23      Country Russia             Contract to  \n",
            "4      Born 8 October 1994  Age 28      Country Russia             Contract to  \n",
            "5         Born 7 June 1991  Age 31      Country Russia             Contract to  \n",
            "6     Born 7 February 1995  Age 28    Country Slovakia             Contract to  \n",
            "8    Born 23 November 1987  Age 35      Country Sweden             Contract to  \n",
            "9      Born 30 August 1989  Age 33     Country Belarus             Contract to  \n",
            "10      Born 20 April 1978  Age 45      Country Russia             Contract to  \n",
            "11   Born 12 December 1989  Age 33     Country Belarus             Contract to  \n",
            "12    Born 27 October 1991  Age 31         Country USA             Contract to  \n",
            "13        Born 28 May 2002  Age 20      Country Russia             Contract to  \n",
            "14  Born 27 September 1980  Age 42      Country Russia             Contract to  \n",
            "15   Born 20 February 1989  Age 34      Country Russia             Contract to  \n",
            "16      Born 18 April 1990  Age 33    Country Slovakia             Contract to  \n",
            "17  Born 12 September 1997  Age 25  Country Kazakhstan             Contract to  \n",
            "18    Born 30 January 1986  Age 37     Country Czechia             Contract to  \n",
            "19       Born 27 July 1980     Age      Country Russia             Contract to  \n",
            "20       Born 14 June 1995  Age 27      Country Russia             Contract to  \n",
            "21   Born 27 February 1998  Age 25      Country Russia             Contract to  \n",
            "22      Born 1 August 1996  Age 26      Country Latvia             Contract to  \n",
            "23       Born 7 March 1979  Age 44      Country Russia             Contract to  \n",
            "24        Born 29 May 1990  Age 32      Country Russia             Contract to  \n",
            "25       Born 17 June 1994  Age 28      Country Russia             Contract to  \n",
            "26        Born 16 May 1997  Age 26      Country Russia             Contract to  \n",
            "27        Born 19 May 1985  Age 38    Country Slovakia             Contract to  \n",
            "28  Born 22 September 1995  Age 27      Country Russia             Contract to  \n",
            "29       Born 3 March 1994  Age 29      Country Russia             Contract to  \n"
          ]
        },
        {
          "output_type": "stream",
          "name": "stderr",
          "text": [
            "<ipython-input-7-5e25f54b2bf4>:19: FutureWarning: The frame.append method is deprecated and will be removed from pandas in a future version. Use pandas.concat instead.\n",
            "  list_profile_links =  list_profile_links.append(profile_links, ignore_index=True)\n"
          ]
        },
        {
          "output_type": "stream",
          "name": "stdout",
          "text": [
            "       Profile link           Name Player                        Team  \\\n",
            "0   /players/15081/          Cajanek Petr      SKA (Saint Petersburg)   \n",
            "1   /players/19530/      Cajkovsky Michal  Sibir (Novosibirsk Region)   \n",
            "2   /players/17341/           Calder Kyle              Barys (Astana)   \n",
            "3   /players/31274/          Calof Andrew           Amur (Khabarovsk)   \n",
            "4   /players/41583/        Camara Anthony   Neftekhimik (Nizhnekamsk)   \n",
            "5   /players/42355/        Campbell Colin   Kunlun Red Star (Beijing)   \n",
            "6   /players/18937/         Carle Mathieu          Medvescak (Zagreb)   \n",
            "7   /players/33476/          Caron Jordan  Sibir (Novosibirsk Region)   \n",
            "9   /players/13203/          Caslava Petr     Severstal (Cherepovets)   \n",
            "10  /players/24964/        Cehlarik Peter             Avangard (Omsk)   \n",
            "11  /players/10857/           Cermak Leos   Torpedo (Nizhny Novgorod)   \n",
            "12  /players/28628/           Cerny Tomas         Slovan (Bratislava)   \n",
            "13  /players/16827/        Cervenka Roman      SKA (Saint Petersburg)   \n",
            "14  /players/19606/        Cerveny Rudolf       Admiral (Vladivostok)   \n",
            "15  /players/14511/        Chabada Martin                Lev (Poprad)   \n",
            "16  /players/34643/         Chaika Daniil               CSKA (Moscow)   \n",
            "17  /players/42245/        Chaput Michael              Barys (Astana)   \n",
            "18  /players/20524/           Chara Zdeno                 Lev (Praha)   \n",
            "20  /players/13024/  Chebaturkin Vladimir   Neftekhimik (Nizhnekamsk)   \n",
            "21  /players/22161/      Chebykin Nikolai       Admiral (Vladivostok)   \n",
            "23  /players/20713/     Cheechoo Jonathan         Slovan (Bratislava)   \n",
            "24  /players/24581/       Chekhovich Ivan       Lokomotiv (Yaroslavl)   \n",
            "25  /players/34724/          Chelios Jake   Kunlun Red Star (Beijing)   \n",
            "26  /players/15745/       Chelyshev Maxim      Vityaz (Moscow Region)   \n",
            "27  /players/35299/           Chen Zimeng   Kunlun Red Star (Beijing)   \n",
            "28  /players/14595/     Cherepanov Alexei             Avangard (Omsk)   \n",
            "29  /players/17786/     Cherepanov Nikita       Lokomotiv (Yaroslavl)   \n",
            "\n",
            "            Position                    Born     Age           Country  \\\n",
            "0   Position forward     Born 18 August 1975  Age 47   Country Czechia   \n",
            "1   Position defense         Born 6 May 1992  Age 31  Country Slovakia   \n",
            "2   Position forward     Born 5 January 1979  Age 44    Country Canada   \n",
            "3   Position forward         Born 9 May 1991  Age 32    Country Canada   \n",
            "4   Position forward   Born 4 September 1993  Age 29    Country Canada   \n",
            "5   Position forward      Born 17 April 1991  Age 32    Country Canada   \n",
            "6   Position defense  Born 30 September 1987  Age 35    Country Canada   \n",
            "7   Position forward    Born 2 November 1990  Age 32    Country Canada   \n",
            "9   Position defense   Born 3 September 1979  Age 43   Country Czechia   \n",
            "10  Position forward      Born 2 August 1995  Age 27  Country Slovakia   \n",
            "11  Position forward      Born 13 March 1978  Age 45   Country Czechia   \n",
            "12  Position defense     Born 15 August 1997  Age 25   Country Czechia   \n",
            "13  Position forward   Born 10 December 1985  Age 37   Country Czechia   \n",
            "14  Position forward      Born 6 August 1989  Age 33   Country Czechia   \n",
            "15  Position forward       Born 14 June 1977  Age 45   Country Czechia   \n",
            "16  Position defense    Born 22 October 2002  Age 20    Country Russia   \n",
            "17  Position forward       Born 9 April 1992  Age 31    Country Canada   \n",
            "18  Position defense      Born 18 March 1977  Age 46  Country Slovakia   \n",
            "20  Position defense      Born 23 April 1975  Age 48    Country Russia   \n",
            "21  Position forward      Born 1 August 1997  Age 25    Country Russia   \n",
            "23  Position forward       Born 15 July 1980  Age 42    Country Canada   \n",
            "24  Position forward     Born 4 January 1999  Age 24    Country Russia   \n",
            "25  Position defense       Born 8 March 1991  Age 32     Country China   \n",
            "26  Position defense  Born 18 September 1991  Age 31    Country Russia   \n",
            "27  Position defense       Born 26 June 1997  Age 25     Country China   \n",
            "28  Position forward    Born 15 January 1989     Age    Country Russia   \n",
            "29  Position defense   Born 19 November 1995  Age 27    Country Russia   \n",
            "\n",
            "               Contract to  \n",
            "0              Contract to  \n",
            "1              Contract to  \n",
            "2              Contract to  \n",
            "3              Contract to  \n",
            "4              Contract to  \n",
            "5              Contract to  \n",
            "6              Contract to  \n",
            "7              Contract to  \n",
            "9              Contract to  \n",
            "10             Contract to  \n",
            "11             Contract to  \n",
            "12             Contract to  \n",
            "13             Contract to  \n",
            "14             Contract to  \n",
            "15             Contract to  \n",
            "16             Contract to  \n",
            "17             Contract to  \n",
            "18             Contract to  \n",
            "20             Contract to  \n",
            "21  Contract to 30.04.2025  \n",
            "23             Contract to  \n",
            "24  Contract to 30.04.2025  \n",
            "25             Contract to  \n",
            "26             Contract to  \n",
            "27             Contract to  \n",
            "28             Contract to  \n",
            "29  Contract to 30.04.2025  \n"
          ]
        },
        {
          "output_type": "stream",
          "name": "stderr",
          "text": [
            "<ipython-input-7-5e25f54b2bf4>:19: FutureWarning: The frame.append method is deprecated and will be removed from pandas in a future version. Use pandas.concat instead.\n",
            "  list_profile_links =  list_profile_links.append(profile_links, ignore_index=True)\n"
          ]
        },
        {
          "output_type": "stream",
          "name": "stdout",
          "text": [
            "       Profile link         Name Player                         Team  \\\n",
            "0   /players/22668/   Da Costa Stephane  Avtomobilist (Ekaterinburg)   \n",
            "1   /players/14590/   Dadonov Evgeny A.       SKA (Saint Petersburg)   \n",
            "2   /players/20940/   Dadonov Evgeny I.               Dinamo (Minsk)   \n",
            "3   /players/15238/     Dagenais Pierre        Traktor (Chelyabinsk)   \n",
            "4   /players/31436/       Dahlbeck Klas                CSKA (Moscow)   \n",
            "5   /players/15317/       Dallman Kevin               Barys (Astana)   \n",
            "6   /players/19624/        Daloga Marek                Dinamo (Riga)   \n",
            "8   /players/37800/     Danforth Justin       Vityaz (Moscow Region)   \n",
            "9   /players/20620/  Danielsson Nicklas                  Lev (Praha)   \n",
            "12  /players/25020/       Daniyar Samat               Barys (Astana)   \n",
            "13  /players/25046/       Daniyar Sayan               Barys (Astana)   \n",
            "14  /players/18991/          Dano Marko          Slovan (Bratislava)   \n",
            "16  /players/26282/    Daryin Alexander    Torpedo (Nizhny Novgorod)   \n",
            "17  /players/15251/      Darzins Lauris                Dinamo (Riga)   \n",
            "18  /players/17982/         DaSilva Dan                 Lev (Poprad)   \n",
            "19  /players/18917/      Datelinka Ivan          Slovan (Bratislava)   \n",
            "20   /players/4698/       Datsyuk Pavel  Avtomobilist (Ekaterinburg)   \n",
            "21  /players/16047/   Daugavins Kaspars       Vityaz (Moscow Region)   \n",
            "22  /players/19480/       Davis Patrick                CSKA (Moscow)   \n",
            "23  /players/39589/      Davydov Daniil              Dynamo (Moscow)   \n",
            "24  /players/15732/        Davydov Ilya        Admiral (Vladivostok)   \n",
            "25   /players/3496/       Davydov Marat     Metallurg (Novokuznetsk)   \n",
            "27  /players/34373/     Davydov Timofei              Avangard (Omsk)   \n",
            "29  /players/17649/         Dawes Nigel              Ak Bars (Kazan)   \n",
            "\n",
            "            Position                   Born     Age             Country  \\\n",
            "0   Position forward      Born 11 July 1989  Age 33      Country France   \n",
            "1   Position forward     Born 12 March 1989  Age 34      Country Russia   \n",
            "2   Position forward     Born 7 August 1992  Age 30     Country Belarus   \n",
            "3   Position forward      Born 4 March 1978  Age 45      Country Canada   \n",
            "4   Position defense       Born 6 July 1991  Age 31      Country Sweden   \n",
            "5   Position defense  Born 26 February 1981  Age 42  Country Kazakhstan   \n",
            "6   Position defense     Born 10 March 1989  Age 34    Country Slovakia   \n",
            "8   Position forward     Born 15 March 1993  Age 30      Country Canada   \n",
            "9   Position forward   Born 7 December 1984  Age 38      Country Sweden   \n",
            "12  Position defense   Born 24 January 1999  Age 24  Country Kazakhstan   \n",
            "13  Position forward    Born 5 October 1999  Age 23  Country Kazakhstan   \n",
            "14  Position forward  Born 30 November 1994  Age 28    Country Slovakia   \n",
            "16  Position forward    Born 16 August 2000  Age 22      Country Russia   \n",
            "17  Position forward   Born 28 January 1985  Age 38      Country Latvia   \n",
            "18  Position forward     Born 30 April 1985  Age 38      Country Canada   \n",
            "19  Position defense      Born 6 March 1983  Age 40    Country Slovakia   \n",
            "20  Position forward      Born 20 July 1978  Age 44      Country Russia   \n",
            "21  Position forward       Born 18 May 1988  Age 35      Country Latvia   \n",
            "22  Position forward  Born 28 December 1986  Age 36         Country USA   \n",
            "23  Position forward      Born 6 March 2004  Age 19      Country Russia   \n",
            "24  Position defense   Born 25 January 1989  Age 34      Country Russia   \n",
            "25  Position defense      Born 20 July 1972  Age 50      Country Russia   \n",
            "27  Position defense       Born 1 June 2002  Age 20      Country Russia   \n",
            "29  Position forward   Born 9 February 1985  Age 38  Country Kazakhstan   \n",
            "\n",
            "               Contract to  \n",
            "0              Contract to  \n",
            "1              Contract to  \n",
            "2              Contract to  \n",
            "3              Contract to  \n",
            "4              Contract to  \n",
            "5              Contract to  \n",
            "6              Contract to  \n",
            "8              Contract to  \n",
            "9              Contract to  \n",
            "12  Contract to 30.04.2024  \n",
            "13             Contract to  \n",
            "14             Contract to  \n",
            "16  Contract to 30.04.2024  \n",
            "17             Contract to  \n",
            "18             Contract to  \n",
            "19             Contract to  \n",
            "20             Contract to  \n",
            "21             Contract to  \n",
            "22             Contract to  \n",
            "23             Contract to  \n",
            "24             Contract to  \n",
            "25             Contract to  \n",
            "27             Contract to  \n",
            "29             Contract to  \n"
          ]
        },
        {
          "output_type": "stream",
          "name": "stderr",
          "text": [
            "<ipython-input-7-5e25f54b2bf4>:19: FutureWarning: The frame.append method is deprecated and will be removed from pandas in a future version. Use pandas.concat instead.\n",
            "  list_profile_links =  list_profile_links.append(profile_links, ignore_index=True)\n"
          ]
        },
        {
          "output_type": "stream",
          "name": "stdout",
          "text": [
            "       Profile link       Name Player                             Team  \\\n",
            "0   /players/22557/         Eager Ben                    CSKA (Moscow)   \n",
            "1   /players/28632/        Ebert Nick      Avtomobilist (Ekaterinburg)   \n",
            "2   /players/14892/        Ekman Nils           SKA (Saint Petersburg)   \n",
            "3   /players/23825/    Ellerby Keaton                   Barys (Astana)   \n",
            "4   /players/25745/    Elliott Stefan                   Dinamo (Minsk)   \n",
            "5   /players/33857/      Ellis Morgan                    Dinamo (Riga)   \n",
            "6   /players/15217/      Ellison Matt         Metallurg (Magnitogorsk)   \n",
            "7   /players/16759/          Elo Eero       Sibir (Novosibirsk Region)   \n",
            "8   /players/26243/      Embrich Erik               Jokerit (Helsinki)   \n",
            "9    /players/9476/     Emelin Alexei  Spartak (Moscow) Dinamo (Minsk)   \n",
            "11  /players/21989/    Eminger Steven                    CSKA (Moscow)   \n",
            "12  /players/22148/     Emmerton Cory       Sibir (Novosibirsk Region)   \n",
            "13  /players/19205/  Engqvist Andreas             Salavat Yulaev (Ufa)   \n",
            "15  /players/16783/      Enlund Jonas        Neftekhimik (Nizhnekamsk)   \n",
            "17  /players/24589/       Erat Martin                  Avangard (Omsk)   \n",
            "18  /players/22266/   Ericsson Jimmie           SKA (Saint Petersburg)   \n",
            "20  /players/22140/      Eronen Teemu               Jokerit (Helsinki)   \n",
            "23  /players/27020/   Everberg Dennis        Neftekhimik (Nizhnekamsk)   \n",
            "\n",
            "            Position                   Born     Age          Country  \\\n",
            "0   Position forward   Born 22 January 1984  Age 39   Country Canada   \n",
            "1   Position defense       Born 11 May 1994  Age 29      Country USA   \n",
            "2   Position forward     Born 11 March 1976  Age 47   Country Sweden   \n",
            "3   Position defense   Born 5 November 1988  Age 34   Country Canada   \n",
            "4   Position defense   Born 30 January 1991  Age 32   Country Canada   \n",
            "5   Position defense     Born 30 April 1992  Age 31   Country Canada   \n",
            "6   Position forward   Born 8 December 1983  Age 39   Country Canada   \n",
            "7   Position forward     Born 26 April 1990  Age 33  Country Finland   \n",
            "8   Position forward  Born 23 February 1997  Age 26  Country Finland   \n",
            "9   Position defense     Born 25 April 1986  Age 37   Country Russia   \n",
            "11  Position defense   Born 31 October 1983  Age 39   Country Canada   \n",
            "12  Position forward       Born 1 June 1988  Age 34   Country Canada   \n",
            "13  Position forward  Born 23 December 1987  Age 35   Country Sweden   \n",
            "15  Position forward   Born 3 November 1987  Age 35  Country Finland   \n",
            "17  Position forward    Born 29 August 1981  Age 41  Country Czechia   \n",
            "18  Position forward  Born 22 February 1980  Age 43   Country Sweden   \n",
            "20  Position defense  Born 22 November 1990  Age 32  Country Finland   \n",
            "23  Position forward  Born 31 December 1991  Age 31   Country Sweden   \n",
            "\n",
            "               Contract to  \n",
            "0              Contract to  \n",
            "1   Contract to 30.04.2024  \n",
            "2              Contract to  \n",
            "3              Contract to  \n",
            "4              Contract to  \n",
            "5              Contract to  \n",
            "6              Contract to  \n",
            "7              Contract to  \n",
            "8              Contract to  \n",
            "9              Contract to  \n",
            "11             Contract to  \n",
            "12             Contract to  \n",
            "13             Contract to  \n",
            "15             Contract to  \n",
            "17             Contract to  \n",
            "18             Contract to  \n",
            "20             Contract to  \n",
            "23             Contract to  \n"
          ]
        },
        {
          "output_type": "stream",
          "name": "stderr",
          "text": [
            "<ipython-input-7-5e25f54b2bf4>:19: FutureWarning: The frame.append method is deprecated and will be removed from pandas in a future version. Use pandas.concat instead.\n",
            "  list_profile_links =  list_profile_links.append(profile_links, ignore_index=True)\n"
          ]
        },
        {
          "output_type": "stream",
          "name": "stdout",
          "text": [
            "       Profile link             Name Player  \\\n",
            "0   /players/17910/          Fabricius Karl   \n",
            "1    /players/4537/          Fadeyev Evgeny   \n",
            "2   /players/20356/             Fahey Brian   \n",
            "3   /players/22526/          Fairchild Cade   \n",
            "4   /players/16688/         Faizullin Danil   \n",
            "5   /players/15054/      Fakhrutdinov Denis   \n",
            "6   /players/14825/      Fakhrutdinov Marat   \n",
            "7   /players/20724/        Falkovsky Stepan   \n",
            "9   /players/20124/        Fantenberg Oscar   \n",
            "12  /players/22746/           Fateyev Yegor   \n",
            "13  /players/21101/         Fatkullin Timur   \n",
            "14  /players/35746/         Fattakhov Vadim   \n",
            "15  /players/14168/          Fazleyev Radel   \n",
            "16  /players/21133/       Fazylzyanov Kamil   \n",
            "17  /players/14596/              Fedin Ilya   \n",
            "18  /players/16304/  Fedoseyev Alexander S.   \n",
            "19  /players/14496/       Fedoseyev Mikhail   \n",
            "20  /players/20480/        Fedotenko Ruslan   \n",
            "21  /players/35921/            Fedotov Ilya   \n",
            "23  /players/35032/        Fedotov Maxim S.   \n",
            "24  /players/16447/            Fefelov Igor   \n",
            "25  /players/41195/               Fehr Eric   \n",
            "26  /players/16946/       Feoktistov Nikita   \n",
            "27  /players/16648/         Fernholm Daniel   \n",
            "28  /players/16427/      Fetisov Vyacheslav   \n",
            "29  /players/15309/            Fiala Ondrej   \n",
            "\n",
            "                                                 Team          Position  \\\n",
            "0                                        Lev (Poprad)  Position forward   \n",
            "1                                      Barys (Astana)  Position defense   \n",
            "2                              Vityaz (Moscow Region)  Position defense   \n",
            "3                                       Dinamo (Riga)  Position defense   \n",
            "4                               Admiral (Vladivostok)  Position forward   \n",
            "5                           Neftekhimik (Nizhnekamsk)  Position forward   \n",
            "6              Traktor (Chelyabinsk) Lada (Togliatti)  Position forward   \n",
            "7                              SKA (Saint Petersburg)  Position defense   \n",
            "9                              SKA (Saint Petersburg)  Position defense   \n",
            "12                              Traktor (Chelyabinsk)  Position forward   \n",
            "13                          Neftekhimik (Nizhnekamsk)  Position defense   \n",
            "14                                   Spartak (Moscow)  Position forward   \n",
            "15                          Neftekhimik (Nizhnekamsk)  Position forward   \n",
            "16                              Admiral (Vladivostok)  Position defense   \n",
            "17                                   HC Sochi (Sochi)  Position forward   \n",
            "18                            Severstal (Cherepovets)  Position forward   \n",
            "19                             HC MVD (Moscow Region)  Position defense   \n",
            "20                                  Donbass (Donetsk)  Position forward   \n",
            "21  Torpedo (Nizhny Novgorod) Neftekhimik (Nizhnek...  Position forward   \n",
            "23                          Torpedo (Nizhny Novgorod)  Position defense   \n",
            "24  Sibir (Novosibirsk Region) Ugra (Khanty-Mansiysk)  Position forward   \n",
            "25                                    Ak Bars (Kazan)  Position forward   \n",
            "26                                   HC Sochi (Sochi)  Position forward   \n",
            "27                             Atlant (Moscow Region)  Position defense   \n",
            "28                                      CSKA (Moscow)  Position defense   \n",
            "29                                   Spartak (Moscow)  Position forward   \n",
            "\n",
            "                      Born     Age             Country             Contract to  \n",
            "0   Born 29 September 1982  Age 40      Country Sweden             Contract to  \n",
            "1         Born 9 July 1982  Age 40  Country Kazakhstan             Contract to  \n",
            "2        Born 2 March 1981  Age 42         Country USA             Contract to  \n",
            "3     Born 15 January 1989  Age 34         Country USA             Contract to  \n",
            "4     Born 3 December 1993  Age 29      Country Russia  Contract to 30.04.2024  \n",
            "5       Born 21 March 1990  Age 33      Country Russia             Contract to  \n",
            "6    Born 27 November 1988  Age 34      Country Russia             Contract to  \n",
            "7    Born 18 December 1996  Age 26     Country Belarus  Contract to 30.04.2026  \n",
            "9      Born 7 October 1991  Age 31      Country Sweden             Contract to  \n",
            "12    Born 3 November 1997  Age 25      Country Russia  Contract to 30.04.2024  \n",
            "13   Born 10 February 1997  Age 26      Country Russia             Contract to  \n",
            "14    Born 20 October 2003  Age 19      Country Russia  Contract to 30.04.2025  \n",
            "15     Born 7 January 1996  Age 27      Country Russia             Contract to  \n",
            "16    Born 31 October 1997  Age 25      Country Russia             Contract to  \n",
            "17         Born 6 May 1989  Age 34      Country Russia             Contract to  \n",
            "18       Born 20 July 1991  Age 31      Country Russia             Contract to  \n",
            "19         Born 6 May 1986  Age 37      Country Russia             Contract to  \n",
            "20    Born 18 January 1979  Age 44     Country Ukraine             Contract to  \n",
            "21      Born 19 March 2003  Age 20      Country Russia  Contract to 30.04.2024  \n",
            "23    Born 22 January 2002  Age 21      Country Russia  Contract to 30.04.2024  \n",
            "24      Born 3 August 1993  Age 29      Country Russia             Contract to  \n",
            "25   Born 7 September 1985  Age 37      Country Canada             Contract to  \n",
            "26       Born 23 June 1990  Age 32     Country Belarus             Contract to  \n",
            "27   Born 20 December 1983  Age 39      Country Sweden             Contract to  \n",
            "28      Born 20 April 1958  Age 65      Country Russia             Contract to  \n",
            "29    Born 4 November 1987  Age 35     Country Czechia             Contract to  \n"
          ]
        },
        {
          "output_type": "stream",
          "name": "stderr",
          "text": [
            "<ipython-input-7-5e25f54b2bf4>:19: FutureWarning: The frame.append method is deprecated and will be removed from pandas in a future version. Use pandas.concat instead.\n",
            "  list_profile_links =  list_profile_links.append(profile_links, ignore_index=True)\n"
          ]
        },
        {
          "output_type": "stream",
          "name": "stdout",
          "text": [
            "       Profile link          Name Player  \\\n",
            "1   /players/36216/    Gaidamak Vsevolod   \n",
            "2   /players/23741/     Gaideik Vladimir   \n",
            "4   /players/21167/    Gainetdinov Yegor   \n",
            "5   /players/39216/  Gaitamirov Tamirlan   \n",
            "7    /players/7613/        Galanov Maxim   \n",
            "8   /players/25390/      Galenyuk Danila   \n",
            "9   /players/25809/       Galiardi Terry   \n",
            "10  /players/13718/    Galimov Alexander   \n",
            "11  /players/15781/        Galimov Ansel   \n",
            "12  /players/24897/       Galimov Artyom   \n",
            "13  /players/15997/         Galimov Emil   \n",
            "15  /players/32351/   Galimzyanov Ruslan   \n",
            "16  /players/16307/    Galiyev Stanislav   \n",
            "17   /players/4412/        Galkin Evgeny   \n",
            "18    /players/117/      Galkin Maxim G.   \n",
            "20  /players/21165/        Galoha Kirils   \n",
            "21   /players/6352/  Galushkin Andrei A.   \n",
            "22  /players/14815/     Galuzin Vladimir   \n",
            "23  /players/15278/       Galvins Guntis   \n",
            "24  /players/24868/        Galyuk Kirill   \n",
            "26  /players/40276/    Ganyushkin Daniil   \n",
            "27  /players/28624/         Garayev Amir   \n",
            "28  /players/26846/         Garbutt Ryan   \n",
            "29  /players/15977/       Gareyev Artyom   \n",
            "\n",
            "                                                 Team          Position  \\\n",
            "1                                       CSKA (Moscow)  Position forward   \n",
            "2                              Ugra (Khanty-Mansiysk)  Position forward   \n",
            "4                                      Dinamo (Minsk)  Position forward   \n",
            "5                                      Barys (Astana)  Position defense   \n",
            "7                            Metallurg (Novokuznetsk)  Position defense   \n",
            "8                                    HC Sochi (Sochi)  Position defense   \n",
            "9                                       Dinamo (Riga)  Position forward   \n",
            "10                              Lokomotiv (Yaroslavl)  Position forward   \n",
            "11                          Neftekhimik (Nizhnekamsk)  Position forward   \n",
            "12                                    Ak Bars (Kazan)  Position forward   \n",
            "13                             SKA (Saint Petersburg)  Position forward   \n",
            "15                                    Ak Bars (Kazan)  Position forward   \n",
            "16                                    Ak Bars (Kazan)  Position forward   \n",
            "17                              Traktor (Chelyabinsk)  Position forward   \n",
            "18                               Khimik (Voskresensk)  Position defense   \n",
            "20                                      Dinamo (Riga)  Position forward   \n",
            "21                               Khimik (Voskresensk)  Position forward   \n",
            "22                             Vityaz (Moscow Region)  Position forward   \n",
            "23                                      Dinamo (Riga)  Position defense   \n",
            "24                        Avtomobilist (Ekaterinburg)  Position defense   \n",
            "26                          Torpedo (Nizhny Novgorod)  Position defense   \n",
            "27                                   HC Sochi (Sochi)  Position forward   \n",
            "28  Torpedo (Nizhny Novgorod) Slovan (Bratislava) ...  Position forward   \n",
            "29                              Admiral (Vladivostok)  Position forward   \n",
            "\n",
            "                     Born     Age             Country             Contract to  \n",
            "1       Born 9 April 2003  Age 20      Country Russia  Contract to 30.04.2025  \n",
            "2   Born 27 February 1998  Age 25      Country Russia             Contract to  \n",
            "4       Born 25 July 1996  Age 26      Country Russia             Contract to  \n",
            "5     Born 23 August 2000  Age 22  Country Kazakhstan             Contract to  \n",
            "7      Born 13 March 1974  Age 49      Country Russia             Contract to  \n",
            "8   Born 11 February 2000  Age 23      Country Russia  Contract to 30.04.2024  \n",
            "9      Born 22 April 1988  Age 35         Country USA             Contract to  \n",
            "10        Born 2 May 1985     Age      Country Russia             Contract to  \n",
            "11     Born 15 April 1991  Age 32      Country Russia             Contract to  \n",
            "12  Born 8 September 1999  Age 23      Country Russia  Contract to 30.04.2024  \n",
            "13        Born 9 May 1992  Age 31      Country Russia  Contract to 30.04.2026  \n",
            "15     Born 1 August 2000  Age 22      Country Russia             Contract to  \n",
            "16   Born 17 January 1992  Age 31      Country Russia  Contract to 30.04.2024  \n",
            "17  Born 27 November 1975  Age 47      Country Russia             Contract to  \n",
            "18       Born 14 May 1983  Age 40      Country Russia             Contract to  \n",
            "20     Born 14 April 1996  Age 27      Country Latvia             Contract to  \n",
            "21        Born 8 May 1976  Age 47      Country Russia             Contract to  \n",
            "22     Born 6 August 1988  Age 34      Country Russia  Contract to 30.04.2024  \n",
            "23   Born 25 January 1986  Age 37      Country Latvia             Contract to  \n",
            "24   Born 31 January 1999  Age 24      Country Russia             Contract to  \n",
            "26       Born 11 May 2003  Age 20      Country Russia             Contract to  \n",
            "27    Born 9 January 2001  Age 22      Country Russia  Contract to 30.04.2024  \n",
            "28    Born 12 August 1985  Age 37      Country Canada             Contract to  \n",
            "29      Born 4 March 1992  Age 31      Country Russia             Contract to  \n"
          ]
        },
        {
          "output_type": "stream",
          "name": "stderr",
          "text": [
            "<ipython-input-7-5e25f54b2bf4>:19: FutureWarning: The frame.append method is deprecated and will be removed from pandas in a future version. Use pandas.concat instead.\n",
            "  list_profile_links =  list_profile_links.append(profile_links, ignore_index=True)\n"
          ]
        },
        {
          "output_type": "stream",
          "name": "stdout",
          "text": [
            "       Profile link           Name Player                      Team  \\\n",
            "0   /players/34721/        Haapala Henrik        Jokerit (Helsinki)   \n",
            "1   /players/20739/    Haataja Juha-Pekka    Atlant (Moscow Region)   \n",
            "2   /players/19382/         Hagman Niklas        Jokerit (Helsinki)   \n",
            "3   /players/22353/             Hahl Riku        Jokerit (Helsinki)   \n",
            "4   /players/20727/          Halama Marko       Slovan (Bratislava)   \n",
            "5   /players/30968/          Halme Aleksi        Jokerit (Helsinki)   \n",
            "6   /players/22052/           Hamill Zach            Barys (Astana)   \n",
            "7   /players/42322/       Hamilton Robert     Traktor (Chelyabinsk)   \n",
            "10  /players/30626/     Handemark Fredrik    SKA (Saint Petersburg)   \n",
            "11  /players/39909/    Hannikainen Markus        Jokerit (Helsinki)   \n",
            "12  /players/38373/      Hanninen Mathias        Jokerit (Helsinki)   \n",
            "13  /players/14818/          Hannula Mika  Metallurg (Magnitogorsk)   \n",
            "14  /players/32363/         Hansen Jannik             CSKA (Moscow)   \n",
            "15  /players/27168/           Hanzl Robin          Spartak (Moscow)   \n",
            "16  /players/16115/           Harju Johan        Jokerit (Helsinki)   \n",
            "17  /players/30147/          Harper Shane          Lada (Togliatti)   \n",
            "18  /players/15316/         Hartigan Mark             Dinamo (Riga)   \n",
            "19  /players/20937/     Hartikainen Teemu      Salavat Yulaev (Ufa)   \n",
            "20  /players/15254/        Hartmanis Toms             Dinamo (Riga)   \n",
            "21  /players/21022/         Hascak Marcel         Amur (Khabarovsk)   \n",
            "24  /players/22361/         Haydar Darren        Medvescak (Zagreb)   \n",
            "25  /players/39843/  Heatherington Dillon            Barys (Astana)   \n",
            "26  /players/27820/            Hecl Marek       Slovan (Bratislava)   \n",
            "27  /players/22364/         Hedberg Edwin        Medvescak (Zagreb)   \n",
            "28  /players/22360/           Hedden Mike        Medvescak (Zagreb)   \n",
            "29  /players/25509/          Hedera Tomas       Slovan (Bratislava)   \n",
            "\n",
            "            Position                    Born     Age           Country  \\\n",
            "0   Position forward   Born 28 February 1994  Age 29   Country Finland   \n",
            "1   Position forward    Born 31 October 1982  Age 40   Country Finland   \n",
            "2   Position forward    Born 5 December 1979  Age 43   Country Finland   \n",
            "3   Position forward    Born 1 November 1980  Age 42   Country Finland   \n",
            "4   Position forward     Born 2 January 1996  Age 27  Country Slovakia   \n",
            "5   Position forward   Born 13 November 1999  Age 23   Country Finland   \n",
            "6   Position forward  Born 23 September 1988  Age 34    Country Canada   \n",
            "7   Position defense      Born 31 March 1994  Age 29    Country Canada   \n",
            "10  Position forward     Born 27 August 1993  Age 29    Country Sweden   \n",
            "11  Position forward      Born 26 March 1993  Age 30   Country Finland   \n",
            "12  Position forward   Born 15 February 2001  Age 22   Country Finland   \n",
            "13  Position forward       Born 2 April 1979  Age 44    Country Sweden   \n",
            "14  Position forward      Born 15 March 1986  Age 37   Country Denmark   \n",
            "15  Position forward    Born 10 January 1989  Age 34   Country Czechia   \n",
            "16  Position forward        Born 15 May 1986  Age 37    Country Sweden   \n",
            "17  Position forward    Born 1 February 1989  Age 34       Country USA   \n",
            "18  Position forward    Born 15 October 1977  Age 45    Country Canada   \n",
            "19  Position forward         Born 3 May 1990  Age 33   Country Finland   \n",
            "20  Position forward   Born 12 December 1987  Age 35    Country Latvia   \n",
            "21  Position forward    Born 3 February 1987  Age 36  Country Slovakia   \n",
            "24  Position forward    Born 22 October 1979  Age 43    Country Canada   \n",
            "25  Position defense         Born 9 May 1995  Age 28    Country Canada   \n",
            "26  Position forward   Born 30 December 1997  Age 25  Country Slovakia   \n",
            "27  Position forward    Born 29 January 1994  Age 29    Country Sweden   \n",
            "28  Position forward   Born 27 December 1984  Age 38    Country Canada   \n",
            "29  Position defense    Born 7 November 1998  Age 24  Country Slovakia   \n",
            "\n",
            "               Contract to  \n",
            "0              Contract to  \n",
            "1              Contract to  \n",
            "2              Contract to  \n",
            "3              Contract to  \n",
            "4              Contract to  \n",
            "5              Contract to  \n",
            "6              Contract to  \n",
            "7   Contract to 30.04.2024  \n",
            "10             Contract to  \n",
            "11             Contract to  \n",
            "12             Contract to  \n",
            "13             Contract to  \n",
            "14             Contract to  \n",
            "15             Contract to  \n",
            "16             Contract to  \n",
            "17             Contract to  \n",
            "18             Contract to  \n",
            "19             Contract to  \n",
            "20             Contract to  \n",
            "21             Contract to  \n",
            "24             Contract to  \n",
            "25             Contract to  \n",
            "26             Contract to  \n",
            "27             Contract to  \n",
            "28             Contract to  \n",
            "29             Contract to  \n"
          ]
        },
        {
          "output_type": "stream",
          "name": "stderr",
          "text": [
            "<ipython-input-7-5e25f54b2bf4>:19: FutureWarning: The frame.append method is deprecated and will be removed from pandas in a future version. Use pandas.concat instead.\n",
            "  list_profile_links =  list_profile_links.append(profile_links, ignore_index=True)\n"
          ]
        },
        {
          "output_type": "stream",
          "name": "stdout",
          "text": [
            "       Profile link         Name Player  \\\n",
            "0   /players/17604/    Ibatullin Ruslan   \n",
            "1   /players/22135/    Ibragimov Marsel   \n",
            "2   /players/14260/     Ibragimov Rinat   \n",
            "3   /players/39473/    Ibragimov Semyon   \n",
            "4   /players/18983/  Ibraibekov Madiyar   \n",
            "5   /players/16154/       Iggulden Mike   \n",
            "6   /players/14938/      Ignashin Denis   \n",
            "7   /players/41397/     Ignatenko Yegor   \n",
            "9    /players/4343/     Ignatov Nikolai   \n",
            "10  /players/15619/    Ignatovich Maxim   \n",
            "11    /players/120/    Ignatushkin Igor   \n",
            "12  /players/22300/   Igoshev Alexander   \n",
            "13  /players/19535/        Igumnov Ivan   \n",
            "14  /players/20990/  Ikamatskikh Artyom   \n",
            "15  /players/19051/        Ikonen Henri   \n",
            "16  /players/20949/      Ilyenko Artyom   \n",
            "17  /players/17708/        Ilyin Daniil   \n",
            "18  /players/40905/       Ilyin Mikhail   \n",
            "19  /players/17732/     Ilyin Sergei S.   \n",
            "20  /players/16240/      Immonen Jarkko   \n",
            "21  /players/14733/       Indrasis Miks   \n",
            "22  /players/17686/      Ionin Vladimir   \n",
            "23  /players/19278/   Ipatov Vyacheslav   \n",
            "24  /players/14911/         Irgl Zbynek   \n",
            "26  /players/15978/     Isangulov Ildar   \n",
            "28  /players/19407/         Isayev Igor   \n",
            "29  /players/15320/     Isayev Maxim S.   \n",
            "\n",
            "                                            Team          Position  \\\n",
            "0                          Admiral (Vladivostok)  Position defense   \n",
            "1                                  CSKA (Moscow)  Position defense   \n",
            "2                      Kunlun Red Star (Beijing)  Position defense   \n",
            "3                               HC Sochi (Sochi)  Position defense   \n",
            "4                                 Barys (Astana)  Position defense   \n",
            "5                             Medvescak (Zagreb)  Position forward   \n",
            "6                               Spartak (Moscow)  Position forward   \n",
            "7                                 Dinamo (Minsk)  Position forward   \n",
            "9                           Khimik (Voskresensk)  Position defense   \n",
            "10                             Amur (Khabarovsk)  Position defense   \n",
            "11                            HC Dynamo (Moscow)  Position forward   \n",
            "12                             Amur (Khabarovsk)  Position defense   \n",
            "13                               Dynamo (Moscow)  Position forward   \n",
            "14                      Metallurg (Magnitogorsk)  Position defense   \n",
            "15                            Jokerit (Helsinki)  Position forward   \n",
            "16                         Lokomotiv (Yaroslavl)  Position forward   \n",
            "17                        Vityaz (Moscow Region)  Position forward   \n",
            "18                       Severstal (Cherepovets)  Position forward   \n",
            "19                         Admiral (Vladivostok)  Position defense   \n",
            "20                     Torpedo (Nizhny Novgorod)  Position forward   \n",
            "21  Vityaz (Moscow Region) Admiral (Vladivostok)  Position forward   \n",
            "22                      Metallurg (Novokuznetsk)  Position forward   \n",
            "23                              Spartak (Moscow)  Position forward   \n",
            "24                                Dinamo (Minsk)  Position forward   \n",
            "26                          Salavat Yulaev (Ufa)  Position defense   \n",
            "28                         Traktor (Chelyabinsk)  Position defense   \n",
            "29                               Dynamo (Moscow)  Position defense   \n",
            "\n",
            "                      Born     Age             Country             Contract to  \n",
            "0        Born 30 June 1994  Age 28      Country Russia  Contract to 30.04.2024  \n",
            "1       Born 4 August 1997  Age 25      Country Russia             Contract to  \n",
            "2        Born 7 March 1986  Age 37      Country Russia             Contract to  \n",
            "3    Born 27 February 2003  Age 20      Country Russia  Contract to 30.04.2025  \n",
            "4    Born 4 September 1995  Age 27  Country Kazakhstan             Contract to  \n",
            "5     Born 9 November 1982  Age 40      Country Canada             Contract to  \n",
            "6       Born 31 March 1988  Age 35      Country Russia             Contract to  \n",
            "7       Born 17 April 2003  Age 20     Country Belarus             Contract to  \n",
            "9       Born 22 April 1978  Age 45      Country Russia             Contract to  \n",
            "10       Born 7 April 1991  Age 32      Country Russia             Contract to  \n",
            "11       Born 7 April 1984  Age 39      Country Russia             Contract to  \n",
            "12  Born 12 September 1997  Age 25      Country Russia             Contract to  \n",
            "13       Born 29 June 1996  Age 26      Country Russia             Contract to  \n",
            "14         Born 8 May 1997  Age 26      Country Russia             Contract to  \n",
            "15      Born 17 April 1994  Age 29     Country Finland             Contract to  \n",
            "16      Born 30 April 1996  Age 27      Country Russia             Contract to  \n",
            "17       Born 17 June 1995  Age 27      Country Russia             Contract to  \n",
            "18   Born 15 February 2005  Age 18      Country Russia  Contract to 30.04.2025  \n",
            "19      Born 29 April 1994  Age 29      Country Russia             Contract to  \n",
            "20      Born 19 April 1982  Age 41     Country Finland             Contract to  \n",
            "21  Born 30 September 1990  Age 32      Country Latvia             Contract to  \n",
            "22   Born 22 February 1995  Age 28      Country Russia             Contract to  \n",
            "23  Born 11 September 1995  Age 27      Country Russia             Contract to  \n",
            "24   Born 29 November 1980  Age 42     Country Czechia             Contract to  \n",
            "26        Born 20 May 1992  Age 31      Country Russia             Contract to  \n",
            "28      Born 8 August 1995  Age 27      Country Russia             Contract to  \n",
            "29      Born 21 March 1989  Age 34      Country Russia             Contract to  \n"
          ]
        },
        {
          "output_type": "stream",
          "name": "stderr",
          "text": [
            "<ipython-input-7-5e25f54b2bf4>:19: FutureWarning: The frame.append method is deprecated and will be removed from pandas in a future version. Use pandas.concat instead.\n",
            "  list_profile_links =  list_profile_links.append(profile_links, ignore_index=True)\n"
          ]
        },
        {
          "output_type": "stream",
          "name": "stdout",
          "text": [
            "       Profile link            Name Player                           Team  \\\n",
            "0   /players/19264/           Jaakola Topi             Jokerit (Helsinki)   \n",
            "1   /players/13851/           Jagr Jaromir                Avangard (Omsk)   \n",
            "2   /players/20077/             Jaks Janis               HC Sochi (Sochi)   \n",
            "3   /players/17360/       Jalasvaara Janne      Kunlun Red Star (Beijing)   \n",
            "4   /players/20175/        Jalvanti Joonas             Jokerit (Helsinki)   \n",
            "5   /players/20162/         Jamtin Andreas             Medvescak (Zagreb)   \n",
            "6   /players/16686/           Jank Bohumil                   Lev (Poprad)   \n",
            "7   /players/23657/          Jankovic Ivan             Medvescak (Zagreb)   \n",
            "8   /players/16729/           Janosik Adam            Slovan (Bratislava)   \n",
            "9   /players/24167/        Jansons Eduards                  Dinamo (Riga)   \n",
            "11  /players/20791/        Jaros Christian  CSKA (Moscow) Avangard (Omsk)   \n",
            "12  /players/22365/        Jarvinen Joonas             Jokerit (Helsinki)   \n",
            "14  /players/16657/         Jaskin Dmitrij         SKA (Saint Petersburg)   \n",
            "15  /players/14526/             Jass Maris                  Dinamo (Riga)   \n",
            "16  /players/17493/            Jaw Brayden      Kunlun Red Star (Beijing)   \n",
            "17  /players/22144/            Jeglic Ziga            Slovan (Bratislava)   \n",
            "18  /players/16048/       Jekimovs Roberts         Atlant (Moscow Region)   \n",
            "19  /players/18405/    Jelisejevs Nikolajs          Admiral (Vladivostok)   \n",
            "20  /players/23611/       Jensen Jesper B.             Jokerit (Helsinki)   \n",
            "21  /players/19025/          Jensen Niklas             Jokerit (Helsinki)   \n",
            "22  /players/17628/          Jerabek Jakub               Spartak (Moscow)   \n",
            "23  /players/15612/  Jerofejevs Aleksandrs                  Dinamo (Riga)   \n",
            "24  /players/20933/          Jessiman Hugh             Medvescak (Zagreb)   \n",
            "25  /players/17826/       Jevpalovs Nikita                  Dinamo (Riga)   \n",
            "26  /players/18014/             Jezek Ales                   Lev (Poprad)   \n",
            "27  /players/15298/           Jillson Jeff         HC MVD (Moscow Region)   \n",
            "28  /players/33080/              Joe Colin      Kunlun Red Star (Beijing)   \n",
            "29  /players/23603/          Joensuu Jesse             Jokerit (Helsinki)   \n",
            "\n",
            "            Position                   Born     Age           Country  \\\n",
            "0   Position defense  Born 15 November 1983  Age 39   Country Finland   \n",
            "1   Position forward  Born 15 February 1972  Age 51   Country Czechia   \n",
            "2   Position defense    Born 22 August 1995  Age 27    Country Latvia   \n",
            "3   Position defense     Born 15 April 1984  Age 39   Country Finland   \n",
            "4   Position defense  Born 9 September 1988  Age 34   Country Finland   \n",
            "5   Position forward        Born 4 May 1983  Age 40    Country Sweden   \n",
            "6   Position defense       Born 6 July 1992  Age 30   Country Czechia   \n",
            "7   Position forward   Born 24 January 1995  Age 28   Country Croatia   \n",
            "8   Position defense  Born 7 September 1992  Age 30  Country Slovakia   \n",
            "9   Position defense  Born 7 September 1997  Age 25    Country Latvia   \n",
            "11  Position defense      Born 2 April 1996  Age 27  Country Slovakia   \n",
            "12  Position defense    Born 5 January 1989  Age 34   Country Finland   \n",
            "14  Position forward     Born 23 March 1993  Age 30    Country Russia   \n",
            "15  Position defense   Born 18 January 1985  Age 38    Country Latvia   \n",
            "16  Position forward     Born 24 April 1992  Age 31     Country China   \n",
            "17  Position forward  Born 24 February 1988  Age 35  Country Slovenia   \n",
            "18  Position forward  Born 11 November 1989  Age 33    Country Latvia   \n",
            "19  Position forward       Born 7 July 1994  Age 28    Country Latvia   \n",
            "20  Position defense      Born 30 July 1991  Age 31   Country Denmark   \n",
            "21  Position forward      Born 6 March 1993  Age 30   Country Denmark   \n",
            "22  Position defense       Born 12 May 1991  Age 32   Country Czechia   \n",
            "23  Position defense     Born 12 April 1984  Age 39    Country Latvia   \n",
            "24  Position forward     Born 28 March 1984  Age 39       Country USA   \n",
            "25  Position forward  Born 9 September 1994  Age 28    Country Latvia   \n",
            "26  Position forward      Born 25 June 1990  Age 32   Country Czechia   \n",
            "27  Position defense      Born 24 July 1980  Age 42       Country USA   \n",
            "28  Position defense     Born 26 March 1988  Age 35     Country China   \n",
            "29  Position forward    Born 5 October 1987  Age 35   Country Finland   \n",
            "\n",
            "    Contract to  \n",
            "0   Contract to  \n",
            "1   Contract to  \n",
            "2   Contract to  \n",
            "3   Contract to  \n",
            "4   Contract to  \n",
            "5   Contract to  \n",
            "6   Contract to  \n",
            "7   Contract to  \n",
            "8   Contract to  \n",
            "9   Contract to  \n",
            "11  Contract to  \n",
            "12  Contract to  \n",
            "14  Contract to  \n",
            "15  Contract to  \n",
            "16  Contract to  \n",
            "17  Contract to  \n",
            "18  Contract to  \n",
            "19  Contract to  \n",
            "20  Contract to  \n",
            "21  Contract to  \n",
            "22  Contract to  \n",
            "23  Contract to  \n",
            "24  Contract to  \n",
            "25  Contract to  \n",
            "26  Contract to  \n",
            "27  Contract to  \n",
            "28  Contract to  \n",
            "29  Contract to  \n"
          ]
        },
        {
          "output_type": "stream",
          "name": "stderr",
          "text": [
            "<ipython-input-7-5e25f54b2bf4>:19: FutureWarning: The frame.append method is deprecated and will be removed from pandas in a future version. Use pandas.concat instead.\n",
            "  list_profile_links =  list_profile_links.append(profile_links, ignore_index=True)\n"
          ]
        },
        {
          "output_type": "stream",
          "name": "stdout",
          "text": [
            "       Profile link            Name Player                         Team  \\\n",
            "0   /players/15516/      Kabanov Kirill S.    Neftekhimik (Nizhnekamsk)   \n",
            "1   /players/14613/          Kablukov Ilya              Dynamo (Moscow)   \n",
            "2   /players/16696/     Kadeikin Alexander         Salavat Yulaev (Ufa)   \n",
            "3   /players/39092/         Kadyrov Mansur    Neftekhimik (Nizhnekamsk)   \n",
            "4    /players/4095/        Kagaikin Sergei      Severstal (Cherepovets)   \n",
            "5   /players/14840/     Kagarlitsky Dmitry              Ak Bars (Kazan)   \n",
            "6    /players/6357/      Kaigorodov Alexei     Metallurg (Magnitogorsk)   \n",
            "7   /players/17560/         Kairov Daniyar               Barys (Astana)   \n",
            "8   /players/39276/  Kaiyrzhan Dinmukhamed               Barys (Astana)   \n",
            "9   /players/23835/     Kalabushkin Evgeny       SKA (Saint Petersburg)   \n",
            "10   /players/7016/        Kalachik Viktor  Avtomobilist (Ekaterinburg)   \n",
            "11  /players/27436/    Kalashnikov Mikhail      Severstal (Cherepovets)   \n",
            "12  /players/15637/  Kalashnikov Stanislav      Severstal (Cherepovets)   \n",
            "13  /players/18426/     Kaletnik Vladislav            Amur (Khabarovsk)   \n",
            "14  /players/14474/        Kalimulin Marat        Lokomotiv (Yaroslavl)   \n",
            "15  /players/26690/     Kalinichenko Roman                CSKA (Moscow)   \n",
            "16  /players/23689/   Kalinin Alexander O.        Lokomotiv (Yaroslavl)   \n",
            "17  /players/13446/         Kalinin Dmitry        Traktor (Chelyabinsk)   \n",
            "18  /players/16019/         Kalinin Sergei        Traktor (Chelyabinsk)   \n",
            "19  /players/24047/         Kalkis Roberts                Dinamo (Riga)   \n",
            "21  /players/20041/            Kalns Egils                Dinamo (Riga)   \n",
            "22  /players/21104/       Kalugin Vladimir      Severstal (Cherepovets)   \n",
            "23  /players/15511/             Kalus Petr       HC MVD (Moscow Region)   \n",
            "24   /players/7218/     Kalyanin Alexander        Lokomotiv (Yaroslavl)   \n",
            "25   /players/4199/       Kalyuzhny Alexei               Dinamo (Minsk)   \n",
            "26   /players/4345/    Kamaletdinov Rustem         Khimik (Voskresensk)   \n",
            "27  /players/20462/         Kamalov Nikita       SKA (Saint Petersburg)   \n",
            "28  /players/16875/          Kamayev Denis                CSKA (Moscow)   \n",
            "29   /players/3712/           Kamayev Igor            Amur (Khabarovsk)   \n",
            "\n",
            "            Position                    Born     Age             Country  \\\n",
            "0   Position forward       Born 16 July 1992  Age 30      Country Russia   \n",
            "1   Position forward    Born 18 January 1988  Age 35      Country Russia   \n",
            "2   Position forward     Born 4 October 1993  Age 29      Country Russia   \n",
            "3   Position forward    Born 1 February 2002  Age 21      Country Russia   \n",
            "4   Position defense   Born 10 November 1980  Age 42      Country Russia   \n",
            "5   Position forward      Born 1 August 1989  Age 33      Country Russia   \n",
            "6   Position forward       Born 29 July 1983  Age 39      Country Russia   \n",
            "7   Position defense       Born 5 April 1994  Age 29  Country Kazakhstan   \n",
            "8   Position forward       Born 27 June 2003  Age 19  Country Kazakhstan   \n",
            "9   Position defense   Born 25 November 1999  Age 23      Country Russia   \n",
            "10  Position forward   Born 28 February 1981  Age 42      Country Russia   \n",
            "11  Position forward    Born 13 October 2000  Age 22      Country Russia   \n",
            "12  Position defense    Born 26 October 1991  Age 31      Country Russia   \n",
            "13  Position forward      Born 24 March 1995  Age 28      Country Russia   \n",
            "14  Position defense     Born 12 August 1988     Age      Country Russia   \n",
            "15  Position defense        Born 6 July 2000  Age 22      Country Russia   \n",
            "16  Position defense    Born 8 February 1998  Age 25      Country Russia   \n",
            "17  Position defense       Born 22 July 1980  Age 42      Country Russia   \n",
            "18  Position forward      Born 17 March 1991  Age 32      Country Russia   \n",
            "19  Position defense   Born 22 December 1998  Age 24      Country Latvia   \n",
            "21  Position forward      Born 21 April 1991  Age 32      Country Latvia   \n",
            "22  Position defense    Born 12 January 1997  Age 26      Country Russia   \n",
            "23  Position forward       Born 29 June 1987  Age 35     Country Czechia   \n",
            "24  Position forward  Born 24 September 1987     Age      Country Russia   \n",
            "25  Position forward       Born 13 June 1977  Age 45     Country Belarus   \n",
            "26  Position defense       Born 30 June 1972  Age 50      Country Russia   \n",
            "27  Position defense      Born 8 August 1995  Age 27      Country Russia   \n",
            "28  Position forward       Born 6 March 1994  Age 29      Country Russia   \n",
            "29  Position forward   Born 24 February 1979  Age 44      Country Russia   \n",
            "\n",
            "               Contract to  \n",
            "0              Contract to  \n",
            "1              Contract to  \n",
            "2   Contract to 30.04.2025  \n",
            "3              Contract to  \n",
            "4              Contract to  \n",
            "5   Contract to 30.04.2024  \n",
            "6              Contract to  \n",
            "7              Contract to  \n",
            "8              Contract to  \n",
            "9              Contract to  \n",
            "10             Contract to  \n",
            "11             Contract to  \n",
            "12             Contract to  \n",
            "13             Contract to  \n",
            "14             Contract to  \n",
            "15             Contract to  \n",
            "16             Contract to  \n",
            "17             Contract to  \n",
            "18  Contract to 30.04.2024  \n",
            "19             Contract to  \n",
            "21             Contract to  \n",
            "22             Contract to  \n",
            "23             Contract to  \n",
            "24             Contract to  \n",
            "25             Contract to  \n",
            "26             Contract to  \n",
            "27  Contract to 30.04.2026  \n",
            "28             Contract to  \n",
            "29             Contract to  \n"
          ]
        },
        {
          "output_type": "stream",
          "name": "stderr",
          "text": [
            "<ipython-input-7-5e25f54b2bf4>:19: FutureWarning: The frame.append method is deprecated and will be removed from pandas in a future version. Use pandas.concat instead.\n",
            "  list_profile_links =  list_profile_links.append(profile_links, ignore_index=True)\n"
          ]
        },
        {
          "output_type": "stream",
          "name": "stdout",
          "text": [
            "       Profile link       Name Player                        Team  \\\n",
            "0   /players/19128/      Laakso Teemu     Severstal (Cherepovets)   \n",
            "1   /players/40293/      Laakso Tommi          Jokerit (Helsinki)   \n",
            "3   /players/15590/  LaCouture Daniel              Barys (Astana)   \n",
            "4   /players/32570/  Lahnaviik Rasmus          Jokerit (Helsinki)   \n",
            "5   /players/19082/       Lahti Janne           Amur (Khabarovsk)   \n",
            "6   /players/20109/       Lahti Miika   Kunlun Red Star (Beijing)   \n",
            "7   /players/17539/       Laine Teemu           Donbass (Donetsk)   \n",
            "8   /players/18774/     Lajunen Ville      Vityaz (Moscow Region)   \n",
            "9   /players/14410/     Lakiza Artemy              Barys (Astana)   \n",
            "10  /players/15310/       Lakos Andre       Traktor (Chelyabinsk)   \n",
            "12  /players/34676/     Lalonde Shawn              Dinamo (Minsk)   \n",
            "13  /players/20811/     Lammikko Juho    Metallurg (Magnitogorsk)   \n",
            "15  /players/30258/     Lamper Patrik         Slovan (Bratislava)   \n",
            "16  /players/15244/     Lampman Bryce           Amur (Khabarovsk)   \n",
            "17  /players/16747/      Lander Anton       Lokomotiv (Yaroslavl)   \n",
            "18  /players/14873/       Landry Eric      Atlant (Moscow Region)   \n",
            "20   /players/4351/   Lapenkov Evgeny     Severstal (Cherepovets)   \n",
            "21  /players/32006/      Lapin Alexei     Severstal (Cherepovets)   \n",
            "22   /players/3934/      Lapin Evgeny  Sibir (Novosibirsk Region)   \n",
            "23  /players/21180/      Lapin Sergei           Amur (Khabarovsk)   \n",
            "24  /players/25176/      Lapshin Ivan       Admiral (Vladivostok)   \n",
            "25  /players/21258/     Larichev Ivan      Vityaz (Moscow Region)   \n",
            "26  /players/15896/     Larin Ivan V.      Vityaz (Moscow Region)   \n",
            "27  /players/35170/     Larionov Igor   Torpedo (Nizhny Novgorod)   \n",
            "28  /players/34889/  Larionovs Danila               Dinamo (Riga)   \n",
            "29  /players/24303/     Larkin Thomas          Medvescak (Zagreb)   \n",
            "\n",
            "            Position                   Born     Age             Country  \\\n",
            "0   Position defense    Born 27 August 1987  Age 35     Country Finland   \n",
            "1   Position forward       Born 20 May 1997  Age 26     Country Finland   \n",
            "3   Position forward     Born 18 April 1977  Age 46         Country USA   \n",
            "4   Position forward    Born 17 August 2001  Age 21     Country Finland   \n",
            "5   Position forward      Born 20 July 1982  Age 40     Country Finland   \n",
            "6   Position forward   Born 6 February 1987  Age 36     Country Finland   \n",
            "7   Position forward     Born 9 August 1982  Age 40     Country Finland   \n",
            "8   Position defense      Born 8 March 1988  Age 35     Country Finland   \n",
            "9   Position defense       Born 2 July 1987  Age 35  Country Kazakhstan   \n",
            "10  Position defense      Born 29 July 1979  Age 43     Country Austria   \n",
            "12  Position defense     Born 10 March 1990  Age 33      Country Canada   \n",
            "13  Position forward   Born 29 January 1996  Age 27     Country Finland   \n",
            "15  Position forward     Born 10 March 1993  Age 30    Country Slovakia   \n",
            "16  Position defense    Born 31 August 1982  Age 40         Country USA   \n",
            "17  Position forward     Born 24 April 1991  Age 32      Country Sweden   \n",
            "18  Position forward   Born 20 January 1975  Age 48      Country Canada   \n",
            "20  Position forward     Born 1 August 1984  Age 38      Country Russia   \n",
            "21  Position forward     Born 3 August 2001  Age 21      Country Russia   \n",
            "22  Position forward        Born 8 May 1980  Age 43      Country Russia   \n",
            "23  Position forward     Born 20 April 1996  Age 27      Country Russia   \n",
            "24  Position forward      Born 17 July 1999  Age 23      Country Russia   \n",
            "25  Position forward  Born 29 November 1995  Age 27      Country Russia   \n",
            "26  Position forward   Born 28 January 1991  Age 32      Country Russia   \n",
            "27  Position forward    Born 24 August 1998  Age 24      Country Russia   \n",
            "28  Position forward  Born 18 December 2000  Age 22      Country Latvia   \n",
            "29  Position defense  Born 31 December 1990  Age 32       Country Italy   \n",
            "\n",
            "               Contract to  \n",
            "0              Contract to  \n",
            "1              Contract to  \n",
            "3              Contract to  \n",
            "4              Contract to  \n",
            "5              Contract to  \n",
            "6              Contract to  \n",
            "7              Contract to  \n",
            "8              Contract to  \n",
            "9              Contract to  \n",
            "10             Contract to  \n",
            "12             Contract to  \n",
            "13             Contract to  \n",
            "15             Contract to  \n",
            "16             Contract to  \n",
            "17             Contract to  \n",
            "18             Contract to  \n",
            "20             Contract to  \n",
            "21             Contract to  \n",
            "22             Contract to  \n",
            "23  Contract to 30.04.2024  \n",
            "24             Contract to  \n",
            "25             Contract to  \n",
            "26             Contract to  \n",
            "27  Contract to 30.04.2024  \n",
            "28             Contract to  \n",
            "29             Contract to  \n"
          ]
        },
        {
          "output_type": "stream",
          "name": "stderr",
          "text": [
            "<ipython-input-7-5e25f54b2bf4>:19: FutureWarning: The frame.append method is deprecated and will be removed from pandas in a future version. Use pandas.concat instead.\n",
            "  list_profile_links =  list_profile_links.append(profile_links, ignore_index=True)\n"
          ]
        },
        {
          "output_type": "stream",
          "name": "stdout",
          "text": [
            "       Profile link            Name Player  \\\n",
            "0   /players/34943/           Macek Brooks   \n",
            "2   /players/33926/        Machulin Vasily   \n",
            "4   /players/24987/        Maenalanen Saku   \n",
            "5   /players/17544/          Maenpaa Mikko   \n",
            "7   /players/35225/          Magee Brandon   \n",
            "8    /players/4588/           Magogin Igor   \n",
            "9   /players/22670/          Mahbod Samson   \n",
            "10  /players/40317/       Maillet Philippe   \n",
            "11  /players/25314/          Maione Mathew   \n",
            "12  /players/17558/        Makarenko Pavel   \n",
            "13  /players/15621/   Makarov Alexander S.   \n",
            "15   /players/4033/          Makarov Denis   \n",
            "16  /players/10900/         Makarov Dmitry   \n",
            "17  /players/13946/        Makarov Igor S.   \n",
            "18   /players/9862/  Makarov Konstantin L.   \n",
            "19  /players/35060/        Makarov Nikolai   \n",
            "20  /players/19368/         Makeyev Alexei   \n",
            "21  /players/22500/         Makeyev Dmitry   \n",
            "22  /players/22682/         Makeyev Nikita   \n",
            "23  /players/16457/      Makhanovsky Pavel   \n",
            "24  /players/34007/              Maki Eetu   \n",
            "25  /players/22355/              Maki Tomi   \n",
            "26  /players/22826/           Makinen Atte   \n",
            "27  /players/22827/           Makinen Miro   \n",
            "29  /players/16166/         Makkonen Jussi   \n",
            "\n",
            "                                                 Team          Position  \\\n",
            "0                         Avtomobilist (Ekaterinburg)  Position forward   \n",
            "2                                    HC Sochi (Sochi)  Position defense   \n",
            "4                                  Jokerit (Helsinki)  Position forward   \n",
            "5                                         Lev (Praha)  Position defense   \n",
            "7                           Kunlun Red Star (Beijing)  Position forward   \n",
            "8                             Severstal (Cherepovets)  Position forward   \n",
            "9                                  Medvescak (Zagreb)  Position forward   \n",
            "10                           Metallurg (Magnitogorsk)  Position forward   \n",
            "11                                      Dinamo (Riga)  Position defense   \n",
            "12                              Admiral (Vladivostok)  Position forward   \n",
            "13  Sibir (Novosibirsk Region) Severstal (Cherepov...  Position defense   \n",
            "15                        Avtomobilist (Ekaterinburg)  Position defense   \n",
            "16                             Ugra (Khanty-Mansiysk)  Position forward   \n",
            "17                         Sibir (Novosibirsk Region)  Position forward   \n",
            "18                          Kunlun Red Star (Beijing)  Position forward   \n",
            "19                                      CSKA (Moscow)  Position defense   \n",
            "20                        Avtomobilist (Ekaterinburg)  Position forward   \n",
            "21                                     Barys (Astana)  Position forward   \n",
            "22                            Severstal (Cherepovets)  Position defense   \n",
            "23                                  Amur (Khabarovsk)  Position forward   \n",
            "24                                 Jokerit (Helsinki)  Position forward   \n",
            "25                                 Jokerit (Helsinki)  Position forward   \n",
            "26                                 Jokerit (Helsinki)  Position forward   \n",
            "27                                 Jokerit (Helsinki)  Position forward   \n",
            "29                                     Dinamo (Minsk)  Position forward   \n",
            "\n",
            "                      Born     Age             Country             Contract to  \n",
            "0         Born 15 May 1992  Age 31      Country Canada  Contract to 30.04.2024  \n",
            "2       Born 7 August 2002  Age 20      Country Russia             Contract to  \n",
            "4         Born 29 May 1994  Age 28     Country Finland             Contract to  \n",
            "5       Born 19 April 1983  Age 40     Country Finland             Contract to  \n",
            "7     Born 23 January 1994  Age 29       Country China             Contract to  \n",
            "8   Born 16 September 1981  Age 41      Country Russia             Contract to  \n",
            "9     Born 3 February 1989  Age 34      Country Canada             Contract to  \n",
            "10    Born 7 November 1992  Age 30      Country Canada             Contract to  \n",
            "11   Born 21 November 1990  Age 32      Country Canada             Contract to  \n",
            "12    Born 20 October 1994  Age 28      Country Russia             Contract to  \n",
            "13  Born 28 September 1989  Age 33      Country Russia             Contract to  \n",
            "15      Born 3 August 1983  Age 39      Country Russia             Contract to  \n",
            "16    Born 6 December 1983  Age 39      Country Russia             Contract to  \n",
            "17  Born 19 September 1987  Age 35      Country Russia             Contract to  \n",
            "18  Born 17 September 1985  Age 37      Country Russia             Contract to  \n",
            "19    Born 12 January 2003  Age 20      Country Russia  Contract to 30.04.2025  \n",
            "20   Born 25 November 1991  Age 31      Country Russia  Contract to 30.04.2024  \n",
            "21    Born 2 December 1997  Age 25  Country Kazakhstan             Contract to  \n",
            "22   Born 13 February 1998  Age 25      Country Russia  Contract to 30.04.2024  \n",
            "23   Born 2 September 1993  Age 29      Country Russia  Contract to 30.04.2024  \n",
            "24    Born 9 February 2000  Age 23     Country Finland             Contract to  \n",
            "25     Born 19 August 1983  Age 39     Country Finland             Contract to  \n",
            "26      Born 27 April 1996  Age 27     Country Finland             Contract to  \n",
            "27      Born 27 April 1996  Age 27     Country Finland             Contract to  \n",
            "29      Born 24 April 1985  Age 38     Country Finland             Contract to  \n"
          ]
        },
        {
          "output_type": "stream",
          "name": "stderr",
          "text": [
            "<ipython-input-7-5e25f54b2bf4>:19: FutureWarning: The frame.append method is deprecated and will be removed from pandas in a future version. Use pandas.concat instead.\n",
            "  list_profile_links =  list_profile_links.append(profile_links, ignore_index=True)\n"
          ]
        },
        {
          "output_type": "stream",
          "name": "stdout",
          "text": [
            "       Profile link          Name Player  \\\n",
            "2   /players/15357/        Nagy Ladislav   \n",
            "3   /players/18742/       Nakladal Jakub   \n",
            "5   /players/16595/    Namestnikov Yegor   \n",
            "6   /players/14550/    Nasybullin Daniel   \n",
            "7   /players/24695/      Nattinen Joonas   \n",
            "8   /players/33917/      Naumenko Artyom   \n",
            "9   /players/16400/    Naumenkov Mikhail   \n",
            "10  /players/20642/  Naumov Vladislav V.   \n",
            "14  /players/13721/     Naurov Alexander   \n",
            "15  /players/23650/     Nazarevich Anton   \n",
            "16  /players/16225/      Nazarevich Ilya   \n",
            "18  /players/20806/      Nazarkin Evgeny   \n",
            "19  /players/20841/      Nazarov Mikhail   \n",
            "21  /players/16140/         Nazarov Yury   \n",
            "23  /players/16647/      Nedorost Vaclav   \n",
            "24  /players/19277/     Nekolenko Arkhip   \n",
            "25  /players/16421/       Nekolenko Ilya   \n",
            "26  /players/17662/       Nekryach Anton   \n",
            "27  /players/16655/         Nemec Ondrej   \n",
            "28   /players/7268/     Nemirovsky David   \n",
            "29   /players/9860/  Nemolodyshev Sergei   \n",
            "\n",
            "                                                 Team          Position  \\\n",
            "2                                 Slovan (Bratislava)  Position forward   \n",
            "3                               Lokomotiv (Yaroslavl)  Position defense   \n",
            "5                                   Amur (Khabarovsk)  Position defense   \n",
            "6   Neftekhimik (Nizhnekamsk) Avtomobilist (Ekater...  Position forward   \n",
            "7                             Severstal (Cherepovets)  Position forward   \n",
            "8                               Lokomotiv (Yaroslavl)  Position defense   \n",
            "9                                Salavat Yulaev (Ufa)  Position defense   \n",
            "10        Sibir (Novosibirsk Region) HC Sochi (Sochi)  Position defense   \n",
            "14                                   Lada (Togliatti)  Position forward   \n",
            "15                         Sibir (Novosibirsk Region)  Position forward   \n",
            "16                                   HC Sochi (Sochi)  Position defense   \n",
            "18                                    Avangard (Omsk)  Position defense   \n",
            "19                          Neftekhimik (Nizhnekamsk)  Position forward   \n",
            "21                                  Amur (Khabarovsk)  Position forward   \n",
            "23                                Slovan (Bratislava)  Position forward   \n",
            "24                           Metallurg (Magnitogorsk)  Position forward   \n",
            "25                          Neftekhimik (Nizhnekamsk)  Position defense   \n",
            "26                                     Barys (Astana)  Position forward   \n",
            "27                            Severstal (Cherepovets)  Position defense   \n",
            "28                                      CSKA (Moscow)  Position forward   \n",
            "29                        Avtomobilist (Ekaterinburg)  Position forward   \n",
            "\n",
            "                     Born     Age             Country             Contract to  \n",
            "2        Born 1 June 1979  Age 43    Country Slovakia             Contract to  \n",
            "3   Born 30 December 1987  Age 35     Country Czechia             Contract to  \n",
            "5       Born 5 April 1992  Age 31      Country Russia             Contract to  \n",
            "6        Born 2 June 1986  Age 36      Country Russia             Contract to  \n",
            "7     Born 3 January 1991  Age 32     Country Finland             Contract to  \n",
            "8   Born 11 February 2002  Age 21      Country Russia  Contract to 30.04.2024  \n",
            "9   Born 19 February 1993  Age 30      Country Russia             Contract to  \n",
            "10  Born 26 November 1996  Age 26      Country Russia             Contract to  \n",
            "14      Born 4 March 1985  Age 38      Country Russia             Contract to  \n",
            "15      Born 30 July 1998  Age 24      Country Russia             Contract to  \n",
            "16       Born 26 May 1992  Age 31      Country Russia             Contract to  \n",
            "18   Born 21 October 1996  Age 26      Country Russia             Contract to  \n",
            "19    Born 27 August 1996  Age 26      Country Russia             Contract to  \n",
            "21  Born 13 November 1992  Age 30      Country Russia             Contract to  \n",
            "23     Born 16 March 1982  Age 41     Country Czechia             Contract to  \n",
            "24     Born 11 March 1996  Age 27      Country Russia  Contract to 30.04.2026  \n",
            "25      Born 31 July 1993  Age 29      Country Russia             Contract to  \n",
            "26      Born 7 April 1995  Age 28  Country Kazakhstan             Contract to  \n",
            "27     Born 18 April 1984  Age 39     Country Czechia             Contract to  \n",
            "28     Born 1 August 1976  Age 46      Country Russia             Contract to  \n",
            "29     Born 30 March 1985  Age 38      Country Russia             Contract to  \n"
          ]
        },
        {
          "output_type": "stream",
          "name": "stderr",
          "text": [
            "<ipython-input-7-5e25f54b2bf4>:19: FutureWarning: The frame.append method is deprecated and will be removed from pandas in a future version. Use pandas.concat instead.\n",
            "  list_profile_links =  list_profile_links.append(profile_links, ignore_index=True)\n"
          ]
        },
        {
          "output_type": "stream",
          "name": "stdout",
          "text": [
            "       Profile link         Name Player                         Team  \\\n",
            "0   /players/39673/      O'Brien Andrew                Dinamo (Riga)   \n",
            "1   /players/23190/       O'Brien James     Metallurg (Novokuznetsk)   \n",
            "3   /players/21898/        O'Byrne Ryan                  Lev (Praha)   \n",
            "4   /players/22057/       O'Connor Ryan           Medvescak (Zagreb)   \n",
            "5   /players/25429/         O'Dell Eric              Dynamo (Moscow)   \n",
            "6   /players/29960/   O'Donnell Brendan    Kunlun Red Star (Beijing)   \n",
            "7   /players/24915/       O'Neill Brian           Jokerit (Helsinki)   \n",
            "8   /players/19135/        O'Reilly Cal     Metallurg (Magnitogorsk)   \n",
            "9   /players/20611/       O'Reilly Ryan     Metallurg (Magnitogorsk)   \n",
            "10  /players/21310/       Obidin Andrei  Avtomobilist (Ekaterinburg)   \n",
            "11  /players/16182/      Obsut Jaroslav             Spartak (Moscow)   \n",
            "12   /players/5552/      Obukhov Dmitry              Ak Bars (Kazan)   \n",
            "15  /players/24651/     Ogirchuk Daniil             HC Sochi (Sochi)   \n",
            "16  /players/19213/      Ogiyenko Yegor    Torpedo (Nizhny Novgorod)   \n",
            "17   /players/3406/  Ogorodnikov Sergei  Avtomobilist (Ekaterinburg)   \n",
            "19  /players/17633/     Ogurtsov Dmitry        Traktor (Chelyabinsk)   \n",
            "20  /players/21802/        Ohtamaa Atte        Lokomotiv (Yaroslavl)   \n",
            "21  /players/25013/        Ojamaki Niko       Vityaz (Moscow Region)   \n",
            "24  /players/34010/        Oksanen Ahti           Jokerit (Helsinki)   \n",
            "25  /players/39902/    Oksentyuk Evgeny            Amur (Khabarovsk)   \n",
            "26  /players/18770/   Okulov Konstantin                CSKA (Moscow)   \n",
            "27  /players/22342/    Olendarenko Ilya    Torpedo (Nizhny Novgorod)   \n",
            "28  /players/23602/        Olimb Mathis           Jokerit (Helsinki)   \n",
            "29  /players/14685/   Olkhovtsev Sergei    Torpedo (Nizhny Novgorod)   \n",
            "\n",
            "            Position                    Born     Age           Country  \\\n",
            "0   Position defense   Born 21 November 1992  Age 30    Country Canada   \n",
            "1   Position forward    Born 29 January 1989  Age 34       Country USA   \n",
            "3   Position defense       Born 19 July 1984  Age 38    Country Canada   \n",
            "4   Position defense    Born 12 January 1992  Age 31    Country Canada   \n",
            "5   Position forward       Born 21 June 1990  Age 32    Country Canada   \n",
            "6   Position forward       Born 25 June 1992  Age 30    Country Canada   \n",
            "7   Position forward        Born 1 June 1988  Age 34       Country USA   \n",
            "8   Position forward  Born 30 September 1986  Age 36    Country Canada   \n",
            "9   Position forward    Born 7 February 1991  Age 32    Country Canada   \n",
            "10  Position forward   Born 28 February 1997  Age 26    Country Russia   \n",
            "11  Position defense   Born 3 September 1976  Age 46  Country Slovakia   \n",
            "12  Position forward        Born 9 July 1983  Age 39    Country Russia   \n",
            "15  Position forward   Born 2 September 1999  Age 23    Country Russia   \n",
            "16  Position defense      Born 10 March 1996  Age 27    Country Russia   \n",
            "17  Position forward    Born 21 January 1986     Age    Country Russia   \n",
            "19  Position defense       Born 20 June 1994  Age 28    Country Russia   \n",
            "20  Position defense    Born 6 November 1987  Age 35   Country Finland   \n",
            "21  Position forward       Born 17 June 1995  Age 27   Country Finland   \n",
            "24  Position forward      Born 10 March 1993  Age 30   Country Finland   \n",
            "25  Position forward   Born 27 February 2001  Age 22   Country Belarus   \n",
            "26  Position forward   Born 18 February 1995  Age 28    Country Russia   \n",
            "27  Position defense    Born 9 November 1998  Age 24    Country Russia   \n",
            "28  Position forward    Born 1 February 1986  Age 37    Country Norway   \n",
            "29  Position defense    Born 19 October 1987  Age 35    Country Russia   \n",
            "\n",
            "               Contract to  \n",
            "0              Contract to  \n",
            "1              Contract to  \n",
            "3              Contract to  \n",
            "4              Contract to  \n",
            "5              Contract to  \n",
            "6              Contract to  \n",
            "7              Contract to  \n",
            "8              Contract to  \n",
            "9              Contract to  \n",
            "10  Contract to 30.04.2025  \n",
            "11             Contract to  \n",
            "12             Contract to  \n",
            "15             Contract to  \n",
            "16             Contract to  \n",
            "17             Contract to  \n",
            "19             Contract to  \n",
            "20             Contract to  \n",
            "21             Contract to  \n",
            "24             Contract to  \n",
            "25             Contract to  \n",
            "26             Contract to  \n",
            "27             Contract to  \n",
            "28             Contract to  \n",
            "29             Contract to  \n"
          ]
        },
        {
          "output_type": "stream",
          "name": "stderr",
          "text": [
            "<ipython-input-7-5e25f54b2bf4>:19: FutureWarning: The frame.append method is deprecated and will be removed from pandas in a future version. Use pandas.concat instead.\n",
            "  list_profile_links =  list_profile_links.append(profile_links, ignore_index=True)\n"
          ]
        },
        {
          "output_type": "stream",
          "name": "stdout",
          "text": [
            "       Profile link                 Name Player                         Team  \\\n",
            "0   /players/16035/    Paajarvi Svensson Magnus              Dynamo (Moscow)   \n",
            "1   /players/22943/                Pachin Anton         Salavat Yulaev (Ufa)   \n",
            "2   /players/19564/            Pacovsky Dominik                  Lev (Praha)   \n",
            "3   /players/22145/               Padakin Pavel             HC Sochi (Sochi)   \n",
            "4   /players/18686/                Paigin Ziyat              Avangard (Omsk)   \n",
            "5   /players/13044/                Paior Sergei        Traktor (Chelyabinsk)   \n",
            "6   /players/31160/              Pakarinen Iiro           Jokerit (Helsinki)   \n",
            "7   /players/16553/              Palenga Evgeny             Spartak (Moscow)   \n",
            "8   /players/34844/              Palivko Danila        Admiral (Vladivostok)   \n",
            "9   /players/23421/                 Palola Olli    Kunlun Red Star (Beijing)   \n",
            "10  /players/23293/              Palushaj Aaron               Dinamo (Minsk)   \n",
            "11  /players/15486/              Panarin Artemy       SKA (Saint Petersburg)   \n",
            "12   /players/5524/               Panin Grigory         Salavat Yulaev (Ufa)   \n",
            "13  /players/15953/            Pankov Alexander       Vityaz (Moscow Region)   \n",
            "14  /players/23546/            Pankratov Semyon                CSKA (Moscow)   \n",
            "15  /players/13031/            Panov Konstantin       Ugra (Khanty-Mansiysk)   \n",
            "16   /players/3634/             Panshin Mikhail               Barys (Astana)   \n",
            "17  /players/21575/             Panyukov Kirill              Ak Bars (Kazan)   \n",
            "18  /players/41990/             Paquette Cedric               Dinamo (Minsk)   \n",
            "19  /players/27148/                Paranin Ilya    Neftekhimik (Nizhnekamsk)   \n",
            "20  /players/22042/                Pare Francis              Avangard (Omsk)   \n",
            "21  /players/30189/  Parenteau Pierre-Alexandre  Avtomobilist (Ekaterinburg)   \n",
            "22  /players/17740/           Parfeyevets Maxim               Dinamo (Minsk)   \n",
            "23  /players/14136/      Parkhomenko Konstantin     Metallurg (Novokuznetsk)   \n",
            "24  /players/23476/          Parkhomenko Zakhar               Barys (Astana)   \n",
            "25  /players/23618/               Parlett Blake    Kunlun Red Star (Beijing)   \n",
            "26    /players/494/               Parshin Denis    Neftekhimik (Nizhnekamsk)   \n",
            "27  /players/16687/               Partanen Mika           Jokerit (Helsinki)   \n",
            "28  /players/32987/            Pashin Alexander         Salavat Yulaev (Ufa)   \n",
            "29  /players/14737/             Pashnin Mikhail       SKA (Saint Petersburg)   \n",
            "\n",
            "            Position                   Born     Age             Country  \\\n",
            "0   Position forward     Born 12 April 1991  Age 32      Country Sweden   \n",
            "1   Position forward        Born 7 May 1998  Age 25      Country Russia   \n",
            "2   Position forward       Born 8 June 1990  Age 32     Country Czechia   \n",
            "3   Position forward       Born 8 June 1994  Age 28      Country Russia   \n",
            "4   Position defense   Born 8 February 1995  Age 28      Country Russia   \n",
            "5   Position forward      Born 29 June 1984  Age 38      Country Russia   \n",
            "6   Position forward    Born 25 August 1991  Age 31     Country Finland   \n",
            "7   Position defense   Born 27 January 1993  Age 30      Country Russia   \n",
            "8   Position defense  Born 30 November 2001  Age 21     Country Belarus   \n",
            "9   Position forward      Born 8 April 1988  Age 35     Country Finland   \n",
            "10  Position forward  Born 7 September 1989  Age 33         Country USA   \n",
            "11  Position forward   Born 30 October 1991  Age 31      Country Russia   \n",
            "12  Position defense  Born 24 November 1985  Age 37      Country Russia   \n",
            "13  Position forward  Born 17 November 1991  Age 31      Country Russia   \n",
            "14  Position forward       Born 26 May 1998  Age 25      Country Russia   \n",
            "15  Position forward      Born 29 June 1980  Age 42      Country Russia   \n",
            "16  Position forward        Born 2 May 1983  Age 40  Country Kazakhstan   \n",
            "17  Position forward       Born 22 May 1997  Age 26  Country Kazakhstan   \n",
            "18  Position forward    Born 13 August 1993  Age 29      Country Canada   \n",
            "19  Position forward  Born 22 December 2000  Age 22      Country Russia   \n",
            "20  Position forward      Born 30 June 1987  Age 35     Country Belarus   \n",
            "21  Position forward     Born 24 March 1983  Age 40      Country Canada   \n",
            "22  Position forward     Born 15 April 1992  Age 31     Country Belarus   \n",
            "23  Position forward      Born 13 July 1996  Age 26      Country Russia   \n",
            "24  Position forward   Born 22 October 1997  Age 25  Country Kazakhstan   \n",
            "25  Position defense       Born 13 May 1989  Age 34      Country Canada   \n",
            "26  Position forward   Born 1 February 1986  Age 37      Country Russia   \n",
            "27  Position forward   Born 18 October 1992  Age 30     Country Finland   \n",
            "28  Position forward      Born 28 July 2002  Age 20      Country Russia   \n",
            "29  Position defense       Born 11 May 1989  Age 34      Country Russia   \n",
            "\n",
            "               Contract to  \n",
            "0              Contract to  \n",
            "1              Contract to  \n",
            "2              Contract to  \n",
            "3              Contract to  \n",
            "4   Contract to 30.04.2025  \n",
            "5              Contract to  \n",
            "6              Contract to  \n",
            "7              Contract to  \n",
            "8              Contract to  \n",
            "9              Contract to  \n",
            "10             Contract to  \n",
            "11             Contract to  \n",
            "12             Contract to  \n",
            "13             Contract to  \n",
            "14  Contract to 30.04.2024  \n",
            "15             Contract to  \n",
            "16             Contract to  \n",
            "17             Contract to  \n",
            "18             Contract to  \n",
            "19             Contract to  \n",
            "20             Contract to  \n",
            "21             Contract to  \n",
            "22             Contract to  \n",
            "23             Contract to  \n",
            "24             Contract to  \n",
            "25             Contract to  \n",
            "26             Contract to  \n",
            "27             Contract to  \n",
            "28             Contract to  \n",
            "29  Contract to 30.04.2024  \n"
          ]
        },
        {
          "output_type": "stream",
          "name": "stderr",
          "text": [
            "<ipython-input-7-5e25f54b2bf4>:19: FutureWarning: The frame.append method is deprecated and will be removed from pandas in a future version. Use pandas.concat instead.\n",
            "  list_profile_links =  list_profile_links.append(profile_links, ignore_index=True)\n"
          ]
        },
        {
          "output_type": "stream",
          "name": "stdout",
          "text": [
            "      Profile link  Name Player                   Team          Position  \\\n",
            "0  /players/16178/  Quint Deron  Traktor (Chelyabinsk)  Position defense   \n",
            "\n",
            "                 Born     Age      Country  Contract to  \n",
            "0  Born 12 March 1976  Age 47  Country USA  Contract to  \n"
          ]
        },
        {
          "output_type": "stream",
          "name": "stderr",
          "text": [
            "<ipython-input-7-5e25f54b2bf4>:19: FutureWarning: The frame.append method is deprecated and will be removed from pandas in a future version. Use pandas.concat instead.\n",
            "  list_profile_links =  list_profile_links.append(profile_links, ignore_index=True)\n"
          ]
        },
        {
          "output_type": "stream",
          "name": "stdout",
          "text": [
            "       Profile link         Name Player  \\\n",
            "0   /players/17663/     Rachinsky Roman   \n",
            "1    /players/4499/     Rachinsky Yakov   \n",
            "2   /players/10894/      Rachunek Karel   \n",
            "3   /players/18971/      Rachunek Tomas   \n",
            "4   /players/15872/      Radchuk Dmitry   \n",
            "5   /players/35018/     Radenko Mikhail   \n",
            "6   /players/19637/         Radil Lukas   \n",
            "7   /players/15209/  Radivojevic Branko   \n",
            "8     /players/496/   Radulov Alexander   \n",
            "9    /players/3641/        Radulov Igor   \n",
            "10  /players/17954/      Rafikov Rushan   \n",
            "12  /players/15141/        Raisov Aslan   \n",
            "13  /players/16087/         Rajala Toni   \n",
            "14  /players/23638/   Rakhimullin Damir   \n",
            "15  /players/17845/   Rakhmanov Mikhail   \n",
            "17  /players/20190/      Ramstedt Teemu   \n",
            "18  /players/39150/      Rantakari Otso   \n",
            "19  /players/31190/      Rasanen Eemeli   \n",
            "20  /players/27840/    Rashevsky Dmitry   \n",
            "21  /players/31418/    Rasmussen Dennis   \n",
            "22  /players/22987/     Rasseikin Maxim   \n",
            "23  /players/16386/    Rasskazov Kirill   \n",
            "25  /players/19705/           Rattie Ty   \n",
            "26  /players/25282/            Rau Chad   \n",
            "27  /players/24912/       Rautanen Juho   \n",
            "28   /players/9463/     Rayenko Anatoly   \n",
            "29  /players/21163/      Razgals Frenks   \n",
            "\n",
            "                                              Team          Position  \\\n",
            "0                                   Barys (Astana)  Position defense   \n",
            "1                                 Lada (Togliatti)  Position forward   \n",
            "2                            Lokomotiv (Yaroslavl)  Position defense   \n",
            "3     Metallurg (Novokuznetsk) Slovan (Bratislava)  Position forward   \n",
            "4                        Torpedo (Nizhny Novgorod)  Position forward   \n",
            "5                                Amur (Khabarovsk)  Position forward   \n",
            "6                                    Dinamo (Riga)  Position forward   \n",
            "7                              Slovan (Bratislava)  Position forward   \n",
            "8                                  Ak Bars (Kazan)  Position forward   \n",
            "9   Severstal (Cherepovets) Ugra (Khanty-Mansiysk)  Position forward   \n",
            "10                           Lokomotiv (Yaroslavl)  Position defense   \n",
            "12                              HC Dynamo (Moscow)  Position forward   \n",
            "13                          Ugra (Khanty-Mansiysk)  Position forward   \n",
            "14                                HC Sochi (Sochi)  Position forward   \n",
            "15                                  Barys (Astana)  Position forward   \n",
            "17                             Slovan (Bratislava)  Position forward   \n",
            "18                       Neftekhimik (Nizhnekamsk)  Position defense   \n",
            "19                              Jokerit (Helsinki)  Position defense   \n",
            "20                                 Dynamo (Moscow)  Position forward   \n",
            "21                        Metallurg (Magnitogorsk)  Position forward   \n",
            "22                     Avtomobilist (Ekaterinburg)  Position forward   \n",
            "23                          Vityaz (Moscow Region)  Position forward   \n",
            "25                       Torpedo (Nizhny Novgorod)  Position forward   \n",
            "26                             Slovan (Bratislava)  Position forward   \n",
            "27                              Jokerit (Helsinki)  Position defense   \n",
            "28                           Traktor (Chelyabinsk)  Position forward   \n",
            "29                                   Dinamo (Riga)  Position forward   \n",
            "\n",
            "                      Born     Age             Country             Contract to  \n",
            "0       Born 10 March 1995  Age 28      Country Russia             Contract to  \n",
            "1     Born 31 January 1980  Age 43      Country Russia             Contract to  \n",
            "2      Born 27 August 1979     Age     Country Czechia             Contract to  \n",
            "3    Born 26 February 1991  Age 32     Country Czechia             Contract to  \n",
            "4         Born 26 May 1990  Age 33      Country Russia             Contract to  \n",
            "5   Born 19 September 2001  Age 21      Country Russia             Contract to  \n",
            "6       Born 5 August 1990  Age 32     Country Czechia             Contract to  \n",
            "7    Born 24 November 1980  Age 42    Country Slovakia             Contract to  \n",
            "8         Born 5 July 1986  Age 36      Country Russia  Contract to 30.04.2024  \n",
            "9      Born 23 August 1982  Age 40      Country Russia             Contract to  \n",
            "10        Born 15 May 1995  Age 28      Country Russia  Contract to 30.04.2025  \n",
            "12   Born 29 December 1990  Age 32      Country Russia             Contract to  \n",
            "13      Born 29 March 1991  Age 32     Country Finland             Contract to  \n",
            "14     Born 11 August 1998  Age 24      Country Russia             Contract to  \n",
            "15        Born 27 May 1992  Age 30  Country Kazakhstan             Contract to  \n",
            "17    Born 9 December 1987  Age 35     Country Finland             Contract to  \n",
            "18   Born 19 November 1993  Age 29     Country Finland             Contract to  \n",
            "19       Born 6 March 1999  Age 24     Country Finland             Contract to  \n",
            "20     Born 9 October 2000  Age 22      Country Russia  Contract to 30.04.2025  \n",
            "21        Born 3 July 1990  Age 32      Country Sweden             Contract to  \n",
            "22      Born 26 April 1998  Age 25      Country Russia             Contract to  \n",
            "23         Born 3 May 1992  Age 31      Country Russia             Contract to  \n",
            "25    Born 5 February 1993  Age 30      Country Canada             Contract to  \n",
            "26    Born 18 January 1987  Age 36         Country USA             Contract to  \n",
            "27        Born 25 May 1997  Age 26     Country Finland             Contract to  \n",
            "28       Born 18 July 1986  Age 36      Country Russia             Contract to  \n",
            "29      Born 8 August 1996  Age 26      Country Latvia             Contract to  \n"
          ]
        },
        {
          "output_type": "stream",
          "name": "stderr",
          "text": [
            "<ipython-input-7-5e25f54b2bf4>:19: FutureWarning: The frame.append method is deprecated and will be removed from pandas in a future version. Use pandas.concat instead.\n",
            "  list_profile_links =  list_profile_links.append(profile_links, ignore_index=True)\n"
          ]
        },
        {
          "output_type": "stream",
          "name": "stdout",
          "text": [
            "       Profile link            Name Player                         Team  \\\n",
            "0   /players/22350/          Saari Santeri           Jokerit (Helsinki)   \n",
            "1   /players/18250/         Saarinen Jesse           Medvescak (Zagreb)   \n",
            "2   /players/16464/        Sabinin Gennady       Vityaz (Moscow Region)   \n",
            "3   /players/25096/         Sabolic Robert    Torpedo (Nizhny Novgorod)   \n",
            "4   /players/24706/          Sadecky Boris          Slovan (Bratislava)   \n",
            "5   /players/34511/  Safin Tregubov Sergei         Salavat Yulaev (Ufa)   \n",
            "6   /players/30665/           Safonov Ilya              Ak Bars (Kazan)   \n",
            "7   /players/13149/        Safronov Kirill            Amur (Khabarovsk)   \n",
            "8   /players/17846/        Sagadeyev Anton               Barys (Astana)   \n",
            "9   /players/17795/      Sakharusov Sergei      Severstal (Cherepovets)   \n",
            "10  /players/21499/            Sakic Marko           Medvescak (Zagreb)   \n",
            "12  /players/20742/          Salcido Brian            Amur (Khabarovsk)   \n",
            "13  /players/16526/          Salija Arturs    Kunlun Red Star (Beijing)   \n",
            "14  /players/22357/          Sallinen Jere           Jokerit (Helsinki)   \n",
            "15  /players/20189/          Sallinen Tomi    Kunlun Red Star (Beijing)   \n",
            "16  /players/17911/          Salmela Anssi                Dinamo (Riga)   \n",
            "17  /players/20215/        Salminen Sakari           HC Dynamo (Moscow)   \n",
            "18  /players/22358/          Salminen Saku           Jokerit (Helsinki)   \n",
            "19  /players/30923/             Salov Yury  Avtomobilist (Ekaterinburg)   \n",
            "20    /players/132/         Samarin Dmitry            Amur (Khabarovsk)   \n",
            "22  /players/38172/         Samoilov Yegor             HC Sochi (Sochi)   \n",
            "23  /players/22278/     Samokhvalov Nikita              Avangard (Omsk)   \n",
            "25  /players/24005/       Samorukov Dmitry                CSKA (Moscow)   \n",
            "28  /players/17256/      Sanguinetti Bobby       Atlant (Moscow Region)   \n",
            "29  /players/15625/        Sannikov Stepan         Salavat Yulaev (Ufa)   \n",
            "\n",
            "            Position                    Born     Age           Country  \\\n",
            "0   Position defense    Born 18 October 1994  Age 28   Country Finland   \n",
            "1   Position forward       Born 29 July 1985  Age 37   Country Finland   \n",
            "2   Position defense  Born 29 September 1993  Age 29    Country Russia   \n",
            "3   Position forward  Born 18 September 1988  Age 34  Country Slovenia   \n",
            "4   Position forward      Born 20 April 1997     Age  Country Slovakia   \n",
            "5   Position defense    Born 11 October 2001  Age 21    Country Russia   \n",
            "6   Position forward        Born 30 May 2001  Age 21    Country Russia   \n",
            "7   Position defense   Born 26 February 1981  Age 42    Country Russia   \n",
            "8   Position forward   Born 6 September 1993  Age 29    Country Russia   \n",
            "9   Position defense         Born 9 May 1994  Age 29    Country Russia   \n",
            "10  Position forward      Born 13 April 1994  Age 29   Country Croatia   \n",
            "12  Position defense      Born 14 April 1985  Age 38       Country USA   \n",
            "13  Position defense        Born 15 May 1992  Age 31    Country Latvia   \n",
            "14  Position forward    Born 26 October 1990  Age 32   Country Finland   \n",
            "15  Position forward   Born 11 February 1989  Age 34   Country Finland   \n",
            "16  Position defense     Born 13 August 1984  Age 38   Country Finland   \n",
            "17  Position forward        Born 31 May 1988  Age 34   Country Finland   \n",
            "18  Position forward    Born 20 October 1994  Age 28   Country Finland   \n",
            "19  Position defense    Born 7 November 2001  Age 21    Country Russia   \n",
            "20  Position defense     Born 4 October 1984  Age 38    Country Russia   \n",
            "22  Position forward        Born 30 May 2003  Age 19    Country Russia   \n",
            "23  Position forward     Born 1 October 1997  Age 25    Country Russia   \n",
            "25  Position defense       Born 16 June 1999  Age 23    Country Russia   \n",
            "28  Position defense   Born 29 February 1988  Age 35       Country USA   \n",
            "29  Position forward  Born 25 September 1990  Age 32    Country Russia   \n",
            "\n",
            "               Contract to  \n",
            "0              Contract to  \n",
            "1              Contract to  \n",
            "2              Contract to  \n",
            "3              Contract to  \n",
            "4              Contract to  \n",
            "5              Contract to  \n",
            "6   Contract to 30.04.2025  \n",
            "7              Contract to  \n",
            "8              Contract to  \n",
            "9              Contract to  \n",
            "10             Contract to  \n",
            "12             Contract to  \n",
            "13             Contract to  \n",
            "14             Contract to  \n",
            "15             Contract to  \n",
            "16             Contract to  \n",
            "17             Contract to  \n",
            "18             Contract to  \n",
            "19             Contract to  \n",
            "20             Contract to  \n",
            "22  Contract to 30.04.2025  \n",
            "23             Contract to  \n",
            "25             Contract to  \n",
            "28             Contract to  \n",
            "29  Contract to 30.04.2024  \n"
          ]
        },
        {
          "output_type": "stream",
          "name": "stderr",
          "text": [
            "<ipython-input-7-5e25f54b2bf4>:19: FutureWarning: The frame.append method is deprecated and will be removed from pandas in a future version. Use pandas.concat instead.\n",
            "  list_profile_links =  list_profile_links.append(profile_links, ignore_index=True)\n"
          ]
        },
        {
          "output_type": "stream",
          "name": "stdout",
          "text": [
            "       Profile link           Name Player  \\\n",
            "0   /players/17673/           Tabacek Jan   \n",
            "2   /players/23423/            Taffe Jeff   \n",
            "3   /players/22281/           Taimi Tommi   \n",
            "4   /players/24698/          Talaja Roope   \n",
            "5   /players/24027/        Talaluyev Ilya   \n",
            "6   /players/25069/         Talbot Maxime   \n",
            "7   /players/27220/            Tam Mikael   \n",
            "8   /players/35345/         Tangradi Eric   \n",
            "9   /players/15321/    Tarasenko Vladimir   \n",
            "10  /players/15901/  Tarasov Alexander A.   \n",
            "12  /players/15721/    Tarasov Daniil Vl.   \n",
            "14   /players/4732/     Tarasov Dmitry E.   \n",
            "15  /players/15760/     Tarasov Dmitry K.   \n",
            "17   /players/6433/     Taratukhin Andrei   \n",
            "18  /players/20886/       Taratunin Timur   \n",
            "21  /players/18029/         Tarnasky Nick   \n",
            "22  /players/16219/         Tatalin Roman   \n",
            "23   /players/4686/   Tatarinov Alexander   \n",
            "24  /players/20814/          Taticek Petr   \n",
            "26  /players/16051/       Tedenby Mattias   \n",
            "27  /players/15986/          Telegin Ivan   \n",
            "28  /players/31832/        Telegin Sergei   \n",
            "\n",
            "                                           Team          Position  \\\n",
            "0                           Slovan (Bratislava)  Position defense   \n",
            "2                           Slovan (Bratislava)  Position forward   \n",
            "3                           Slovan (Bratislava)  Position defense   \n",
            "4                            Jokerit (Helsinki)  Position forward   \n",
            "5                              Spartak (Moscow)  Position forward   \n",
            "6                               Avangard (Omsk)  Position forward   \n",
            "7                     Kunlun Red Star (Beijing)  Position defense   \n",
            "8                                Barys (Astana)  Position forward   \n",
            "9                        SKA (Saint Petersburg)  Position forward   \n",
            "10                   Sibir (Novosibirsk Region)  Position defense   \n",
            "12  Ak Bars (Kazan) Avtomobilist (Ekaterinburg)  Position forward   \n",
            "14                            Amur (Khabarovsk)  Position forward   \n",
            "15                            Donbass (Donetsk)  Position forward   \n",
            "17   Metallurg (Novokuznetsk) Amur (Khabarovsk)  Position forward   \n",
            "18                        Admiral (Vladivostok)  Position defense   \n",
            "21                       Vityaz (Moscow Region)  Position forward   \n",
            "22                        Admiral (Vladivostok)  Position defense   \n",
            "23                  Avtomobilist (Ekaterinburg)  Position forward   \n",
            "24                                  Lev (Praha)  Position forward   \n",
            "26                               Dinamo (Minsk)  Position forward   \n",
            "27                              Avangard (Omsk)  Position forward   \n",
            "28                        Traktor (Chelyabinsk)  Position defense   \n",
            "\n",
            "                      Born     Age           Country             Contract to  \n",
            "0        Born 7 April 1980  Age 43  Country Slovakia             Contract to  \n",
            "2    Born 19 February 1981  Age 42       Country USA             Contract to  \n",
            "3   Born 21 September 1990  Age 32   Country Finland             Contract to  \n",
            "4       Born 2 August 1988  Age 34   Country Finland             Contract to  \n",
            "5     Born 28 January 1998  Age 25    Country Russia  Contract to 30.04.2024  \n",
            "6    Born 11 February 1984  Age 39    Country Canada             Contract to  \n",
            "7       Born 26 April 1991  Age 32     Country China             Contract to  \n",
            "8    Born 10 February 1989  Age 34       Country USA             Contract to  \n",
            "9    Born 13 December 1991  Age 31    Country Russia             Contract to  \n",
            "10   Born 24 December 1990  Age 32    Country Russia             Contract to  \n",
            "12       Born 20 June 1991  Age 31    Country Russia             Contract to  \n",
            "14   Born 13 February 1979  Age 44    Country Russia             Contract to  \n",
            "15        Born 12 May 1991  Age 32    Country Russia             Contract to  \n",
            "17   Born 22 February 1983  Age 40    Country Russia             Contract to  \n",
            "18        Born 28 May 1996  Age 26    Country Russia             Contract to  \n",
            "21   Born 25 November 1984  Age 38    Country Canada             Contract to  \n",
            "22   Born 19 November 1992  Age 30    Country Russia             Contract to  \n",
            "23      Born 14 April 1982  Age 41    Country Russia             Contract to  \n",
            "24  Born 22 September 1983  Age 39   Country Czechia             Contract to  \n",
            "26   Born 21 February 1990  Age 33    Country Sweden             Contract to  \n",
            "27   Born 28 February 1992  Age 31    Country Russia  Contract to 30.04.2024  \n",
            "28  Born 21 September 2000  Age 22    Country Russia  Contract to 30.04.2024  \n"
          ]
        },
        {
          "output_type": "stream",
          "name": "stderr",
          "text": [
            "<ipython-input-7-5e25f54b2bf4>:19: FutureWarning: The frame.append method is deprecated and will be removed from pandas in a future version. Use pandas.concat instead.\n",
            "  list_profile_links =  list_profile_links.append(profile_links, ignore_index=True)\n"
          ]
        },
        {
          "output_type": "stream",
          "name": "stdout",
          "text": [
            "       Profile link          Name Player                         Team  \\\n",
            "0    /players/4734/      Uchaikin Dmitry            Amur (Khabarovsk)   \n",
            "1   /players/34412/          Udot Artyom        Traktor (Chelyabinsk)   \n",
            "2   /players/14285/        Ugarov Alexei      Severstal (Cherepovets)   \n",
            "3   /players/15644/  Ugolnikov Alexander              Avangard (Omsk)   \n",
            "4   /players/20650/      Ugolnikov Anton              Avangard (Omsk)   \n",
            "5   /players/14778/          Ulanov Igor               Dinamo (Minsk)   \n",
            "6   /players/20963/       Ullstrom David                Dinamo (Riga)   \n",
            "7   /players/15359/           Ulmer Jeff     Metallurg (Novokuznetsk)   \n",
            "8   /players/17075/         Upitis Juris                Dinamo (Riga)   \n",
            "9    /players/3763/         Upper Dmitry               Barys (Astana)   \n",
            "10  /players/22017/        Urakov Kirill    Torpedo (Nizhny Novgorod)   \n",
            "11  /players/22325/      Urbom Alexander      Severstal (Cherepovets)   \n",
            "12  /players/35196/        Urulin Stepan       Vityaz (Moscow Region)   \n",
            "13  /players/15744/         Urychev Yury        Lokomotiv (Yaroslavl)   \n",
            "14  /players/15274/     Usenko Alexander               Dinamo (Minsk)   \n",
            "15   /players/5001/          Usenko Ivan               Dinamo (Minsk)   \n",
            "16  /players/17940/    Ushenin Vladislav        Admiral (Vladivostok)   \n",
            "17  /players/17941/   Ushenin Vyacheslav        Admiral (Vladivostok)   \n",
            "18  /players/18172/        Ushnev Nikita             HC Sochi (Sochi)   \n",
            "19  /players/35096/       Usmanov Daniel             Spartak (Moscow)   \n",
            "20  /players/35223/            Usov Ilya               Dinamo (Minsk)   \n",
            "22  /players/22262/     Ustinenko Nikita               Dinamo (Minsk)   \n",
            "24  /players/16124/   Ustyantsev Mikhail  Avtomobilist (Ekaterinburg)   \n",
            "25  /players/35195/      Utkin Dmitry A.             HC Sochi (Sochi)   \n",
            "\n",
            "            Position                    Born     Age          Country  \\\n",
            "0   Position forward       Born 10 June 1980     Age   Country Russia   \n",
            "1   Position forward      Born 16 April 2002  Age 21   Country Russia   \n",
            "2   Position forward     Born 2 January 1985  Age 38   Country Russia   \n",
            "3   Position defense    Born 14 January 1989  Age 34   Country Russia   \n",
            "4   Position forward       Born 27 June 1996  Age 26   Country Russia   \n",
            "5   Position defense     Born 1 October 1969  Age 53   Country Russia   \n",
            "6   Position forward      Born 22 April 1989  Age 34   Country Sweden   \n",
            "7   Position forward      Born 27 April 1977  Age 46   Country Canada   \n",
            "8   Position forward       Born 16 June 1991  Age 31   Country Latvia   \n",
            "9   Position forward       Born 27 July 1978  Age 44   Country Russia   \n",
            "10  Position forward   Born 21 December 1997  Age 25   Country Russia   \n",
            "11  Position defense   Born 20 December 1990  Age 32   Country Sweden   \n",
            "12  Position forward    Born 26 January 2002  Age 21   Country Russia   \n",
            "13  Position defense       Born 3 April 1991     Age   Country Russia   \n",
            "14  Position forward   Born 11 February 1986  Age 37  Country Belarus   \n",
            "15  Position defense   Born 12 February 1983  Age 40  Country Belarus   \n",
            "16  Position forward        Born 12 May 1992  Age 31   Country Russia   \n",
            "17  Position forward        Born 12 May 1992  Age 31   Country Russia   \n",
            "18  Position defense      Born 28 April 1994  Age 29   Country Russia   \n",
            "19  Position forward      Born 15 April 2002  Age 21   Country Russia   \n",
            "20  Position forward      Born 3 August 2001  Age 21  Country Belarus   \n",
            "22  Position defense      Born 22 April 1995  Age 28  Country Belarus   \n",
            "24  Position forward      Born 21 March 1992  Age 31   Country Russia   \n",
            "25  Position forward  Born 18 September 2002  Age 20   Country Russia   \n",
            "\n",
            "               Contract to  \n",
            "0              Contract to  \n",
            "1   Contract to 30.04.2024  \n",
            "2              Contract to  \n",
            "3   Contract to 30.04.2024  \n",
            "4              Contract to  \n",
            "5              Contract to  \n",
            "6              Contract to  \n",
            "7              Contract to  \n",
            "8              Contract to  \n",
            "9              Contract to  \n",
            "10             Contract to  \n",
            "11             Contract to  \n",
            "12             Contract to  \n",
            "13             Contract to  \n",
            "14             Contract to  \n",
            "15             Contract to  \n",
            "16             Contract to  \n",
            "17             Contract to  \n",
            "18             Contract to  \n",
            "19  Contract to 30.04.2024  \n",
            "20             Contract to  \n",
            "22             Contract to  \n",
            "24             Contract to  \n",
            "25  Contract to 30.04.2025  \n"
          ]
        },
        {
          "output_type": "stream",
          "name": "stderr",
          "text": [
            "<ipython-input-7-5e25f54b2bf4>:19: FutureWarning: The frame.append method is deprecated and will be removed from pandas in a future version. Use pandas.concat instead.\n",
            "  list_profile_links =  list_profile_links.append(profile_links, ignore_index=True)\n"
          ]
        },
        {
          "output_type": "stream",
          "name": "stdout",
          "text": [
            "       Profile link          Name Player                         Team  \\\n",
            "0   /players/16363/        Vaananen Ossi           Jokerit (Helsinki)   \n",
            "1   /players/22412/         Valach Juraj          Slovan (Bratislava)   \n",
            "2   /players/14529/     Valentenko Pavel       Ugra (Khanty-Mansiysk)   \n",
            "3   /players/20722/  Valentsov Vladislav       Vityaz (Moscow Region)   \n",
            "4   /players/16075/       Valerko Artyom       Vityaz (Moscow Region)   \n",
            "5   /players/21925/       Valeyev Artyom              Ak Bars (Kazan)   \n",
            "6   /players/14259/         Valeyev Igor        Traktor (Chelyabinsk)   \n",
            "7   /players/16316/        Valeyev Ildar    Torpedo (Nizhny Novgorod)   \n",
            "9   /players/25801/       Valitov Daniil  Avtomobilist (Ekaterinburg)   \n",
            "10  /players/19843/       Valitsky Isaak       Vityaz (Moscow Region)   \n",
            "11  /players/17934/      Valivaara Jyrki     Metallurg (Novokuznetsk)   \n",
            "13  /players/18687/        Valiyev Rinat        Admiral (Vladivostok)   \n",
            "14  /players/31052/          Valk Curtis  Avtomobilist (Ekaterinburg)   \n",
            "15  /players/24700/         Valsky Jakub          Slovan (Bratislava)   \n",
            "16  /players/15476/      Valuisky Semyon        Admiral (Vladivostok)   \n",
            "17  /players/15546/         Vampola Petr              Avangard (Omsk)   \n",
            "18  /players/33905/       Varagyan Edgar     Metallurg (Magnitogorsk)   \n",
            "19  /players/19066/   Varfolomeyev Pavel               Dinamo (Minsk)   \n",
            "20   /players/4692/      Varlamov Evgeny    Torpedo (Nizhny Novgorod)   \n",
            "22  /players/13193/      Varlamov Sergei            Donbass (Donetsk)   \n",
            "23  /players/26210/        Varlov Sergei         Salavat Yulaev (Ufa)   \n",
            "24   /players/4967/     Varnakov Mikhail        Lokomotiv (Yaroslavl)   \n",
            "25  /players/39842/         Varone Filip             Spartak (Moscow)   \n",
            "27  /players/14155/   Vashchenko Grigory        Admiral (Vladivostok)   \n",
            "28  /players/28208/    Vashchenko Nikita             HC Sochi (Sochi)   \n",
            "29  /players/15204/        Vasicek Josef        Lokomotiv (Yaroslavl)   \n",
            "\n",
            "            Position                    Born     Age             Country  \\\n",
            "0   Position defense     Born 18 August 1980  Age 42     Country Finland   \n",
            "1   Position defense    Born 1 February 1989  Age 34    Country Slovakia   \n",
            "2   Position defense    Born 20 October 1987  Age 35      Country Russia   \n",
            "3   Position defense  Born 15 September 1996  Age 26      Country Russia   \n",
            "4   Position forward   Born 15 February 1991  Age 32      Country Russia   \n",
            "5   Position forward       Born 6 March 1997  Age 26      Country Russia   \n",
            "6   Position forward     Born 9 January 1981  Age 42      Country Russia   \n",
            "7   Position defense   Born 29 November 1991  Age 31      Country Russia   \n",
            "9   Position defense        Born 9 June 2000  Age 22      Country Russia   \n",
            "10  Position forward   Born 28 February 1995  Age 28      Country Russia   \n",
            "11  Position defense        Born 30 May 1976  Age 46     Country Finland   \n",
            "13  Position defense        Born 11 May 1995  Age 28      Country Russia   \n",
            "14  Position forward    Born 8 February 1993  Age 30  Country Kazakhstan   \n",
            "15  Position forward   Born 7 September 1988  Age 34     Country Czechia   \n",
            "16  Position forward   Born 10 February 1991  Age 32      Country Russia   \n",
            "17  Position forward    Born 21 January 1982  Age 41     Country Czechia   \n",
            "18  Position forward    Born 17 October 2002  Age 20      Country Russia   \n",
            "19  Position forward      Born 15 April 1995  Age 28      Country Russia   \n",
            "20  Position defense    Born 7 December 1976  Age 46      Country Russia   \n",
            "22  Position forward       Born 21 July 1978  Age 44     Country Ukraine   \n",
            "23  Position defense       Born 30 June 2000  Age 22      Country Russia   \n",
            "24  Position forward       Born 1 March 1985  Age 38      Country Russia   \n",
            "25  Position forward    Born 4 December 1990  Age 32      Country Canada   \n",
            "27  Position defense    Born 29 January 1995  Age 28      Country Russia   \n",
            "28  Position defense      Born 11 March 2001  Age 22      Country Russia   \n",
            "29  Position forward  Born 12 September 1980     Age     Country Czechia   \n",
            "\n",
            "               Contract to  \n",
            "0              Contract to  \n",
            "1              Contract to  \n",
            "2              Contract to  \n",
            "3   Contract to 30.04.2025  \n",
            "4              Contract to  \n",
            "5              Contract to  \n",
            "6              Contract to  \n",
            "7              Contract to  \n",
            "9   Contract to 30.04.2024  \n",
            "10             Contract to  \n",
            "11             Contract to  \n",
            "13  Contract to 30.04.2024  \n",
            "14  Contract to 30.04.2024  \n",
            "15             Contract to  \n",
            "16             Contract to  \n",
            "17             Contract to  \n",
            "18  Contract to 30.04.2024  \n",
            "19  Contract to 30.04.2024  \n",
            "20             Contract to  \n",
            "22             Contract to  \n",
            "23  Contract to 30.04.2024  \n",
            "24             Contract to  \n",
            "25             Contract to  \n",
            "27  Contract to 30.04.2024  \n",
            "28  Contract to 30.04.2024  \n",
            "29             Contract to  \n"
          ]
        },
        {
          "output_type": "stream",
          "name": "stderr",
          "text": [
            "<ipython-input-7-5e25f54b2bf4>:19: FutureWarning: The frame.append method is deprecated and will be removed from pandas in a future version. Use pandas.concat instead.\n",
            "  list_profile_links =  list_profile_links.append(profile_links, ignore_index=True)\n"
          ]
        },
        {
          "output_type": "stream",
          "name": "stdout",
          "text": [
            "       Profile link          Name Player  \\\n",
            "0   /players/15240/      Wahlberg Mikael   \n",
            "1   /players/21423/          Walker Luke   \n",
            "2   /players/24705/       Wallmark Lucas   \n",
            "3   /players/15369/        Walser Derrik   \n",
            "4   /players/20523/          Wandell Tom   \n",
            "5   /players/25552/         Wang Guanhua   \n",
            "6   /players/16701/  Wannstrom Sebastian   \n",
            "7   /players/15216/          Wanvig Kyle   \n",
            "8   /players/17542/         Warg Fredrik   \n",
            "9   /players/16786/          Wargh Tommy   \n",
            "10  /players/20117/             Warn Max   \n",
            "11  /players/20931/          Waugh Geoff   \n",
            "12  /players/23540/          Weal Jordan   \n",
            "13  /players/40257/          Wedin Anton   \n",
            "14  /players/15242/    Weinhandl Mattias   \n",
            "15  /players/14607/       Weissmann Erik   \n",
            "16  /players/23687/        Wellman Casey   \n",
            "17  /players/17296/        Wellwood Kyle   \n",
            "18  /players/27372/          Werek Ethan   \n",
            "19  /players/15315/       Westcott Duvie   \n",
            "21  /players/22058/            White Ian   \n",
            "22  /players/34919/           White Matt   \n",
            "23  /players/22146/        White Patrick   \n",
            "24  /players/23316/         Whitney Ryan   \n",
            "25  /players/39087/        Wideman Chris   \n",
            "26  /players/31928/    Wiercioch Patrick   \n",
            "27  /players/24969/     Wikstrand Mikael   \n",
            "29  /players/41896/       Williams Colby   \n",
            "\n",
            "                                                 Team          Position  \\\n",
            "0                                       CSKA (Moscow)  Position forward   \n",
            "1                                  Medvescak (Zagreb)  Position forward   \n",
            "2                                       CSKA (Moscow)  Position forward   \n",
            "3                              Vityaz (Moscow Region)  Position defense   \n",
            "4                                   Amur (Khabarovsk)  Position forward   \n",
            "5                           Kunlun Red Star (Beijing)  Position forward   \n",
            "6                                       Dinamo (Riga)  Position forward   \n",
            "7                                   Amur (Khabarovsk)  Position forward   \n",
            "8                                       Dinamo (Riga)  Position forward   \n",
            "9   Avtomobilist (Ekaterinburg) Ugra (Khanty-Mansi...  Position defense   \n",
            "10                                 Jokerit (Helsinki)  Position forward   \n",
            "11                                 Medvescak (Zagreb)  Position defense   \n",
            "12                                    Dynamo (Moscow)  Position forward   \n",
            "13                                    Dynamo (Moscow)  Position forward   \n",
            "14                             SKA (Saint Petersburg)  Position forward   \n",
            "15                                   Lada (Togliatti)  Position forward   \n",
            "16                          Kunlun Red Star (Beijing)  Position forward   \n",
            "17                             Atlant (Moscow Region)  Position forward   \n",
            "18                          Kunlun Red Star (Beijing)  Position forward   \n",
            "19                                     Dinamo (Minsk)  Position defense   \n",
            "21                              Traktor (Chelyabinsk)  Position defense   \n",
            "22                                      Dinamo (Riga)  Position forward   \n",
            "23                                Slovan (Bratislava)  Position forward   \n",
            "24                                   HC Sochi (Sochi)  Position defense   \n",
            "25                          Torpedo (Nizhny Novgorod)  Position defense   \n",
            "26                                     Dinamo (Minsk)  Position defense   \n",
            "27                                    Ak Bars (Kazan)  Position defense   \n",
            "29                              Admiral (Vladivostok)  Position defense   \n",
            "\n",
            "                      Born     Age           Country             Contract to  \n",
            "0    Born 28 December 1976  Age 46    Country Sweden             Contract to  \n",
            "1    Born 19 February 1990  Age 33       Country USA             Contract to  \n",
            "2    Born 5 September 1995  Age 27    Country Sweden             Contract to  \n",
            "3         Born 12 May 1978  Age 45    Country Canada             Contract to  \n",
            "4     Born 29 January 1987  Age 36    Country Sweden             Contract to  \n",
            "5          Born 7 May 1992  Age 31     Country China             Contract to  \n",
            "6        Born 3 March 1991  Age 32    Country Sweden             Contract to  \n",
            "7     Born 29 January 1981  Age 42    Country Canada             Contract to  \n",
            "8          Born 3 May 1979  Age 44    Country Sweden             Contract to  \n",
            "9    Born 19 December 1986  Age 36    Country Sweden             Contract to  \n",
            "10       Born 10 June 1988  Age 34   Country Finland             Contract to  \n",
            "11     Born 25 August 1983  Age 39   Country Croatia             Contract to  \n",
            "12      Born 15 April 1992  Age 31    Country Canada  Contract to 30.04.2024  \n",
            "13       Born 1 March 1993  Age 30    Country Sweden             Contract to  \n",
            "14        Born 1 June 1980  Age 42    Country Sweden             Contract to  \n",
            "15        Born 27 May 1978  Age 44  Country Slovakia             Contract to  \n",
            "16    Born 18 October 1987  Age 35       Country USA             Contract to  \n",
            "17        Born 16 May 1983  Age 40    Country Canada             Contract to  \n",
            "18        Born 7 June 1991  Age 31     Country China             Contract to  \n",
            "19    Born 30 October 1977  Age 45    Country Canada             Contract to  \n",
            "21        Born 4 June 1984  Age 38    Country Canada             Contract to  \n",
            "22     Born 23 August 1989  Age 33       Country USA             Contract to  \n",
            "23    Born 20 January 1989  Age 34       Country USA             Contract to  \n",
            "24   Born 19 February 1983  Age 40       Country USA             Contract to  \n",
            "25     Born 7 January 1990  Age 33       Country USA             Contract to  \n",
            "26  Born 12 September 1990  Age 32    Country Canada             Contract to  \n",
            "27    Born 5 November 1993  Age 29    Country Sweden             Contract to  \n",
            "29    Born 26 January 1995  Age 28    Country Canada  Contract to 30.04.2024  \n"
          ]
        },
        {
          "output_type": "stream",
          "name": "stderr",
          "text": [
            "<ipython-input-7-5e25f54b2bf4>:19: FutureWarning: The frame.append method is deprecated and will be removed from pandas in a future version. Use pandas.concat instead.\n",
            "  list_profile_links =  list_profile_links.append(profile_links, ignore_index=True)\n"
          ]
        },
        {
          "output_type": "stream",
          "name": "stdout",
          "text": [
            "      Profile link    Name Player                       Team  \\\n",
            "0  /players/25197/  Xia Tianxiang  Kunlun Red Star (Beijing)   \n",
            "1  /players/25189/   Xiang Xudong  Kunlun Red Star (Beijing)   \n",
            "\n",
            "           Position                    Born     Age        Country  \\\n",
            "0  Position forward  Born 11 September 1993  Age 29  Country China   \n",
            "1  Position forward     Born 24 August 1995  Age 27  Country China   \n",
            "\n",
            "   Contract to  \n",
            "0  Contract to  \n",
            "1  Contract to  \n"
          ]
        },
        {
          "output_type": "stream",
          "name": "stderr",
          "text": [
            "<ipython-input-7-5e25f54b2bf4>:19: FutureWarning: The frame.append method is deprecated and will be removed from pandas in a future version. Use pandas.concat instead.\n",
            "  list_profile_links =  list_profile_links.append(profile_links, ignore_index=True)\n"
          ]
        },
        {
          "output_type": "stream",
          "name": "stdout",
          "text": [
            "       Profile link          Name Player                        Team  \\\n",
            "0   /players/18033/     Yablonski Jeremy      Vityaz (Moscow Region)   \n",
            "2   /players/13029/     Yachmenyov Denis       Traktor (Chelyabinsk)   \n",
            "3   /players/13030/    Yachmenyov Vitaly       Traktor (Chelyabinsk)   \n",
            "6   /players/17572/       Yakimov Bogdan             Dynamo (Moscow)   \n",
            "7   /players/17661/  Yakovlev Alexei An.  Sibir (Novosibirsk Region)   \n",
            "8   /players/17775/      Yakovlev Andrei           Amur (Khabarovsk)   \n",
            "10  /players/26870/       Yakovlev Pyotr             Dynamo (Moscow)   \n",
            "11  /players/20652/    Yakovlev Yegor A.     Severstal (Cherepovets)   \n",
            "12  /players/15661/    Yakovlev Yegor K.    Metallurg (Magnitogorsk)   \n",
            "13   /players/5101/      Yakubov Mikhail            HC Sochi (Sochi)   \n",
            "14  /players/16391/         Yakupov Nail             Avangard (Omsk)   \n",
            "15  /players/39156/         Yakupov Raul   Neftekhimik (Nizhnekamsk)   \n",
            "16   /players/4084/     Yakutsenya Maxim       Traktor (Chelyabinsk)   \n",
            "17  /players/16638/          Yamkin Ilya   Torpedo (Nizhny Novgorod)   \n",
            "18  /players/22166/            Yan Denis   Torpedo (Nizhny Novgorod)   \n",
            "19  /players/40837/         Yan Juncheng   Kunlun Red Star (Beijing)   \n",
            "20  /players/27316/           Yan Ruinan   Kunlun Red Star (Beijing)   \n",
            "21  /players/23363/      Yanchevsky Mark             Ak Bars (Kazan)   \n",
            "22  /players/16893/    Yantsen Vladislav    Metallurg (Novokuznetsk)   \n",
            "23  /players/39935/    Yapparov Yaroslav       Traktor (Chelyabinsk)   \n",
            "24  /players/15604/       Yarchuk Artyom       Lokomotiv (Yaroslavl)   \n",
            "25  /players/24882/  Yaremchuk Alexander      Vityaz (Moscow Region)   \n",
            "27  /players/37799/    Yarovoi Stanislav      Vityaz (Moscow Region)   \n",
            "28  /players/35332/       Yarulin Tigran            HC Sochi (Sochi)   \n",
            "29  /players/16365/      Yarullin Albert       Traktor (Chelyabinsk)   \n",
            "\n",
            "            Position                    Born     Age         Country  \\\n",
            "0   Position forward      Born 21 March 1980  Age 43  Country Canada   \n",
            "2   Position forward        Born 4 June 1984  Age 38  Country Russia   \n",
            "3   Position forward     Born 8 January 1975  Age 48  Country Russia   \n",
            "6   Position forward     Born 4 October 1994  Age 28  Country Russia   \n",
            "7   Position forward        Born 4 June 1995  Age 27  Country Russia   \n",
            "8   Position forward        Born 7 June 1994  Age 28  Country Russia   \n",
            "10  Position forward   Born 10 December 2000  Age 22  Country Russia   \n",
            "11  Position forward       Born 15 June 1996  Age 26  Country Russia   \n",
            "12  Position defense  Born 17 September 1991  Age 31  Country Russia   \n",
            "13  Position forward   Born 16 February 1982  Age 41  Country Russia   \n",
            "14  Position forward     Born 6 October 1993  Age 29  Country Russia   \n",
            "15  Position forward       Born 21 June 2004  Age 18  Country Russia   \n",
            "16  Position forward   Born 14 February 1981  Age 42  Country Russia   \n",
            "17  Position forward   Born 17 February 1994  Age 29  Country Russia   \n",
            "18  Position forward      Born 14 April 1997  Age 26  Country Russia   \n",
            "19  Position forward  Born 16 September 2000  Age 22   Country China   \n",
            "20  Position defense    Born 25 January 2001  Age 22   Country China   \n",
            "21  Position defense       Born 30 June 1998  Age 24  Country Russia   \n",
            "22  Position forward    Born 16 January 1993  Age 30  Country Russia   \n",
            "23  Position forward      Born 22 March 2004  Age 19  Country Russia   \n",
            "24  Position forward         Born 3 May 1990     Age  Country Russia   \n",
            "25  Position forward     Born 22 August 1999  Age 23  Country Russia   \n",
            "27  Position forward     Born 26 August 2003  Age 19  Country Russia   \n",
            "28  Position forward         Born 9 May 2003  Age 20  Country Russia   \n",
            "29  Position defense         Born 3 May 1993  Age 30  Country Russia   \n",
            "\n",
            "               Contract to  \n",
            "0              Contract to  \n",
            "2              Contract to  \n",
            "3              Contract to  \n",
            "6              Contract to  \n",
            "7              Contract to  \n",
            "8              Contract to  \n",
            "10             Contract to  \n",
            "11             Contract to  \n",
            "12  Contract to 30.04.2025  \n",
            "13             Contract to  \n",
            "14             Contract to  \n",
            "15  Contract to 30.04.2024  \n",
            "16             Contract to  \n",
            "17             Contract to  \n",
            "18  Contract to 30.04.2025  \n",
            "19             Contract to  \n",
            "20             Contract to  \n",
            "21             Contract to  \n",
            "22             Contract to  \n",
            "23  Contract to 30.04.2024  \n",
            "24             Contract to  \n",
            "25  Contract to 30.04.2025  \n",
            "27  Contract to 30.04.2025  \n",
            "28  Contract to 30.04.2025  \n",
            "29  Contract to 30.04.2024  \n"
          ]
        },
        {
          "output_type": "stream",
          "name": "stderr",
          "text": [
            "<ipython-input-7-5e25f54b2bf4>:19: FutureWarning: The frame.append method is deprecated and will be removed from pandas in a future version. Use pandas.concat instead.\n",
            "  list_profile_links =  list_profile_links.append(profile_links, ignore_index=True)\n"
          ]
        },
        {
          "output_type": "stream",
          "name": "stdout",
          "text": [
            "       Profile link           Name Player  \\\n",
            "0   /players/24968/           Zaar Daniel   \n",
            "1   /players/20040/           Zabis Bruno   \n",
            "2    /players/4701/     Zabolotnev Andrei   \n",
            "3   /players/15782/  Zabornikov Stanislav   \n",
            "4   /players/19090/        Zaborsky Tomas   \n",
            "5   /players/31868/      Zabusovs Patriks   \n",
            "6   /players/17538/     Zackrisson Patrik   \n",
            "7    /players/3889/     Zadelyonov Sergei   \n",
            "9   /players/16116/        Zagrapan Marek   \n",
            "10   /players/4703/      Zainullin Ruslan   \n",
            "11  /players/16207/        Zaitsev Alexei   \n",
            "12  /players/30920/     Zaitsev Daniil L.   \n",
            "13  /players/30671/        Zaitsev Dmitry   \n",
            "14  /players/20988/     Zaitsev Dmitry Y.   \n",
            "15  /players/24943/          Zaitsev Gleb   \n",
            "16  /players/16024/     Zaitsev Nikita I.   \n",
            "17  /players/29908/       Zaitsev Oleg A.   \n",
            "18  /players/23227/      Zaitsev Yegor A.   \n",
            "20  /players/15579/       Zakharchuk Ivan   \n",
            "21  /players/13928/     Zakharchuk Stepan   \n",
            "22  /players/27096/      Zakharov Ilya E.   \n",
            "23  /players/16443/   Zakharov Konstantin   \n",
            "24  /players/19061/       Zakharov Viktor   \n",
            "25  /players/17610/     Zakharov Vladilen   \n",
            "26  /players/33632/    Zakharov Zakhar V.   \n",
            "27  /players/16125/     Zakirov Alexander   \n",
            "28   /players/9495/         Zakiyev Radik   \n",
            "\n",
            "                                             Team          Position  \\\n",
            "0                       Torpedo (Nizhny Novgorod)  Position forward   \n",
            "1                                   Dinamo (Riga)  Position forward   \n",
            "2                          Vityaz (Moscow Region)  Position defense   \n",
            "3                               Amur (Khabarovsk)  Position defense   \n",
            "4                            Salavat Yulaev (Ufa)  Position forward   \n",
            "5                                   Dinamo (Riga)  Position forward   \n",
            "6                              HC Dynamo (Moscow)  Position forward   \n",
            "7                                  Dinamo (Minsk)  Position forward   \n",
            "9                          Ugra (Khanty-Mansiysk)  Position forward   \n",
            "10                                  CSKA (Moscow)  Position forward   \n",
            "11                        Severstal (Cherepovets)  Position forward   \n",
            "12                    Avtomobilist (Ekaterinburg)  Position defense   \n",
            "13                         Vityaz (Moscow Region)  Position forward   \n",
            "14                       Metallurg (Magnitogorsk)  Position defense   \n",
            "15    Traktor (Chelyabinsk) Admiral (Vladivostok)  Position forward   \n",
            "16                                  CSKA (Moscow)  Position defense   \n",
            "17                                Dynamo (Moscow)  Position forward   \n",
            "18                                Dynamo (Moscow)  Position defense   \n",
            "20  Severstal (Cherepovets) Admiral (Vladivostok)  Position forward   \n",
            "21                      Neftekhimik (Nizhnekamsk)  Position defense   \n",
            "22                    Avtomobilist (Ekaterinburg)  Position forward   \n",
            "23                                 Dinamo (Minsk)  Position forward   \n",
            "24                              Donbass (Donetsk)  Position forward   \n",
            "25                       Metallurg (Magnitogorsk)  Position forward   \n",
            "26                       Metallurg (Magnitogorsk)  Position forward   \n",
            "27                    Avtomobilist (Ekaterinburg)  Position forward   \n",
            "28                          Traktor (Chelyabinsk)  Position forward   \n",
            "\n",
            "                      Born     Age           Country             Contract to  \n",
            "0       Born 24 April 1994  Age 29    Country Sweden             Contract to  \n",
            "1     Born 15 January 1991  Age 32    Country Latvia             Contract to  \n",
            "2     Born 20 January 1982  Age 41    Country Russia             Contract to  \n",
            "3         Born 30 May 1991  Age 31    Country Russia             Contract to  \n",
            "4    Born 14 November 1987  Age 35  Country Slovakia             Contract to  \n",
            "5        Born 20 June 2001  Age 21    Country Latvia             Contract to  \n",
            "6       Born 27 March 1987  Age 36    Country Sweden             Contract to  \n",
            "7    Born 27 February 1976  Age 47   Country Belarus             Contract to  \n",
            "9     Born 6 December 1986  Age 36  Country Slovakia             Contract to  \n",
            "10   Born 14 February 1982  Age 41    Country Russia             Contract to  \n",
            "11       Born 29 June 1992  Age 30    Country Russia             Contract to  \n",
            "12    Born 11 October 2001  Age 21    Country Russia             Contract to  \n",
            "13        Born 31 May 2001  Age 21    Country Russia             Contract to  \n",
            "14    Born 18 January 1998  Age 25    Country Russia             Contract to  \n",
            "15    Born 3 November 1999  Age 23    Country Russia             Contract to  \n",
            "16    Born 29 October 1991  Age 31    Country Russia             Contract to  \n",
            "17     Born 7 January 2001  Age 22    Country Russia             Contract to  \n",
            "18         Born 3 May 1998  Age 25    Country Russia             Contract to  \n",
            "20         Born 7 May 1989  Age 34    Country Russia             Contract to  \n",
            "21   Born 30 November 1986  Age 36    Country Russia             Contract to  \n",
            "22  Born 18 September 2000  Age 22    Country Russia  Contract to 30.04.2024  \n",
            "23         Born 2 May 1985  Age 38   Country Belarus             Contract to  \n",
            "24     Born 8 January 1994  Age 29   Country Ukraine             Contract to  \n",
            "25    Born 12 January 1994  Age 29    Country Russia             Contract to  \n",
            "26     Born 9 January 2002  Age 21    Country Russia             Contract to  \n",
            "27        Born 8 July 1992  Age 30    Country Russia             Contract to  \n",
            "28   Born 23 December 1986  Age 36    Country Russia             Contract to  \n",
            "/players/16785/\n"
          ]
        },
        {
          "output_type": "stream",
          "name": "stderr",
          "text": [
            "<ipython-input-7-5e25f54b2bf4>:19: FutureWarning: The frame.append method is deprecated and will be removed from pandas in a future version. Use pandas.concat instead.\n",
            "  list_profile_links =  list_profile_links.append(profile_links, ignore_index=True)\n",
            "<ipython-input-7-5e25f54b2bf4>:39: FutureWarning: The frame.append method is deprecated and will be removed from pandas in a future version. Use pandas.concat instead.\n",
            "  list_player_info = list_player_info.append(player_info, ignore_index=True)\n",
            "<ipython-input-7-5e25f54b2bf4>:41: FutureWarning: The frame.append method is deprecated and will be removed from pandas in a future version. Use pandas.concat instead.\n",
            "  list_player_khl_stat = list_player_khl_stat.append(player_khl_stat, ignore_index=True)\n"
          ]
        },
        {
          "output_type": "stream",
          "name": "stdout",
          "text": [
            "/players/17585/\n"
          ]
        },
        {
          "output_type": "stream",
          "name": "stderr",
          "text": [
            "<ipython-input-7-5e25f54b2bf4>:39: FutureWarning: The frame.append method is deprecated and will be removed from pandas in a future version. Use pandas.concat instead.\n",
            "  list_player_info = list_player_info.append(player_info, ignore_index=True)\n",
            "<ipython-input-7-5e25f54b2bf4>:41: FutureWarning: The frame.append method is deprecated and will be removed from pandas in a future version. Use pandas.concat instead.\n",
            "  list_player_khl_stat = list_player_khl_stat.append(player_khl_stat, ignore_index=True)\n"
          ]
        },
        {
          "output_type": "stream",
          "name": "stdout",
          "text": [
            "/players/13041/\n"
          ]
        },
        {
          "output_type": "stream",
          "name": "stderr",
          "text": [
            "<ipython-input-7-5e25f54b2bf4>:39: FutureWarning: The frame.append method is deprecated and will be removed from pandas in a future version. Use pandas.concat instead.\n",
            "  list_player_info = list_player_info.append(player_info, ignore_index=True)\n",
            "<ipython-input-7-5e25f54b2bf4>:41: FutureWarning: The frame.append method is deprecated and will be removed from pandas in a future version. Use pandas.concat instead.\n",
            "  list_player_khl_stat = list_player_khl_stat.append(player_khl_stat, ignore_index=True)\n"
          ]
        },
        {
          "output_type": "stream",
          "name": "stdout",
          "text": [
            "/players/38736/\n"
          ]
        },
        {
          "output_type": "stream",
          "name": "stderr",
          "text": [
            "<ipython-input-7-5e25f54b2bf4>:39: FutureWarning: The frame.append method is deprecated and will be removed from pandas in a future version. Use pandas.concat instead.\n",
            "  list_player_info = list_player_info.append(player_info, ignore_index=True)\n",
            "<ipython-input-7-5e25f54b2bf4>:41: FutureWarning: The frame.append method is deprecated and will be removed from pandas in a future version. Use pandas.concat instead.\n",
            "  list_player_khl_stat = list_player_khl_stat.append(player_khl_stat, ignore_index=True)\n"
          ]
        },
        {
          "output_type": "stream",
          "name": "stdout",
          "text": [
            "/players/13873/\n"
          ]
        },
        {
          "output_type": "stream",
          "name": "stderr",
          "text": [
            "<ipython-input-7-5e25f54b2bf4>:39: FutureWarning: The frame.append method is deprecated and will be removed from pandas in a future version. Use pandas.concat instead.\n",
            "  list_player_info = list_player_info.append(player_info, ignore_index=True)\n",
            "<ipython-input-7-5e25f54b2bf4>:41: FutureWarning: The frame.append method is deprecated and will be removed from pandas in a future version. Use pandas.concat instead.\n",
            "  list_player_khl_stat = list_player_khl_stat.append(player_khl_stat, ignore_index=True)\n"
          ]
        },
        {
          "output_type": "stream",
          "name": "stdout",
          "text": [
            "/players/19010/\n"
          ]
        },
        {
          "output_type": "stream",
          "name": "stderr",
          "text": [
            "<ipython-input-7-5e25f54b2bf4>:39: FutureWarning: The frame.append method is deprecated and will be removed from pandas in a future version. Use pandas.concat instead.\n",
            "  list_player_info = list_player_info.append(player_info, ignore_index=True)\n",
            "<ipython-input-7-5e25f54b2bf4>:41: FutureWarning: The frame.append method is deprecated and will be removed from pandas in a future version. Use pandas.concat instead.\n",
            "  list_player_khl_stat = list_player_khl_stat.append(player_khl_stat, ignore_index=True)\n"
          ]
        },
        {
          "output_type": "stream",
          "name": "stdout",
          "text": [
            "/players/16221/\n"
          ]
        },
        {
          "output_type": "stream",
          "name": "stderr",
          "text": [
            "<ipython-input-7-5e25f54b2bf4>:39: FutureWarning: The frame.append method is deprecated and will be removed from pandas in a future version. Use pandas.concat instead.\n",
            "  list_player_info = list_player_info.append(player_info, ignore_index=True)\n",
            "<ipython-input-7-5e25f54b2bf4>:41: FutureWarning: The frame.append method is deprecated and will be removed from pandas in a future version. Use pandas.concat instead.\n",
            "  list_player_khl_stat = list_player_khl_stat.append(player_khl_stat, ignore_index=True)\n"
          ]
        },
        {
          "output_type": "stream",
          "name": "stdout",
          "text": [
            "/players/19276/\n"
          ]
        },
        {
          "output_type": "stream",
          "name": "stderr",
          "text": [
            "<ipython-input-7-5e25f54b2bf4>:39: FutureWarning: The frame.append method is deprecated and will be removed from pandas in a future version. Use pandas.concat instead.\n",
            "  list_player_info = list_player_info.append(player_info, ignore_index=True)\n",
            "<ipython-input-7-5e25f54b2bf4>:41: FutureWarning: The frame.append method is deprecated and will be removed from pandas in a future version. Use pandas.concat instead.\n",
            "  list_player_khl_stat = list_player_khl_stat.append(player_khl_stat, ignore_index=True)\n"
          ]
        },
        {
          "output_type": "stream",
          "name": "stdout",
          "text": [
            "/players/20861/\n"
          ]
        },
        {
          "output_type": "stream",
          "name": "stderr",
          "text": [
            "<ipython-input-7-5e25f54b2bf4>:39: FutureWarning: The frame.append method is deprecated and will be removed from pandas in a future version. Use pandas.concat instead.\n",
            "  list_player_info = list_player_info.append(player_info, ignore_index=True)\n",
            "<ipython-input-7-5e25f54b2bf4>:41: FutureWarning: The frame.append method is deprecated and will be removed from pandas in a future version. Use pandas.concat instead.\n",
            "  list_player_khl_stat = list_player_khl_stat.append(player_khl_stat, ignore_index=True)\n"
          ]
        },
        {
          "output_type": "stream",
          "name": "stdout",
          "text": [
            "/players/23630/\n"
          ]
        },
        {
          "output_type": "stream",
          "name": "stderr",
          "text": [
            "<ipython-input-7-5e25f54b2bf4>:39: FutureWarning: The frame.append method is deprecated and will be removed from pandas in a future version. Use pandas.concat instead.\n",
            "  list_player_info = list_player_info.append(player_info, ignore_index=True)\n",
            "<ipython-input-7-5e25f54b2bf4>:41: FutureWarning: The frame.append method is deprecated and will be removed from pandas in a future version. Use pandas.concat instead.\n",
            "  list_player_khl_stat = list_player_khl_stat.append(player_khl_stat, ignore_index=True)\n"
          ]
        },
        {
          "output_type": "stream",
          "name": "stdout",
          "text": [
            "/players/16673/\n"
          ]
        },
        {
          "output_type": "stream",
          "name": "stderr",
          "text": [
            "<ipython-input-7-5e25f54b2bf4>:39: FutureWarning: The frame.append method is deprecated and will be removed from pandas in a future version. Use pandas.concat instead.\n",
            "  list_player_info = list_player_info.append(player_info, ignore_index=True)\n",
            "<ipython-input-7-5e25f54b2bf4>:41: FutureWarning: The frame.append method is deprecated and will be removed from pandas in a future version. Use pandas.concat instead.\n",
            "  list_player_khl_stat = list_player_khl_stat.append(player_khl_stat, ignore_index=True)\n"
          ]
        },
        {
          "output_type": "stream",
          "name": "stdout",
          "text": [
            "/players/23248/\n"
          ]
        },
        {
          "output_type": "stream",
          "name": "stderr",
          "text": [
            "<ipython-input-7-5e25f54b2bf4>:39: FutureWarning: The frame.append method is deprecated and will be removed from pandas in a future version. Use pandas.concat instead.\n",
            "  list_player_info = list_player_info.append(player_info, ignore_index=True)\n",
            "<ipython-input-7-5e25f54b2bf4>:41: FutureWarning: The frame.append method is deprecated and will be removed from pandas in a future version. Use pandas.concat instead.\n",
            "  list_player_khl_stat = list_player_khl_stat.append(player_khl_stat, ignore_index=True)\n"
          ]
        },
        {
          "output_type": "stream",
          "name": "stdout",
          "text": [
            "/players/17968/\n"
          ]
        },
        {
          "output_type": "stream",
          "name": "stderr",
          "text": [
            "<ipython-input-7-5e25f54b2bf4>:39: FutureWarning: The frame.append method is deprecated and will be removed from pandas in a future version. Use pandas.concat instead.\n",
            "  list_player_info = list_player_info.append(player_info, ignore_index=True)\n",
            "<ipython-input-7-5e25f54b2bf4>:41: FutureWarning: The frame.append method is deprecated and will be removed from pandas in a future version. Use pandas.concat instead.\n",
            "  list_player_khl_stat = list_player_khl_stat.append(player_khl_stat, ignore_index=True)\n"
          ]
        },
        {
          "output_type": "stream",
          "name": "stdout",
          "text": [
            "/players/30629/\n"
          ]
        },
        {
          "output_type": "stream",
          "name": "stderr",
          "text": [
            "<ipython-input-7-5e25f54b2bf4>:39: FutureWarning: The frame.append method is deprecated and will be removed from pandas in a future version. Use pandas.concat instead.\n",
            "  list_player_info = list_player_info.append(player_info, ignore_index=True)\n",
            "<ipython-input-7-5e25f54b2bf4>:41: FutureWarning: The frame.append method is deprecated and will be removed from pandas in a future version. Use pandas.concat instead.\n",
            "  list_player_khl_stat = list_player_khl_stat.append(player_khl_stat, ignore_index=True)\n"
          ]
        },
        {
          "output_type": "stream",
          "name": "stdout",
          "text": [
            "/players/18961/\n"
          ]
        },
        {
          "output_type": "stream",
          "name": "stderr",
          "text": [
            "<ipython-input-7-5e25f54b2bf4>:39: FutureWarning: The frame.append method is deprecated and will be removed from pandas in a future version. Use pandas.concat instead.\n",
            "  list_player_info = list_player_info.append(player_info, ignore_index=True)\n",
            "<ipython-input-7-5e25f54b2bf4>:41: FutureWarning: The frame.append method is deprecated and will be removed from pandas in a future version. Use pandas.concat instead.\n",
            "  list_player_khl_stat = list_player_khl_stat.append(player_khl_stat, ignore_index=True)\n"
          ]
        },
        {
          "output_type": "stream",
          "name": "stdout",
          "text": [
            "/players/13490/\n"
          ]
        },
        {
          "output_type": "stream",
          "name": "stderr",
          "text": [
            "<ipython-input-7-5e25f54b2bf4>:39: FutureWarning: The frame.append method is deprecated and will be removed from pandas in a future version. Use pandas.concat instead.\n",
            "  list_player_info = list_player_info.append(player_info, ignore_index=True)\n",
            "<ipython-input-7-5e25f54b2bf4>:41: FutureWarning: The frame.append method is deprecated and will be removed from pandas in a future version. Use pandas.concat instead.\n",
            "  list_player_khl_stat = list_player_khl_stat.append(player_khl_stat, ignore_index=True)\n"
          ]
        },
        {
          "output_type": "stream",
          "name": "stdout",
          "text": [
            "/players/27444/\n"
          ]
        },
        {
          "output_type": "stream",
          "name": "stderr",
          "text": [
            "<ipython-input-7-5e25f54b2bf4>:39: FutureWarning: The frame.append method is deprecated and will be removed from pandas in a future version. Use pandas.concat instead.\n",
            "  list_player_info = list_player_info.append(player_info, ignore_index=True)\n",
            "<ipython-input-7-5e25f54b2bf4>:41: FutureWarning: The frame.append method is deprecated and will be removed from pandas in a future version. Use pandas.concat instead.\n",
            "  list_player_khl_stat = list_player_khl_stat.append(player_khl_stat, ignore_index=True)\n"
          ]
        },
        {
          "output_type": "stream",
          "name": "stdout",
          "text": [
            "/players/22616/\n"
          ]
        },
        {
          "output_type": "stream",
          "name": "stderr",
          "text": [
            "<ipython-input-7-5e25f54b2bf4>:39: FutureWarning: The frame.append method is deprecated and will be removed from pandas in a future version. Use pandas.concat instead.\n",
            "  list_player_info = list_player_info.append(player_info, ignore_index=True)\n",
            "<ipython-input-7-5e25f54b2bf4>:41: FutureWarning: The frame.append method is deprecated and will be removed from pandas in a future version. Use pandas.concat instead.\n",
            "  list_player_khl_stat = list_player_khl_stat.append(player_khl_stat, ignore_index=True)\n"
          ]
        },
        {
          "output_type": "stream",
          "name": "stdout",
          "text": [
            "/players/31046/\n"
          ]
        },
        {
          "output_type": "stream",
          "name": "stderr",
          "text": [
            "<ipython-input-7-5e25f54b2bf4>:39: FutureWarning: The frame.append method is deprecated and will be removed from pandas in a future version. Use pandas.concat instead.\n",
            "  list_player_info = list_player_info.append(player_info, ignore_index=True)\n",
            "<ipython-input-7-5e25f54b2bf4>:41: FutureWarning: The frame.append method is deprecated and will be removed from pandas in a future version. Use pandas.concat instead.\n",
            "  list_player_khl_stat = list_player_khl_stat.append(player_khl_stat, ignore_index=True)\n"
          ]
        },
        {
          "output_type": "stream",
          "name": "stdout",
          "text": [
            "/players/13121/\n"
          ]
        },
        {
          "output_type": "stream",
          "name": "stderr",
          "text": [
            "<ipython-input-7-5e25f54b2bf4>:39: FutureWarning: The frame.append method is deprecated and will be removed from pandas in a future version. Use pandas.concat instead.\n",
            "  list_player_info = list_player_info.append(player_info, ignore_index=True)\n",
            "<ipython-input-7-5e25f54b2bf4>:41: FutureWarning: The frame.append method is deprecated and will be removed from pandas in a future version. Use pandas.concat instead.\n",
            "  list_player_khl_stat = list_player_khl_stat.append(player_khl_stat, ignore_index=True)\n"
          ]
        },
        {
          "output_type": "stream",
          "name": "stdout",
          "text": [
            "/players/20844/\n"
          ]
        },
        {
          "output_type": "stream",
          "name": "stderr",
          "text": [
            "<ipython-input-7-5e25f54b2bf4>:39: FutureWarning: The frame.append method is deprecated and will be removed from pandas in a future version. Use pandas.concat instead.\n",
            "  list_player_info = list_player_info.append(player_info, ignore_index=True)\n",
            "<ipython-input-7-5e25f54b2bf4>:41: FutureWarning: The frame.append method is deprecated and will be removed from pandas in a future version. Use pandas.concat instead.\n",
            "  list_player_khl_stat = list_player_khl_stat.append(player_khl_stat, ignore_index=True)\n"
          ]
        },
        {
          "output_type": "stream",
          "name": "stdout",
          "text": [
            "/players/33320/\n"
          ]
        },
        {
          "output_type": "stream",
          "name": "stderr",
          "text": [
            "<ipython-input-7-5e25f54b2bf4>:39: FutureWarning: The frame.append method is deprecated and will be removed from pandas in a future version. Use pandas.concat instead.\n",
            "  list_player_info = list_player_info.append(player_info, ignore_index=True)\n",
            "<ipython-input-7-5e25f54b2bf4>:41: FutureWarning: The frame.append method is deprecated and will be removed from pandas in a future version. Use pandas.concat instead.\n",
            "  list_player_khl_stat = list_player_khl_stat.append(player_khl_stat, ignore_index=True)\n"
          ]
        },
        {
          "output_type": "stream",
          "name": "stdout",
          "text": [
            "/players/40283/\n"
          ]
        },
        {
          "output_type": "stream",
          "name": "stderr",
          "text": [
            "<ipython-input-7-5e25f54b2bf4>:39: FutureWarning: The frame.append method is deprecated and will be removed from pandas in a future version. Use pandas.concat instead.\n",
            "  list_player_info = list_player_info.append(player_info, ignore_index=True)\n",
            "<ipython-input-7-5e25f54b2bf4>:41: FutureWarning: The frame.append method is deprecated and will be removed from pandas in a future version. Use pandas.concat instead.\n",
            "  list_player_khl_stat = list_player_khl_stat.append(player_khl_stat, ignore_index=True)\n"
          ]
        },
        {
          "output_type": "stream",
          "name": "stdout",
          "text": [
            "/players/23434/\n"
          ]
        },
        {
          "output_type": "stream",
          "name": "stderr",
          "text": [
            "<ipython-input-7-5e25f54b2bf4>:39: FutureWarning: The frame.append method is deprecated and will be removed from pandas in a future version. Use pandas.concat instead.\n",
            "  list_player_info = list_player_info.append(player_info, ignore_index=True)\n",
            "<ipython-input-7-5e25f54b2bf4>:41: FutureWarning: The frame.append method is deprecated and will be removed from pandas in a future version. Use pandas.concat instead.\n",
            "  list_player_khl_stat = list_player_khl_stat.append(player_khl_stat, ignore_index=True)\n"
          ]
        },
        {
          "output_type": "stream",
          "name": "stdout",
          "text": [
            "/players/35353/\n"
          ]
        },
        {
          "output_type": "stream",
          "name": "stderr",
          "text": [
            "<ipython-input-7-5e25f54b2bf4>:39: FutureWarning: The frame.append method is deprecated and will be removed from pandas in a future version. Use pandas.concat instead.\n",
            "  list_player_info = list_player_info.append(player_info, ignore_index=True)\n",
            "<ipython-input-7-5e25f54b2bf4>:41: FutureWarning: The frame.append method is deprecated and will be removed from pandas in a future version. Use pandas.concat instead.\n",
            "  list_player_khl_stat = list_player_khl_stat.append(player_khl_stat, ignore_index=True)\n"
          ]
        },
        {
          "output_type": "stream",
          "name": "stdout",
          "text": [
            "/players/15218/\n"
          ]
        },
        {
          "output_type": "stream",
          "name": "stderr",
          "text": [
            "<ipython-input-7-5e25f54b2bf4>:39: FutureWarning: The frame.append method is deprecated and will be removed from pandas in a future version. Use pandas.concat instead.\n",
            "  list_player_info = list_player_info.append(player_info, ignore_index=True)\n",
            "<ipython-input-7-5e25f54b2bf4>:41: FutureWarning: The frame.append method is deprecated and will be removed from pandas in a future version. Use pandas.concat instead.\n",
            "  list_player_khl_stat = list_player_khl_stat.append(player_khl_stat, ignore_index=True)\n"
          ]
        },
        {
          "output_type": "stream",
          "name": "stdout",
          "text": [
            "/players/25739/\n"
          ]
        },
        {
          "output_type": "stream",
          "name": "stderr",
          "text": [
            "<ipython-input-7-5e25f54b2bf4>:39: FutureWarning: The frame.append method is deprecated and will be removed from pandas in a future version. Use pandas.concat instead.\n",
            "  list_player_info = list_player_info.append(player_info, ignore_index=True)\n",
            "<ipython-input-7-5e25f54b2bf4>:41: FutureWarning: The frame.append method is deprecated and will be removed from pandas in a future version. Use pandas.concat instead.\n",
            "  list_player_khl_stat = list_player_khl_stat.append(player_khl_stat, ignore_index=True)\n"
          ]
        },
        {
          "output_type": "stream",
          "name": "stdout",
          "text": [
            "/players/3950/\n"
          ]
        },
        {
          "output_type": "stream",
          "name": "stderr",
          "text": [
            "<ipython-input-7-5e25f54b2bf4>:39: FutureWarning: The frame.append method is deprecated and will be removed from pandas in a future version. Use pandas.concat instead.\n",
            "  list_player_info = list_player_info.append(player_info, ignore_index=True)\n",
            "<ipython-input-7-5e25f54b2bf4>:41: FutureWarning: The frame.append method is deprecated and will be removed from pandas in a future version. Use pandas.concat instead.\n",
            "  list_player_khl_stat = list_player_khl_stat.append(player_khl_stat, ignore_index=True)\n"
          ]
        },
        {
          "output_type": "stream",
          "name": "stdout",
          "text": [
            "/players/21263/\n"
          ]
        },
        {
          "output_type": "stream",
          "name": "stderr",
          "text": [
            "<ipython-input-7-5e25f54b2bf4>:39: FutureWarning: The frame.append method is deprecated and will be removed from pandas in a future version. Use pandas.concat instead.\n",
            "  list_player_info = list_player_info.append(player_info, ignore_index=True)\n",
            "<ipython-input-7-5e25f54b2bf4>:41: FutureWarning: The frame.append method is deprecated and will be removed from pandas in a future version. Use pandas.concat instead.\n",
            "  list_player_khl_stat = list_player_khl_stat.append(player_khl_stat, ignore_index=True)\n"
          ]
        },
        {
          "output_type": "stream",
          "name": "stdout",
          "text": [
            "/players/10892/\n"
          ]
        },
        {
          "output_type": "stream",
          "name": "stderr",
          "text": [
            "<ipython-input-7-5e25f54b2bf4>:39: FutureWarning: The frame.append method is deprecated and will be removed from pandas in a future version. Use pandas.concat instead.\n",
            "  list_player_info = list_player_info.append(player_info, ignore_index=True)\n",
            "<ipython-input-7-5e25f54b2bf4>:41: FutureWarning: The frame.append method is deprecated and will be removed from pandas in a future version. Use pandas.concat instead.\n",
            "  list_player_khl_stat = list_player_khl_stat.append(player_khl_stat, ignore_index=True)\n"
          ]
        },
        {
          "output_type": "stream",
          "name": "stdout",
          "text": [
            "/players/26798/\n"
          ]
        },
        {
          "output_type": "stream",
          "name": "stderr",
          "text": [
            "<ipython-input-7-5e25f54b2bf4>:39: FutureWarning: The frame.append method is deprecated and will be removed from pandas in a future version. Use pandas.concat instead.\n",
            "  list_player_info = list_player_info.append(player_info, ignore_index=True)\n",
            "<ipython-input-7-5e25f54b2bf4>:41: FutureWarning: The frame.append method is deprecated and will be removed from pandas in a future version. Use pandas.concat instead.\n",
            "  list_player_khl_stat = list_player_khl_stat.append(player_khl_stat, ignore_index=True)\n"
          ]
        },
        {
          "output_type": "stream",
          "name": "stdout",
          "text": [
            "/players/23764/\n"
          ]
        },
        {
          "output_type": "stream",
          "name": "stderr",
          "text": [
            "<ipython-input-7-5e25f54b2bf4>:39: FutureWarning: The frame.append method is deprecated and will be removed from pandas in a future version. Use pandas.concat instead.\n",
            "  list_player_info = list_player_info.append(player_info, ignore_index=True)\n",
            "<ipython-input-7-5e25f54b2bf4>:41: FutureWarning: The frame.append method is deprecated and will be removed from pandas in a future version. Use pandas.concat instead.\n",
            "  list_player_khl_stat = list_player_khl_stat.append(player_khl_stat, ignore_index=True)\n"
          ]
        },
        {
          "output_type": "stream",
          "name": "stdout",
          "text": [
            "/players/15943/\n"
          ]
        },
        {
          "output_type": "stream",
          "name": "stderr",
          "text": [
            "<ipython-input-7-5e25f54b2bf4>:39: FutureWarning: The frame.append method is deprecated and will be removed from pandas in a future version. Use pandas.concat instead.\n",
            "  list_player_info = list_player_info.append(player_info, ignore_index=True)\n",
            "<ipython-input-7-5e25f54b2bf4>:41: FutureWarning: The frame.append method is deprecated and will be removed from pandas in a future version. Use pandas.concat instead.\n",
            "  list_player_khl_stat = list_player_khl_stat.append(player_khl_stat, ignore_index=True)\n"
          ]
        },
        {
          "output_type": "stream",
          "name": "stdout",
          "text": [
            "/players/23640/\n"
          ]
        },
        {
          "output_type": "stream",
          "name": "stderr",
          "text": [
            "<ipython-input-7-5e25f54b2bf4>:39: FutureWarning: The frame.append method is deprecated and will be removed from pandas in a future version. Use pandas.concat instead.\n",
            "  list_player_info = list_player_info.append(player_info, ignore_index=True)\n",
            "<ipython-input-7-5e25f54b2bf4>:41: FutureWarning: The frame.append method is deprecated and will be removed from pandas in a future version. Use pandas.concat instead.\n",
            "  list_player_khl_stat = list_player_khl_stat.append(player_khl_stat, ignore_index=True)\n"
          ]
        },
        {
          "output_type": "stream",
          "name": "stdout",
          "text": [
            "/players/20553/\n"
          ]
        },
        {
          "output_type": "stream",
          "name": "stderr",
          "text": [
            "<ipython-input-7-5e25f54b2bf4>:39: FutureWarning: The frame.append method is deprecated and will be removed from pandas in a future version. Use pandas.concat instead.\n",
            "  list_player_info = list_player_info.append(player_info, ignore_index=True)\n",
            "<ipython-input-7-5e25f54b2bf4>:41: FutureWarning: The frame.append method is deprecated and will be removed from pandas in a future version. Use pandas.concat instead.\n",
            "  list_player_khl_stat = list_player_khl_stat.append(player_khl_stat, ignore_index=True)\n"
          ]
        },
        {
          "output_type": "stream",
          "name": "stdout",
          "text": [
            "/players/21604/\n"
          ]
        },
        {
          "output_type": "stream",
          "name": "stderr",
          "text": [
            "<ipython-input-7-5e25f54b2bf4>:39: FutureWarning: The frame.append method is deprecated and will be removed from pandas in a future version. Use pandas.concat instead.\n",
            "  list_player_info = list_player_info.append(player_info, ignore_index=True)\n",
            "<ipython-input-7-5e25f54b2bf4>:41: FutureWarning: The frame.append method is deprecated and will be removed from pandas in a future version. Use pandas.concat instead.\n",
            "  list_player_khl_stat = list_player_khl_stat.append(player_khl_stat, ignore_index=True)\n"
          ]
        },
        {
          "output_type": "stream",
          "name": "stdout",
          "text": [
            "/players/4087/\n"
          ]
        },
        {
          "output_type": "stream",
          "name": "stderr",
          "text": [
            "<ipython-input-7-5e25f54b2bf4>:39: FutureWarning: The frame.append method is deprecated and will be removed from pandas in a future version. Use pandas.concat instead.\n",
            "  list_player_info = list_player_info.append(player_info, ignore_index=True)\n",
            "<ipython-input-7-5e25f54b2bf4>:41: FutureWarning: The frame.append method is deprecated and will be removed from pandas in a future version. Use pandas.concat instead.\n",
            "  list_player_khl_stat = list_player_khl_stat.append(player_khl_stat, ignore_index=True)\n"
          ]
        },
        {
          "output_type": "stream",
          "name": "stdout",
          "text": [
            "/players/22147/\n"
          ]
        },
        {
          "output_type": "stream",
          "name": "stderr",
          "text": [
            "<ipython-input-7-5e25f54b2bf4>:39: FutureWarning: The frame.append method is deprecated and will be removed from pandas in a future version. Use pandas.concat instead.\n",
            "  list_player_info = list_player_info.append(player_info, ignore_index=True)\n",
            "<ipython-input-7-5e25f54b2bf4>:41: FutureWarning: The frame.append method is deprecated and will be removed from pandas in a future version. Use pandas.concat instead.\n",
            "  list_player_khl_stat = list_player_khl_stat.append(player_khl_stat, ignore_index=True)\n"
          ]
        },
        {
          "output_type": "stream",
          "name": "stdout",
          "text": [
            "/players/33314/\n"
          ]
        },
        {
          "output_type": "stream",
          "name": "stderr",
          "text": [
            "<ipython-input-7-5e25f54b2bf4>:39: FutureWarning: The frame.append method is deprecated and will be removed from pandas in a future version. Use pandas.concat instead.\n",
            "  list_player_info = list_player_info.append(player_info, ignore_index=True)\n",
            "<ipython-input-7-5e25f54b2bf4>:41: FutureWarning: The frame.append method is deprecated and will be removed from pandas in a future version. Use pandas.concat instead.\n",
            "  list_player_khl_stat = list_player_khl_stat.append(player_khl_stat, ignore_index=True)\n"
          ]
        },
        {
          "output_type": "stream",
          "name": "stdout",
          "text": [
            "/players/39812/\n"
          ]
        },
        {
          "output_type": "stream",
          "name": "stderr",
          "text": [
            "<ipython-input-7-5e25f54b2bf4>:39: FutureWarning: The frame.append method is deprecated and will be removed from pandas in a future version. Use pandas.concat instead.\n",
            "  list_player_info = list_player_info.append(player_info, ignore_index=True)\n",
            "<ipython-input-7-5e25f54b2bf4>:41: FutureWarning: The frame.append method is deprecated and will be removed from pandas in a future version. Use pandas.concat instead.\n",
            "  list_player_khl_stat = list_player_khl_stat.append(player_khl_stat, ignore_index=True)\n"
          ]
        },
        {
          "output_type": "stream",
          "name": "stdout",
          "text": [
            "/players/14342/\n"
          ]
        },
        {
          "output_type": "stream",
          "name": "stderr",
          "text": [
            "<ipython-input-7-5e25f54b2bf4>:39: FutureWarning: The frame.append method is deprecated and will be removed from pandas in a future version. Use pandas.concat instead.\n",
            "  list_player_info = list_player_info.append(player_info, ignore_index=True)\n",
            "<ipython-input-7-5e25f54b2bf4>:41: FutureWarning: The frame.append method is deprecated and will be removed from pandas in a future version. Use pandas.concat instead.\n",
            "  list_player_khl_stat = list_player_khl_stat.append(player_khl_stat, ignore_index=True)\n"
          ]
        },
        {
          "output_type": "stream",
          "name": "stdout",
          "text": [
            "/players/15063/\n"
          ]
        },
        {
          "output_type": "stream",
          "name": "stderr",
          "text": [
            "<ipython-input-7-5e25f54b2bf4>:39: FutureWarning: The frame.append method is deprecated and will be removed from pandas in a future version. Use pandas.concat instead.\n",
            "  list_player_info = list_player_info.append(player_info, ignore_index=True)\n",
            "<ipython-input-7-5e25f54b2bf4>:41: FutureWarning: The frame.append method is deprecated and will be removed from pandas in a future version. Use pandas.concat instead.\n",
            "  list_player_khl_stat = list_player_khl_stat.append(player_khl_stat, ignore_index=True)\n"
          ]
        },
        {
          "output_type": "stream",
          "name": "stdout",
          "text": [
            "/players/18926/\n"
          ]
        },
        {
          "output_type": "stream",
          "name": "stderr",
          "text": [
            "<ipython-input-7-5e25f54b2bf4>:39: FutureWarning: The frame.append method is deprecated and will be removed from pandas in a future version. Use pandas.concat instead.\n",
            "  list_player_info = list_player_info.append(player_info, ignore_index=True)\n",
            "<ipython-input-7-5e25f54b2bf4>:41: FutureWarning: The frame.append method is deprecated and will be removed from pandas in a future version. Use pandas.concat instead.\n",
            "  list_player_khl_stat = list_player_khl_stat.append(player_khl_stat, ignore_index=True)\n"
          ]
        },
        {
          "output_type": "stream",
          "name": "stdout",
          "text": [
            "/players/22190/\n"
          ]
        },
        {
          "output_type": "stream",
          "name": "stderr",
          "text": [
            "<ipython-input-7-5e25f54b2bf4>:39: FutureWarning: The frame.append method is deprecated and will be removed from pandas in a future version. Use pandas.concat instead.\n",
            "  list_player_info = list_player_info.append(player_info, ignore_index=True)\n",
            "<ipython-input-7-5e25f54b2bf4>:41: FutureWarning: The frame.append method is deprecated and will be removed from pandas in a future version. Use pandas.concat instead.\n",
            "  list_player_khl_stat = list_player_khl_stat.append(player_khl_stat, ignore_index=True)\n"
          ]
        },
        {
          "output_type": "stream",
          "name": "stdout",
          "text": [
            "/players/17678/\n"
          ]
        },
        {
          "output_type": "stream",
          "name": "stderr",
          "text": [
            "<ipython-input-7-5e25f54b2bf4>:39: FutureWarning: The frame.append method is deprecated and will be removed from pandas in a future version. Use pandas.concat instead.\n",
            "  list_player_info = list_player_info.append(player_info, ignore_index=True)\n",
            "<ipython-input-7-5e25f54b2bf4>:41: FutureWarning: The frame.append method is deprecated and will be removed from pandas in a future version. Use pandas.concat instead.\n",
            "  list_player_khl_stat = list_player_khl_stat.append(player_khl_stat, ignore_index=True)\n"
          ]
        },
        {
          "output_type": "stream",
          "name": "stdout",
          "text": [
            "/players/4800/\n"
          ]
        },
        {
          "output_type": "stream",
          "name": "stderr",
          "text": [
            "<ipython-input-7-5e25f54b2bf4>:39: FutureWarning: The frame.append method is deprecated and will be removed from pandas in a future version. Use pandas.concat instead.\n",
            "  list_player_info = list_player_info.append(player_info, ignore_index=True)\n",
            "<ipython-input-7-5e25f54b2bf4>:41: FutureWarning: The frame.append method is deprecated and will be removed from pandas in a future version. Use pandas.concat instead.\n",
            "  list_player_khl_stat = list_player_khl_stat.append(player_khl_stat, ignore_index=True)\n"
          ]
        },
        {
          "output_type": "stream",
          "name": "stdout",
          "text": [
            "/players/18974/\n"
          ]
        },
        {
          "output_type": "stream",
          "name": "stderr",
          "text": [
            "<ipython-input-7-5e25f54b2bf4>:39: FutureWarning: The frame.append method is deprecated and will be removed from pandas in a future version. Use pandas.concat instead.\n",
            "  list_player_info = list_player_info.append(player_info, ignore_index=True)\n",
            "<ipython-input-7-5e25f54b2bf4>:41: FutureWarning: The frame.append method is deprecated and will be removed from pandas in a future version. Use pandas.concat instead.\n",
            "  list_player_khl_stat = list_player_khl_stat.append(player_khl_stat, ignore_index=True)\n"
          ]
        },
        {
          "output_type": "stream",
          "name": "stdout",
          "text": [
            "/players/23503/\n"
          ]
        },
        {
          "output_type": "stream",
          "name": "stderr",
          "text": [
            "<ipython-input-7-5e25f54b2bf4>:39: FutureWarning: The frame.append method is deprecated and will be removed from pandas in a future version. Use pandas.concat instead.\n",
            "  list_player_info = list_player_info.append(player_info, ignore_index=True)\n",
            "<ipython-input-7-5e25f54b2bf4>:41: FutureWarning: The frame.append method is deprecated and will be removed from pandas in a future version. Use pandas.concat instead.\n",
            "  list_player_khl_stat = list_player_khl_stat.append(player_khl_stat, ignore_index=True)\n"
          ]
        },
        {
          "output_type": "stream",
          "name": "stdout",
          "text": [
            "/players/24048/\n"
          ]
        },
        {
          "output_type": "stream",
          "name": "stderr",
          "text": [
            "<ipython-input-7-5e25f54b2bf4>:39: FutureWarning: The frame.append method is deprecated and will be removed from pandas in a future version. Use pandas.concat instead.\n",
            "  list_player_info = list_player_info.append(player_info, ignore_index=True)\n",
            "<ipython-input-7-5e25f54b2bf4>:41: FutureWarning: The frame.append method is deprecated and will be removed from pandas in a future version. Use pandas.concat instead.\n",
            "  list_player_khl_stat = list_player_khl_stat.append(player_khl_stat, ignore_index=True)\n"
          ]
        },
        {
          "output_type": "stream",
          "name": "stdout",
          "text": [
            "/players/10846/\n"
          ]
        },
        {
          "output_type": "stream",
          "name": "stderr",
          "text": [
            "<ipython-input-7-5e25f54b2bf4>:39: FutureWarning: The frame.append method is deprecated and will be removed from pandas in a future version. Use pandas.concat instead.\n",
            "  list_player_info = list_player_info.append(player_info, ignore_index=True)\n",
            "<ipython-input-7-5e25f54b2bf4>:41: FutureWarning: The frame.append method is deprecated and will be removed from pandas in a future version. Use pandas.concat instead.\n",
            "  list_player_khl_stat = list_player_khl_stat.append(player_khl_stat, ignore_index=True)\n"
          ]
        },
        {
          "output_type": "stream",
          "name": "stdout",
          "text": [
            "/players/15746/\n"
          ]
        },
        {
          "output_type": "stream",
          "name": "stderr",
          "text": [
            "<ipython-input-7-5e25f54b2bf4>:39: FutureWarning: The frame.append method is deprecated and will be removed from pandas in a future version. Use pandas.concat instead.\n",
            "  list_player_info = list_player_info.append(player_info, ignore_index=True)\n",
            "<ipython-input-7-5e25f54b2bf4>:41: FutureWarning: The frame.append method is deprecated and will be removed from pandas in a future version. Use pandas.concat instead.\n",
            "  list_player_khl_stat = list_player_khl_stat.append(player_khl_stat, ignore_index=True)\n"
          ]
        },
        {
          "output_type": "stream",
          "name": "stdout",
          "text": [
            "/players/17210/\n"
          ]
        },
        {
          "output_type": "stream",
          "name": "stderr",
          "text": [
            "<ipython-input-7-5e25f54b2bf4>:39: FutureWarning: The frame.append method is deprecated and will be removed from pandas in a future version. Use pandas.concat instead.\n",
            "  list_player_info = list_player_info.append(player_info, ignore_index=True)\n",
            "<ipython-input-7-5e25f54b2bf4>:41: FutureWarning: The frame.append method is deprecated and will be removed from pandas in a future version. Use pandas.concat instead.\n",
            "  list_player_khl_stat = list_player_khl_stat.append(player_khl_stat, ignore_index=True)\n"
          ]
        },
        {
          "output_type": "stream",
          "name": "stdout",
          "text": [
            "/players/20973/\n"
          ]
        },
        {
          "output_type": "stream",
          "name": "stderr",
          "text": [
            "<ipython-input-7-5e25f54b2bf4>:39: FutureWarning: The frame.append method is deprecated and will be removed from pandas in a future version. Use pandas.concat instead.\n",
            "  list_player_info = list_player_info.append(player_info, ignore_index=True)\n",
            "<ipython-input-7-5e25f54b2bf4>:41: FutureWarning: The frame.append method is deprecated and will be removed from pandas in a future version. Use pandas.concat instead.\n",
            "  list_player_khl_stat = list_player_khl_stat.append(player_khl_stat, ignore_index=True)\n"
          ]
        },
        {
          "output_type": "stream",
          "name": "stdout",
          "text": [
            "/players/15215/\n"
          ]
        },
        {
          "output_type": "stream",
          "name": "stderr",
          "text": [
            "<ipython-input-7-5e25f54b2bf4>:39: FutureWarning: The frame.append method is deprecated and will be removed from pandas in a future version. Use pandas.concat instead.\n",
            "  list_player_info = list_player_info.append(player_info, ignore_index=True)\n",
            "<ipython-input-7-5e25f54b2bf4>:41: FutureWarning: The frame.append method is deprecated and will be removed from pandas in a future version. Use pandas.concat instead.\n",
            "  list_player_khl_stat = list_player_khl_stat.append(player_khl_stat, ignore_index=True)\n"
          ]
        },
        {
          "output_type": "stream",
          "name": "stdout",
          "text": [
            "/players/20711/\n"
          ]
        },
        {
          "output_type": "stream",
          "name": "stderr",
          "text": [
            "<ipython-input-7-5e25f54b2bf4>:39: FutureWarning: The frame.append method is deprecated and will be removed from pandas in a future version. Use pandas.concat instead.\n",
            "  list_player_info = list_player_info.append(player_info, ignore_index=True)\n",
            "<ipython-input-7-5e25f54b2bf4>:41: FutureWarning: The frame.append method is deprecated and will be removed from pandas in a future version. Use pandas.concat instead.\n",
            "  list_player_khl_stat = list_player_khl_stat.append(player_khl_stat, ignore_index=True)\n"
          ]
        },
        {
          "output_type": "stream",
          "name": "stdout",
          "text": [
            "/players/19544/\n"
          ]
        },
        {
          "output_type": "stream",
          "name": "stderr",
          "text": [
            "<ipython-input-7-5e25f54b2bf4>:39: FutureWarning: The frame.append method is deprecated and will be removed from pandas in a future version. Use pandas.concat instead.\n",
            "  list_player_info = list_player_info.append(player_info, ignore_index=True)\n",
            "<ipython-input-7-5e25f54b2bf4>:41: FutureWarning: The frame.append method is deprecated and will be removed from pandas in a future version. Use pandas.concat instead.\n",
            "  list_player_khl_stat = list_player_khl_stat.append(player_khl_stat, ignore_index=True)\n"
          ]
        },
        {
          "output_type": "stream",
          "name": "stdout",
          "text": [
            "/players/15081/\n"
          ]
        },
        {
          "output_type": "stream",
          "name": "stderr",
          "text": [
            "<ipython-input-7-5e25f54b2bf4>:39: FutureWarning: The frame.append method is deprecated and will be removed from pandas in a future version. Use pandas.concat instead.\n",
            "  list_player_info = list_player_info.append(player_info, ignore_index=True)\n",
            "<ipython-input-7-5e25f54b2bf4>:41: FutureWarning: The frame.append method is deprecated and will be removed from pandas in a future version. Use pandas.concat instead.\n",
            "  list_player_khl_stat = list_player_khl_stat.append(player_khl_stat, ignore_index=True)\n"
          ]
        },
        {
          "output_type": "stream",
          "name": "stdout",
          "text": [
            "/players/19530/\n"
          ]
        },
        {
          "output_type": "stream",
          "name": "stderr",
          "text": [
            "<ipython-input-7-5e25f54b2bf4>:39: FutureWarning: The frame.append method is deprecated and will be removed from pandas in a future version. Use pandas.concat instead.\n",
            "  list_player_info = list_player_info.append(player_info, ignore_index=True)\n",
            "<ipython-input-7-5e25f54b2bf4>:41: FutureWarning: The frame.append method is deprecated and will be removed from pandas in a future version. Use pandas.concat instead.\n",
            "  list_player_khl_stat = list_player_khl_stat.append(player_khl_stat, ignore_index=True)\n"
          ]
        },
        {
          "output_type": "stream",
          "name": "stdout",
          "text": [
            "/players/17341/\n"
          ]
        },
        {
          "output_type": "stream",
          "name": "stderr",
          "text": [
            "<ipython-input-7-5e25f54b2bf4>:39: FutureWarning: The frame.append method is deprecated and will be removed from pandas in a future version. Use pandas.concat instead.\n",
            "  list_player_info = list_player_info.append(player_info, ignore_index=True)\n",
            "<ipython-input-7-5e25f54b2bf4>:41: FutureWarning: The frame.append method is deprecated and will be removed from pandas in a future version. Use pandas.concat instead.\n",
            "  list_player_khl_stat = list_player_khl_stat.append(player_khl_stat, ignore_index=True)\n"
          ]
        },
        {
          "output_type": "stream",
          "name": "stdout",
          "text": [
            "/players/31274/\n"
          ]
        },
        {
          "output_type": "stream",
          "name": "stderr",
          "text": [
            "<ipython-input-7-5e25f54b2bf4>:39: FutureWarning: The frame.append method is deprecated and will be removed from pandas in a future version. Use pandas.concat instead.\n",
            "  list_player_info = list_player_info.append(player_info, ignore_index=True)\n",
            "<ipython-input-7-5e25f54b2bf4>:41: FutureWarning: The frame.append method is deprecated and will be removed from pandas in a future version. Use pandas.concat instead.\n",
            "  list_player_khl_stat = list_player_khl_stat.append(player_khl_stat, ignore_index=True)\n"
          ]
        },
        {
          "output_type": "stream",
          "name": "stdout",
          "text": [
            "/players/41583/\n"
          ]
        },
        {
          "output_type": "stream",
          "name": "stderr",
          "text": [
            "<ipython-input-7-5e25f54b2bf4>:39: FutureWarning: The frame.append method is deprecated and will be removed from pandas in a future version. Use pandas.concat instead.\n",
            "  list_player_info = list_player_info.append(player_info, ignore_index=True)\n",
            "<ipython-input-7-5e25f54b2bf4>:41: FutureWarning: The frame.append method is deprecated and will be removed from pandas in a future version. Use pandas.concat instead.\n",
            "  list_player_khl_stat = list_player_khl_stat.append(player_khl_stat, ignore_index=True)\n"
          ]
        },
        {
          "output_type": "stream",
          "name": "stdout",
          "text": [
            "/players/42355/\n"
          ]
        },
        {
          "output_type": "stream",
          "name": "stderr",
          "text": [
            "<ipython-input-7-5e25f54b2bf4>:39: FutureWarning: The frame.append method is deprecated and will be removed from pandas in a future version. Use pandas.concat instead.\n",
            "  list_player_info = list_player_info.append(player_info, ignore_index=True)\n",
            "<ipython-input-7-5e25f54b2bf4>:41: FutureWarning: The frame.append method is deprecated and will be removed from pandas in a future version. Use pandas.concat instead.\n",
            "  list_player_khl_stat = list_player_khl_stat.append(player_khl_stat, ignore_index=True)\n"
          ]
        },
        {
          "output_type": "stream",
          "name": "stdout",
          "text": [
            "/players/18937/\n"
          ]
        },
        {
          "output_type": "stream",
          "name": "stderr",
          "text": [
            "<ipython-input-7-5e25f54b2bf4>:39: FutureWarning: The frame.append method is deprecated and will be removed from pandas in a future version. Use pandas.concat instead.\n",
            "  list_player_info = list_player_info.append(player_info, ignore_index=True)\n",
            "<ipython-input-7-5e25f54b2bf4>:41: FutureWarning: The frame.append method is deprecated and will be removed from pandas in a future version. Use pandas.concat instead.\n",
            "  list_player_khl_stat = list_player_khl_stat.append(player_khl_stat, ignore_index=True)\n"
          ]
        },
        {
          "output_type": "stream",
          "name": "stdout",
          "text": [
            "/players/33476/\n"
          ]
        },
        {
          "output_type": "stream",
          "name": "stderr",
          "text": [
            "<ipython-input-7-5e25f54b2bf4>:39: FutureWarning: The frame.append method is deprecated and will be removed from pandas in a future version. Use pandas.concat instead.\n",
            "  list_player_info = list_player_info.append(player_info, ignore_index=True)\n",
            "<ipython-input-7-5e25f54b2bf4>:41: FutureWarning: The frame.append method is deprecated and will be removed from pandas in a future version. Use pandas.concat instead.\n",
            "  list_player_khl_stat = list_player_khl_stat.append(player_khl_stat, ignore_index=True)\n"
          ]
        },
        {
          "output_type": "stream",
          "name": "stdout",
          "text": [
            "/players/13203/\n"
          ]
        },
        {
          "output_type": "stream",
          "name": "stderr",
          "text": [
            "<ipython-input-7-5e25f54b2bf4>:39: FutureWarning: The frame.append method is deprecated and will be removed from pandas in a future version. Use pandas.concat instead.\n",
            "  list_player_info = list_player_info.append(player_info, ignore_index=True)\n",
            "<ipython-input-7-5e25f54b2bf4>:41: FutureWarning: The frame.append method is deprecated and will be removed from pandas in a future version. Use pandas.concat instead.\n",
            "  list_player_khl_stat = list_player_khl_stat.append(player_khl_stat, ignore_index=True)\n"
          ]
        },
        {
          "output_type": "stream",
          "name": "stdout",
          "text": [
            "/players/24964/\n"
          ]
        },
        {
          "output_type": "stream",
          "name": "stderr",
          "text": [
            "<ipython-input-7-5e25f54b2bf4>:39: FutureWarning: The frame.append method is deprecated and will be removed from pandas in a future version. Use pandas.concat instead.\n",
            "  list_player_info = list_player_info.append(player_info, ignore_index=True)\n",
            "<ipython-input-7-5e25f54b2bf4>:41: FutureWarning: The frame.append method is deprecated and will be removed from pandas in a future version. Use pandas.concat instead.\n",
            "  list_player_khl_stat = list_player_khl_stat.append(player_khl_stat, ignore_index=True)\n"
          ]
        },
        {
          "output_type": "stream",
          "name": "stdout",
          "text": [
            "/players/10857/\n"
          ]
        },
        {
          "output_type": "stream",
          "name": "stderr",
          "text": [
            "<ipython-input-7-5e25f54b2bf4>:39: FutureWarning: The frame.append method is deprecated and will be removed from pandas in a future version. Use pandas.concat instead.\n",
            "  list_player_info = list_player_info.append(player_info, ignore_index=True)\n",
            "<ipython-input-7-5e25f54b2bf4>:41: FutureWarning: The frame.append method is deprecated and will be removed from pandas in a future version. Use pandas.concat instead.\n",
            "  list_player_khl_stat = list_player_khl_stat.append(player_khl_stat, ignore_index=True)\n"
          ]
        },
        {
          "output_type": "stream",
          "name": "stdout",
          "text": [
            "/players/28628/\n"
          ]
        },
        {
          "output_type": "stream",
          "name": "stderr",
          "text": [
            "<ipython-input-7-5e25f54b2bf4>:39: FutureWarning: The frame.append method is deprecated and will be removed from pandas in a future version. Use pandas.concat instead.\n",
            "  list_player_info = list_player_info.append(player_info, ignore_index=True)\n",
            "<ipython-input-7-5e25f54b2bf4>:41: FutureWarning: The frame.append method is deprecated and will be removed from pandas in a future version. Use pandas.concat instead.\n",
            "  list_player_khl_stat = list_player_khl_stat.append(player_khl_stat, ignore_index=True)\n"
          ]
        },
        {
          "output_type": "stream",
          "name": "stdout",
          "text": [
            "/players/16827/\n"
          ]
        },
        {
          "output_type": "stream",
          "name": "stderr",
          "text": [
            "<ipython-input-7-5e25f54b2bf4>:39: FutureWarning: The frame.append method is deprecated and will be removed from pandas in a future version. Use pandas.concat instead.\n",
            "  list_player_info = list_player_info.append(player_info, ignore_index=True)\n",
            "<ipython-input-7-5e25f54b2bf4>:41: FutureWarning: The frame.append method is deprecated and will be removed from pandas in a future version. Use pandas.concat instead.\n",
            "  list_player_khl_stat = list_player_khl_stat.append(player_khl_stat, ignore_index=True)\n"
          ]
        },
        {
          "output_type": "stream",
          "name": "stdout",
          "text": [
            "/players/19606/\n"
          ]
        },
        {
          "output_type": "stream",
          "name": "stderr",
          "text": [
            "<ipython-input-7-5e25f54b2bf4>:39: FutureWarning: The frame.append method is deprecated and will be removed from pandas in a future version. Use pandas.concat instead.\n",
            "  list_player_info = list_player_info.append(player_info, ignore_index=True)\n",
            "<ipython-input-7-5e25f54b2bf4>:41: FutureWarning: The frame.append method is deprecated and will be removed from pandas in a future version. Use pandas.concat instead.\n",
            "  list_player_khl_stat = list_player_khl_stat.append(player_khl_stat, ignore_index=True)\n"
          ]
        },
        {
          "output_type": "stream",
          "name": "stdout",
          "text": [
            "/players/14511/\n"
          ]
        },
        {
          "output_type": "stream",
          "name": "stderr",
          "text": [
            "<ipython-input-7-5e25f54b2bf4>:39: FutureWarning: The frame.append method is deprecated and will be removed from pandas in a future version. Use pandas.concat instead.\n",
            "  list_player_info = list_player_info.append(player_info, ignore_index=True)\n",
            "<ipython-input-7-5e25f54b2bf4>:41: FutureWarning: The frame.append method is deprecated and will be removed from pandas in a future version. Use pandas.concat instead.\n",
            "  list_player_khl_stat = list_player_khl_stat.append(player_khl_stat, ignore_index=True)\n"
          ]
        },
        {
          "output_type": "stream",
          "name": "stdout",
          "text": [
            "/players/34643/\n"
          ]
        },
        {
          "output_type": "stream",
          "name": "stderr",
          "text": [
            "<ipython-input-7-5e25f54b2bf4>:39: FutureWarning: The frame.append method is deprecated and will be removed from pandas in a future version. Use pandas.concat instead.\n",
            "  list_player_info = list_player_info.append(player_info, ignore_index=True)\n",
            "<ipython-input-7-5e25f54b2bf4>:41: FutureWarning: The frame.append method is deprecated and will be removed from pandas in a future version. Use pandas.concat instead.\n",
            "  list_player_khl_stat = list_player_khl_stat.append(player_khl_stat, ignore_index=True)\n"
          ]
        },
        {
          "output_type": "stream",
          "name": "stdout",
          "text": [
            "/players/42245/\n"
          ]
        },
        {
          "output_type": "stream",
          "name": "stderr",
          "text": [
            "<ipython-input-7-5e25f54b2bf4>:39: FutureWarning: The frame.append method is deprecated and will be removed from pandas in a future version. Use pandas.concat instead.\n",
            "  list_player_info = list_player_info.append(player_info, ignore_index=True)\n",
            "<ipython-input-7-5e25f54b2bf4>:41: FutureWarning: The frame.append method is deprecated and will be removed from pandas in a future version. Use pandas.concat instead.\n",
            "  list_player_khl_stat = list_player_khl_stat.append(player_khl_stat, ignore_index=True)\n"
          ]
        },
        {
          "output_type": "stream",
          "name": "stdout",
          "text": [
            "/players/20524/\n"
          ]
        },
        {
          "output_type": "stream",
          "name": "stderr",
          "text": [
            "<ipython-input-7-5e25f54b2bf4>:39: FutureWarning: The frame.append method is deprecated and will be removed from pandas in a future version. Use pandas.concat instead.\n",
            "  list_player_info = list_player_info.append(player_info, ignore_index=True)\n",
            "<ipython-input-7-5e25f54b2bf4>:41: FutureWarning: The frame.append method is deprecated and will be removed from pandas in a future version. Use pandas.concat instead.\n",
            "  list_player_khl_stat = list_player_khl_stat.append(player_khl_stat, ignore_index=True)\n"
          ]
        },
        {
          "output_type": "stream",
          "name": "stdout",
          "text": [
            "/players/13024/\n"
          ]
        },
        {
          "output_type": "stream",
          "name": "stderr",
          "text": [
            "<ipython-input-7-5e25f54b2bf4>:39: FutureWarning: The frame.append method is deprecated and will be removed from pandas in a future version. Use pandas.concat instead.\n",
            "  list_player_info = list_player_info.append(player_info, ignore_index=True)\n",
            "<ipython-input-7-5e25f54b2bf4>:41: FutureWarning: The frame.append method is deprecated and will be removed from pandas in a future version. Use pandas.concat instead.\n",
            "  list_player_khl_stat = list_player_khl_stat.append(player_khl_stat, ignore_index=True)\n"
          ]
        },
        {
          "output_type": "stream",
          "name": "stdout",
          "text": [
            "/players/22161/\n"
          ]
        },
        {
          "output_type": "stream",
          "name": "stderr",
          "text": [
            "<ipython-input-7-5e25f54b2bf4>:39: FutureWarning: The frame.append method is deprecated and will be removed from pandas in a future version. Use pandas.concat instead.\n",
            "  list_player_info = list_player_info.append(player_info, ignore_index=True)\n",
            "<ipython-input-7-5e25f54b2bf4>:41: FutureWarning: The frame.append method is deprecated and will be removed from pandas in a future version. Use pandas.concat instead.\n",
            "  list_player_khl_stat = list_player_khl_stat.append(player_khl_stat, ignore_index=True)\n"
          ]
        },
        {
          "output_type": "stream",
          "name": "stdout",
          "text": [
            "/players/20713/\n"
          ]
        },
        {
          "output_type": "stream",
          "name": "stderr",
          "text": [
            "<ipython-input-7-5e25f54b2bf4>:39: FutureWarning: The frame.append method is deprecated and will be removed from pandas in a future version. Use pandas.concat instead.\n",
            "  list_player_info = list_player_info.append(player_info, ignore_index=True)\n",
            "<ipython-input-7-5e25f54b2bf4>:41: FutureWarning: The frame.append method is deprecated and will be removed from pandas in a future version. Use pandas.concat instead.\n",
            "  list_player_khl_stat = list_player_khl_stat.append(player_khl_stat, ignore_index=True)\n"
          ]
        },
        {
          "output_type": "stream",
          "name": "stdout",
          "text": [
            "/players/24581/\n"
          ]
        },
        {
          "output_type": "stream",
          "name": "stderr",
          "text": [
            "<ipython-input-7-5e25f54b2bf4>:39: FutureWarning: The frame.append method is deprecated and will be removed from pandas in a future version. Use pandas.concat instead.\n",
            "  list_player_info = list_player_info.append(player_info, ignore_index=True)\n",
            "<ipython-input-7-5e25f54b2bf4>:41: FutureWarning: The frame.append method is deprecated and will be removed from pandas in a future version. Use pandas.concat instead.\n",
            "  list_player_khl_stat = list_player_khl_stat.append(player_khl_stat, ignore_index=True)\n"
          ]
        },
        {
          "output_type": "stream",
          "name": "stdout",
          "text": [
            "/players/34724/\n"
          ]
        },
        {
          "output_type": "stream",
          "name": "stderr",
          "text": [
            "<ipython-input-7-5e25f54b2bf4>:39: FutureWarning: The frame.append method is deprecated and will be removed from pandas in a future version. Use pandas.concat instead.\n",
            "  list_player_info = list_player_info.append(player_info, ignore_index=True)\n",
            "<ipython-input-7-5e25f54b2bf4>:41: FutureWarning: The frame.append method is deprecated and will be removed from pandas in a future version. Use pandas.concat instead.\n",
            "  list_player_khl_stat = list_player_khl_stat.append(player_khl_stat, ignore_index=True)\n"
          ]
        },
        {
          "output_type": "stream",
          "name": "stdout",
          "text": [
            "/players/15745/\n"
          ]
        },
        {
          "output_type": "stream",
          "name": "stderr",
          "text": [
            "<ipython-input-7-5e25f54b2bf4>:39: FutureWarning: The frame.append method is deprecated and will be removed from pandas in a future version. Use pandas.concat instead.\n",
            "  list_player_info = list_player_info.append(player_info, ignore_index=True)\n",
            "<ipython-input-7-5e25f54b2bf4>:41: FutureWarning: The frame.append method is deprecated and will be removed from pandas in a future version. Use pandas.concat instead.\n",
            "  list_player_khl_stat = list_player_khl_stat.append(player_khl_stat, ignore_index=True)\n"
          ]
        },
        {
          "output_type": "stream",
          "name": "stdout",
          "text": [
            "/players/35299/\n"
          ]
        },
        {
          "output_type": "stream",
          "name": "stderr",
          "text": [
            "<ipython-input-7-5e25f54b2bf4>:39: FutureWarning: The frame.append method is deprecated and will be removed from pandas in a future version. Use pandas.concat instead.\n",
            "  list_player_info = list_player_info.append(player_info, ignore_index=True)\n",
            "<ipython-input-7-5e25f54b2bf4>:41: FutureWarning: The frame.append method is deprecated and will be removed from pandas in a future version. Use pandas.concat instead.\n",
            "  list_player_khl_stat = list_player_khl_stat.append(player_khl_stat, ignore_index=True)\n"
          ]
        },
        {
          "output_type": "stream",
          "name": "stdout",
          "text": [
            "/players/14595/\n"
          ]
        },
        {
          "output_type": "stream",
          "name": "stderr",
          "text": [
            "<ipython-input-7-5e25f54b2bf4>:39: FutureWarning: The frame.append method is deprecated and will be removed from pandas in a future version. Use pandas.concat instead.\n",
            "  list_player_info = list_player_info.append(player_info, ignore_index=True)\n",
            "<ipython-input-7-5e25f54b2bf4>:41: FutureWarning: The frame.append method is deprecated and will be removed from pandas in a future version. Use pandas.concat instead.\n",
            "  list_player_khl_stat = list_player_khl_stat.append(player_khl_stat, ignore_index=True)\n"
          ]
        },
        {
          "output_type": "stream",
          "name": "stdout",
          "text": [
            "/players/17786/\n"
          ]
        },
        {
          "output_type": "stream",
          "name": "stderr",
          "text": [
            "<ipython-input-7-5e25f54b2bf4>:39: FutureWarning: The frame.append method is deprecated and will be removed from pandas in a future version. Use pandas.concat instead.\n",
            "  list_player_info = list_player_info.append(player_info, ignore_index=True)\n",
            "<ipython-input-7-5e25f54b2bf4>:41: FutureWarning: The frame.append method is deprecated and will be removed from pandas in a future version. Use pandas.concat instead.\n",
            "  list_player_khl_stat = list_player_khl_stat.append(player_khl_stat, ignore_index=True)\n"
          ]
        },
        {
          "output_type": "stream",
          "name": "stdout",
          "text": [
            "/players/22668/\n"
          ]
        },
        {
          "output_type": "stream",
          "name": "stderr",
          "text": [
            "<ipython-input-7-5e25f54b2bf4>:39: FutureWarning: The frame.append method is deprecated and will be removed from pandas in a future version. Use pandas.concat instead.\n",
            "  list_player_info = list_player_info.append(player_info, ignore_index=True)\n",
            "<ipython-input-7-5e25f54b2bf4>:41: FutureWarning: The frame.append method is deprecated and will be removed from pandas in a future version. Use pandas.concat instead.\n",
            "  list_player_khl_stat = list_player_khl_stat.append(player_khl_stat, ignore_index=True)\n"
          ]
        },
        {
          "output_type": "stream",
          "name": "stdout",
          "text": [
            "/players/14590/\n"
          ]
        },
        {
          "output_type": "stream",
          "name": "stderr",
          "text": [
            "<ipython-input-7-5e25f54b2bf4>:39: FutureWarning: The frame.append method is deprecated and will be removed from pandas in a future version. Use pandas.concat instead.\n",
            "  list_player_info = list_player_info.append(player_info, ignore_index=True)\n",
            "<ipython-input-7-5e25f54b2bf4>:41: FutureWarning: The frame.append method is deprecated and will be removed from pandas in a future version. Use pandas.concat instead.\n",
            "  list_player_khl_stat = list_player_khl_stat.append(player_khl_stat, ignore_index=True)\n"
          ]
        },
        {
          "output_type": "stream",
          "name": "stdout",
          "text": [
            "/players/20940/\n"
          ]
        },
        {
          "output_type": "stream",
          "name": "stderr",
          "text": [
            "<ipython-input-7-5e25f54b2bf4>:39: FutureWarning: The frame.append method is deprecated and will be removed from pandas in a future version. Use pandas.concat instead.\n",
            "  list_player_info = list_player_info.append(player_info, ignore_index=True)\n",
            "<ipython-input-7-5e25f54b2bf4>:41: FutureWarning: The frame.append method is deprecated and will be removed from pandas in a future version. Use pandas.concat instead.\n",
            "  list_player_khl_stat = list_player_khl_stat.append(player_khl_stat, ignore_index=True)\n"
          ]
        },
        {
          "output_type": "stream",
          "name": "stdout",
          "text": [
            "/players/15238/\n"
          ]
        },
        {
          "output_type": "stream",
          "name": "stderr",
          "text": [
            "<ipython-input-7-5e25f54b2bf4>:39: FutureWarning: The frame.append method is deprecated and will be removed from pandas in a future version. Use pandas.concat instead.\n",
            "  list_player_info = list_player_info.append(player_info, ignore_index=True)\n",
            "<ipython-input-7-5e25f54b2bf4>:41: FutureWarning: The frame.append method is deprecated and will be removed from pandas in a future version. Use pandas.concat instead.\n",
            "  list_player_khl_stat = list_player_khl_stat.append(player_khl_stat, ignore_index=True)\n"
          ]
        },
        {
          "output_type": "stream",
          "name": "stdout",
          "text": [
            "/players/31436/\n"
          ]
        },
        {
          "output_type": "stream",
          "name": "stderr",
          "text": [
            "<ipython-input-7-5e25f54b2bf4>:39: FutureWarning: The frame.append method is deprecated and will be removed from pandas in a future version. Use pandas.concat instead.\n",
            "  list_player_info = list_player_info.append(player_info, ignore_index=True)\n",
            "<ipython-input-7-5e25f54b2bf4>:41: FutureWarning: The frame.append method is deprecated and will be removed from pandas in a future version. Use pandas.concat instead.\n",
            "  list_player_khl_stat = list_player_khl_stat.append(player_khl_stat, ignore_index=True)\n"
          ]
        },
        {
          "output_type": "stream",
          "name": "stdout",
          "text": [
            "/players/15317/\n"
          ]
        },
        {
          "output_type": "stream",
          "name": "stderr",
          "text": [
            "<ipython-input-7-5e25f54b2bf4>:39: FutureWarning: The frame.append method is deprecated and will be removed from pandas in a future version. Use pandas.concat instead.\n",
            "  list_player_info = list_player_info.append(player_info, ignore_index=True)\n",
            "<ipython-input-7-5e25f54b2bf4>:41: FutureWarning: The frame.append method is deprecated and will be removed from pandas in a future version. Use pandas.concat instead.\n",
            "  list_player_khl_stat = list_player_khl_stat.append(player_khl_stat, ignore_index=True)\n"
          ]
        },
        {
          "output_type": "stream",
          "name": "stdout",
          "text": [
            "/players/19624/\n"
          ]
        },
        {
          "output_type": "stream",
          "name": "stderr",
          "text": [
            "<ipython-input-7-5e25f54b2bf4>:39: FutureWarning: The frame.append method is deprecated and will be removed from pandas in a future version. Use pandas.concat instead.\n",
            "  list_player_info = list_player_info.append(player_info, ignore_index=True)\n",
            "<ipython-input-7-5e25f54b2bf4>:41: FutureWarning: The frame.append method is deprecated and will be removed from pandas in a future version. Use pandas.concat instead.\n",
            "  list_player_khl_stat = list_player_khl_stat.append(player_khl_stat, ignore_index=True)\n"
          ]
        },
        {
          "output_type": "stream",
          "name": "stdout",
          "text": [
            "/players/37800/\n"
          ]
        },
        {
          "output_type": "stream",
          "name": "stderr",
          "text": [
            "<ipython-input-7-5e25f54b2bf4>:39: FutureWarning: The frame.append method is deprecated and will be removed from pandas in a future version. Use pandas.concat instead.\n",
            "  list_player_info = list_player_info.append(player_info, ignore_index=True)\n",
            "<ipython-input-7-5e25f54b2bf4>:41: FutureWarning: The frame.append method is deprecated and will be removed from pandas in a future version. Use pandas.concat instead.\n",
            "  list_player_khl_stat = list_player_khl_stat.append(player_khl_stat, ignore_index=True)\n"
          ]
        },
        {
          "output_type": "stream",
          "name": "stdout",
          "text": [
            "/players/20620/\n"
          ]
        },
        {
          "output_type": "stream",
          "name": "stderr",
          "text": [
            "<ipython-input-7-5e25f54b2bf4>:39: FutureWarning: The frame.append method is deprecated and will be removed from pandas in a future version. Use pandas.concat instead.\n",
            "  list_player_info = list_player_info.append(player_info, ignore_index=True)\n",
            "<ipython-input-7-5e25f54b2bf4>:41: FutureWarning: The frame.append method is deprecated and will be removed from pandas in a future version. Use pandas.concat instead.\n",
            "  list_player_khl_stat = list_player_khl_stat.append(player_khl_stat, ignore_index=True)\n"
          ]
        },
        {
          "output_type": "stream",
          "name": "stdout",
          "text": [
            "/players/25020/\n"
          ]
        },
        {
          "output_type": "stream",
          "name": "stderr",
          "text": [
            "<ipython-input-7-5e25f54b2bf4>:39: FutureWarning: The frame.append method is deprecated and will be removed from pandas in a future version. Use pandas.concat instead.\n",
            "  list_player_info = list_player_info.append(player_info, ignore_index=True)\n",
            "<ipython-input-7-5e25f54b2bf4>:41: FutureWarning: The frame.append method is deprecated and will be removed from pandas in a future version. Use pandas.concat instead.\n",
            "  list_player_khl_stat = list_player_khl_stat.append(player_khl_stat, ignore_index=True)\n"
          ]
        },
        {
          "output_type": "stream",
          "name": "stdout",
          "text": [
            "/players/25046/\n"
          ]
        },
        {
          "output_type": "stream",
          "name": "stderr",
          "text": [
            "<ipython-input-7-5e25f54b2bf4>:39: FutureWarning: The frame.append method is deprecated and will be removed from pandas in a future version. Use pandas.concat instead.\n",
            "  list_player_info = list_player_info.append(player_info, ignore_index=True)\n",
            "<ipython-input-7-5e25f54b2bf4>:41: FutureWarning: The frame.append method is deprecated and will be removed from pandas in a future version. Use pandas.concat instead.\n",
            "  list_player_khl_stat = list_player_khl_stat.append(player_khl_stat, ignore_index=True)\n"
          ]
        },
        {
          "output_type": "stream",
          "name": "stdout",
          "text": [
            "/players/18991/\n"
          ]
        },
        {
          "output_type": "stream",
          "name": "stderr",
          "text": [
            "<ipython-input-7-5e25f54b2bf4>:39: FutureWarning: The frame.append method is deprecated and will be removed from pandas in a future version. Use pandas.concat instead.\n",
            "  list_player_info = list_player_info.append(player_info, ignore_index=True)\n",
            "<ipython-input-7-5e25f54b2bf4>:41: FutureWarning: The frame.append method is deprecated and will be removed from pandas in a future version. Use pandas.concat instead.\n",
            "  list_player_khl_stat = list_player_khl_stat.append(player_khl_stat, ignore_index=True)\n"
          ]
        },
        {
          "output_type": "stream",
          "name": "stdout",
          "text": [
            "/players/26282/\n"
          ]
        },
        {
          "output_type": "stream",
          "name": "stderr",
          "text": [
            "<ipython-input-7-5e25f54b2bf4>:39: FutureWarning: The frame.append method is deprecated and will be removed from pandas in a future version. Use pandas.concat instead.\n",
            "  list_player_info = list_player_info.append(player_info, ignore_index=True)\n",
            "<ipython-input-7-5e25f54b2bf4>:41: FutureWarning: The frame.append method is deprecated and will be removed from pandas in a future version. Use pandas.concat instead.\n",
            "  list_player_khl_stat = list_player_khl_stat.append(player_khl_stat, ignore_index=True)\n"
          ]
        },
        {
          "output_type": "stream",
          "name": "stdout",
          "text": [
            "/players/15251/\n"
          ]
        },
        {
          "output_type": "stream",
          "name": "stderr",
          "text": [
            "<ipython-input-7-5e25f54b2bf4>:39: FutureWarning: The frame.append method is deprecated and will be removed from pandas in a future version. Use pandas.concat instead.\n",
            "  list_player_info = list_player_info.append(player_info, ignore_index=True)\n",
            "<ipython-input-7-5e25f54b2bf4>:41: FutureWarning: The frame.append method is deprecated and will be removed from pandas in a future version. Use pandas.concat instead.\n",
            "  list_player_khl_stat = list_player_khl_stat.append(player_khl_stat, ignore_index=True)\n"
          ]
        },
        {
          "output_type": "stream",
          "name": "stdout",
          "text": [
            "/players/17982/\n"
          ]
        },
        {
          "output_type": "stream",
          "name": "stderr",
          "text": [
            "<ipython-input-7-5e25f54b2bf4>:39: FutureWarning: The frame.append method is deprecated and will be removed from pandas in a future version. Use pandas.concat instead.\n",
            "  list_player_info = list_player_info.append(player_info, ignore_index=True)\n",
            "<ipython-input-7-5e25f54b2bf4>:41: FutureWarning: The frame.append method is deprecated and will be removed from pandas in a future version. Use pandas.concat instead.\n",
            "  list_player_khl_stat = list_player_khl_stat.append(player_khl_stat, ignore_index=True)\n"
          ]
        },
        {
          "output_type": "stream",
          "name": "stdout",
          "text": [
            "/players/18917/\n"
          ]
        },
        {
          "output_type": "stream",
          "name": "stderr",
          "text": [
            "<ipython-input-7-5e25f54b2bf4>:39: FutureWarning: The frame.append method is deprecated and will be removed from pandas in a future version. Use pandas.concat instead.\n",
            "  list_player_info = list_player_info.append(player_info, ignore_index=True)\n",
            "<ipython-input-7-5e25f54b2bf4>:41: FutureWarning: The frame.append method is deprecated and will be removed from pandas in a future version. Use pandas.concat instead.\n",
            "  list_player_khl_stat = list_player_khl_stat.append(player_khl_stat, ignore_index=True)\n"
          ]
        },
        {
          "output_type": "stream",
          "name": "stdout",
          "text": [
            "/players/4698/\n"
          ]
        },
        {
          "output_type": "stream",
          "name": "stderr",
          "text": [
            "<ipython-input-7-5e25f54b2bf4>:39: FutureWarning: The frame.append method is deprecated and will be removed from pandas in a future version. Use pandas.concat instead.\n",
            "  list_player_info = list_player_info.append(player_info, ignore_index=True)\n",
            "<ipython-input-7-5e25f54b2bf4>:41: FutureWarning: The frame.append method is deprecated and will be removed from pandas in a future version. Use pandas.concat instead.\n",
            "  list_player_khl_stat = list_player_khl_stat.append(player_khl_stat, ignore_index=True)\n"
          ]
        },
        {
          "output_type": "stream",
          "name": "stdout",
          "text": [
            "/players/16047/\n"
          ]
        },
        {
          "output_type": "stream",
          "name": "stderr",
          "text": [
            "<ipython-input-7-5e25f54b2bf4>:39: FutureWarning: The frame.append method is deprecated and will be removed from pandas in a future version. Use pandas.concat instead.\n",
            "  list_player_info = list_player_info.append(player_info, ignore_index=True)\n",
            "<ipython-input-7-5e25f54b2bf4>:41: FutureWarning: The frame.append method is deprecated and will be removed from pandas in a future version. Use pandas.concat instead.\n",
            "  list_player_khl_stat = list_player_khl_stat.append(player_khl_stat, ignore_index=True)\n"
          ]
        },
        {
          "output_type": "stream",
          "name": "stdout",
          "text": [
            "/players/19480/\n"
          ]
        },
        {
          "output_type": "stream",
          "name": "stderr",
          "text": [
            "<ipython-input-7-5e25f54b2bf4>:39: FutureWarning: The frame.append method is deprecated and will be removed from pandas in a future version. Use pandas.concat instead.\n",
            "  list_player_info = list_player_info.append(player_info, ignore_index=True)\n",
            "<ipython-input-7-5e25f54b2bf4>:41: FutureWarning: The frame.append method is deprecated and will be removed from pandas in a future version. Use pandas.concat instead.\n",
            "  list_player_khl_stat = list_player_khl_stat.append(player_khl_stat, ignore_index=True)\n"
          ]
        },
        {
          "output_type": "stream",
          "name": "stdout",
          "text": [
            "/players/39589/\n"
          ]
        },
        {
          "output_type": "stream",
          "name": "stderr",
          "text": [
            "<ipython-input-7-5e25f54b2bf4>:39: FutureWarning: The frame.append method is deprecated and will be removed from pandas in a future version. Use pandas.concat instead.\n",
            "  list_player_info = list_player_info.append(player_info, ignore_index=True)\n",
            "<ipython-input-7-5e25f54b2bf4>:41: FutureWarning: The frame.append method is deprecated and will be removed from pandas in a future version. Use pandas.concat instead.\n",
            "  list_player_khl_stat = list_player_khl_stat.append(player_khl_stat, ignore_index=True)\n"
          ]
        },
        {
          "output_type": "stream",
          "name": "stdout",
          "text": [
            "/players/15732/\n"
          ]
        },
        {
          "output_type": "stream",
          "name": "stderr",
          "text": [
            "<ipython-input-7-5e25f54b2bf4>:39: FutureWarning: The frame.append method is deprecated and will be removed from pandas in a future version. Use pandas.concat instead.\n",
            "  list_player_info = list_player_info.append(player_info, ignore_index=True)\n",
            "<ipython-input-7-5e25f54b2bf4>:41: FutureWarning: The frame.append method is deprecated and will be removed from pandas in a future version. Use pandas.concat instead.\n",
            "  list_player_khl_stat = list_player_khl_stat.append(player_khl_stat, ignore_index=True)\n"
          ]
        },
        {
          "output_type": "stream",
          "name": "stdout",
          "text": [
            "/players/3496/\n"
          ]
        },
        {
          "output_type": "stream",
          "name": "stderr",
          "text": [
            "<ipython-input-7-5e25f54b2bf4>:39: FutureWarning: The frame.append method is deprecated and will be removed from pandas in a future version. Use pandas.concat instead.\n",
            "  list_player_info = list_player_info.append(player_info, ignore_index=True)\n",
            "<ipython-input-7-5e25f54b2bf4>:41: FutureWarning: The frame.append method is deprecated and will be removed from pandas in a future version. Use pandas.concat instead.\n",
            "  list_player_khl_stat = list_player_khl_stat.append(player_khl_stat, ignore_index=True)\n"
          ]
        },
        {
          "output_type": "stream",
          "name": "stdout",
          "text": [
            "/players/34373/\n"
          ]
        },
        {
          "output_type": "stream",
          "name": "stderr",
          "text": [
            "<ipython-input-7-5e25f54b2bf4>:39: FutureWarning: The frame.append method is deprecated and will be removed from pandas in a future version. Use pandas.concat instead.\n",
            "  list_player_info = list_player_info.append(player_info, ignore_index=True)\n",
            "<ipython-input-7-5e25f54b2bf4>:41: FutureWarning: The frame.append method is deprecated and will be removed from pandas in a future version. Use pandas.concat instead.\n",
            "  list_player_khl_stat = list_player_khl_stat.append(player_khl_stat, ignore_index=True)\n"
          ]
        },
        {
          "output_type": "stream",
          "name": "stdout",
          "text": [
            "/players/17649/\n"
          ]
        },
        {
          "output_type": "stream",
          "name": "stderr",
          "text": [
            "<ipython-input-7-5e25f54b2bf4>:39: FutureWarning: The frame.append method is deprecated and will be removed from pandas in a future version. Use pandas.concat instead.\n",
            "  list_player_info = list_player_info.append(player_info, ignore_index=True)\n",
            "<ipython-input-7-5e25f54b2bf4>:41: FutureWarning: The frame.append method is deprecated and will be removed from pandas in a future version. Use pandas.concat instead.\n",
            "  list_player_khl_stat = list_player_khl_stat.append(player_khl_stat, ignore_index=True)\n"
          ]
        },
        {
          "output_type": "stream",
          "name": "stdout",
          "text": [
            "/players/22557/\n"
          ]
        },
        {
          "output_type": "stream",
          "name": "stderr",
          "text": [
            "<ipython-input-7-5e25f54b2bf4>:39: FutureWarning: The frame.append method is deprecated and will be removed from pandas in a future version. Use pandas.concat instead.\n",
            "  list_player_info = list_player_info.append(player_info, ignore_index=True)\n",
            "<ipython-input-7-5e25f54b2bf4>:41: FutureWarning: The frame.append method is deprecated and will be removed from pandas in a future version. Use pandas.concat instead.\n",
            "  list_player_khl_stat = list_player_khl_stat.append(player_khl_stat, ignore_index=True)\n"
          ]
        },
        {
          "output_type": "stream",
          "name": "stdout",
          "text": [
            "/players/28632/\n"
          ]
        },
        {
          "output_type": "stream",
          "name": "stderr",
          "text": [
            "<ipython-input-7-5e25f54b2bf4>:39: FutureWarning: The frame.append method is deprecated and will be removed from pandas in a future version. Use pandas.concat instead.\n",
            "  list_player_info = list_player_info.append(player_info, ignore_index=True)\n",
            "<ipython-input-7-5e25f54b2bf4>:41: FutureWarning: The frame.append method is deprecated and will be removed from pandas in a future version. Use pandas.concat instead.\n",
            "  list_player_khl_stat = list_player_khl_stat.append(player_khl_stat, ignore_index=True)\n"
          ]
        },
        {
          "output_type": "stream",
          "name": "stdout",
          "text": [
            "/players/14892/\n"
          ]
        },
        {
          "output_type": "stream",
          "name": "stderr",
          "text": [
            "<ipython-input-7-5e25f54b2bf4>:39: FutureWarning: The frame.append method is deprecated and will be removed from pandas in a future version. Use pandas.concat instead.\n",
            "  list_player_info = list_player_info.append(player_info, ignore_index=True)\n",
            "<ipython-input-7-5e25f54b2bf4>:41: FutureWarning: The frame.append method is deprecated and will be removed from pandas in a future version. Use pandas.concat instead.\n",
            "  list_player_khl_stat = list_player_khl_stat.append(player_khl_stat, ignore_index=True)\n"
          ]
        },
        {
          "output_type": "stream",
          "name": "stdout",
          "text": [
            "/players/23825/\n"
          ]
        },
        {
          "output_type": "stream",
          "name": "stderr",
          "text": [
            "<ipython-input-7-5e25f54b2bf4>:39: FutureWarning: The frame.append method is deprecated and will be removed from pandas in a future version. Use pandas.concat instead.\n",
            "  list_player_info = list_player_info.append(player_info, ignore_index=True)\n",
            "<ipython-input-7-5e25f54b2bf4>:41: FutureWarning: The frame.append method is deprecated and will be removed from pandas in a future version. Use pandas.concat instead.\n",
            "  list_player_khl_stat = list_player_khl_stat.append(player_khl_stat, ignore_index=True)\n"
          ]
        },
        {
          "output_type": "stream",
          "name": "stdout",
          "text": [
            "/players/25745/\n"
          ]
        },
        {
          "output_type": "stream",
          "name": "stderr",
          "text": [
            "<ipython-input-7-5e25f54b2bf4>:39: FutureWarning: The frame.append method is deprecated and will be removed from pandas in a future version. Use pandas.concat instead.\n",
            "  list_player_info = list_player_info.append(player_info, ignore_index=True)\n",
            "<ipython-input-7-5e25f54b2bf4>:41: FutureWarning: The frame.append method is deprecated and will be removed from pandas in a future version. Use pandas.concat instead.\n",
            "  list_player_khl_stat = list_player_khl_stat.append(player_khl_stat, ignore_index=True)\n"
          ]
        },
        {
          "output_type": "stream",
          "name": "stdout",
          "text": [
            "/players/33857/\n"
          ]
        },
        {
          "output_type": "stream",
          "name": "stderr",
          "text": [
            "<ipython-input-7-5e25f54b2bf4>:39: FutureWarning: The frame.append method is deprecated and will be removed from pandas in a future version. Use pandas.concat instead.\n",
            "  list_player_info = list_player_info.append(player_info, ignore_index=True)\n",
            "<ipython-input-7-5e25f54b2bf4>:41: FutureWarning: The frame.append method is deprecated and will be removed from pandas in a future version. Use pandas.concat instead.\n",
            "  list_player_khl_stat = list_player_khl_stat.append(player_khl_stat, ignore_index=True)\n"
          ]
        },
        {
          "output_type": "stream",
          "name": "stdout",
          "text": [
            "/players/15217/\n"
          ]
        },
        {
          "output_type": "stream",
          "name": "stderr",
          "text": [
            "<ipython-input-7-5e25f54b2bf4>:39: FutureWarning: The frame.append method is deprecated and will be removed from pandas in a future version. Use pandas.concat instead.\n",
            "  list_player_info = list_player_info.append(player_info, ignore_index=True)\n",
            "<ipython-input-7-5e25f54b2bf4>:41: FutureWarning: The frame.append method is deprecated and will be removed from pandas in a future version. Use pandas.concat instead.\n",
            "  list_player_khl_stat = list_player_khl_stat.append(player_khl_stat, ignore_index=True)\n"
          ]
        },
        {
          "output_type": "stream",
          "name": "stdout",
          "text": [
            "/players/16759/\n"
          ]
        },
        {
          "output_type": "stream",
          "name": "stderr",
          "text": [
            "<ipython-input-7-5e25f54b2bf4>:39: FutureWarning: The frame.append method is deprecated and will be removed from pandas in a future version. Use pandas.concat instead.\n",
            "  list_player_info = list_player_info.append(player_info, ignore_index=True)\n",
            "<ipython-input-7-5e25f54b2bf4>:41: FutureWarning: The frame.append method is deprecated and will be removed from pandas in a future version. Use pandas.concat instead.\n",
            "  list_player_khl_stat = list_player_khl_stat.append(player_khl_stat, ignore_index=True)\n"
          ]
        },
        {
          "output_type": "stream",
          "name": "stdout",
          "text": [
            "/players/26243/\n"
          ]
        },
        {
          "output_type": "stream",
          "name": "stderr",
          "text": [
            "<ipython-input-7-5e25f54b2bf4>:39: FutureWarning: The frame.append method is deprecated and will be removed from pandas in a future version. Use pandas.concat instead.\n",
            "  list_player_info = list_player_info.append(player_info, ignore_index=True)\n",
            "<ipython-input-7-5e25f54b2bf4>:41: FutureWarning: The frame.append method is deprecated and will be removed from pandas in a future version. Use pandas.concat instead.\n",
            "  list_player_khl_stat = list_player_khl_stat.append(player_khl_stat, ignore_index=True)\n"
          ]
        },
        {
          "output_type": "stream",
          "name": "stdout",
          "text": [
            "/players/9476/\n"
          ]
        },
        {
          "output_type": "stream",
          "name": "stderr",
          "text": [
            "<ipython-input-7-5e25f54b2bf4>:39: FutureWarning: The frame.append method is deprecated and will be removed from pandas in a future version. Use pandas.concat instead.\n",
            "  list_player_info = list_player_info.append(player_info, ignore_index=True)\n",
            "<ipython-input-7-5e25f54b2bf4>:41: FutureWarning: The frame.append method is deprecated and will be removed from pandas in a future version. Use pandas.concat instead.\n",
            "  list_player_khl_stat = list_player_khl_stat.append(player_khl_stat, ignore_index=True)\n"
          ]
        },
        {
          "output_type": "stream",
          "name": "stdout",
          "text": [
            "/players/21989/\n"
          ]
        },
        {
          "output_type": "stream",
          "name": "stderr",
          "text": [
            "<ipython-input-7-5e25f54b2bf4>:39: FutureWarning: The frame.append method is deprecated and will be removed from pandas in a future version. Use pandas.concat instead.\n",
            "  list_player_info = list_player_info.append(player_info, ignore_index=True)\n",
            "<ipython-input-7-5e25f54b2bf4>:41: FutureWarning: The frame.append method is deprecated and will be removed from pandas in a future version. Use pandas.concat instead.\n",
            "  list_player_khl_stat = list_player_khl_stat.append(player_khl_stat, ignore_index=True)\n"
          ]
        },
        {
          "output_type": "stream",
          "name": "stdout",
          "text": [
            "/players/22148/\n"
          ]
        },
        {
          "output_type": "stream",
          "name": "stderr",
          "text": [
            "<ipython-input-7-5e25f54b2bf4>:39: FutureWarning: The frame.append method is deprecated and will be removed from pandas in a future version. Use pandas.concat instead.\n",
            "  list_player_info = list_player_info.append(player_info, ignore_index=True)\n",
            "<ipython-input-7-5e25f54b2bf4>:41: FutureWarning: The frame.append method is deprecated and will be removed from pandas in a future version. Use pandas.concat instead.\n",
            "  list_player_khl_stat = list_player_khl_stat.append(player_khl_stat, ignore_index=True)\n"
          ]
        },
        {
          "output_type": "stream",
          "name": "stdout",
          "text": [
            "/players/19205/\n"
          ]
        },
        {
          "output_type": "stream",
          "name": "stderr",
          "text": [
            "<ipython-input-7-5e25f54b2bf4>:39: FutureWarning: The frame.append method is deprecated and will be removed from pandas in a future version. Use pandas.concat instead.\n",
            "  list_player_info = list_player_info.append(player_info, ignore_index=True)\n",
            "<ipython-input-7-5e25f54b2bf4>:41: FutureWarning: The frame.append method is deprecated and will be removed from pandas in a future version. Use pandas.concat instead.\n",
            "  list_player_khl_stat = list_player_khl_stat.append(player_khl_stat, ignore_index=True)\n"
          ]
        },
        {
          "output_type": "stream",
          "name": "stdout",
          "text": [
            "/players/16783/\n"
          ]
        },
        {
          "output_type": "stream",
          "name": "stderr",
          "text": [
            "<ipython-input-7-5e25f54b2bf4>:39: FutureWarning: The frame.append method is deprecated and will be removed from pandas in a future version. Use pandas.concat instead.\n",
            "  list_player_info = list_player_info.append(player_info, ignore_index=True)\n",
            "<ipython-input-7-5e25f54b2bf4>:41: FutureWarning: The frame.append method is deprecated and will be removed from pandas in a future version. Use pandas.concat instead.\n",
            "  list_player_khl_stat = list_player_khl_stat.append(player_khl_stat, ignore_index=True)\n"
          ]
        },
        {
          "output_type": "stream",
          "name": "stdout",
          "text": [
            "/players/24589/\n"
          ]
        },
        {
          "output_type": "stream",
          "name": "stderr",
          "text": [
            "<ipython-input-7-5e25f54b2bf4>:39: FutureWarning: The frame.append method is deprecated and will be removed from pandas in a future version. Use pandas.concat instead.\n",
            "  list_player_info = list_player_info.append(player_info, ignore_index=True)\n",
            "<ipython-input-7-5e25f54b2bf4>:41: FutureWarning: The frame.append method is deprecated and will be removed from pandas in a future version. Use pandas.concat instead.\n",
            "  list_player_khl_stat = list_player_khl_stat.append(player_khl_stat, ignore_index=True)\n"
          ]
        },
        {
          "output_type": "stream",
          "name": "stdout",
          "text": [
            "/players/22266/\n"
          ]
        },
        {
          "output_type": "stream",
          "name": "stderr",
          "text": [
            "<ipython-input-7-5e25f54b2bf4>:39: FutureWarning: The frame.append method is deprecated and will be removed from pandas in a future version. Use pandas.concat instead.\n",
            "  list_player_info = list_player_info.append(player_info, ignore_index=True)\n",
            "<ipython-input-7-5e25f54b2bf4>:41: FutureWarning: The frame.append method is deprecated and will be removed from pandas in a future version. Use pandas.concat instead.\n",
            "  list_player_khl_stat = list_player_khl_stat.append(player_khl_stat, ignore_index=True)\n"
          ]
        },
        {
          "output_type": "stream",
          "name": "stdout",
          "text": [
            "/players/22140/\n"
          ]
        },
        {
          "output_type": "stream",
          "name": "stderr",
          "text": [
            "<ipython-input-7-5e25f54b2bf4>:39: FutureWarning: The frame.append method is deprecated and will be removed from pandas in a future version. Use pandas.concat instead.\n",
            "  list_player_info = list_player_info.append(player_info, ignore_index=True)\n",
            "<ipython-input-7-5e25f54b2bf4>:41: FutureWarning: The frame.append method is deprecated and will be removed from pandas in a future version. Use pandas.concat instead.\n",
            "  list_player_khl_stat = list_player_khl_stat.append(player_khl_stat, ignore_index=True)\n"
          ]
        },
        {
          "output_type": "stream",
          "name": "stdout",
          "text": [
            "/players/27020/\n"
          ]
        },
        {
          "output_type": "stream",
          "name": "stderr",
          "text": [
            "<ipython-input-7-5e25f54b2bf4>:39: FutureWarning: The frame.append method is deprecated and will be removed from pandas in a future version. Use pandas.concat instead.\n",
            "  list_player_info = list_player_info.append(player_info, ignore_index=True)\n",
            "<ipython-input-7-5e25f54b2bf4>:41: FutureWarning: The frame.append method is deprecated and will be removed from pandas in a future version. Use pandas.concat instead.\n",
            "  list_player_khl_stat = list_player_khl_stat.append(player_khl_stat, ignore_index=True)\n"
          ]
        },
        {
          "output_type": "stream",
          "name": "stdout",
          "text": [
            "/players/17910/\n"
          ]
        },
        {
          "output_type": "stream",
          "name": "stderr",
          "text": [
            "<ipython-input-7-5e25f54b2bf4>:39: FutureWarning: The frame.append method is deprecated and will be removed from pandas in a future version. Use pandas.concat instead.\n",
            "  list_player_info = list_player_info.append(player_info, ignore_index=True)\n",
            "<ipython-input-7-5e25f54b2bf4>:41: FutureWarning: The frame.append method is deprecated and will be removed from pandas in a future version. Use pandas.concat instead.\n",
            "  list_player_khl_stat = list_player_khl_stat.append(player_khl_stat, ignore_index=True)\n"
          ]
        },
        {
          "output_type": "stream",
          "name": "stdout",
          "text": [
            "/players/4537/\n"
          ]
        },
        {
          "output_type": "stream",
          "name": "stderr",
          "text": [
            "<ipython-input-7-5e25f54b2bf4>:39: FutureWarning: The frame.append method is deprecated and will be removed from pandas in a future version. Use pandas.concat instead.\n",
            "  list_player_info = list_player_info.append(player_info, ignore_index=True)\n",
            "<ipython-input-7-5e25f54b2bf4>:41: FutureWarning: The frame.append method is deprecated and will be removed from pandas in a future version. Use pandas.concat instead.\n",
            "  list_player_khl_stat = list_player_khl_stat.append(player_khl_stat, ignore_index=True)\n"
          ]
        },
        {
          "output_type": "stream",
          "name": "stdout",
          "text": [
            "/players/20356/\n"
          ]
        },
        {
          "output_type": "stream",
          "name": "stderr",
          "text": [
            "<ipython-input-7-5e25f54b2bf4>:39: FutureWarning: The frame.append method is deprecated and will be removed from pandas in a future version. Use pandas.concat instead.\n",
            "  list_player_info = list_player_info.append(player_info, ignore_index=True)\n",
            "<ipython-input-7-5e25f54b2bf4>:41: FutureWarning: The frame.append method is deprecated and will be removed from pandas in a future version. Use pandas.concat instead.\n",
            "  list_player_khl_stat = list_player_khl_stat.append(player_khl_stat, ignore_index=True)\n"
          ]
        },
        {
          "output_type": "stream",
          "name": "stdout",
          "text": [
            "/players/22526/\n"
          ]
        },
        {
          "output_type": "stream",
          "name": "stderr",
          "text": [
            "<ipython-input-7-5e25f54b2bf4>:39: FutureWarning: The frame.append method is deprecated and will be removed from pandas in a future version. Use pandas.concat instead.\n",
            "  list_player_info = list_player_info.append(player_info, ignore_index=True)\n",
            "<ipython-input-7-5e25f54b2bf4>:41: FutureWarning: The frame.append method is deprecated and will be removed from pandas in a future version. Use pandas.concat instead.\n",
            "  list_player_khl_stat = list_player_khl_stat.append(player_khl_stat, ignore_index=True)\n"
          ]
        },
        {
          "output_type": "stream",
          "name": "stdout",
          "text": [
            "/players/16688/\n"
          ]
        },
        {
          "output_type": "stream",
          "name": "stderr",
          "text": [
            "<ipython-input-7-5e25f54b2bf4>:39: FutureWarning: The frame.append method is deprecated and will be removed from pandas in a future version. Use pandas.concat instead.\n",
            "  list_player_info = list_player_info.append(player_info, ignore_index=True)\n",
            "<ipython-input-7-5e25f54b2bf4>:41: FutureWarning: The frame.append method is deprecated and will be removed from pandas in a future version. Use pandas.concat instead.\n",
            "  list_player_khl_stat = list_player_khl_stat.append(player_khl_stat, ignore_index=True)\n"
          ]
        },
        {
          "output_type": "stream",
          "name": "stdout",
          "text": [
            "/players/15054/\n"
          ]
        },
        {
          "output_type": "stream",
          "name": "stderr",
          "text": [
            "<ipython-input-7-5e25f54b2bf4>:39: FutureWarning: The frame.append method is deprecated and will be removed from pandas in a future version. Use pandas.concat instead.\n",
            "  list_player_info = list_player_info.append(player_info, ignore_index=True)\n",
            "<ipython-input-7-5e25f54b2bf4>:41: FutureWarning: The frame.append method is deprecated and will be removed from pandas in a future version. Use pandas.concat instead.\n",
            "  list_player_khl_stat = list_player_khl_stat.append(player_khl_stat, ignore_index=True)\n"
          ]
        },
        {
          "output_type": "stream",
          "name": "stdout",
          "text": [
            "/players/14825/\n"
          ]
        },
        {
          "output_type": "stream",
          "name": "stderr",
          "text": [
            "<ipython-input-7-5e25f54b2bf4>:39: FutureWarning: The frame.append method is deprecated and will be removed from pandas in a future version. Use pandas.concat instead.\n",
            "  list_player_info = list_player_info.append(player_info, ignore_index=True)\n",
            "<ipython-input-7-5e25f54b2bf4>:41: FutureWarning: The frame.append method is deprecated and will be removed from pandas in a future version. Use pandas.concat instead.\n",
            "  list_player_khl_stat = list_player_khl_stat.append(player_khl_stat, ignore_index=True)\n"
          ]
        },
        {
          "output_type": "stream",
          "name": "stdout",
          "text": [
            "/players/20724/\n"
          ]
        },
        {
          "output_type": "stream",
          "name": "stderr",
          "text": [
            "<ipython-input-7-5e25f54b2bf4>:39: FutureWarning: The frame.append method is deprecated and will be removed from pandas in a future version. Use pandas.concat instead.\n",
            "  list_player_info = list_player_info.append(player_info, ignore_index=True)\n",
            "<ipython-input-7-5e25f54b2bf4>:41: FutureWarning: The frame.append method is deprecated and will be removed from pandas in a future version. Use pandas.concat instead.\n",
            "  list_player_khl_stat = list_player_khl_stat.append(player_khl_stat, ignore_index=True)\n"
          ]
        },
        {
          "output_type": "stream",
          "name": "stdout",
          "text": [
            "/players/20124/\n"
          ]
        },
        {
          "output_type": "stream",
          "name": "stderr",
          "text": [
            "<ipython-input-7-5e25f54b2bf4>:39: FutureWarning: The frame.append method is deprecated and will be removed from pandas in a future version. Use pandas.concat instead.\n",
            "  list_player_info = list_player_info.append(player_info, ignore_index=True)\n",
            "<ipython-input-7-5e25f54b2bf4>:41: FutureWarning: The frame.append method is deprecated and will be removed from pandas in a future version. Use pandas.concat instead.\n",
            "  list_player_khl_stat = list_player_khl_stat.append(player_khl_stat, ignore_index=True)\n"
          ]
        },
        {
          "output_type": "stream",
          "name": "stdout",
          "text": [
            "/players/22746/\n"
          ]
        },
        {
          "output_type": "stream",
          "name": "stderr",
          "text": [
            "<ipython-input-7-5e25f54b2bf4>:39: FutureWarning: The frame.append method is deprecated and will be removed from pandas in a future version. Use pandas.concat instead.\n",
            "  list_player_info = list_player_info.append(player_info, ignore_index=True)\n",
            "<ipython-input-7-5e25f54b2bf4>:41: FutureWarning: The frame.append method is deprecated and will be removed from pandas in a future version. Use pandas.concat instead.\n",
            "  list_player_khl_stat = list_player_khl_stat.append(player_khl_stat, ignore_index=True)\n"
          ]
        },
        {
          "output_type": "stream",
          "name": "stdout",
          "text": [
            "/players/21101/\n"
          ]
        },
        {
          "output_type": "stream",
          "name": "stderr",
          "text": [
            "<ipython-input-7-5e25f54b2bf4>:39: FutureWarning: The frame.append method is deprecated and will be removed from pandas in a future version. Use pandas.concat instead.\n",
            "  list_player_info = list_player_info.append(player_info, ignore_index=True)\n",
            "<ipython-input-7-5e25f54b2bf4>:41: FutureWarning: The frame.append method is deprecated and will be removed from pandas in a future version. Use pandas.concat instead.\n",
            "  list_player_khl_stat = list_player_khl_stat.append(player_khl_stat, ignore_index=True)\n"
          ]
        },
        {
          "output_type": "stream",
          "name": "stdout",
          "text": [
            "/players/35746/\n"
          ]
        },
        {
          "output_type": "stream",
          "name": "stderr",
          "text": [
            "<ipython-input-7-5e25f54b2bf4>:39: FutureWarning: The frame.append method is deprecated and will be removed from pandas in a future version. Use pandas.concat instead.\n",
            "  list_player_info = list_player_info.append(player_info, ignore_index=True)\n",
            "<ipython-input-7-5e25f54b2bf4>:41: FutureWarning: The frame.append method is deprecated and will be removed from pandas in a future version. Use pandas.concat instead.\n",
            "  list_player_khl_stat = list_player_khl_stat.append(player_khl_stat, ignore_index=True)\n"
          ]
        },
        {
          "output_type": "stream",
          "name": "stdout",
          "text": [
            "/players/14168/\n"
          ]
        },
        {
          "output_type": "stream",
          "name": "stderr",
          "text": [
            "<ipython-input-7-5e25f54b2bf4>:39: FutureWarning: The frame.append method is deprecated and will be removed from pandas in a future version. Use pandas.concat instead.\n",
            "  list_player_info = list_player_info.append(player_info, ignore_index=True)\n",
            "<ipython-input-7-5e25f54b2bf4>:41: FutureWarning: The frame.append method is deprecated and will be removed from pandas in a future version. Use pandas.concat instead.\n",
            "  list_player_khl_stat = list_player_khl_stat.append(player_khl_stat, ignore_index=True)\n"
          ]
        },
        {
          "output_type": "stream",
          "name": "stdout",
          "text": [
            "/players/21133/\n"
          ]
        },
        {
          "output_type": "stream",
          "name": "stderr",
          "text": [
            "<ipython-input-7-5e25f54b2bf4>:39: FutureWarning: The frame.append method is deprecated and will be removed from pandas in a future version. Use pandas.concat instead.\n",
            "  list_player_info = list_player_info.append(player_info, ignore_index=True)\n",
            "<ipython-input-7-5e25f54b2bf4>:41: FutureWarning: The frame.append method is deprecated and will be removed from pandas in a future version. Use pandas.concat instead.\n",
            "  list_player_khl_stat = list_player_khl_stat.append(player_khl_stat, ignore_index=True)\n"
          ]
        },
        {
          "output_type": "stream",
          "name": "stdout",
          "text": [
            "/players/14596/\n"
          ]
        },
        {
          "output_type": "stream",
          "name": "stderr",
          "text": [
            "<ipython-input-7-5e25f54b2bf4>:39: FutureWarning: The frame.append method is deprecated and will be removed from pandas in a future version. Use pandas.concat instead.\n",
            "  list_player_info = list_player_info.append(player_info, ignore_index=True)\n",
            "<ipython-input-7-5e25f54b2bf4>:41: FutureWarning: The frame.append method is deprecated and will be removed from pandas in a future version. Use pandas.concat instead.\n",
            "  list_player_khl_stat = list_player_khl_stat.append(player_khl_stat, ignore_index=True)\n"
          ]
        },
        {
          "output_type": "stream",
          "name": "stdout",
          "text": [
            "/players/16304/\n"
          ]
        },
        {
          "output_type": "stream",
          "name": "stderr",
          "text": [
            "<ipython-input-7-5e25f54b2bf4>:39: FutureWarning: The frame.append method is deprecated and will be removed from pandas in a future version. Use pandas.concat instead.\n",
            "  list_player_info = list_player_info.append(player_info, ignore_index=True)\n",
            "<ipython-input-7-5e25f54b2bf4>:41: FutureWarning: The frame.append method is deprecated and will be removed from pandas in a future version. Use pandas.concat instead.\n",
            "  list_player_khl_stat = list_player_khl_stat.append(player_khl_stat, ignore_index=True)\n"
          ]
        },
        {
          "output_type": "stream",
          "name": "stdout",
          "text": [
            "/players/14496/\n"
          ]
        },
        {
          "output_type": "stream",
          "name": "stderr",
          "text": [
            "<ipython-input-7-5e25f54b2bf4>:39: FutureWarning: The frame.append method is deprecated and will be removed from pandas in a future version. Use pandas.concat instead.\n",
            "  list_player_info = list_player_info.append(player_info, ignore_index=True)\n",
            "<ipython-input-7-5e25f54b2bf4>:41: FutureWarning: The frame.append method is deprecated and will be removed from pandas in a future version. Use pandas.concat instead.\n",
            "  list_player_khl_stat = list_player_khl_stat.append(player_khl_stat, ignore_index=True)\n"
          ]
        },
        {
          "output_type": "stream",
          "name": "stdout",
          "text": [
            "/players/20480/\n"
          ]
        },
        {
          "output_type": "stream",
          "name": "stderr",
          "text": [
            "<ipython-input-7-5e25f54b2bf4>:39: FutureWarning: The frame.append method is deprecated and will be removed from pandas in a future version. Use pandas.concat instead.\n",
            "  list_player_info = list_player_info.append(player_info, ignore_index=True)\n",
            "<ipython-input-7-5e25f54b2bf4>:41: FutureWarning: The frame.append method is deprecated and will be removed from pandas in a future version. Use pandas.concat instead.\n",
            "  list_player_khl_stat = list_player_khl_stat.append(player_khl_stat, ignore_index=True)\n"
          ]
        },
        {
          "output_type": "stream",
          "name": "stdout",
          "text": [
            "/players/35921/\n"
          ]
        },
        {
          "output_type": "stream",
          "name": "stderr",
          "text": [
            "<ipython-input-7-5e25f54b2bf4>:39: FutureWarning: The frame.append method is deprecated and will be removed from pandas in a future version. Use pandas.concat instead.\n",
            "  list_player_info = list_player_info.append(player_info, ignore_index=True)\n",
            "<ipython-input-7-5e25f54b2bf4>:41: FutureWarning: The frame.append method is deprecated and will be removed from pandas in a future version. Use pandas.concat instead.\n",
            "  list_player_khl_stat = list_player_khl_stat.append(player_khl_stat, ignore_index=True)\n"
          ]
        },
        {
          "output_type": "stream",
          "name": "stdout",
          "text": [
            "/players/35032/\n"
          ]
        },
        {
          "output_type": "stream",
          "name": "stderr",
          "text": [
            "<ipython-input-7-5e25f54b2bf4>:39: FutureWarning: The frame.append method is deprecated and will be removed from pandas in a future version. Use pandas.concat instead.\n",
            "  list_player_info = list_player_info.append(player_info, ignore_index=True)\n",
            "<ipython-input-7-5e25f54b2bf4>:41: FutureWarning: The frame.append method is deprecated and will be removed from pandas in a future version. Use pandas.concat instead.\n",
            "  list_player_khl_stat = list_player_khl_stat.append(player_khl_stat, ignore_index=True)\n"
          ]
        },
        {
          "output_type": "stream",
          "name": "stdout",
          "text": [
            "/players/16447/\n"
          ]
        },
        {
          "output_type": "stream",
          "name": "stderr",
          "text": [
            "<ipython-input-7-5e25f54b2bf4>:39: FutureWarning: The frame.append method is deprecated and will be removed from pandas in a future version. Use pandas.concat instead.\n",
            "  list_player_info = list_player_info.append(player_info, ignore_index=True)\n",
            "<ipython-input-7-5e25f54b2bf4>:41: FutureWarning: The frame.append method is deprecated and will be removed from pandas in a future version. Use pandas.concat instead.\n",
            "  list_player_khl_stat = list_player_khl_stat.append(player_khl_stat, ignore_index=True)\n"
          ]
        },
        {
          "output_type": "stream",
          "name": "stdout",
          "text": [
            "/players/41195/\n"
          ]
        },
        {
          "output_type": "stream",
          "name": "stderr",
          "text": [
            "<ipython-input-7-5e25f54b2bf4>:39: FutureWarning: The frame.append method is deprecated and will be removed from pandas in a future version. Use pandas.concat instead.\n",
            "  list_player_info = list_player_info.append(player_info, ignore_index=True)\n",
            "<ipython-input-7-5e25f54b2bf4>:41: FutureWarning: The frame.append method is deprecated and will be removed from pandas in a future version. Use pandas.concat instead.\n",
            "  list_player_khl_stat = list_player_khl_stat.append(player_khl_stat, ignore_index=True)\n"
          ]
        },
        {
          "output_type": "stream",
          "name": "stdout",
          "text": [
            "/players/16946/\n"
          ]
        },
        {
          "output_type": "stream",
          "name": "stderr",
          "text": [
            "<ipython-input-7-5e25f54b2bf4>:39: FutureWarning: The frame.append method is deprecated and will be removed from pandas in a future version. Use pandas.concat instead.\n",
            "  list_player_info = list_player_info.append(player_info, ignore_index=True)\n",
            "<ipython-input-7-5e25f54b2bf4>:41: FutureWarning: The frame.append method is deprecated and will be removed from pandas in a future version. Use pandas.concat instead.\n",
            "  list_player_khl_stat = list_player_khl_stat.append(player_khl_stat, ignore_index=True)\n"
          ]
        },
        {
          "output_type": "stream",
          "name": "stdout",
          "text": [
            "/players/16648/\n"
          ]
        },
        {
          "output_type": "stream",
          "name": "stderr",
          "text": [
            "<ipython-input-7-5e25f54b2bf4>:39: FutureWarning: The frame.append method is deprecated and will be removed from pandas in a future version. Use pandas.concat instead.\n",
            "  list_player_info = list_player_info.append(player_info, ignore_index=True)\n",
            "<ipython-input-7-5e25f54b2bf4>:41: FutureWarning: The frame.append method is deprecated and will be removed from pandas in a future version. Use pandas.concat instead.\n",
            "  list_player_khl_stat = list_player_khl_stat.append(player_khl_stat, ignore_index=True)\n"
          ]
        },
        {
          "output_type": "stream",
          "name": "stdout",
          "text": [
            "/players/16427/\n"
          ]
        },
        {
          "output_type": "stream",
          "name": "stderr",
          "text": [
            "<ipython-input-7-5e25f54b2bf4>:39: FutureWarning: The frame.append method is deprecated and will be removed from pandas in a future version. Use pandas.concat instead.\n",
            "  list_player_info = list_player_info.append(player_info, ignore_index=True)\n",
            "<ipython-input-7-5e25f54b2bf4>:41: FutureWarning: The frame.append method is deprecated and will be removed from pandas in a future version. Use pandas.concat instead.\n",
            "  list_player_khl_stat = list_player_khl_stat.append(player_khl_stat, ignore_index=True)\n"
          ]
        },
        {
          "output_type": "stream",
          "name": "stdout",
          "text": [
            "/players/15309/\n"
          ]
        },
        {
          "output_type": "stream",
          "name": "stderr",
          "text": [
            "<ipython-input-7-5e25f54b2bf4>:39: FutureWarning: The frame.append method is deprecated and will be removed from pandas in a future version. Use pandas.concat instead.\n",
            "  list_player_info = list_player_info.append(player_info, ignore_index=True)\n",
            "<ipython-input-7-5e25f54b2bf4>:41: FutureWarning: The frame.append method is deprecated and will be removed from pandas in a future version. Use pandas.concat instead.\n",
            "  list_player_khl_stat = list_player_khl_stat.append(player_khl_stat, ignore_index=True)\n"
          ]
        },
        {
          "output_type": "stream",
          "name": "stdout",
          "text": [
            "/players/36216/\n"
          ]
        },
        {
          "output_type": "stream",
          "name": "stderr",
          "text": [
            "<ipython-input-7-5e25f54b2bf4>:39: FutureWarning: The frame.append method is deprecated and will be removed from pandas in a future version. Use pandas.concat instead.\n",
            "  list_player_info = list_player_info.append(player_info, ignore_index=True)\n",
            "<ipython-input-7-5e25f54b2bf4>:41: FutureWarning: The frame.append method is deprecated and will be removed from pandas in a future version. Use pandas.concat instead.\n",
            "  list_player_khl_stat = list_player_khl_stat.append(player_khl_stat, ignore_index=True)\n"
          ]
        },
        {
          "output_type": "stream",
          "name": "stdout",
          "text": [
            "/players/23741/\n"
          ]
        },
        {
          "output_type": "stream",
          "name": "stderr",
          "text": [
            "<ipython-input-7-5e25f54b2bf4>:39: FutureWarning: The frame.append method is deprecated and will be removed from pandas in a future version. Use pandas.concat instead.\n",
            "  list_player_info = list_player_info.append(player_info, ignore_index=True)\n",
            "<ipython-input-7-5e25f54b2bf4>:41: FutureWarning: The frame.append method is deprecated and will be removed from pandas in a future version. Use pandas.concat instead.\n",
            "  list_player_khl_stat = list_player_khl_stat.append(player_khl_stat, ignore_index=True)\n"
          ]
        },
        {
          "output_type": "stream",
          "name": "stdout",
          "text": [
            "/players/21167/\n"
          ]
        },
        {
          "output_type": "stream",
          "name": "stderr",
          "text": [
            "<ipython-input-7-5e25f54b2bf4>:39: FutureWarning: The frame.append method is deprecated and will be removed from pandas in a future version. Use pandas.concat instead.\n",
            "  list_player_info = list_player_info.append(player_info, ignore_index=True)\n",
            "<ipython-input-7-5e25f54b2bf4>:41: FutureWarning: The frame.append method is deprecated and will be removed from pandas in a future version. Use pandas.concat instead.\n",
            "  list_player_khl_stat = list_player_khl_stat.append(player_khl_stat, ignore_index=True)\n"
          ]
        },
        {
          "output_type": "stream",
          "name": "stdout",
          "text": [
            "/players/39216/\n"
          ]
        },
        {
          "output_type": "stream",
          "name": "stderr",
          "text": [
            "<ipython-input-7-5e25f54b2bf4>:39: FutureWarning: The frame.append method is deprecated and will be removed from pandas in a future version. Use pandas.concat instead.\n",
            "  list_player_info = list_player_info.append(player_info, ignore_index=True)\n",
            "<ipython-input-7-5e25f54b2bf4>:41: FutureWarning: The frame.append method is deprecated and will be removed from pandas in a future version. Use pandas.concat instead.\n",
            "  list_player_khl_stat = list_player_khl_stat.append(player_khl_stat, ignore_index=True)\n"
          ]
        },
        {
          "output_type": "stream",
          "name": "stdout",
          "text": [
            "/players/7613/\n"
          ]
        },
        {
          "output_type": "stream",
          "name": "stderr",
          "text": [
            "<ipython-input-7-5e25f54b2bf4>:39: FutureWarning: The frame.append method is deprecated and will be removed from pandas in a future version. Use pandas.concat instead.\n",
            "  list_player_info = list_player_info.append(player_info, ignore_index=True)\n",
            "<ipython-input-7-5e25f54b2bf4>:41: FutureWarning: The frame.append method is deprecated and will be removed from pandas in a future version. Use pandas.concat instead.\n",
            "  list_player_khl_stat = list_player_khl_stat.append(player_khl_stat, ignore_index=True)\n"
          ]
        },
        {
          "output_type": "stream",
          "name": "stdout",
          "text": [
            "/players/25390/\n"
          ]
        },
        {
          "output_type": "stream",
          "name": "stderr",
          "text": [
            "<ipython-input-7-5e25f54b2bf4>:39: FutureWarning: The frame.append method is deprecated and will be removed from pandas in a future version. Use pandas.concat instead.\n",
            "  list_player_info = list_player_info.append(player_info, ignore_index=True)\n",
            "<ipython-input-7-5e25f54b2bf4>:41: FutureWarning: The frame.append method is deprecated and will be removed from pandas in a future version. Use pandas.concat instead.\n",
            "  list_player_khl_stat = list_player_khl_stat.append(player_khl_stat, ignore_index=True)\n"
          ]
        },
        {
          "output_type": "stream",
          "name": "stdout",
          "text": [
            "/players/25809/\n"
          ]
        },
        {
          "output_type": "stream",
          "name": "stderr",
          "text": [
            "<ipython-input-7-5e25f54b2bf4>:39: FutureWarning: The frame.append method is deprecated and will be removed from pandas in a future version. Use pandas.concat instead.\n",
            "  list_player_info = list_player_info.append(player_info, ignore_index=True)\n",
            "<ipython-input-7-5e25f54b2bf4>:41: FutureWarning: The frame.append method is deprecated and will be removed from pandas in a future version. Use pandas.concat instead.\n",
            "  list_player_khl_stat = list_player_khl_stat.append(player_khl_stat, ignore_index=True)\n"
          ]
        },
        {
          "output_type": "stream",
          "name": "stdout",
          "text": [
            "/players/13718/\n"
          ]
        },
        {
          "output_type": "stream",
          "name": "stderr",
          "text": [
            "<ipython-input-7-5e25f54b2bf4>:39: FutureWarning: The frame.append method is deprecated and will be removed from pandas in a future version. Use pandas.concat instead.\n",
            "  list_player_info = list_player_info.append(player_info, ignore_index=True)\n",
            "<ipython-input-7-5e25f54b2bf4>:41: FutureWarning: The frame.append method is deprecated and will be removed from pandas in a future version. Use pandas.concat instead.\n",
            "  list_player_khl_stat = list_player_khl_stat.append(player_khl_stat, ignore_index=True)\n"
          ]
        },
        {
          "output_type": "stream",
          "name": "stdout",
          "text": [
            "/players/15781/\n"
          ]
        },
        {
          "output_type": "stream",
          "name": "stderr",
          "text": [
            "<ipython-input-7-5e25f54b2bf4>:39: FutureWarning: The frame.append method is deprecated and will be removed from pandas in a future version. Use pandas.concat instead.\n",
            "  list_player_info = list_player_info.append(player_info, ignore_index=True)\n",
            "<ipython-input-7-5e25f54b2bf4>:41: FutureWarning: The frame.append method is deprecated and will be removed from pandas in a future version. Use pandas.concat instead.\n",
            "  list_player_khl_stat = list_player_khl_stat.append(player_khl_stat, ignore_index=True)\n"
          ]
        },
        {
          "output_type": "stream",
          "name": "stdout",
          "text": [
            "/players/24897/\n"
          ]
        },
        {
          "output_type": "stream",
          "name": "stderr",
          "text": [
            "<ipython-input-7-5e25f54b2bf4>:39: FutureWarning: The frame.append method is deprecated and will be removed from pandas in a future version. Use pandas.concat instead.\n",
            "  list_player_info = list_player_info.append(player_info, ignore_index=True)\n",
            "<ipython-input-7-5e25f54b2bf4>:41: FutureWarning: The frame.append method is deprecated and will be removed from pandas in a future version. Use pandas.concat instead.\n",
            "  list_player_khl_stat = list_player_khl_stat.append(player_khl_stat, ignore_index=True)\n"
          ]
        },
        {
          "output_type": "stream",
          "name": "stdout",
          "text": [
            "/players/15997/\n"
          ]
        },
        {
          "output_type": "stream",
          "name": "stderr",
          "text": [
            "<ipython-input-7-5e25f54b2bf4>:39: FutureWarning: The frame.append method is deprecated and will be removed from pandas in a future version. Use pandas.concat instead.\n",
            "  list_player_info = list_player_info.append(player_info, ignore_index=True)\n",
            "<ipython-input-7-5e25f54b2bf4>:41: FutureWarning: The frame.append method is deprecated and will be removed from pandas in a future version. Use pandas.concat instead.\n",
            "  list_player_khl_stat = list_player_khl_stat.append(player_khl_stat, ignore_index=True)\n"
          ]
        },
        {
          "output_type": "stream",
          "name": "stdout",
          "text": [
            "/players/32351/\n"
          ]
        },
        {
          "output_type": "stream",
          "name": "stderr",
          "text": [
            "<ipython-input-7-5e25f54b2bf4>:39: FutureWarning: The frame.append method is deprecated and will be removed from pandas in a future version. Use pandas.concat instead.\n",
            "  list_player_info = list_player_info.append(player_info, ignore_index=True)\n",
            "<ipython-input-7-5e25f54b2bf4>:41: FutureWarning: The frame.append method is deprecated and will be removed from pandas in a future version. Use pandas.concat instead.\n",
            "  list_player_khl_stat = list_player_khl_stat.append(player_khl_stat, ignore_index=True)\n"
          ]
        },
        {
          "output_type": "stream",
          "name": "stdout",
          "text": [
            "/players/16307/\n"
          ]
        },
        {
          "output_type": "stream",
          "name": "stderr",
          "text": [
            "<ipython-input-7-5e25f54b2bf4>:39: FutureWarning: The frame.append method is deprecated and will be removed from pandas in a future version. Use pandas.concat instead.\n",
            "  list_player_info = list_player_info.append(player_info, ignore_index=True)\n",
            "<ipython-input-7-5e25f54b2bf4>:41: FutureWarning: The frame.append method is deprecated and will be removed from pandas in a future version. Use pandas.concat instead.\n",
            "  list_player_khl_stat = list_player_khl_stat.append(player_khl_stat, ignore_index=True)\n"
          ]
        },
        {
          "output_type": "stream",
          "name": "stdout",
          "text": [
            "/players/4412/\n"
          ]
        },
        {
          "output_type": "stream",
          "name": "stderr",
          "text": [
            "<ipython-input-7-5e25f54b2bf4>:39: FutureWarning: The frame.append method is deprecated and will be removed from pandas in a future version. Use pandas.concat instead.\n",
            "  list_player_info = list_player_info.append(player_info, ignore_index=True)\n",
            "<ipython-input-7-5e25f54b2bf4>:41: FutureWarning: The frame.append method is deprecated and will be removed from pandas in a future version. Use pandas.concat instead.\n",
            "  list_player_khl_stat = list_player_khl_stat.append(player_khl_stat, ignore_index=True)\n"
          ]
        },
        {
          "output_type": "stream",
          "name": "stdout",
          "text": [
            "/players/117/\n"
          ]
        },
        {
          "output_type": "stream",
          "name": "stderr",
          "text": [
            "<ipython-input-7-5e25f54b2bf4>:39: FutureWarning: The frame.append method is deprecated and will be removed from pandas in a future version. Use pandas.concat instead.\n",
            "  list_player_info = list_player_info.append(player_info, ignore_index=True)\n",
            "<ipython-input-7-5e25f54b2bf4>:41: FutureWarning: The frame.append method is deprecated and will be removed from pandas in a future version. Use pandas.concat instead.\n",
            "  list_player_khl_stat = list_player_khl_stat.append(player_khl_stat, ignore_index=True)\n"
          ]
        },
        {
          "output_type": "stream",
          "name": "stdout",
          "text": [
            "/players/21165/\n"
          ]
        },
        {
          "output_type": "stream",
          "name": "stderr",
          "text": [
            "<ipython-input-7-5e25f54b2bf4>:39: FutureWarning: The frame.append method is deprecated and will be removed from pandas in a future version. Use pandas.concat instead.\n",
            "  list_player_info = list_player_info.append(player_info, ignore_index=True)\n",
            "<ipython-input-7-5e25f54b2bf4>:41: FutureWarning: The frame.append method is deprecated and will be removed from pandas in a future version. Use pandas.concat instead.\n",
            "  list_player_khl_stat = list_player_khl_stat.append(player_khl_stat, ignore_index=True)\n"
          ]
        },
        {
          "output_type": "stream",
          "name": "stdout",
          "text": [
            "/players/6352/\n"
          ]
        },
        {
          "output_type": "stream",
          "name": "stderr",
          "text": [
            "<ipython-input-7-5e25f54b2bf4>:39: FutureWarning: The frame.append method is deprecated and will be removed from pandas in a future version. Use pandas.concat instead.\n",
            "  list_player_info = list_player_info.append(player_info, ignore_index=True)\n",
            "<ipython-input-7-5e25f54b2bf4>:41: FutureWarning: The frame.append method is deprecated and will be removed from pandas in a future version. Use pandas.concat instead.\n",
            "  list_player_khl_stat = list_player_khl_stat.append(player_khl_stat, ignore_index=True)\n"
          ]
        },
        {
          "output_type": "stream",
          "name": "stdout",
          "text": [
            "/players/14815/\n"
          ]
        },
        {
          "output_type": "stream",
          "name": "stderr",
          "text": [
            "<ipython-input-7-5e25f54b2bf4>:39: FutureWarning: The frame.append method is deprecated and will be removed from pandas in a future version. Use pandas.concat instead.\n",
            "  list_player_info = list_player_info.append(player_info, ignore_index=True)\n",
            "<ipython-input-7-5e25f54b2bf4>:41: FutureWarning: The frame.append method is deprecated and will be removed from pandas in a future version. Use pandas.concat instead.\n",
            "  list_player_khl_stat = list_player_khl_stat.append(player_khl_stat, ignore_index=True)\n"
          ]
        },
        {
          "output_type": "stream",
          "name": "stdout",
          "text": [
            "/players/15278/\n"
          ]
        },
        {
          "output_type": "stream",
          "name": "stderr",
          "text": [
            "<ipython-input-7-5e25f54b2bf4>:39: FutureWarning: The frame.append method is deprecated and will be removed from pandas in a future version. Use pandas.concat instead.\n",
            "  list_player_info = list_player_info.append(player_info, ignore_index=True)\n",
            "<ipython-input-7-5e25f54b2bf4>:41: FutureWarning: The frame.append method is deprecated and will be removed from pandas in a future version. Use pandas.concat instead.\n",
            "  list_player_khl_stat = list_player_khl_stat.append(player_khl_stat, ignore_index=True)\n"
          ]
        },
        {
          "output_type": "stream",
          "name": "stdout",
          "text": [
            "/players/24868/\n"
          ]
        },
        {
          "output_type": "stream",
          "name": "stderr",
          "text": [
            "<ipython-input-7-5e25f54b2bf4>:39: FutureWarning: The frame.append method is deprecated and will be removed from pandas in a future version. Use pandas.concat instead.\n",
            "  list_player_info = list_player_info.append(player_info, ignore_index=True)\n",
            "<ipython-input-7-5e25f54b2bf4>:41: FutureWarning: The frame.append method is deprecated and will be removed from pandas in a future version. Use pandas.concat instead.\n",
            "  list_player_khl_stat = list_player_khl_stat.append(player_khl_stat, ignore_index=True)\n"
          ]
        },
        {
          "output_type": "stream",
          "name": "stdout",
          "text": [
            "/players/40276/\n"
          ]
        },
        {
          "output_type": "stream",
          "name": "stderr",
          "text": [
            "<ipython-input-7-5e25f54b2bf4>:39: FutureWarning: The frame.append method is deprecated and will be removed from pandas in a future version. Use pandas.concat instead.\n",
            "  list_player_info = list_player_info.append(player_info, ignore_index=True)\n",
            "<ipython-input-7-5e25f54b2bf4>:41: FutureWarning: The frame.append method is deprecated and will be removed from pandas in a future version. Use pandas.concat instead.\n",
            "  list_player_khl_stat = list_player_khl_stat.append(player_khl_stat, ignore_index=True)\n"
          ]
        },
        {
          "output_type": "stream",
          "name": "stdout",
          "text": [
            "/players/28624/\n"
          ]
        },
        {
          "output_type": "stream",
          "name": "stderr",
          "text": [
            "<ipython-input-7-5e25f54b2bf4>:39: FutureWarning: The frame.append method is deprecated and will be removed from pandas in a future version. Use pandas.concat instead.\n",
            "  list_player_info = list_player_info.append(player_info, ignore_index=True)\n",
            "<ipython-input-7-5e25f54b2bf4>:41: FutureWarning: The frame.append method is deprecated and will be removed from pandas in a future version. Use pandas.concat instead.\n",
            "  list_player_khl_stat = list_player_khl_stat.append(player_khl_stat, ignore_index=True)\n"
          ]
        },
        {
          "output_type": "stream",
          "name": "stdout",
          "text": [
            "/players/26846/\n"
          ]
        },
        {
          "output_type": "stream",
          "name": "stderr",
          "text": [
            "<ipython-input-7-5e25f54b2bf4>:39: FutureWarning: The frame.append method is deprecated and will be removed from pandas in a future version. Use pandas.concat instead.\n",
            "  list_player_info = list_player_info.append(player_info, ignore_index=True)\n",
            "<ipython-input-7-5e25f54b2bf4>:41: FutureWarning: The frame.append method is deprecated and will be removed from pandas in a future version. Use pandas.concat instead.\n",
            "  list_player_khl_stat = list_player_khl_stat.append(player_khl_stat, ignore_index=True)\n"
          ]
        },
        {
          "output_type": "stream",
          "name": "stdout",
          "text": [
            "/players/15977/\n"
          ]
        },
        {
          "output_type": "stream",
          "name": "stderr",
          "text": [
            "<ipython-input-7-5e25f54b2bf4>:39: FutureWarning: The frame.append method is deprecated and will be removed from pandas in a future version. Use pandas.concat instead.\n",
            "  list_player_info = list_player_info.append(player_info, ignore_index=True)\n",
            "<ipython-input-7-5e25f54b2bf4>:41: FutureWarning: The frame.append method is deprecated and will be removed from pandas in a future version. Use pandas.concat instead.\n",
            "  list_player_khl_stat = list_player_khl_stat.append(player_khl_stat, ignore_index=True)\n"
          ]
        },
        {
          "output_type": "stream",
          "name": "stdout",
          "text": [
            "/players/34721/\n"
          ]
        },
        {
          "output_type": "stream",
          "name": "stderr",
          "text": [
            "<ipython-input-7-5e25f54b2bf4>:39: FutureWarning: The frame.append method is deprecated and will be removed from pandas in a future version. Use pandas.concat instead.\n",
            "  list_player_info = list_player_info.append(player_info, ignore_index=True)\n",
            "<ipython-input-7-5e25f54b2bf4>:41: FutureWarning: The frame.append method is deprecated and will be removed from pandas in a future version. Use pandas.concat instead.\n",
            "  list_player_khl_stat = list_player_khl_stat.append(player_khl_stat, ignore_index=True)\n"
          ]
        },
        {
          "output_type": "stream",
          "name": "stdout",
          "text": [
            "/players/20739/\n"
          ]
        },
        {
          "output_type": "stream",
          "name": "stderr",
          "text": [
            "<ipython-input-7-5e25f54b2bf4>:39: FutureWarning: The frame.append method is deprecated and will be removed from pandas in a future version. Use pandas.concat instead.\n",
            "  list_player_info = list_player_info.append(player_info, ignore_index=True)\n",
            "<ipython-input-7-5e25f54b2bf4>:41: FutureWarning: The frame.append method is deprecated and will be removed from pandas in a future version. Use pandas.concat instead.\n",
            "  list_player_khl_stat = list_player_khl_stat.append(player_khl_stat, ignore_index=True)\n"
          ]
        },
        {
          "output_type": "stream",
          "name": "stdout",
          "text": [
            "/players/19382/\n"
          ]
        },
        {
          "output_type": "stream",
          "name": "stderr",
          "text": [
            "<ipython-input-7-5e25f54b2bf4>:39: FutureWarning: The frame.append method is deprecated and will be removed from pandas in a future version. Use pandas.concat instead.\n",
            "  list_player_info = list_player_info.append(player_info, ignore_index=True)\n",
            "<ipython-input-7-5e25f54b2bf4>:41: FutureWarning: The frame.append method is deprecated and will be removed from pandas in a future version. Use pandas.concat instead.\n",
            "  list_player_khl_stat = list_player_khl_stat.append(player_khl_stat, ignore_index=True)\n"
          ]
        },
        {
          "output_type": "stream",
          "name": "stdout",
          "text": [
            "/players/22353/\n"
          ]
        },
        {
          "output_type": "stream",
          "name": "stderr",
          "text": [
            "<ipython-input-7-5e25f54b2bf4>:39: FutureWarning: The frame.append method is deprecated and will be removed from pandas in a future version. Use pandas.concat instead.\n",
            "  list_player_info = list_player_info.append(player_info, ignore_index=True)\n",
            "<ipython-input-7-5e25f54b2bf4>:41: FutureWarning: The frame.append method is deprecated and will be removed from pandas in a future version. Use pandas.concat instead.\n",
            "  list_player_khl_stat = list_player_khl_stat.append(player_khl_stat, ignore_index=True)\n"
          ]
        },
        {
          "output_type": "stream",
          "name": "stdout",
          "text": [
            "/players/20727/\n"
          ]
        },
        {
          "output_type": "stream",
          "name": "stderr",
          "text": [
            "<ipython-input-7-5e25f54b2bf4>:39: FutureWarning: The frame.append method is deprecated and will be removed from pandas in a future version. Use pandas.concat instead.\n",
            "  list_player_info = list_player_info.append(player_info, ignore_index=True)\n",
            "<ipython-input-7-5e25f54b2bf4>:41: FutureWarning: The frame.append method is deprecated and will be removed from pandas in a future version. Use pandas.concat instead.\n",
            "  list_player_khl_stat = list_player_khl_stat.append(player_khl_stat, ignore_index=True)\n"
          ]
        },
        {
          "output_type": "stream",
          "name": "stdout",
          "text": [
            "/players/30968/\n"
          ]
        },
        {
          "output_type": "stream",
          "name": "stderr",
          "text": [
            "<ipython-input-7-5e25f54b2bf4>:39: FutureWarning: The frame.append method is deprecated and will be removed from pandas in a future version. Use pandas.concat instead.\n",
            "  list_player_info = list_player_info.append(player_info, ignore_index=True)\n",
            "<ipython-input-7-5e25f54b2bf4>:41: FutureWarning: The frame.append method is deprecated and will be removed from pandas in a future version. Use pandas.concat instead.\n",
            "  list_player_khl_stat = list_player_khl_stat.append(player_khl_stat, ignore_index=True)\n"
          ]
        },
        {
          "output_type": "stream",
          "name": "stdout",
          "text": [
            "/players/22052/\n"
          ]
        },
        {
          "output_type": "stream",
          "name": "stderr",
          "text": [
            "<ipython-input-7-5e25f54b2bf4>:39: FutureWarning: The frame.append method is deprecated and will be removed from pandas in a future version. Use pandas.concat instead.\n",
            "  list_player_info = list_player_info.append(player_info, ignore_index=True)\n",
            "<ipython-input-7-5e25f54b2bf4>:41: FutureWarning: The frame.append method is deprecated and will be removed from pandas in a future version. Use pandas.concat instead.\n",
            "  list_player_khl_stat = list_player_khl_stat.append(player_khl_stat, ignore_index=True)\n"
          ]
        },
        {
          "output_type": "stream",
          "name": "stdout",
          "text": [
            "/players/42322/\n"
          ]
        },
        {
          "output_type": "stream",
          "name": "stderr",
          "text": [
            "<ipython-input-7-5e25f54b2bf4>:39: FutureWarning: The frame.append method is deprecated and will be removed from pandas in a future version. Use pandas.concat instead.\n",
            "  list_player_info = list_player_info.append(player_info, ignore_index=True)\n",
            "<ipython-input-7-5e25f54b2bf4>:41: FutureWarning: The frame.append method is deprecated and will be removed from pandas in a future version. Use pandas.concat instead.\n",
            "  list_player_khl_stat = list_player_khl_stat.append(player_khl_stat, ignore_index=True)\n"
          ]
        },
        {
          "output_type": "stream",
          "name": "stdout",
          "text": [
            "/players/30626/\n"
          ]
        },
        {
          "output_type": "stream",
          "name": "stderr",
          "text": [
            "<ipython-input-7-5e25f54b2bf4>:39: FutureWarning: The frame.append method is deprecated and will be removed from pandas in a future version. Use pandas.concat instead.\n",
            "  list_player_info = list_player_info.append(player_info, ignore_index=True)\n",
            "<ipython-input-7-5e25f54b2bf4>:41: FutureWarning: The frame.append method is deprecated and will be removed from pandas in a future version. Use pandas.concat instead.\n",
            "  list_player_khl_stat = list_player_khl_stat.append(player_khl_stat, ignore_index=True)\n"
          ]
        },
        {
          "output_type": "stream",
          "name": "stdout",
          "text": [
            "/players/39909/\n"
          ]
        },
        {
          "output_type": "stream",
          "name": "stderr",
          "text": [
            "<ipython-input-7-5e25f54b2bf4>:39: FutureWarning: The frame.append method is deprecated and will be removed from pandas in a future version. Use pandas.concat instead.\n",
            "  list_player_info = list_player_info.append(player_info, ignore_index=True)\n",
            "<ipython-input-7-5e25f54b2bf4>:41: FutureWarning: The frame.append method is deprecated and will be removed from pandas in a future version. Use pandas.concat instead.\n",
            "  list_player_khl_stat = list_player_khl_stat.append(player_khl_stat, ignore_index=True)\n"
          ]
        },
        {
          "output_type": "stream",
          "name": "stdout",
          "text": [
            "/players/38373/\n"
          ]
        },
        {
          "output_type": "stream",
          "name": "stderr",
          "text": [
            "<ipython-input-7-5e25f54b2bf4>:39: FutureWarning: The frame.append method is deprecated and will be removed from pandas in a future version. Use pandas.concat instead.\n",
            "  list_player_info = list_player_info.append(player_info, ignore_index=True)\n",
            "<ipython-input-7-5e25f54b2bf4>:41: FutureWarning: The frame.append method is deprecated and will be removed from pandas in a future version. Use pandas.concat instead.\n",
            "  list_player_khl_stat = list_player_khl_stat.append(player_khl_stat, ignore_index=True)\n"
          ]
        },
        {
          "output_type": "stream",
          "name": "stdout",
          "text": [
            "/players/14818/\n"
          ]
        },
        {
          "output_type": "stream",
          "name": "stderr",
          "text": [
            "<ipython-input-7-5e25f54b2bf4>:39: FutureWarning: The frame.append method is deprecated and will be removed from pandas in a future version. Use pandas.concat instead.\n",
            "  list_player_info = list_player_info.append(player_info, ignore_index=True)\n",
            "<ipython-input-7-5e25f54b2bf4>:41: FutureWarning: The frame.append method is deprecated and will be removed from pandas in a future version. Use pandas.concat instead.\n",
            "  list_player_khl_stat = list_player_khl_stat.append(player_khl_stat, ignore_index=True)\n"
          ]
        },
        {
          "output_type": "stream",
          "name": "stdout",
          "text": [
            "/players/32363/\n"
          ]
        },
        {
          "output_type": "stream",
          "name": "stderr",
          "text": [
            "<ipython-input-7-5e25f54b2bf4>:39: FutureWarning: The frame.append method is deprecated and will be removed from pandas in a future version. Use pandas.concat instead.\n",
            "  list_player_info = list_player_info.append(player_info, ignore_index=True)\n",
            "<ipython-input-7-5e25f54b2bf4>:41: FutureWarning: The frame.append method is deprecated and will be removed from pandas in a future version. Use pandas.concat instead.\n",
            "  list_player_khl_stat = list_player_khl_stat.append(player_khl_stat, ignore_index=True)\n"
          ]
        },
        {
          "output_type": "stream",
          "name": "stdout",
          "text": [
            "/players/27168/\n"
          ]
        },
        {
          "output_type": "stream",
          "name": "stderr",
          "text": [
            "<ipython-input-7-5e25f54b2bf4>:39: FutureWarning: The frame.append method is deprecated and will be removed from pandas in a future version. Use pandas.concat instead.\n",
            "  list_player_info = list_player_info.append(player_info, ignore_index=True)\n",
            "<ipython-input-7-5e25f54b2bf4>:41: FutureWarning: The frame.append method is deprecated and will be removed from pandas in a future version. Use pandas.concat instead.\n",
            "  list_player_khl_stat = list_player_khl_stat.append(player_khl_stat, ignore_index=True)\n"
          ]
        },
        {
          "output_type": "stream",
          "name": "stdout",
          "text": [
            "/players/16115/\n"
          ]
        },
        {
          "output_type": "stream",
          "name": "stderr",
          "text": [
            "<ipython-input-7-5e25f54b2bf4>:39: FutureWarning: The frame.append method is deprecated and will be removed from pandas in a future version. Use pandas.concat instead.\n",
            "  list_player_info = list_player_info.append(player_info, ignore_index=True)\n",
            "<ipython-input-7-5e25f54b2bf4>:41: FutureWarning: The frame.append method is deprecated and will be removed from pandas in a future version. Use pandas.concat instead.\n",
            "  list_player_khl_stat = list_player_khl_stat.append(player_khl_stat, ignore_index=True)\n"
          ]
        },
        {
          "output_type": "stream",
          "name": "stdout",
          "text": [
            "/players/30147/\n"
          ]
        },
        {
          "output_type": "stream",
          "name": "stderr",
          "text": [
            "<ipython-input-7-5e25f54b2bf4>:39: FutureWarning: The frame.append method is deprecated and will be removed from pandas in a future version. Use pandas.concat instead.\n",
            "  list_player_info = list_player_info.append(player_info, ignore_index=True)\n",
            "<ipython-input-7-5e25f54b2bf4>:41: FutureWarning: The frame.append method is deprecated and will be removed from pandas in a future version. Use pandas.concat instead.\n",
            "  list_player_khl_stat = list_player_khl_stat.append(player_khl_stat, ignore_index=True)\n"
          ]
        },
        {
          "output_type": "stream",
          "name": "stdout",
          "text": [
            "/players/15316/\n"
          ]
        },
        {
          "output_type": "stream",
          "name": "stderr",
          "text": [
            "<ipython-input-7-5e25f54b2bf4>:39: FutureWarning: The frame.append method is deprecated and will be removed from pandas in a future version. Use pandas.concat instead.\n",
            "  list_player_info = list_player_info.append(player_info, ignore_index=True)\n",
            "<ipython-input-7-5e25f54b2bf4>:41: FutureWarning: The frame.append method is deprecated and will be removed from pandas in a future version. Use pandas.concat instead.\n",
            "  list_player_khl_stat = list_player_khl_stat.append(player_khl_stat, ignore_index=True)\n"
          ]
        },
        {
          "output_type": "stream",
          "name": "stdout",
          "text": [
            "/players/20937/\n"
          ]
        },
        {
          "output_type": "stream",
          "name": "stderr",
          "text": [
            "<ipython-input-7-5e25f54b2bf4>:39: FutureWarning: The frame.append method is deprecated and will be removed from pandas in a future version. Use pandas.concat instead.\n",
            "  list_player_info = list_player_info.append(player_info, ignore_index=True)\n",
            "<ipython-input-7-5e25f54b2bf4>:41: FutureWarning: The frame.append method is deprecated and will be removed from pandas in a future version. Use pandas.concat instead.\n",
            "  list_player_khl_stat = list_player_khl_stat.append(player_khl_stat, ignore_index=True)\n"
          ]
        },
        {
          "output_type": "stream",
          "name": "stdout",
          "text": [
            "/players/15254/\n"
          ]
        },
        {
          "output_type": "stream",
          "name": "stderr",
          "text": [
            "<ipython-input-7-5e25f54b2bf4>:39: FutureWarning: The frame.append method is deprecated and will be removed from pandas in a future version. Use pandas.concat instead.\n",
            "  list_player_info = list_player_info.append(player_info, ignore_index=True)\n",
            "<ipython-input-7-5e25f54b2bf4>:41: FutureWarning: The frame.append method is deprecated and will be removed from pandas in a future version. Use pandas.concat instead.\n",
            "  list_player_khl_stat = list_player_khl_stat.append(player_khl_stat, ignore_index=True)\n"
          ]
        },
        {
          "output_type": "stream",
          "name": "stdout",
          "text": [
            "/players/21022/\n"
          ]
        },
        {
          "output_type": "stream",
          "name": "stderr",
          "text": [
            "<ipython-input-7-5e25f54b2bf4>:39: FutureWarning: The frame.append method is deprecated and will be removed from pandas in a future version. Use pandas.concat instead.\n",
            "  list_player_info = list_player_info.append(player_info, ignore_index=True)\n",
            "<ipython-input-7-5e25f54b2bf4>:41: FutureWarning: The frame.append method is deprecated and will be removed from pandas in a future version. Use pandas.concat instead.\n",
            "  list_player_khl_stat = list_player_khl_stat.append(player_khl_stat, ignore_index=True)\n"
          ]
        },
        {
          "output_type": "stream",
          "name": "stdout",
          "text": [
            "/players/22361/\n"
          ]
        },
        {
          "output_type": "stream",
          "name": "stderr",
          "text": [
            "<ipython-input-7-5e25f54b2bf4>:39: FutureWarning: The frame.append method is deprecated and will be removed from pandas in a future version. Use pandas.concat instead.\n",
            "  list_player_info = list_player_info.append(player_info, ignore_index=True)\n",
            "<ipython-input-7-5e25f54b2bf4>:41: FutureWarning: The frame.append method is deprecated and will be removed from pandas in a future version. Use pandas.concat instead.\n",
            "  list_player_khl_stat = list_player_khl_stat.append(player_khl_stat, ignore_index=True)\n"
          ]
        },
        {
          "output_type": "stream",
          "name": "stdout",
          "text": [
            "/players/39843/\n"
          ]
        },
        {
          "output_type": "stream",
          "name": "stderr",
          "text": [
            "<ipython-input-7-5e25f54b2bf4>:39: FutureWarning: The frame.append method is deprecated and will be removed from pandas in a future version. Use pandas.concat instead.\n",
            "  list_player_info = list_player_info.append(player_info, ignore_index=True)\n",
            "<ipython-input-7-5e25f54b2bf4>:41: FutureWarning: The frame.append method is deprecated and will be removed from pandas in a future version. Use pandas.concat instead.\n",
            "  list_player_khl_stat = list_player_khl_stat.append(player_khl_stat, ignore_index=True)\n"
          ]
        },
        {
          "output_type": "stream",
          "name": "stdout",
          "text": [
            "/players/27820/\n"
          ]
        },
        {
          "output_type": "stream",
          "name": "stderr",
          "text": [
            "<ipython-input-7-5e25f54b2bf4>:39: FutureWarning: The frame.append method is deprecated and will be removed from pandas in a future version. Use pandas.concat instead.\n",
            "  list_player_info = list_player_info.append(player_info, ignore_index=True)\n",
            "<ipython-input-7-5e25f54b2bf4>:41: FutureWarning: The frame.append method is deprecated and will be removed from pandas in a future version. Use pandas.concat instead.\n",
            "  list_player_khl_stat = list_player_khl_stat.append(player_khl_stat, ignore_index=True)\n"
          ]
        },
        {
          "output_type": "stream",
          "name": "stdout",
          "text": [
            "/players/22364/\n"
          ]
        },
        {
          "output_type": "stream",
          "name": "stderr",
          "text": [
            "<ipython-input-7-5e25f54b2bf4>:39: FutureWarning: The frame.append method is deprecated and will be removed from pandas in a future version. Use pandas.concat instead.\n",
            "  list_player_info = list_player_info.append(player_info, ignore_index=True)\n",
            "<ipython-input-7-5e25f54b2bf4>:41: FutureWarning: The frame.append method is deprecated and will be removed from pandas in a future version. Use pandas.concat instead.\n",
            "  list_player_khl_stat = list_player_khl_stat.append(player_khl_stat, ignore_index=True)\n"
          ]
        },
        {
          "output_type": "stream",
          "name": "stdout",
          "text": [
            "/players/22360/\n"
          ]
        },
        {
          "output_type": "stream",
          "name": "stderr",
          "text": [
            "<ipython-input-7-5e25f54b2bf4>:39: FutureWarning: The frame.append method is deprecated and will be removed from pandas in a future version. Use pandas.concat instead.\n",
            "  list_player_info = list_player_info.append(player_info, ignore_index=True)\n",
            "<ipython-input-7-5e25f54b2bf4>:41: FutureWarning: The frame.append method is deprecated and will be removed from pandas in a future version. Use pandas.concat instead.\n",
            "  list_player_khl_stat = list_player_khl_stat.append(player_khl_stat, ignore_index=True)\n"
          ]
        },
        {
          "output_type": "stream",
          "name": "stdout",
          "text": [
            "/players/25509/\n"
          ]
        },
        {
          "output_type": "stream",
          "name": "stderr",
          "text": [
            "<ipython-input-7-5e25f54b2bf4>:39: FutureWarning: The frame.append method is deprecated and will be removed from pandas in a future version. Use pandas.concat instead.\n",
            "  list_player_info = list_player_info.append(player_info, ignore_index=True)\n",
            "<ipython-input-7-5e25f54b2bf4>:41: FutureWarning: The frame.append method is deprecated and will be removed from pandas in a future version. Use pandas.concat instead.\n",
            "  list_player_khl_stat = list_player_khl_stat.append(player_khl_stat, ignore_index=True)\n"
          ]
        },
        {
          "output_type": "stream",
          "name": "stdout",
          "text": [
            "/players/17604/\n"
          ]
        },
        {
          "output_type": "stream",
          "name": "stderr",
          "text": [
            "<ipython-input-7-5e25f54b2bf4>:39: FutureWarning: The frame.append method is deprecated and will be removed from pandas in a future version. Use pandas.concat instead.\n",
            "  list_player_info = list_player_info.append(player_info, ignore_index=True)\n",
            "<ipython-input-7-5e25f54b2bf4>:41: FutureWarning: The frame.append method is deprecated and will be removed from pandas in a future version. Use pandas.concat instead.\n",
            "  list_player_khl_stat = list_player_khl_stat.append(player_khl_stat, ignore_index=True)\n"
          ]
        },
        {
          "output_type": "stream",
          "name": "stdout",
          "text": [
            "/players/22135/\n"
          ]
        },
        {
          "output_type": "stream",
          "name": "stderr",
          "text": [
            "<ipython-input-7-5e25f54b2bf4>:39: FutureWarning: The frame.append method is deprecated and will be removed from pandas in a future version. Use pandas.concat instead.\n",
            "  list_player_info = list_player_info.append(player_info, ignore_index=True)\n",
            "<ipython-input-7-5e25f54b2bf4>:41: FutureWarning: The frame.append method is deprecated and will be removed from pandas in a future version. Use pandas.concat instead.\n",
            "  list_player_khl_stat = list_player_khl_stat.append(player_khl_stat, ignore_index=True)\n"
          ]
        },
        {
          "output_type": "stream",
          "name": "stdout",
          "text": [
            "/players/14260/\n"
          ]
        },
        {
          "output_type": "stream",
          "name": "stderr",
          "text": [
            "<ipython-input-7-5e25f54b2bf4>:39: FutureWarning: The frame.append method is deprecated and will be removed from pandas in a future version. Use pandas.concat instead.\n",
            "  list_player_info = list_player_info.append(player_info, ignore_index=True)\n",
            "<ipython-input-7-5e25f54b2bf4>:41: FutureWarning: The frame.append method is deprecated and will be removed from pandas in a future version. Use pandas.concat instead.\n",
            "  list_player_khl_stat = list_player_khl_stat.append(player_khl_stat, ignore_index=True)\n"
          ]
        },
        {
          "output_type": "stream",
          "name": "stdout",
          "text": [
            "/players/39473/\n"
          ]
        },
        {
          "output_type": "stream",
          "name": "stderr",
          "text": [
            "<ipython-input-7-5e25f54b2bf4>:39: FutureWarning: The frame.append method is deprecated and will be removed from pandas in a future version. Use pandas.concat instead.\n",
            "  list_player_info = list_player_info.append(player_info, ignore_index=True)\n",
            "<ipython-input-7-5e25f54b2bf4>:41: FutureWarning: The frame.append method is deprecated and will be removed from pandas in a future version. Use pandas.concat instead.\n",
            "  list_player_khl_stat = list_player_khl_stat.append(player_khl_stat, ignore_index=True)\n"
          ]
        },
        {
          "output_type": "stream",
          "name": "stdout",
          "text": [
            "/players/18983/\n"
          ]
        },
        {
          "output_type": "stream",
          "name": "stderr",
          "text": [
            "<ipython-input-7-5e25f54b2bf4>:39: FutureWarning: The frame.append method is deprecated and will be removed from pandas in a future version. Use pandas.concat instead.\n",
            "  list_player_info = list_player_info.append(player_info, ignore_index=True)\n",
            "<ipython-input-7-5e25f54b2bf4>:41: FutureWarning: The frame.append method is deprecated and will be removed from pandas in a future version. Use pandas.concat instead.\n",
            "  list_player_khl_stat = list_player_khl_stat.append(player_khl_stat, ignore_index=True)\n"
          ]
        },
        {
          "output_type": "stream",
          "name": "stdout",
          "text": [
            "/players/16154/\n"
          ]
        },
        {
          "output_type": "stream",
          "name": "stderr",
          "text": [
            "<ipython-input-7-5e25f54b2bf4>:39: FutureWarning: The frame.append method is deprecated and will be removed from pandas in a future version. Use pandas.concat instead.\n",
            "  list_player_info = list_player_info.append(player_info, ignore_index=True)\n",
            "<ipython-input-7-5e25f54b2bf4>:41: FutureWarning: The frame.append method is deprecated and will be removed from pandas in a future version. Use pandas.concat instead.\n",
            "  list_player_khl_stat = list_player_khl_stat.append(player_khl_stat, ignore_index=True)\n"
          ]
        },
        {
          "output_type": "stream",
          "name": "stdout",
          "text": [
            "/players/14938/\n"
          ]
        },
        {
          "output_type": "stream",
          "name": "stderr",
          "text": [
            "<ipython-input-7-5e25f54b2bf4>:39: FutureWarning: The frame.append method is deprecated and will be removed from pandas in a future version. Use pandas.concat instead.\n",
            "  list_player_info = list_player_info.append(player_info, ignore_index=True)\n",
            "<ipython-input-7-5e25f54b2bf4>:41: FutureWarning: The frame.append method is deprecated and will be removed from pandas in a future version. Use pandas.concat instead.\n",
            "  list_player_khl_stat = list_player_khl_stat.append(player_khl_stat, ignore_index=True)\n"
          ]
        },
        {
          "output_type": "stream",
          "name": "stdout",
          "text": [
            "/players/41397/\n"
          ]
        },
        {
          "output_type": "stream",
          "name": "stderr",
          "text": [
            "<ipython-input-7-5e25f54b2bf4>:39: FutureWarning: The frame.append method is deprecated and will be removed from pandas in a future version. Use pandas.concat instead.\n",
            "  list_player_info = list_player_info.append(player_info, ignore_index=True)\n",
            "<ipython-input-7-5e25f54b2bf4>:41: FutureWarning: The frame.append method is deprecated and will be removed from pandas in a future version. Use pandas.concat instead.\n",
            "  list_player_khl_stat = list_player_khl_stat.append(player_khl_stat, ignore_index=True)\n"
          ]
        },
        {
          "output_type": "stream",
          "name": "stdout",
          "text": [
            "/players/4343/\n"
          ]
        },
        {
          "output_type": "stream",
          "name": "stderr",
          "text": [
            "<ipython-input-7-5e25f54b2bf4>:39: FutureWarning: The frame.append method is deprecated and will be removed from pandas in a future version. Use pandas.concat instead.\n",
            "  list_player_info = list_player_info.append(player_info, ignore_index=True)\n",
            "<ipython-input-7-5e25f54b2bf4>:41: FutureWarning: The frame.append method is deprecated and will be removed from pandas in a future version. Use pandas.concat instead.\n",
            "  list_player_khl_stat = list_player_khl_stat.append(player_khl_stat, ignore_index=True)\n"
          ]
        },
        {
          "output_type": "stream",
          "name": "stdout",
          "text": [
            "/players/15619/\n"
          ]
        },
        {
          "output_type": "stream",
          "name": "stderr",
          "text": [
            "<ipython-input-7-5e25f54b2bf4>:39: FutureWarning: The frame.append method is deprecated and will be removed from pandas in a future version. Use pandas.concat instead.\n",
            "  list_player_info = list_player_info.append(player_info, ignore_index=True)\n",
            "<ipython-input-7-5e25f54b2bf4>:41: FutureWarning: The frame.append method is deprecated and will be removed from pandas in a future version. Use pandas.concat instead.\n",
            "  list_player_khl_stat = list_player_khl_stat.append(player_khl_stat, ignore_index=True)\n"
          ]
        },
        {
          "output_type": "stream",
          "name": "stdout",
          "text": [
            "/players/120/\n"
          ]
        },
        {
          "output_type": "stream",
          "name": "stderr",
          "text": [
            "<ipython-input-7-5e25f54b2bf4>:39: FutureWarning: The frame.append method is deprecated and will be removed from pandas in a future version. Use pandas.concat instead.\n",
            "  list_player_info = list_player_info.append(player_info, ignore_index=True)\n",
            "<ipython-input-7-5e25f54b2bf4>:41: FutureWarning: The frame.append method is deprecated and will be removed from pandas in a future version. Use pandas.concat instead.\n",
            "  list_player_khl_stat = list_player_khl_stat.append(player_khl_stat, ignore_index=True)\n"
          ]
        },
        {
          "output_type": "stream",
          "name": "stdout",
          "text": [
            "/players/22300/\n"
          ]
        },
        {
          "output_type": "stream",
          "name": "stderr",
          "text": [
            "<ipython-input-7-5e25f54b2bf4>:39: FutureWarning: The frame.append method is deprecated and will be removed from pandas in a future version. Use pandas.concat instead.\n",
            "  list_player_info = list_player_info.append(player_info, ignore_index=True)\n",
            "<ipython-input-7-5e25f54b2bf4>:41: FutureWarning: The frame.append method is deprecated and will be removed from pandas in a future version. Use pandas.concat instead.\n",
            "  list_player_khl_stat = list_player_khl_stat.append(player_khl_stat, ignore_index=True)\n"
          ]
        },
        {
          "output_type": "stream",
          "name": "stdout",
          "text": [
            "/players/19535/\n"
          ]
        },
        {
          "output_type": "stream",
          "name": "stderr",
          "text": [
            "<ipython-input-7-5e25f54b2bf4>:39: FutureWarning: The frame.append method is deprecated and will be removed from pandas in a future version. Use pandas.concat instead.\n",
            "  list_player_info = list_player_info.append(player_info, ignore_index=True)\n",
            "<ipython-input-7-5e25f54b2bf4>:41: FutureWarning: The frame.append method is deprecated and will be removed from pandas in a future version. Use pandas.concat instead.\n",
            "  list_player_khl_stat = list_player_khl_stat.append(player_khl_stat, ignore_index=True)\n"
          ]
        },
        {
          "output_type": "stream",
          "name": "stdout",
          "text": [
            "/players/20990/\n"
          ]
        },
        {
          "output_type": "stream",
          "name": "stderr",
          "text": [
            "<ipython-input-7-5e25f54b2bf4>:39: FutureWarning: The frame.append method is deprecated and will be removed from pandas in a future version. Use pandas.concat instead.\n",
            "  list_player_info = list_player_info.append(player_info, ignore_index=True)\n",
            "<ipython-input-7-5e25f54b2bf4>:41: FutureWarning: The frame.append method is deprecated and will be removed from pandas in a future version. Use pandas.concat instead.\n",
            "  list_player_khl_stat = list_player_khl_stat.append(player_khl_stat, ignore_index=True)\n"
          ]
        },
        {
          "output_type": "stream",
          "name": "stdout",
          "text": [
            "/players/19051/\n"
          ]
        },
        {
          "output_type": "stream",
          "name": "stderr",
          "text": [
            "<ipython-input-7-5e25f54b2bf4>:39: FutureWarning: The frame.append method is deprecated and will be removed from pandas in a future version. Use pandas.concat instead.\n",
            "  list_player_info = list_player_info.append(player_info, ignore_index=True)\n",
            "<ipython-input-7-5e25f54b2bf4>:41: FutureWarning: The frame.append method is deprecated and will be removed from pandas in a future version. Use pandas.concat instead.\n",
            "  list_player_khl_stat = list_player_khl_stat.append(player_khl_stat, ignore_index=True)\n"
          ]
        },
        {
          "output_type": "stream",
          "name": "stdout",
          "text": [
            "/players/20949/\n"
          ]
        },
        {
          "output_type": "stream",
          "name": "stderr",
          "text": [
            "<ipython-input-7-5e25f54b2bf4>:39: FutureWarning: The frame.append method is deprecated and will be removed from pandas in a future version. Use pandas.concat instead.\n",
            "  list_player_info = list_player_info.append(player_info, ignore_index=True)\n",
            "<ipython-input-7-5e25f54b2bf4>:41: FutureWarning: The frame.append method is deprecated and will be removed from pandas in a future version. Use pandas.concat instead.\n",
            "  list_player_khl_stat = list_player_khl_stat.append(player_khl_stat, ignore_index=True)\n"
          ]
        },
        {
          "output_type": "stream",
          "name": "stdout",
          "text": [
            "/players/17708/\n"
          ]
        },
        {
          "output_type": "stream",
          "name": "stderr",
          "text": [
            "<ipython-input-7-5e25f54b2bf4>:39: FutureWarning: The frame.append method is deprecated and will be removed from pandas in a future version. Use pandas.concat instead.\n",
            "  list_player_info = list_player_info.append(player_info, ignore_index=True)\n",
            "<ipython-input-7-5e25f54b2bf4>:41: FutureWarning: The frame.append method is deprecated and will be removed from pandas in a future version. Use pandas.concat instead.\n",
            "  list_player_khl_stat = list_player_khl_stat.append(player_khl_stat, ignore_index=True)\n"
          ]
        },
        {
          "output_type": "stream",
          "name": "stdout",
          "text": [
            "/players/40905/\n"
          ]
        },
        {
          "output_type": "stream",
          "name": "stderr",
          "text": [
            "<ipython-input-7-5e25f54b2bf4>:39: FutureWarning: The frame.append method is deprecated and will be removed from pandas in a future version. Use pandas.concat instead.\n",
            "  list_player_info = list_player_info.append(player_info, ignore_index=True)\n",
            "<ipython-input-7-5e25f54b2bf4>:41: FutureWarning: The frame.append method is deprecated and will be removed from pandas in a future version. Use pandas.concat instead.\n",
            "  list_player_khl_stat = list_player_khl_stat.append(player_khl_stat, ignore_index=True)\n"
          ]
        },
        {
          "output_type": "stream",
          "name": "stdout",
          "text": [
            "/players/17732/\n"
          ]
        },
        {
          "output_type": "stream",
          "name": "stderr",
          "text": [
            "<ipython-input-7-5e25f54b2bf4>:39: FutureWarning: The frame.append method is deprecated and will be removed from pandas in a future version. Use pandas.concat instead.\n",
            "  list_player_info = list_player_info.append(player_info, ignore_index=True)\n",
            "<ipython-input-7-5e25f54b2bf4>:41: FutureWarning: The frame.append method is deprecated and will be removed from pandas in a future version. Use pandas.concat instead.\n",
            "  list_player_khl_stat = list_player_khl_stat.append(player_khl_stat, ignore_index=True)\n"
          ]
        },
        {
          "output_type": "stream",
          "name": "stdout",
          "text": [
            "/players/16240/\n"
          ]
        },
        {
          "output_type": "stream",
          "name": "stderr",
          "text": [
            "<ipython-input-7-5e25f54b2bf4>:39: FutureWarning: The frame.append method is deprecated and will be removed from pandas in a future version. Use pandas.concat instead.\n",
            "  list_player_info = list_player_info.append(player_info, ignore_index=True)\n",
            "<ipython-input-7-5e25f54b2bf4>:41: FutureWarning: The frame.append method is deprecated and will be removed from pandas in a future version. Use pandas.concat instead.\n",
            "  list_player_khl_stat = list_player_khl_stat.append(player_khl_stat, ignore_index=True)\n"
          ]
        },
        {
          "output_type": "stream",
          "name": "stdout",
          "text": [
            "/players/14733/\n"
          ]
        },
        {
          "output_type": "stream",
          "name": "stderr",
          "text": [
            "<ipython-input-7-5e25f54b2bf4>:39: FutureWarning: The frame.append method is deprecated and will be removed from pandas in a future version. Use pandas.concat instead.\n",
            "  list_player_info = list_player_info.append(player_info, ignore_index=True)\n",
            "<ipython-input-7-5e25f54b2bf4>:41: FutureWarning: The frame.append method is deprecated and will be removed from pandas in a future version. Use pandas.concat instead.\n",
            "  list_player_khl_stat = list_player_khl_stat.append(player_khl_stat, ignore_index=True)\n"
          ]
        },
        {
          "output_type": "stream",
          "name": "stdout",
          "text": [
            "/players/17686/\n"
          ]
        },
        {
          "output_type": "stream",
          "name": "stderr",
          "text": [
            "<ipython-input-7-5e25f54b2bf4>:39: FutureWarning: The frame.append method is deprecated and will be removed from pandas in a future version. Use pandas.concat instead.\n",
            "  list_player_info = list_player_info.append(player_info, ignore_index=True)\n",
            "<ipython-input-7-5e25f54b2bf4>:41: FutureWarning: The frame.append method is deprecated and will be removed from pandas in a future version. Use pandas.concat instead.\n",
            "  list_player_khl_stat = list_player_khl_stat.append(player_khl_stat, ignore_index=True)\n"
          ]
        },
        {
          "output_type": "stream",
          "name": "stdout",
          "text": [
            "/players/19278/\n"
          ]
        },
        {
          "output_type": "stream",
          "name": "stderr",
          "text": [
            "<ipython-input-7-5e25f54b2bf4>:39: FutureWarning: The frame.append method is deprecated and will be removed from pandas in a future version. Use pandas.concat instead.\n",
            "  list_player_info = list_player_info.append(player_info, ignore_index=True)\n",
            "<ipython-input-7-5e25f54b2bf4>:41: FutureWarning: The frame.append method is deprecated and will be removed from pandas in a future version. Use pandas.concat instead.\n",
            "  list_player_khl_stat = list_player_khl_stat.append(player_khl_stat, ignore_index=True)\n"
          ]
        },
        {
          "output_type": "stream",
          "name": "stdout",
          "text": [
            "/players/14911/\n"
          ]
        },
        {
          "output_type": "stream",
          "name": "stderr",
          "text": [
            "<ipython-input-7-5e25f54b2bf4>:39: FutureWarning: The frame.append method is deprecated and will be removed from pandas in a future version. Use pandas.concat instead.\n",
            "  list_player_info = list_player_info.append(player_info, ignore_index=True)\n",
            "<ipython-input-7-5e25f54b2bf4>:41: FutureWarning: The frame.append method is deprecated and will be removed from pandas in a future version. Use pandas.concat instead.\n",
            "  list_player_khl_stat = list_player_khl_stat.append(player_khl_stat, ignore_index=True)\n"
          ]
        },
        {
          "output_type": "stream",
          "name": "stdout",
          "text": [
            "/players/15978/\n"
          ]
        },
        {
          "output_type": "stream",
          "name": "stderr",
          "text": [
            "<ipython-input-7-5e25f54b2bf4>:39: FutureWarning: The frame.append method is deprecated and will be removed from pandas in a future version. Use pandas.concat instead.\n",
            "  list_player_info = list_player_info.append(player_info, ignore_index=True)\n",
            "<ipython-input-7-5e25f54b2bf4>:41: FutureWarning: The frame.append method is deprecated and will be removed from pandas in a future version. Use pandas.concat instead.\n",
            "  list_player_khl_stat = list_player_khl_stat.append(player_khl_stat, ignore_index=True)\n"
          ]
        },
        {
          "output_type": "stream",
          "name": "stdout",
          "text": [
            "/players/19407/\n"
          ]
        },
        {
          "output_type": "stream",
          "name": "stderr",
          "text": [
            "<ipython-input-7-5e25f54b2bf4>:39: FutureWarning: The frame.append method is deprecated and will be removed from pandas in a future version. Use pandas.concat instead.\n",
            "  list_player_info = list_player_info.append(player_info, ignore_index=True)\n",
            "<ipython-input-7-5e25f54b2bf4>:41: FutureWarning: The frame.append method is deprecated and will be removed from pandas in a future version. Use pandas.concat instead.\n",
            "  list_player_khl_stat = list_player_khl_stat.append(player_khl_stat, ignore_index=True)\n"
          ]
        },
        {
          "output_type": "stream",
          "name": "stdout",
          "text": [
            "/players/15320/\n"
          ]
        },
        {
          "output_type": "stream",
          "name": "stderr",
          "text": [
            "<ipython-input-7-5e25f54b2bf4>:39: FutureWarning: The frame.append method is deprecated and will be removed from pandas in a future version. Use pandas.concat instead.\n",
            "  list_player_info = list_player_info.append(player_info, ignore_index=True)\n",
            "<ipython-input-7-5e25f54b2bf4>:41: FutureWarning: The frame.append method is deprecated and will be removed from pandas in a future version. Use pandas.concat instead.\n",
            "  list_player_khl_stat = list_player_khl_stat.append(player_khl_stat, ignore_index=True)\n"
          ]
        },
        {
          "output_type": "stream",
          "name": "stdout",
          "text": [
            "/players/19264/\n"
          ]
        },
        {
          "output_type": "stream",
          "name": "stderr",
          "text": [
            "<ipython-input-7-5e25f54b2bf4>:39: FutureWarning: The frame.append method is deprecated and will be removed from pandas in a future version. Use pandas.concat instead.\n",
            "  list_player_info = list_player_info.append(player_info, ignore_index=True)\n",
            "<ipython-input-7-5e25f54b2bf4>:41: FutureWarning: The frame.append method is deprecated and will be removed from pandas in a future version. Use pandas.concat instead.\n",
            "  list_player_khl_stat = list_player_khl_stat.append(player_khl_stat, ignore_index=True)\n"
          ]
        },
        {
          "output_type": "stream",
          "name": "stdout",
          "text": [
            "/players/13851/\n"
          ]
        },
        {
          "output_type": "stream",
          "name": "stderr",
          "text": [
            "<ipython-input-7-5e25f54b2bf4>:39: FutureWarning: The frame.append method is deprecated and will be removed from pandas in a future version. Use pandas.concat instead.\n",
            "  list_player_info = list_player_info.append(player_info, ignore_index=True)\n",
            "<ipython-input-7-5e25f54b2bf4>:41: FutureWarning: The frame.append method is deprecated and will be removed from pandas in a future version. Use pandas.concat instead.\n",
            "  list_player_khl_stat = list_player_khl_stat.append(player_khl_stat, ignore_index=True)\n"
          ]
        },
        {
          "output_type": "stream",
          "name": "stdout",
          "text": [
            "/players/20077/\n"
          ]
        },
        {
          "output_type": "stream",
          "name": "stderr",
          "text": [
            "<ipython-input-7-5e25f54b2bf4>:39: FutureWarning: The frame.append method is deprecated and will be removed from pandas in a future version. Use pandas.concat instead.\n",
            "  list_player_info = list_player_info.append(player_info, ignore_index=True)\n",
            "<ipython-input-7-5e25f54b2bf4>:41: FutureWarning: The frame.append method is deprecated and will be removed from pandas in a future version. Use pandas.concat instead.\n",
            "  list_player_khl_stat = list_player_khl_stat.append(player_khl_stat, ignore_index=True)\n"
          ]
        },
        {
          "output_type": "stream",
          "name": "stdout",
          "text": [
            "/players/17360/\n"
          ]
        },
        {
          "output_type": "stream",
          "name": "stderr",
          "text": [
            "<ipython-input-7-5e25f54b2bf4>:39: FutureWarning: The frame.append method is deprecated and will be removed from pandas in a future version. Use pandas.concat instead.\n",
            "  list_player_info = list_player_info.append(player_info, ignore_index=True)\n",
            "<ipython-input-7-5e25f54b2bf4>:41: FutureWarning: The frame.append method is deprecated and will be removed from pandas in a future version. Use pandas.concat instead.\n",
            "  list_player_khl_stat = list_player_khl_stat.append(player_khl_stat, ignore_index=True)\n"
          ]
        },
        {
          "output_type": "stream",
          "name": "stdout",
          "text": [
            "/players/20175/\n"
          ]
        },
        {
          "output_type": "stream",
          "name": "stderr",
          "text": [
            "<ipython-input-7-5e25f54b2bf4>:39: FutureWarning: The frame.append method is deprecated and will be removed from pandas in a future version. Use pandas.concat instead.\n",
            "  list_player_info = list_player_info.append(player_info, ignore_index=True)\n",
            "<ipython-input-7-5e25f54b2bf4>:41: FutureWarning: The frame.append method is deprecated and will be removed from pandas in a future version. Use pandas.concat instead.\n",
            "  list_player_khl_stat = list_player_khl_stat.append(player_khl_stat, ignore_index=True)\n"
          ]
        },
        {
          "output_type": "stream",
          "name": "stdout",
          "text": [
            "/players/20162/\n"
          ]
        },
        {
          "output_type": "stream",
          "name": "stderr",
          "text": [
            "<ipython-input-7-5e25f54b2bf4>:39: FutureWarning: The frame.append method is deprecated and will be removed from pandas in a future version. Use pandas.concat instead.\n",
            "  list_player_info = list_player_info.append(player_info, ignore_index=True)\n",
            "<ipython-input-7-5e25f54b2bf4>:41: FutureWarning: The frame.append method is deprecated and will be removed from pandas in a future version. Use pandas.concat instead.\n",
            "  list_player_khl_stat = list_player_khl_stat.append(player_khl_stat, ignore_index=True)\n"
          ]
        },
        {
          "output_type": "stream",
          "name": "stdout",
          "text": [
            "/players/16686/\n"
          ]
        },
        {
          "output_type": "stream",
          "name": "stderr",
          "text": [
            "<ipython-input-7-5e25f54b2bf4>:39: FutureWarning: The frame.append method is deprecated and will be removed from pandas in a future version. Use pandas.concat instead.\n",
            "  list_player_info = list_player_info.append(player_info, ignore_index=True)\n",
            "<ipython-input-7-5e25f54b2bf4>:41: FutureWarning: The frame.append method is deprecated and will be removed from pandas in a future version. Use pandas.concat instead.\n",
            "  list_player_khl_stat = list_player_khl_stat.append(player_khl_stat, ignore_index=True)\n"
          ]
        },
        {
          "output_type": "stream",
          "name": "stdout",
          "text": [
            "/players/23657/\n"
          ]
        },
        {
          "output_type": "stream",
          "name": "stderr",
          "text": [
            "<ipython-input-7-5e25f54b2bf4>:39: FutureWarning: The frame.append method is deprecated and will be removed from pandas in a future version. Use pandas.concat instead.\n",
            "  list_player_info = list_player_info.append(player_info, ignore_index=True)\n",
            "<ipython-input-7-5e25f54b2bf4>:41: FutureWarning: The frame.append method is deprecated and will be removed from pandas in a future version. Use pandas.concat instead.\n",
            "  list_player_khl_stat = list_player_khl_stat.append(player_khl_stat, ignore_index=True)\n"
          ]
        },
        {
          "output_type": "stream",
          "name": "stdout",
          "text": [
            "/players/16729/\n"
          ]
        },
        {
          "output_type": "stream",
          "name": "stderr",
          "text": [
            "<ipython-input-7-5e25f54b2bf4>:39: FutureWarning: The frame.append method is deprecated and will be removed from pandas in a future version. Use pandas.concat instead.\n",
            "  list_player_info = list_player_info.append(player_info, ignore_index=True)\n",
            "<ipython-input-7-5e25f54b2bf4>:41: FutureWarning: The frame.append method is deprecated and will be removed from pandas in a future version. Use pandas.concat instead.\n",
            "  list_player_khl_stat = list_player_khl_stat.append(player_khl_stat, ignore_index=True)\n"
          ]
        },
        {
          "output_type": "stream",
          "name": "stdout",
          "text": [
            "/players/24167/\n"
          ]
        },
        {
          "output_type": "stream",
          "name": "stderr",
          "text": [
            "<ipython-input-7-5e25f54b2bf4>:39: FutureWarning: The frame.append method is deprecated and will be removed from pandas in a future version. Use pandas.concat instead.\n",
            "  list_player_info = list_player_info.append(player_info, ignore_index=True)\n",
            "<ipython-input-7-5e25f54b2bf4>:41: FutureWarning: The frame.append method is deprecated and will be removed from pandas in a future version. Use pandas.concat instead.\n",
            "  list_player_khl_stat = list_player_khl_stat.append(player_khl_stat, ignore_index=True)\n"
          ]
        },
        {
          "output_type": "stream",
          "name": "stdout",
          "text": [
            "/players/20791/\n"
          ]
        },
        {
          "output_type": "stream",
          "name": "stderr",
          "text": [
            "<ipython-input-7-5e25f54b2bf4>:39: FutureWarning: The frame.append method is deprecated and will be removed from pandas in a future version. Use pandas.concat instead.\n",
            "  list_player_info = list_player_info.append(player_info, ignore_index=True)\n",
            "<ipython-input-7-5e25f54b2bf4>:41: FutureWarning: The frame.append method is deprecated and will be removed from pandas in a future version. Use pandas.concat instead.\n",
            "  list_player_khl_stat = list_player_khl_stat.append(player_khl_stat, ignore_index=True)\n"
          ]
        },
        {
          "output_type": "stream",
          "name": "stdout",
          "text": [
            "/players/22365/\n"
          ]
        },
        {
          "output_type": "stream",
          "name": "stderr",
          "text": [
            "<ipython-input-7-5e25f54b2bf4>:39: FutureWarning: The frame.append method is deprecated and will be removed from pandas in a future version. Use pandas.concat instead.\n",
            "  list_player_info = list_player_info.append(player_info, ignore_index=True)\n",
            "<ipython-input-7-5e25f54b2bf4>:41: FutureWarning: The frame.append method is deprecated and will be removed from pandas in a future version. Use pandas.concat instead.\n",
            "  list_player_khl_stat = list_player_khl_stat.append(player_khl_stat, ignore_index=True)\n"
          ]
        },
        {
          "output_type": "stream",
          "name": "stdout",
          "text": [
            "/players/16657/\n"
          ]
        },
        {
          "output_type": "stream",
          "name": "stderr",
          "text": [
            "<ipython-input-7-5e25f54b2bf4>:39: FutureWarning: The frame.append method is deprecated and will be removed from pandas in a future version. Use pandas.concat instead.\n",
            "  list_player_info = list_player_info.append(player_info, ignore_index=True)\n",
            "<ipython-input-7-5e25f54b2bf4>:41: FutureWarning: The frame.append method is deprecated and will be removed from pandas in a future version. Use pandas.concat instead.\n",
            "  list_player_khl_stat = list_player_khl_stat.append(player_khl_stat, ignore_index=True)\n"
          ]
        },
        {
          "output_type": "stream",
          "name": "stdout",
          "text": [
            "/players/14526/\n"
          ]
        },
        {
          "output_type": "stream",
          "name": "stderr",
          "text": [
            "<ipython-input-7-5e25f54b2bf4>:39: FutureWarning: The frame.append method is deprecated and will be removed from pandas in a future version. Use pandas.concat instead.\n",
            "  list_player_info = list_player_info.append(player_info, ignore_index=True)\n",
            "<ipython-input-7-5e25f54b2bf4>:41: FutureWarning: The frame.append method is deprecated and will be removed from pandas in a future version. Use pandas.concat instead.\n",
            "  list_player_khl_stat = list_player_khl_stat.append(player_khl_stat, ignore_index=True)\n"
          ]
        },
        {
          "output_type": "stream",
          "name": "stdout",
          "text": [
            "/players/17493/\n"
          ]
        },
        {
          "output_type": "stream",
          "name": "stderr",
          "text": [
            "<ipython-input-7-5e25f54b2bf4>:39: FutureWarning: The frame.append method is deprecated and will be removed from pandas in a future version. Use pandas.concat instead.\n",
            "  list_player_info = list_player_info.append(player_info, ignore_index=True)\n",
            "<ipython-input-7-5e25f54b2bf4>:41: FutureWarning: The frame.append method is deprecated and will be removed from pandas in a future version. Use pandas.concat instead.\n",
            "  list_player_khl_stat = list_player_khl_stat.append(player_khl_stat, ignore_index=True)\n"
          ]
        },
        {
          "output_type": "stream",
          "name": "stdout",
          "text": [
            "/players/22144/\n"
          ]
        },
        {
          "output_type": "stream",
          "name": "stderr",
          "text": [
            "<ipython-input-7-5e25f54b2bf4>:39: FutureWarning: The frame.append method is deprecated and will be removed from pandas in a future version. Use pandas.concat instead.\n",
            "  list_player_info = list_player_info.append(player_info, ignore_index=True)\n",
            "<ipython-input-7-5e25f54b2bf4>:41: FutureWarning: The frame.append method is deprecated and will be removed from pandas in a future version. Use pandas.concat instead.\n",
            "  list_player_khl_stat = list_player_khl_stat.append(player_khl_stat, ignore_index=True)\n"
          ]
        },
        {
          "output_type": "stream",
          "name": "stdout",
          "text": [
            "/players/16048/\n"
          ]
        },
        {
          "output_type": "stream",
          "name": "stderr",
          "text": [
            "<ipython-input-7-5e25f54b2bf4>:39: FutureWarning: The frame.append method is deprecated and will be removed from pandas in a future version. Use pandas.concat instead.\n",
            "  list_player_info = list_player_info.append(player_info, ignore_index=True)\n",
            "<ipython-input-7-5e25f54b2bf4>:41: FutureWarning: The frame.append method is deprecated and will be removed from pandas in a future version. Use pandas.concat instead.\n",
            "  list_player_khl_stat = list_player_khl_stat.append(player_khl_stat, ignore_index=True)\n"
          ]
        },
        {
          "output_type": "stream",
          "name": "stdout",
          "text": [
            "/players/18405/\n"
          ]
        },
        {
          "output_type": "stream",
          "name": "stderr",
          "text": [
            "<ipython-input-7-5e25f54b2bf4>:39: FutureWarning: The frame.append method is deprecated and will be removed from pandas in a future version. Use pandas.concat instead.\n",
            "  list_player_info = list_player_info.append(player_info, ignore_index=True)\n",
            "<ipython-input-7-5e25f54b2bf4>:41: FutureWarning: The frame.append method is deprecated and will be removed from pandas in a future version. Use pandas.concat instead.\n",
            "  list_player_khl_stat = list_player_khl_stat.append(player_khl_stat, ignore_index=True)\n"
          ]
        },
        {
          "output_type": "stream",
          "name": "stdout",
          "text": [
            "/players/23611/\n"
          ]
        },
        {
          "output_type": "stream",
          "name": "stderr",
          "text": [
            "<ipython-input-7-5e25f54b2bf4>:39: FutureWarning: The frame.append method is deprecated and will be removed from pandas in a future version. Use pandas.concat instead.\n",
            "  list_player_info = list_player_info.append(player_info, ignore_index=True)\n",
            "<ipython-input-7-5e25f54b2bf4>:41: FutureWarning: The frame.append method is deprecated and will be removed from pandas in a future version. Use pandas.concat instead.\n",
            "  list_player_khl_stat = list_player_khl_stat.append(player_khl_stat, ignore_index=True)\n"
          ]
        },
        {
          "output_type": "stream",
          "name": "stdout",
          "text": [
            "/players/19025/\n"
          ]
        },
        {
          "output_type": "stream",
          "name": "stderr",
          "text": [
            "<ipython-input-7-5e25f54b2bf4>:39: FutureWarning: The frame.append method is deprecated and will be removed from pandas in a future version. Use pandas.concat instead.\n",
            "  list_player_info = list_player_info.append(player_info, ignore_index=True)\n",
            "<ipython-input-7-5e25f54b2bf4>:41: FutureWarning: The frame.append method is deprecated and will be removed from pandas in a future version. Use pandas.concat instead.\n",
            "  list_player_khl_stat = list_player_khl_stat.append(player_khl_stat, ignore_index=True)\n"
          ]
        },
        {
          "output_type": "stream",
          "name": "stdout",
          "text": [
            "/players/17628/\n"
          ]
        },
        {
          "output_type": "stream",
          "name": "stderr",
          "text": [
            "<ipython-input-7-5e25f54b2bf4>:39: FutureWarning: The frame.append method is deprecated and will be removed from pandas in a future version. Use pandas.concat instead.\n",
            "  list_player_info = list_player_info.append(player_info, ignore_index=True)\n",
            "<ipython-input-7-5e25f54b2bf4>:41: FutureWarning: The frame.append method is deprecated and will be removed from pandas in a future version. Use pandas.concat instead.\n",
            "  list_player_khl_stat = list_player_khl_stat.append(player_khl_stat, ignore_index=True)\n"
          ]
        },
        {
          "output_type": "stream",
          "name": "stdout",
          "text": [
            "/players/15612/\n"
          ]
        },
        {
          "output_type": "stream",
          "name": "stderr",
          "text": [
            "<ipython-input-7-5e25f54b2bf4>:39: FutureWarning: The frame.append method is deprecated and will be removed from pandas in a future version. Use pandas.concat instead.\n",
            "  list_player_info = list_player_info.append(player_info, ignore_index=True)\n",
            "<ipython-input-7-5e25f54b2bf4>:41: FutureWarning: The frame.append method is deprecated and will be removed from pandas in a future version. Use pandas.concat instead.\n",
            "  list_player_khl_stat = list_player_khl_stat.append(player_khl_stat, ignore_index=True)\n"
          ]
        },
        {
          "output_type": "stream",
          "name": "stdout",
          "text": [
            "/players/20933/\n"
          ]
        },
        {
          "output_type": "stream",
          "name": "stderr",
          "text": [
            "<ipython-input-7-5e25f54b2bf4>:39: FutureWarning: The frame.append method is deprecated and will be removed from pandas in a future version. Use pandas.concat instead.\n",
            "  list_player_info = list_player_info.append(player_info, ignore_index=True)\n",
            "<ipython-input-7-5e25f54b2bf4>:41: FutureWarning: The frame.append method is deprecated and will be removed from pandas in a future version. Use pandas.concat instead.\n",
            "  list_player_khl_stat = list_player_khl_stat.append(player_khl_stat, ignore_index=True)\n"
          ]
        },
        {
          "output_type": "stream",
          "name": "stdout",
          "text": [
            "/players/17826/\n"
          ]
        },
        {
          "output_type": "stream",
          "name": "stderr",
          "text": [
            "<ipython-input-7-5e25f54b2bf4>:39: FutureWarning: The frame.append method is deprecated and will be removed from pandas in a future version. Use pandas.concat instead.\n",
            "  list_player_info = list_player_info.append(player_info, ignore_index=True)\n",
            "<ipython-input-7-5e25f54b2bf4>:41: FutureWarning: The frame.append method is deprecated and will be removed from pandas in a future version. Use pandas.concat instead.\n",
            "  list_player_khl_stat = list_player_khl_stat.append(player_khl_stat, ignore_index=True)\n"
          ]
        },
        {
          "output_type": "stream",
          "name": "stdout",
          "text": [
            "/players/18014/\n"
          ]
        },
        {
          "output_type": "stream",
          "name": "stderr",
          "text": [
            "<ipython-input-7-5e25f54b2bf4>:39: FutureWarning: The frame.append method is deprecated and will be removed from pandas in a future version. Use pandas.concat instead.\n",
            "  list_player_info = list_player_info.append(player_info, ignore_index=True)\n",
            "<ipython-input-7-5e25f54b2bf4>:41: FutureWarning: The frame.append method is deprecated and will be removed from pandas in a future version. Use pandas.concat instead.\n",
            "  list_player_khl_stat = list_player_khl_stat.append(player_khl_stat, ignore_index=True)\n"
          ]
        },
        {
          "output_type": "stream",
          "name": "stdout",
          "text": [
            "/players/15298/\n"
          ]
        },
        {
          "output_type": "stream",
          "name": "stderr",
          "text": [
            "<ipython-input-7-5e25f54b2bf4>:39: FutureWarning: The frame.append method is deprecated and will be removed from pandas in a future version. Use pandas.concat instead.\n",
            "  list_player_info = list_player_info.append(player_info, ignore_index=True)\n",
            "<ipython-input-7-5e25f54b2bf4>:41: FutureWarning: The frame.append method is deprecated and will be removed from pandas in a future version. Use pandas.concat instead.\n",
            "  list_player_khl_stat = list_player_khl_stat.append(player_khl_stat, ignore_index=True)\n"
          ]
        },
        {
          "output_type": "stream",
          "name": "stdout",
          "text": [
            "/players/33080/\n"
          ]
        },
        {
          "output_type": "stream",
          "name": "stderr",
          "text": [
            "<ipython-input-7-5e25f54b2bf4>:39: FutureWarning: The frame.append method is deprecated and will be removed from pandas in a future version. Use pandas.concat instead.\n",
            "  list_player_info = list_player_info.append(player_info, ignore_index=True)\n",
            "<ipython-input-7-5e25f54b2bf4>:41: FutureWarning: The frame.append method is deprecated and will be removed from pandas in a future version. Use pandas.concat instead.\n",
            "  list_player_khl_stat = list_player_khl_stat.append(player_khl_stat, ignore_index=True)\n"
          ]
        },
        {
          "output_type": "stream",
          "name": "stdout",
          "text": [
            "/players/23603/\n"
          ]
        },
        {
          "output_type": "stream",
          "name": "stderr",
          "text": [
            "<ipython-input-7-5e25f54b2bf4>:39: FutureWarning: The frame.append method is deprecated and will be removed from pandas in a future version. Use pandas.concat instead.\n",
            "  list_player_info = list_player_info.append(player_info, ignore_index=True)\n",
            "<ipython-input-7-5e25f54b2bf4>:41: FutureWarning: The frame.append method is deprecated and will be removed from pandas in a future version. Use pandas.concat instead.\n",
            "  list_player_khl_stat = list_player_khl_stat.append(player_khl_stat, ignore_index=True)\n"
          ]
        },
        {
          "output_type": "stream",
          "name": "stdout",
          "text": [
            "/players/15516/\n"
          ]
        },
        {
          "output_type": "stream",
          "name": "stderr",
          "text": [
            "<ipython-input-7-5e25f54b2bf4>:39: FutureWarning: The frame.append method is deprecated and will be removed from pandas in a future version. Use pandas.concat instead.\n",
            "  list_player_info = list_player_info.append(player_info, ignore_index=True)\n",
            "<ipython-input-7-5e25f54b2bf4>:41: FutureWarning: The frame.append method is deprecated and will be removed from pandas in a future version. Use pandas.concat instead.\n",
            "  list_player_khl_stat = list_player_khl_stat.append(player_khl_stat, ignore_index=True)\n"
          ]
        },
        {
          "output_type": "stream",
          "name": "stdout",
          "text": [
            "/players/14613/\n"
          ]
        },
        {
          "output_type": "stream",
          "name": "stderr",
          "text": [
            "<ipython-input-7-5e25f54b2bf4>:39: FutureWarning: The frame.append method is deprecated and will be removed from pandas in a future version. Use pandas.concat instead.\n",
            "  list_player_info = list_player_info.append(player_info, ignore_index=True)\n",
            "<ipython-input-7-5e25f54b2bf4>:41: FutureWarning: The frame.append method is deprecated and will be removed from pandas in a future version. Use pandas.concat instead.\n",
            "  list_player_khl_stat = list_player_khl_stat.append(player_khl_stat, ignore_index=True)\n"
          ]
        },
        {
          "output_type": "stream",
          "name": "stdout",
          "text": [
            "/players/16696/\n"
          ]
        },
        {
          "output_type": "stream",
          "name": "stderr",
          "text": [
            "<ipython-input-7-5e25f54b2bf4>:39: FutureWarning: The frame.append method is deprecated and will be removed from pandas in a future version. Use pandas.concat instead.\n",
            "  list_player_info = list_player_info.append(player_info, ignore_index=True)\n",
            "<ipython-input-7-5e25f54b2bf4>:41: FutureWarning: The frame.append method is deprecated and will be removed from pandas in a future version. Use pandas.concat instead.\n",
            "  list_player_khl_stat = list_player_khl_stat.append(player_khl_stat, ignore_index=True)\n"
          ]
        },
        {
          "output_type": "stream",
          "name": "stdout",
          "text": [
            "/players/39092/\n"
          ]
        },
        {
          "output_type": "stream",
          "name": "stderr",
          "text": [
            "<ipython-input-7-5e25f54b2bf4>:39: FutureWarning: The frame.append method is deprecated and will be removed from pandas in a future version. Use pandas.concat instead.\n",
            "  list_player_info = list_player_info.append(player_info, ignore_index=True)\n",
            "<ipython-input-7-5e25f54b2bf4>:41: FutureWarning: The frame.append method is deprecated and will be removed from pandas in a future version. Use pandas.concat instead.\n",
            "  list_player_khl_stat = list_player_khl_stat.append(player_khl_stat, ignore_index=True)\n"
          ]
        },
        {
          "output_type": "stream",
          "name": "stdout",
          "text": [
            "/players/4095/\n"
          ]
        },
        {
          "output_type": "stream",
          "name": "stderr",
          "text": [
            "<ipython-input-7-5e25f54b2bf4>:39: FutureWarning: The frame.append method is deprecated and will be removed from pandas in a future version. Use pandas.concat instead.\n",
            "  list_player_info = list_player_info.append(player_info, ignore_index=True)\n",
            "<ipython-input-7-5e25f54b2bf4>:41: FutureWarning: The frame.append method is deprecated and will be removed from pandas in a future version. Use pandas.concat instead.\n",
            "  list_player_khl_stat = list_player_khl_stat.append(player_khl_stat, ignore_index=True)\n"
          ]
        },
        {
          "output_type": "stream",
          "name": "stdout",
          "text": [
            "/players/14840/\n"
          ]
        },
        {
          "output_type": "stream",
          "name": "stderr",
          "text": [
            "<ipython-input-7-5e25f54b2bf4>:39: FutureWarning: The frame.append method is deprecated and will be removed from pandas in a future version. Use pandas.concat instead.\n",
            "  list_player_info = list_player_info.append(player_info, ignore_index=True)\n",
            "<ipython-input-7-5e25f54b2bf4>:41: FutureWarning: The frame.append method is deprecated and will be removed from pandas in a future version. Use pandas.concat instead.\n",
            "  list_player_khl_stat = list_player_khl_stat.append(player_khl_stat, ignore_index=True)\n"
          ]
        },
        {
          "output_type": "stream",
          "name": "stdout",
          "text": [
            "/players/6357/\n"
          ]
        },
        {
          "output_type": "stream",
          "name": "stderr",
          "text": [
            "<ipython-input-7-5e25f54b2bf4>:39: FutureWarning: The frame.append method is deprecated and will be removed from pandas in a future version. Use pandas.concat instead.\n",
            "  list_player_info = list_player_info.append(player_info, ignore_index=True)\n",
            "<ipython-input-7-5e25f54b2bf4>:41: FutureWarning: The frame.append method is deprecated and will be removed from pandas in a future version. Use pandas.concat instead.\n",
            "  list_player_khl_stat = list_player_khl_stat.append(player_khl_stat, ignore_index=True)\n"
          ]
        },
        {
          "output_type": "stream",
          "name": "stdout",
          "text": [
            "/players/17560/\n"
          ]
        },
        {
          "output_type": "stream",
          "name": "stderr",
          "text": [
            "<ipython-input-7-5e25f54b2bf4>:39: FutureWarning: The frame.append method is deprecated and will be removed from pandas in a future version. Use pandas.concat instead.\n",
            "  list_player_info = list_player_info.append(player_info, ignore_index=True)\n",
            "<ipython-input-7-5e25f54b2bf4>:41: FutureWarning: The frame.append method is deprecated and will be removed from pandas in a future version. Use pandas.concat instead.\n",
            "  list_player_khl_stat = list_player_khl_stat.append(player_khl_stat, ignore_index=True)\n"
          ]
        },
        {
          "output_type": "stream",
          "name": "stdout",
          "text": [
            "/players/39276/\n"
          ]
        },
        {
          "output_type": "stream",
          "name": "stderr",
          "text": [
            "<ipython-input-7-5e25f54b2bf4>:39: FutureWarning: The frame.append method is deprecated and will be removed from pandas in a future version. Use pandas.concat instead.\n",
            "  list_player_info = list_player_info.append(player_info, ignore_index=True)\n",
            "<ipython-input-7-5e25f54b2bf4>:41: FutureWarning: The frame.append method is deprecated and will be removed from pandas in a future version. Use pandas.concat instead.\n",
            "  list_player_khl_stat = list_player_khl_stat.append(player_khl_stat, ignore_index=True)\n"
          ]
        },
        {
          "output_type": "stream",
          "name": "stdout",
          "text": [
            "/players/23835/\n"
          ]
        },
        {
          "output_type": "stream",
          "name": "stderr",
          "text": [
            "<ipython-input-7-5e25f54b2bf4>:39: FutureWarning: The frame.append method is deprecated and will be removed from pandas in a future version. Use pandas.concat instead.\n",
            "  list_player_info = list_player_info.append(player_info, ignore_index=True)\n",
            "<ipython-input-7-5e25f54b2bf4>:41: FutureWarning: The frame.append method is deprecated and will be removed from pandas in a future version. Use pandas.concat instead.\n",
            "  list_player_khl_stat = list_player_khl_stat.append(player_khl_stat, ignore_index=True)\n"
          ]
        },
        {
          "output_type": "stream",
          "name": "stdout",
          "text": [
            "/players/7016/\n"
          ]
        },
        {
          "output_type": "stream",
          "name": "stderr",
          "text": [
            "<ipython-input-7-5e25f54b2bf4>:39: FutureWarning: The frame.append method is deprecated and will be removed from pandas in a future version. Use pandas.concat instead.\n",
            "  list_player_info = list_player_info.append(player_info, ignore_index=True)\n",
            "<ipython-input-7-5e25f54b2bf4>:41: FutureWarning: The frame.append method is deprecated and will be removed from pandas in a future version. Use pandas.concat instead.\n",
            "  list_player_khl_stat = list_player_khl_stat.append(player_khl_stat, ignore_index=True)\n"
          ]
        },
        {
          "output_type": "stream",
          "name": "stdout",
          "text": [
            "/players/27436/\n"
          ]
        },
        {
          "output_type": "stream",
          "name": "stderr",
          "text": [
            "<ipython-input-7-5e25f54b2bf4>:39: FutureWarning: The frame.append method is deprecated and will be removed from pandas in a future version. Use pandas.concat instead.\n",
            "  list_player_info = list_player_info.append(player_info, ignore_index=True)\n",
            "<ipython-input-7-5e25f54b2bf4>:41: FutureWarning: The frame.append method is deprecated and will be removed from pandas in a future version. Use pandas.concat instead.\n",
            "  list_player_khl_stat = list_player_khl_stat.append(player_khl_stat, ignore_index=True)\n"
          ]
        },
        {
          "output_type": "stream",
          "name": "stdout",
          "text": [
            "/players/15637/\n"
          ]
        },
        {
          "output_type": "stream",
          "name": "stderr",
          "text": [
            "<ipython-input-7-5e25f54b2bf4>:39: FutureWarning: The frame.append method is deprecated and will be removed from pandas in a future version. Use pandas.concat instead.\n",
            "  list_player_info = list_player_info.append(player_info, ignore_index=True)\n",
            "<ipython-input-7-5e25f54b2bf4>:41: FutureWarning: The frame.append method is deprecated and will be removed from pandas in a future version. Use pandas.concat instead.\n",
            "  list_player_khl_stat = list_player_khl_stat.append(player_khl_stat, ignore_index=True)\n"
          ]
        },
        {
          "output_type": "stream",
          "name": "stdout",
          "text": [
            "/players/18426/\n"
          ]
        },
        {
          "output_type": "stream",
          "name": "stderr",
          "text": [
            "<ipython-input-7-5e25f54b2bf4>:39: FutureWarning: The frame.append method is deprecated and will be removed from pandas in a future version. Use pandas.concat instead.\n",
            "  list_player_info = list_player_info.append(player_info, ignore_index=True)\n",
            "<ipython-input-7-5e25f54b2bf4>:41: FutureWarning: The frame.append method is deprecated and will be removed from pandas in a future version. Use pandas.concat instead.\n",
            "  list_player_khl_stat = list_player_khl_stat.append(player_khl_stat, ignore_index=True)\n"
          ]
        },
        {
          "output_type": "stream",
          "name": "stdout",
          "text": [
            "/players/14474/\n"
          ]
        },
        {
          "output_type": "stream",
          "name": "stderr",
          "text": [
            "<ipython-input-7-5e25f54b2bf4>:39: FutureWarning: The frame.append method is deprecated and will be removed from pandas in a future version. Use pandas.concat instead.\n",
            "  list_player_info = list_player_info.append(player_info, ignore_index=True)\n",
            "<ipython-input-7-5e25f54b2bf4>:41: FutureWarning: The frame.append method is deprecated and will be removed from pandas in a future version. Use pandas.concat instead.\n",
            "  list_player_khl_stat = list_player_khl_stat.append(player_khl_stat, ignore_index=True)\n"
          ]
        },
        {
          "output_type": "stream",
          "name": "stdout",
          "text": [
            "/players/26690/\n"
          ]
        },
        {
          "output_type": "stream",
          "name": "stderr",
          "text": [
            "<ipython-input-7-5e25f54b2bf4>:39: FutureWarning: The frame.append method is deprecated and will be removed from pandas in a future version. Use pandas.concat instead.\n",
            "  list_player_info = list_player_info.append(player_info, ignore_index=True)\n",
            "<ipython-input-7-5e25f54b2bf4>:41: FutureWarning: The frame.append method is deprecated and will be removed from pandas in a future version. Use pandas.concat instead.\n",
            "  list_player_khl_stat = list_player_khl_stat.append(player_khl_stat, ignore_index=True)\n"
          ]
        },
        {
          "output_type": "stream",
          "name": "stdout",
          "text": [
            "/players/23689/\n"
          ]
        },
        {
          "output_type": "stream",
          "name": "stderr",
          "text": [
            "<ipython-input-7-5e25f54b2bf4>:39: FutureWarning: The frame.append method is deprecated and will be removed from pandas in a future version. Use pandas.concat instead.\n",
            "  list_player_info = list_player_info.append(player_info, ignore_index=True)\n",
            "<ipython-input-7-5e25f54b2bf4>:41: FutureWarning: The frame.append method is deprecated and will be removed from pandas in a future version. Use pandas.concat instead.\n",
            "  list_player_khl_stat = list_player_khl_stat.append(player_khl_stat, ignore_index=True)\n"
          ]
        },
        {
          "output_type": "stream",
          "name": "stdout",
          "text": [
            "/players/13446/\n"
          ]
        },
        {
          "output_type": "stream",
          "name": "stderr",
          "text": [
            "<ipython-input-7-5e25f54b2bf4>:39: FutureWarning: The frame.append method is deprecated and will be removed from pandas in a future version. Use pandas.concat instead.\n",
            "  list_player_info = list_player_info.append(player_info, ignore_index=True)\n",
            "<ipython-input-7-5e25f54b2bf4>:41: FutureWarning: The frame.append method is deprecated and will be removed from pandas in a future version. Use pandas.concat instead.\n",
            "  list_player_khl_stat = list_player_khl_stat.append(player_khl_stat, ignore_index=True)\n"
          ]
        },
        {
          "output_type": "stream",
          "name": "stdout",
          "text": [
            "/players/16019/\n"
          ]
        },
        {
          "output_type": "stream",
          "name": "stderr",
          "text": [
            "<ipython-input-7-5e25f54b2bf4>:39: FutureWarning: The frame.append method is deprecated and will be removed from pandas in a future version. Use pandas.concat instead.\n",
            "  list_player_info = list_player_info.append(player_info, ignore_index=True)\n",
            "<ipython-input-7-5e25f54b2bf4>:41: FutureWarning: The frame.append method is deprecated and will be removed from pandas in a future version. Use pandas.concat instead.\n",
            "  list_player_khl_stat = list_player_khl_stat.append(player_khl_stat, ignore_index=True)\n"
          ]
        },
        {
          "output_type": "stream",
          "name": "stdout",
          "text": [
            "/players/24047/\n"
          ]
        },
        {
          "output_type": "stream",
          "name": "stderr",
          "text": [
            "<ipython-input-7-5e25f54b2bf4>:39: FutureWarning: The frame.append method is deprecated and will be removed from pandas in a future version. Use pandas.concat instead.\n",
            "  list_player_info = list_player_info.append(player_info, ignore_index=True)\n",
            "<ipython-input-7-5e25f54b2bf4>:41: FutureWarning: The frame.append method is deprecated and will be removed from pandas in a future version. Use pandas.concat instead.\n",
            "  list_player_khl_stat = list_player_khl_stat.append(player_khl_stat, ignore_index=True)\n"
          ]
        },
        {
          "output_type": "stream",
          "name": "stdout",
          "text": [
            "/players/20041/\n"
          ]
        },
        {
          "output_type": "stream",
          "name": "stderr",
          "text": [
            "<ipython-input-7-5e25f54b2bf4>:39: FutureWarning: The frame.append method is deprecated and will be removed from pandas in a future version. Use pandas.concat instead.\n",
            "  list_player_info = list_player_info.append(player_info, ignore_index=True)\n",
            "<ipython-input-7-5e25f54b2bf4>:41: FutureWarning: The frame.append method is deprecated and will be removed from pandas in a future version. Use pandas.concat instead.\n",
            "  list_player_khl_stat = list_player_khl_stat.append(player_khl_stat, ignore_index=True)\n"
          ]
        },
        {
          "output_type": "stream",
          "name": "stdout",
          "text": [
            "/players/21104/\n"
          ]
        },
        {
          "output_type": "stream",
          "name": "stderr",
          "text": [
            "<ipython-input-7-5e25f54b2bf4>:39: FutureWarning: The frame.append method is deprecated and will be removed from pandas in a future version. Use pandas.concat instead.\n",
            "  list_player_info = list_player_info.append(player_info, ignore_index=True)\n",
            "<ipython-input-7-5e25f54b2bf4>:41: FutureWarning: The frame.append method is deprecated and will be removed from pandas in a future version. Use pandas.concat instead.\n",
            "  list_player_khl_stat = list_player_khl_stat.append(player_khl_stat, ignore_index=True)\n"
          ]
        },
        {
          "output_type": "stream",
          "name": "stdout",
          "text": [
            "/players/15511/\n"
          ]
        },
        {
          "output_type": "stream",
          "name": "stderr",
          "text": [
            "<ipython-input-7-5e25f54b2bf4>:39: FutureWarning: The frame.append method is deprecated and will be removed from pandas in a future version. Use pandas.concat instead.\n",
            "  list_player_info = list_player_info.append(player_info, ignore_index=True)\n",
            "<ipython-input-7-5e25f54b2bf4>:41: FutureWarning: The frame.append method is deprecated and will be removed from pandas in a future version. Use pandas.concat instead.\n",
            "  list_player_khl_stat = list_player_khl_stat.append(player_khl_stat, ignore_index=True)\n"
          ]
        },
        {
          "output_type": "stream",
          "name": "stdout",
          "text": [
            "/players/7218/\n"
          ]
        },
        {
          "output_type": "stream",
          "name": "stderr",
          "text": [
            "<ipython-input-7-5e25f54b2bf4>:39: FutureWarning: The frame.append method is deprecated and will be removed from pandas in a future version. Use pandas.concat instead.\n",
            "  list_player_info = list_player_info.append(player_info, ignore_index=True)\n",
            "<ipython-input-7-5e25f54b2bf4>:41: FutureWarning: The frame.append method is deprecated and will be removed from pandas in a future version. Use pandas.concat instead.\n",
            "  list_player_khl_stat = list_player_khl_stat.append(player_khl_stat, ignore_index=True)\n"
          ]
        },
        {
          "output_type": "stream",
          "name": "stdout",
          "text": [
            "/players/4199/\n"
          ]
        },
        {
          "output_type": "stream",
          "name": "stderr",
          "text": [
            "<ipython-input-7-5e25f54b2bf4>:39: FutureWarning: The frame.append method is deprecated and will be removed from pandas in a future version. Use pandas.concat instead.\n",
            "  list_player_info = list_player_info.append(player_info, ignore_index=True)\n",
            "<ipython-input-7-5e25f54b2bf4>:41: FutureWarning: The frame.append method is deprecated and will be removed from pandas in a future version. Use pandas.concat instead.\n",
            "  list_player_khl_stat = list_player_khl_stat.append(player_khl_stat, ignore_index=True)\n"
          ]
        },
        {
          "output_type": "stream",
          "name": "stdout",
          "text": [
            "/players/4345/\n"
          ]
        },
        {
          "output_type": "stream",
          "name": "stderr",
          "text": [
            "<ipython-input-7-5e25f54b2bf4>:39: FutureWarning: The frame.append method is deprecated and will be removed from pandas in a future version. Use pandas.concat instead.\n",
            "  list_player_info = list_player_info.append(player_info, ignore_index=True)\n",
            "<ipython-input-7-5e25f54b2bf4>:41: FutureWarning: The frame.append method is deprecated and will be removed from pandas in a future version. Use pandas.concat instead.\n",
            "  list_player_khl_stat = list_player_khl_stat.append(player_khl_stat, ignore_index=True)\n"
          ]
        },
        {
          "output_type": "stream",
          "name": "stdout",
          "text": [
            "/players/20462/\n"
          ]
        },
        {
          "output_type": "stream",
          "name": "stderr",
          "text": [
            "<ipython-input-7-5e25f54b2bf4>:39: FutureWarning: The frame.append method is deprecated and will be removed from pandas in a future version. Use pandas.concat instead.\n",
            "  list_player_info = list_player_info.append(player_info, ignore_index=True)\n",
            "<ipython-input-7-5e25f54b2bf4>:41: FutureWarning: The frame.append method is deprecated and will be removed from pandas in a future version. Use pandas.concat instead.\n",
            "  list_player_khl_stat = list_player_khl_stat.append(player_khl_stat, ignore_index=True)\n"
          ]
        },
        {
          "output_type": "stream",
          "name": "stdout",
          "text": [
            "/players/16875/\n"
          ]
        },
        {
          "output_type": "stream",
          "name": "stderr",
          "text": [
            "<ipython-input-7-5e25f54b2bf4>:39: FutureWarning: The frame.append method is deprecated and will be removed from pandas in a future version. Use pandas.concat instead.\n",
            "  list_player_info = list_player_info.append(player_info, ignore_index=True)\n",
            "<ipython-input-7-5e25f54b2bf4>:41: FutureWarning: The frame.append method is deprecated and will be removed from pandas in a future version. Use pandas.concat instead.\n",
            "  list_player_khl_stat = list_player_khl_stat.append(player_khl_stat, ignore_index=True)\n"
          ]
        },
        {
          "output_type": "stream",
          "name": "stdout",
          "text": [
            "/players/3712/\n"
          ]
        },
        {
          "output_type": "stream",
          "name": "stderr",
          "text": [
            "<ipython-input-7-5e25f54b2bf4>:39: FutureWarning: The frame.append method is deprecated and will be removed from pandas in a future version. Use pandas.concat instead.\n",
            "  list_player_info = list_player_info.append(player_info, ignore_index=True)\n",
            "<ipython-input-7-5e25f54b2bf4>:41: FutureWarning: The frame.append method is deprecated and will be removed from pandas in a future version. Use pandas.concat instead.\n",
            "  list_player_khl_stat = list_player_khl_stat.append(player_khl_stat, ignore_index=True)\n"
          ]
        },
        {
          "output_type": "stream",
          "name": "stdout",
          "text": [
            "/players/19128/\n"
          ]
        },
        {
          "output_type": "stream",
          "name": "stderr",
          "text": [
            "<ipython-input-7-5e25f54b2bf4>:39: FutureWarning: The frame.append method is deprecated and will be removed from pandas in a future version. Use pandas.concat instead.\n",
            "  list_player_info = list_player_info.append(player_info, ignore_index=True)\n",
            "<ipython-input-7-5e25f54b2bf4>:41: FutureWarning: The frame.append method is deprecated and will be removed from pandas in a future version. Use pandas.concat instead.\n",
            "  list_player_khl_stat = list_player_khl_stat.append(player_khl_stat, ignore_index=True)\n"
          ]
        },
        {
          "output_type": "stream",
          "name": "stdout",
          "text": [
            "/players/40293/\n"
          ]
        },
        {
          "output_type": "stream",
          "name": "stderr",
          "text": [
            "<ipython-input-7-5e25f54b2bf4>:39: FutureWarning: The frame.append method is deprecated and will be removed from pandas in a future version. Use pandas.concat instead.\n",
            "  list_player_info = list_player_info.append(player_info, ignore_index=True)\n",
            "<ipython-input-7-5e25f54b2bf4>:41: FutureWarning: The frame.append method is deprecated and will be removed from pandas in a future version. Use pandas.concat instead.\n",
            "  list_player_khl_stat = list_player_khl_stat.append(player_khl_stat, ignore_index=True)\n"
          ]
        },
        {
          "output_type": "stream",
          "name": "stdout",
          "text": [
            "/players/15590/\n"
          ]
        },
        {
          "output_type": "stream",
          "name": "stderr",
          "text": [
            "<ipython-input-7-5e25f54b2bf4>:39: FutureWarning: The frame.append method is deprecated and will be removed from pandas in a future version. Use pandas.concat instead.\n",
            "  list_player_info = list_player_info.append(player_info, ignore_index=True)\n",
            "<ipython-input-7-5e25f54b2bf4>:41: FutureWarning: The frame.append method is deprecated and will be removed from pandas in a future version. Use pandas.concat instead.\n",
            "  list_player_khl_stat = list_player_khl_stat.append(player_khl_stat, ignore_index=True)\n"
          ]
        },
        {
          "output_type": "stream",
          "name": "stdout",
          "text": [
            "/players/32570/\n"
          ]
        },
        {
          "output_type": "stream",
          "name": "stderr",
          "text": [
            "<ipython-input-7-5e25f54b2bf4>:39: FutureWarning: The frame.append method is deprecated and will be removed from pandas in a future version. Use pandas.concat instead.\n",
            "  list_player_info = list_player_info.append(player_info, ignore_index=True)\n",
            "<ipython-input-7-5e25f54b2bf4>:41: FutureWarning: The frame.append method is deprecated and will be removed from pandas in a future version. Use pandas.concat instead.\n",
            "  list_player_khl_stat = list_player_khl_stat.append(player_khl_stat, ignore_index=True)\n"
          ]
        },
        {
          "output_type": "stream",
          "name": "stdout",
          "text": [
            "/players/19082/\n"
          ]
        },
        {
          "output_type": "stream",
          "name": "stderr",
          "text": [
            "<ipython-input-7-5e25f54b2bf4>:39: FutureWarning: The frame.append method is deprecated and will be removed from pandas in a future version. Use pandas.concat instead.\n",
            "  list_player_info = list_player_info.append(player_info, ignore_index=True)\n",
            "<ipython-input-7-5e25f54b2bf4>:41: FutureWarning: The frame.append method is deprecated and will be removed from pandas in a future version. Use pandas.concat instead.\n",
            "  list_player_khl_stat = list_player_khl_stat.append(player_khl_stat, ignore_index=True)\n"
          ]
        },
        {
          "output_type": "stream",
          "name": "stdout",
          "text": [
            "/players/20109/\n"
          ]
        },
        {
          "output_type": "stream",
          "name": "stderr",
          "text": [
            "<ipython-input-7-5e25f54b2bf4>:39: FutureWarning: The frame.append method is deprecated and will be removed from pandas in a future version. Use pandas.concat instead.\n",
            "  list_player_info = list_player_info.append(player_info, ignore_index=True)\n",
            "<ipython-input-7-5e25f54b2bf4>:41: FutureWarning: The frame.append method is deprecated and will be removed from pandas in a future version. Use pandas.concat instead.\n",
            "  list_player_khl_stat = list_player_khl_stat.append(player_khl_stat, ignore_index=True)\n"
          ]
        },
        {
          "output_type": "stream",
          "name": "stdout",
          "text": [
            "/players/17539/\n"
          ]
        },
        {
          "output_type": "stream",
          "name": "stderr",
          "text": [
            "<ipython-input-7-5e25f54b2bf4>:39: FutureWarning: The frame.append method is deprecated and will be removed from pandas in a future version. Use pandas.concat instead.\n",
            "  list_player_info = list_player_info.append(player_info, ignore_index=True)\n",
            "<ipython-input-7-5e25f54b2bf4>:41: FutureWarning: The frame.append method is deprecated and will be removed from pandas in a future version. Use pandas.concat instead.\n",
            "  list_player_khl_stat = list_player_khl_stat.append(player_khl_stat, ignore_index=True)\n"
          ]
        },
        {
          "output_type": "stream",
          "name": "stdout",
          "text": [
            "/players/18774/\n"
          ]
        },
        {
          "output_type": "stream",
          "name": "stderr",
          "text": [
            "<ipython-input-7-5e25f54b2bf4>:39: FutureWarning: The frame.append method is deprecated and will be removed from pandas in a future version. Use pandas.concat instead.\n",
            "  list_player_info = list_player_info.append(player_info, ignore_index=True)\n",
            "<ipython-input-7-5e25f54b2bf4>:41: FutureWarning: The frame.append method is deprecated and will be removed from pandas in a future version. Use pandas.concat instead.\n",
            "  list_player_khl_stat = list_player_khl_stat.append(player_khl_stat, ignore_index=True)\n"
          ]
        },
        {
          "output_type": "stream",
          "name": "stdout",
          "text": [
            "/players/14410/\n"
          ]
        },
        {
          "output_type": "stream",
          "name": "stderr",
          "text": [
            "<ipython-input-7-5e25f54b2bf4>:39: FutureWarning: The frame.append method is deprecated and will be removed from pandas in a future version. Use pandas.concat instead.\n",
            "  list_player_info = list_player_info.append(player_info, ignore_index=True)\n",
            "<ipython-input-7-5e25f54b2bf4>:41: FutureWarning: The frame.append method is deprecated and will be removed from pandas in a future version. Use pandas.concat instead.\n",
            "  list_player_khl_stat = list_player_khl_stat.append(player_khl_stat, ignore_index=True)\n"
          ]
        },
        {
          "output_type": "stream",
          "name": "stdout",
          "text": [
            "/players/15310/\n"
          ]
        },
        {
          "output_type": "stream",
          "name": "stderr",
          "text": [
            "<ipython-input-7-5e25f54b2bf4>:39: FutureWarning: The frame.append method is deprecated and will be removed from pandas in a future version. Use pandas.concat instead.\n",
            "  list_player_info = list_player_info.append(player_info, ignore_index=True)\n",
            "<ipython-input-7-5e25f54b2bf4>:41: FutureWarning: The frame.append method is deprecated and will be removed from pandas in a future version. Use pandas.concat instead.\n",
            "  list_player_khl_stat = list_player_khl_stat.append(player_khl_stat, ignore_index=True)\n"
          ]
        },
        {
          "output_type": "stream",
          "name": "stdout",
          "text": [
            "/players/34676/\n"
          ]
        },
        {
          "output_type": "stream",
          "name": "stderr",
          "text": [
            "<ipython-input-7-5e25f54b2bf4>:39: FutureWarning: The frame.append method is deprecated and will be removed from pandas in a future version. Use pandas.concat instead.\n",
            "  list_player_info = list_player_info.append(player_info, ignore_index=True)\n",
            "<ipython-input-7-5e25f54b2bf4>:41: FutureWarning: The frame.append method is deprecated and will be removed from pandas in a future version. Use pandas.concat instead.\n",
            "  list_player_khl_stat = list_player_khl_stat.append(player_khl_stat, ignore_index=True)\n"
          ]
        },
        {
          "output_type": "stream",
          "name": "stdout",
          "text": [
            "/players/20811/\n"
          ]
        },
        {
          "output_type": "stream",
          "name": "stderr",
          "text": [
            "<ipython-input-7-5e25f54b2bf4>:39: FutureWarning: The frame.append method is deprecated and will be removed from pandas in a future version. Use pandas.concat instead.\n",
            "  list_player_info = list_player_info.append(player_info, ignore_index=True)\n",
            "<ipython-input-7-5e25f54b2bf4>:41: FutureWarning: The frame.append method is deprecated and will be removed from pandas in a future version. Use pandas.concat instead.\n",
            "  list_player_khl_stat = list_player_khl_stat.append(player_khl_stat, ignore_index=True)\n"
          ]
        },
        {
          "output_type": "stream",
          "name": "stdout",
          "text": [
            "/players/30258/\n"
          ]
        },
        {
          "output_type": "stream",
          "name": "stderr",
          "text": [
            "<ipython-input-7-5e25f54b2bf4>:39: FutureWarning: The frame.append method is deprecated and will be removed from pandas in a future version. Use pandas.concat instead.\n",
            "  list_player_info = list_player_info.append(player_info, ignore_index=True)\n",
            "<ipython-input-7-5e25f54b2bf4>:41: FutureWarning: The frame.append method is deprecated and will be removed from pandas in a future version. Use pandas.concat instead.\n",
            "  list_player_khl_stat = list_player_khl_stat.append(player_khl_stat, ignore_index=True)\n"
          ]
        },
        {
          "output_type": "stream",
          "name": "stdout",
          "text": [
            "/players/15244/\n"
          ]
        },
        {
          "output_type": "stream",
          "name": "stderr",
          "text": [
            "<ipython-input-7-5e25f54b2bf4>:39: FutureWarning: The frame.append method is deprecated and will be removed from pandas in a future version. Use pandas.concat instead.\n",
            "  list_player_info = list_player_info.append(player_info, ignore_index=True)\n",
            "<ipython-input-7-5e25f54b2bf4>:41: FutureWarning: The frame.append method is deprecated and will be removed from pandas in a future version. Use pandas.concat instead.\n",
            "  list_player_khl_stat = list_player_khl_stat.append(player_khl_stat, ignore_index=True)\n"
          ]
        },
        {
          "output_type": "stream",
          "name": "stdout",
          "text": [
            "/players/16747/\n"
          ]
        },
        {
          "output_type": "stream",
          "name": "stderr",
          "text": [
            "<ipython-input-7-5e25f54b2bf4>:39: FutureWarning: The frame.append method is deprecated and will be removed from pandas in a future version. Use pandas.concat instead.\n",
            "  list_player_info = list_player_info.append(player_info, ignore_index=True)\n",
            "<ipython-input-7-5e25f54b2bf4>:41: FutureWarning: The frame.append method is deprecated and will be removed from pandas in a future version. Use pandas.concat instead.\n",
            "  list_player_khl_stat = list_player_khl_stat.append(player_khl_stat, ignore_index=True)\n"
          ]
        },
        {
          "output_type": "stream",
          "name": "stdout",
          "text": [
            "/players/14873/\n"
          ]
        },
        {
          "output_type": "stream",
          "name": "stderr",
          "text": [
            "<ipython-input-7-5e25f54b2bf4>:39: FutureWarning: The frame.append method is deprecated and will be removed from pandas in a future version. Use pandas.concat instead.\n",
            "  list_player_info = list_player_info.append(player_info, ignore_index=True)\n",
            "<ipython-input-7-5e25f54b2bf4>:41: FutureWarning: The frame.append method is deprecated and will be removed from pandas in a future version. Use pandas.concat instead.\n",
            "  list_player_khl_stat = list_player_khl_stat.append(player_khl_stat, ignore_index=True)\n"
          ]
        },
        {
          "output_type": "stream",
          "name": "stdout",
          "text": [
            "/players/4351/\n"
          ]
        },
        {
          "output_type": "stream",
          "name": "stderr",
          "text": [
            "<ipython-input-7-5e25f54b2bf4>:39: FutureWarning: The frame.append method is deprecated and will be removed from pandas in a future version. Use pandas.concat instead.\n",
            "  list_player_info = list_player_info.append(player_info, ignore_index=True)\n",
            "<ipython-input-7-5e25f54b2bf4>:41: FutureWarning: The frame.append method is deprecated and will be removed from pandas in a future version. Use pandas.concat instead.\n",
            "  list_player_khl_stat = list_player_khl_stat.append(player_khl_stat, ignore_index=True)\n"
          ]
        },
        {
          "output_type": "stream",
          "name": "stdout",
          "text": [
            "/players/32006/\n"
          ]
        },
        {
          "output_type": "stream",
          "name": "stderr",
          "text": [
            "<ipython-input-7-5e25f54b2bf4>:39: FutureWarning: The frame.append method is deprecated and will be removed from pandas in a future version. Use pandas.concat instead.\n",
            "  list_player_info = list_player_info.append(player_info, ignore_index=True)\n",
            "<ipython-input-7-5e25f54b2bf4>:41: FutureWarning: The frame.append method is deprecated and will be removed from pandas in a future version. Use pandas.concat instead.\n",
            "  list_player_khl_stat = list_player_khl_stat.append(player_khl_stat, ignore_index=True)\n"
          ]
        },
        {
          "output_type": "stream",
          "name": "stdout",
          "text": [
            "/players/3934/\n"
          ]
        },
        {
          "output_type": "stream",
          "name": "stderr",
          "text": [
            "<ipython-input-7-5e25f54b2bf4>:39: FutureWarning: The frame.append method is deprecated and will be removed from pandas in a future version. Use pandas.concat instead.\n",
            "  list_player_info = list_player_info.append(player_info, ignore_index=True)\n",
            "<ipython-input-7-5e25f54b2bf4>:41: FutureWarning: The frame.append method is deprecated and will be removed from pandas in a future version. Use pandas.concat instead.\n",
            "  list_player_khl_stat = list_player_khl_stat.append(player_khl_stat, ignore_index=True)\n"
          ]
        },
        {
          "output_type": "stream",
          "name": "stdout",
          "text": [
            "/players/21180/\n"
          ]
        },
        {
          "output_type": "stream",
          "name": "stderr",
          "text": [
            "<ipython-input-7-5e25f54b2bf4>:39: FutureWarning: The frame.append method is deprecated and will be removed from pandas in a future version. Use pandas.concat instead.\n",
            "  list_player_info = list_player_info.append(player_info, ignore_index=True)\n",
            "<ipython-input-7-5e25f54b2bf4>:41: FutureWarning: The frame.append method is deprecated and will be removed from pandas in a future version. Use pandas.concat instead.\n",
            "  list_player_khl_stat = list_player_khl_stat.append(player_khl_stat, ignore_index=True)\n"
          ]
        },
        {
          "output_type": "stream",
          "name": "stdout",
          "text": [
            "/players/25176/\n"
          ]
        },
        {
          "output_type": "stream",
          "name": "stderr",
          "text": [
            "<ipython-input-7-5e25f54b2bf4>:39: FutureWarning: The frame.append method is deprecated and will be removed from pandas in a future version. Use pandas.concat instead.\n",
            "  list_player_info = list_player_info.append(player_info, ignore_index=True)\n",
            "<ipython-input-7-5e25f54b2bf4>:41: FutureWarning: The frame.append method is deprecated and will be removed from pandas in a future version. Use pandas.concat instead.\n",
            "  list_player_khl_stat = list_player_khl_stat.append(player_khl_stat, ignore_index=True)\n"
          ]
        },
        {
          "output_type": "stream",
          "name": "stdout",
          "text": [
            "/players/21258/\n"
          ]
        },
        {
          "output_type": "stream",
          "name": "stderr",
          "text": [
            "<ipython-input-7-5e25f54b2bf4>:39: FutureWarning: The frame.append method is deprecated and will be removed from pandas in a future version. Use pandas.concat instead.\n",
            "  list_player_info = list_player_info.append(player_info, ignore_index=True)\n",
            "<ipython-input-7-5e25f54b2bf4>:41: FutureWarning: The frame.append method is deprecated and will be removed from pandas in a future version. Use pandas.concat instead.\n",
            "  list_player_khl_stat = list_player_khl_stat.append(player_khl_stat, ignore_index=True)\n"
          ]
        },
        {
          "output_type": "stream",
          "name": "stdout",
          "text": [
            "/players/15896/\n"
          ]
        },
        {
          "output_type": "stream",
          "name": "stderr",
          "text": [
            "<ipython-input-7-5e25f54b2bf4>:39: FutureWarning: The frame.append method is deprecated and will be removed from pandas in a future version. Use pandas.concat instead.\n",
            "  list_player_info = list_player_info.append(player_info, ignore_index=True)\n",
            "<ipython-input-7-5e25f54b2bf4>:41: FutureWarning: The frame.append method is deprecated and will be removed from pandas in a future version. Use pandas.concat instead.\n",
            "  list_player_khl_stat = list_player_khl_stat.append(player_khl_stat, ignore_index=True)\n"
          ]
        },
        {
          "output_type": "stream",
          "name": "stdout",
          "text": [
            "/players/35170/\n"
          ]
        },
        {
          "output_type": "stream",
          "name": "stderr",
          "text": [
            "<ipython-input-7-5e25f54b2bf4>:39: FutureWarning: The frame.append method is deprecated and will be removed from pandas in a future version. Use pandas.concat instead.\n",
            "  list_player_info = list_player_info.append(player_info, ignore_index=True)\n",
            "<ipython-input-7-5e25f54b2bf4>:41: FutureWarning: The frame.append method is deprecated and will be removed from pandas in a future version. Use pandas.concat instead.\n",
            "  list_player_khl_stat = list_player_khl_stat.append(player_khl_stat, ignore_index=True)\n"
          ]
        },
        {
          "output_type": "stream",
          "name": "stdout",
          "text": [
            "/players/34889/\n"
          ]
        },
        {
          "output_type": "stream",
          "name": "stderr",
          "text": [
            "<ipython-input-7-5e25f54b2bf4>:39: FutureWarning: The frame.append method is deprecated and will be removed from pandas in a future version. Use pandas.concat instead.\n",
            "  list_player_info = list_player_info.append(player_info, ignore_index=True)\n",
            "<ipython-input-7-5e25f54b2bf4>:41: FutureWarning: The frame.append method is deprecated and will be removed from pandas in a future version. Use pandas.concat instead.\n",
            "  list_player_khl_stat = list_player_khl_stat.append(player_khl_stat, ignore_index=True)\n"
          ]
        },
        {
          "output_type": "stream",
          "name": "stdout",
          "text": [
            "/players/24303/\n"
          ]
        },
        {
          "output_type": "stream",
          "name": "stderr",
          "text": [
            "<ipython-input-7-5e25f54b2bf4>:39: FutureWarning: The frame.append method is deprecated and will be removed from pandas in a future version. Use pandas.concat instead.\n",
            "  list_player_info = list_player_info.append(player_info, ignore_index=True)\n",
            "<ipython-input-7-5e25f54b2bf4>:41: FutureWarning: The frame.append method is deprecated and will be removed from pandas in a future version. Use pandas.concat instead.\n",
            "  list_player_khl_stat = list_player_khl_stat.append(player_khl_stat, ignore_index=True)\n"
          ]
        },
        {
          "output_type": "stream",
          "name": "stdout",
          "text": [
            "/players/34943/\n"
          ]
        },
        {
          "output_type": "stream",
          "name": "stderr",
          "text": [
            "<ipython-input-7-5e25f54b2bf4>:39: FutureWarning: The frame.append method is deprecated and will be removed from pandas in a future version. Use pandas.concat instead.\n",
            "  list_player_info = list_player_info.append(player_info, ignore_index=True)\n",
            "<ipython-input-7-5e25f54b2bf4>:41: FutureWarning: The frame.append method is deprecated and will be removed from pandas in a future version. Use pandas.concat instead.\n",
            "  list_player_khl_stat = list_player_khl_stat.append(player_khl_stat, ignore_index=True)\n"
          ]
        },
        {
          "output_type": "stream",
          "name": "stdout",
          "text": [
            "/players/33926/\n"
          ]
        },
        {
          "output_type": "stream",
          "name": "stderr",
          "text": [
            "<ipython-input-7-5e25f54b2bf4>:39: FutureWarning: The frame.append method is deprecated and will be removed from pandas in a future version. Use pandas.concat instead.\n",
            "  list_player_info = list_player_info.append(player_info, ignore_index=True)\n",
            "<ipython-input-7-5e25f54b2bf4>:41: FutureWarning: The frame.append method is deprecated and will be removed from pandas in a future version. Use pandas.concat instead.\n",
            "  list_player_khl_stat = list_player_khl_stat.append(player_khl_stat, ignore_index=True)\n"
          ]
        },
        {
          "output_type": "stream",
          "name": "stdout",
          "text": [
            "/players/24987/\n"
          ]
        },
        {
          "output_type": "stream",
          "name": "stderr",
          "text": [
            "<ipython-input-7-5e25f54b2bf4>:39: FutureWarning: The frame.append method is deprecated and will be removed from pandas in a future version. Use pandas.concat instead.\n",
            "  list_player_info = list_player_info.append(player_info, ignore_index=True)\n",
            "<ipython-input-7-5e25f54b2bf4>:41: FutureWarning: The frame.append method is deprecated and will be removed from pandas in a future version. Use pandas.concat instead.\n",
            "  list_player_khl_stat = list_player_khl_stat.append(player_khl_stat, ignore_index=True)\n"
          ]
        },
        {
          "output_type": "stream",
          "name": "stdout",
          "text": [
            "/players/17544/\n"
          ]
        },
        {
          "output_type": "stream",
          "name": "stderr",
          "text": [
            "<ipython-input-7-5e25f54b2bf4>:39: FutureWarning: The frame.append method is deprecated and will be removed from pandas in a future version. Use pandas.concat instead.\n",
            "  list_player_info = list_player_info.append(player_info, ignore_index=True)\n",
            "<ipython-input-7-5e25f54b2bf4>:41: FutureWarning: The frame.append method is deprecated and will be removed from pandas in a future version. Use pandas.concat instead.\n",
            "  list_player_khl_stat = list_player_khl_stat.append(player_khl_stat, ignore_index=True)\n"
          ]
        },
        {
          "output_type": "stream",
          "name": "stdout",
          "text": [
            "/players/35225/\n"
          ]
        },
        {
          "output_type": "stream",
          "name": "stderr",
          "text": [
            "<ipython-input-7-5e25f54b2bf4>:39: FutureWarning: The frame.append method is deprecated and will be removed from pandas in a future version. Use pandas.concat instead.\n",
            "  list_player_info = list_player_info.append(player_info, ignore_index=True)\n",
            "<ipython-input-7-5e25f54b2bf4>:41: FutureWarning: The frame.append method is deprecated and will be removed from pandas in a future version. Use pandas.concat instead.\n",
            "  list_player_khl_stat = list_player_khl_stat.append(player_khl_stat, ignore_index=True)\n"
          ]
        },
        {
          "output_type": "stream",
          "name": "stdout",
          "text": [
            "/players/4588/\n"
          ]
        },
        {
          "output_type": "stream",
          "name": "stderr",
          "text": [
            "<ipython-input-7-5e25f54b2bf4>:39: FutureWarning: The frame.append method is deprecated and will be removed from pandas in a future version. Use pandas.concat instead.\n",
            "  list_player_info = list_player_info.append(player_info, ignore_index=True)\n",
            "<ipython-input-7-5e25f54b2bf4>:41: FutureWarning: The frame.append method is deprecated and will be removed from pandas in a future version. Use pandas.concat instead.\n",
            "  list_player_khl_stat = list_player_khl_stat.append(player_khl_stat, ignore_index=True)\n"
          ]
        },
        {
          "output_type": "stream",
          "name": "stdout",
          "text": [
            "/players/22670/\n"
          ]
        },
        {
          "output_type": "stream",
          "name": "stderr",
          "text": [
            "<ipython-input-7-5e25f54b2bf4>:39: FutureWarning: The frame.append method is deprecated and will be removed from pandas in a future version. Use pandas.concat instead.\n",
            "  list_player_info = list_player_info.append(player_info, ignore_index=True)\n",
            "<ipython-input-7-5e25f54b2bf4>:41: FutureWarning: The frame.append method is deprecated and will be removed from pandas in a future version. Use pandas.concat instead.\n",
            "  list_player_khl_stat = list_player_khl_stat.append(player_khl_stat, ignore_index=True)\n"
          ]
        },
        {
          "output_type": "stream",
          "name": "stdout",
          "text": [
            "/players/40317/\n"
          ]
        },
        {
          "output_type": "stream",
          "name": "stderr",
          "text": [
            "<ipython-input-7-5e25f54b2bf4>:39: FutureWarning: The frame.append method is deprecated and will be removed from pandas in a future version. Use pandas.concat instead.\n",
            "  list_player_info = list_player_info.append(player_info, ignore_index=True)\n",
            "<ipython-input-7-5e25f54b2bf4>:41: FutureWarning: The frame.append method is deprecated and will be removed from pandas in a future version. Use pandas.concat instead.\n",
            "  list_player_khl_stat = list_player_khl_stat.append(player_khl_stat, ignore_index=True)\n"
          ]
        },
        {
          "output_type": "stream",
          "name": "stdout",
          "text": [
            "/players/25314/\n"
          ]
        },
        {
          "output_type": "stream",
          "name": "stderr",
          "text": [
            "<ipython-input-7-5e25f54b2bf4>:39: FutureWarning: The frame.append method is deprecated and will be removed from pandas in a future version. Use pandas.concat instead.\n",
            "  list_player_info = list_player_info.append(player_info, ignore_index=True)\n",
            "<ipython-input-7-5e25f54b2bf4>:41: FutureWarning: The frame.append method is deprecated and will be removed from pandas in a future version. Use pandas.concat instead.\n",
            "  list_player_khl_stat = list_player_khl_stat.append(player_khl_stat, ignore_index=True)\n"
          ]
        },
        {
          "output_type": "stream",
          "name": "stdout",
          "text": [
            "/players/17558/\n"
          ]
        },
        {
          "output_type": "stream",
          "name": "stderr",
          "text": [
            "<ipython-input-7-5e25f54b2bf4>:39: FutureWarning: The frame.append method is deprecated and will be removed from pandas in a future version. Use pandas.concat instead.\n",
            "  list_player_info = list_player_info.append(player_info, ignore_index=True)\n",
            "<ipython-input-7-5e25f54b2bf4>:41: FutureWarning: The frame.append method is deprecated and will be removed from pandas in a future version. Use pandas.concat instead.\n",
            "  list_player_khl_stat = list_player_khl_stat.append(player_khl_stat, ignore_index=True)\n"
          ]
        },
        {
          "output_type": "stream",
          "name": "stdout",
          "text": [
            "/players/15621/\n"
          ]
        },
        {
          "output_type": "stream",
          "name": "stderr",
          "text": [
            "<ipython-input-7-5e25f54b2bf4>:39: FutureWarning: The frame.append method is deprecated and will be removed from pandas in a future version. Use pandas.concat instead.\n",
            "  list_player_info = list_player_info.append(player_info, ignore_index=True)\n",
            "<ipython-input-7-5e25f54b2bf4>:41: FutureWarning: The frame.append method is deprecated and will be removed from pandas in a future version. Use pandas.concat instead.\n",
            "  list_player_khl_stat = list_player_khl_stat.append(player_khl_stat, ignore_index=True)\n"
          ]
        },
        {
          "output_type": "stream",
          "name": "stdout",
          "text": [
            "/players/4033/\n"
          ]
        },
        {
          "output_type": "stream",
          "name": "stderr",
          "text": [
            "<ipython-input-7-5e25f54b2bf4>:39: FutureWarning: The frame.append method is deprecated and will be removed from pandas in a future version. Use pandas.concat instead.\n",
            "  list_player_info = list_player_info.append(player_info, ignore_index=True)\n",
            "<ipython-input-7-5e25f54b2bf4>:41: FutureWarning: The frame.append method is deprecated and will be removed from pandas in a future version. Use pandas.concat instead.\n",
            "  list_player_khl_stat = list_player_khl_stat.append(player_khl_stat, ignore_index=True)\n"
          ]
        },
        {
          "output_type": "stream",
          "name": "stdout",
          "text": [
            "/players/10900/\n"
          ]
        },
        {
          "output_type": "stream",
          "name": "stderr",
          "text": [
            "<ipython-input-7-5e25f54b2bf4>:39: FutureWarning: The frame.append method is deprecated and will be removed from pandas in a future version. Use pandas.concat instead.\n",
            "  list_player_info = list_player_info.append(player_info, ignore_index=True)\n",
            "<ipython-input-7-5e25f54b2bf4>:41: FutureWarning: The frame.append method is deprecated and will be removed from pandas in a future version. Use pandas.concat instead.\n",
            "  list_player_khl_stat = list_player_khl_stat.append(player_khl_stat, ignore_index=True)\n"
          ]
        },
        {
          "output_type": "stream",
          "name": "stdout",
          "text": [
            "/players/13946/\n"
          ]
        },
        {
          "output_type": "stream",
          "name": "stderr",
          "text": [
            "<ipython-input-7-5e25f54b2bf4>:39: FutureWarning: The frame.append method is deprecated and will be removed from pandas in a future version. Use pandas.concat instead.\n",
            "  list_player_info = list_player_info.append(player_info, ignore_index=True)\n",
            "<ipython-input-7-5e25f54b2bf4>:41: FutureWarning: The frame.append method is deprecated and will be removed from pandas in a future version. Use pandas.concat instead.\n",
            "  list_player_khl_stat = list_player_khl_stat.append(player_khl_stat, ignore_index=True)\n"
          ]
        },
        {
          "output_type": "stream",
          "name": "stdout",
          "text": [
            "/players/9862/\n"
          ]
        },
        {
          "output_type": "stream",
          "name": "stderr",
          "text": [
            "<ipython-input-7-5e25f54b2bf4>:39: FutureWarning: The frame.append method is deprecated and will be removed from pandas in a future version. Use pandas.concat instead.\n",
            "  list_player_info = list_player_info.append(player_info, ignore_index=True)\n",
            "<ipython-input-7-5e25f54b2bf4>:41: FutureWarning: The frame.append method is deprecated and will be removed from pandas in a future version. Use pandas.concat instead.\n",
            "  list_player_khl_stat = list_player_khl_stat.append(player_khl_stat, ignore_index=True)\n"
          ]
        },
        {
          "output_type": "stream",
          "name": "stdout",
          "text": [
            "/players/35060/\n"
          ]
        },
        {
          "output_type": "stream",
          "name": "stderr",
          "text": [
            "<ipython-input-7-5e25f54b2bf4>:39: FutureWarning: The frame.append method is deprecated and will be removed from pandas in a future version. Use pandas.concat instead.\n",
            "  list_player_info = list_player_info.append(player_info, ignore_index=True)\n",
            "<ipython-input-7-5e25f54b2bf4>:41: FutureWarning: The frame.append method is deprecated and will be removed from pandas in a future version. Use pandas.concat instead.\n",
            "  list_player_khl_stat = list_player_khl_stat.append(player_khl_stat, ignore_index=True)\n"
          ]
        },
        {
          "output_type": "stream",
          "name": "stdout",
          "text": [
            "/players/19368/\n"
          ]
        },
        {
          "output_type": "stream",
          "name": "stderr",
          "text": [
            "<ipython-input-7-5e25f54b2bf4>:39: FutureWarning: The frame.append method is deprecated and will be removed from pandas in a future version. Use pandas.concat instead.\n",
            "  list_player_info = list_player_info.append(player_info, ignore_index=True)\n",
            "<ipython-input-7-5e25f54b2bf4>:41: FutureWarning: The frame.append method is deprecated and will be removed from pandas in a future version. Use pandas.concat instead.\n",
            "  list_player_khl_stat = list_player_khl_stat.append(player_khl_stat, ignore_index=True)\n"
          ]
        },
        {
          "output_type": "stream",
          "name": "stdout",
          "text": [
            "/players/22500/\n"
          ]
        },
        {
          "output_type": "stream",
          "name": "stderr",
          "text": [
            "<ipython-input-7-5e25f54b2bf4>:39: FutureWarning: The frame.append method is deprecated and will be removed from pandas in a future version. Use pandas.concat instead.\n",
            "  list_player_info = list_player_info.append(player_info, ignore_index=True)\n",
            "<ipython-input-7-5e25f54b2bf4>:41: FutureWarning: The frame.append method is deprecated and will be removed from pandas in a future version. Use pandas.concat instead.\n",
            "  list_player_khl_stat = list_player_khl_stat.append(player_khl_stat, ignore_index=True)\n"
          ]
        },
        {
          "output_type": "stream",
          "name": "stdout",
          "text": [
            "/players/22682/\n"
          ]
        },
        {
          "output_type": "stream",
          "name": "stderr",
          "text": [
            "<ipython-input-7-5e25f54b2bf4>:39: FutureWarning: The frame.append method is deprecated and will be removed from pandas in a future version. Use pandas.concat instead.\n",
            "  list_player_info = list_player_info.append(player_info, ignore_index=True)\n",
            "<ipython-input-7-5e25f54b2bf4>:41: FutureWarning: The frame.append method is deprecated and will be removed from pandas in a future version. Use pandas.concat instead.\n",
            "  list_player_khl_stat = list_player_khl_stat.append(player_khl_stat, ignore_index=True)\n"
          ]
        },
        {
          "output_type": "stream",
          "name": "stdout",
          "text": [
            "/players/16457/\n"
          ]
        },
        {
          "output_type": "stream",
          "name": "stderr",
          "text": [
            "<ipython-input-7-5e25f54b2bf4>:39: FutureWarning: The frame.append method is deprecated and will be removed from pandas in a future version. Use pandas.concat instead.\n",
            "  list_player_info = list_player_info.append(player_info, ignore_index=True)\n",
            "<ipython-input-7-5e25f54b2bf4>:41: FutureWarning: The frame.append method is deprecated and will be removed from pandas in a future version. Use pandas.concat instead.\n",
            "  list_player_khl_stat = list_player_khl_stat.append(player_khl_stat, ignore_index=True)\n"
          ]
        },
        {
          "output_type": "stream",
          "name": "stdout",
          "text": [
            "/players/34007/\n"
          ]
        },
        {
          "output_type": "stream",
          "name": "stderr",
          "text": [
            "<ipython-input-7-5e25f54b2bf4>:39: FutureWarning: The frame.append method is deprecated and will be removed from pandas in a future version. Use pandas.concat instead.\n",
            "  list_player_info = list_player_info.append(player_info, ignore_index=True)\n",
            "<ipython-input-7-5e25f54b2bf4>:41: FutureWarning: The frame.append method is deprecated and will be removed from pandas in a future version. Use pandas.concat instead.\n",
            "  list_player_khl_stat = list_player_khl_stat.append(player_khl_stat, ignore_index=True)\n"
          ]
        },
        {
          "output_type": "stream",
          "name": "stdout",
          "text": [
            "/players/22355/\n"
          ]
        },
        {
          "output_type": "stream",
          "name": "stderr",
          "text": [
            "<ipython-input-7-5e25f54b2bf4>:39: FutureWarning: The frame.append method is deprecated and will be removed from pandas in a future version. Use pandas.concat instead.\n",
            "  list_player_info = list_player_info.append(player_info, ignore_index=True)\n",
            "<ipython-input-7-5e25f54b2bf4>:41: FutureWarning: The frame.append method is deprecated and will be removed from pandas in a future version. Use pandas.concat instead.\n",
            "  list_player_khl_stat = list_player_khl_stat.append(player_khl_stat, ignore_index=True)\n"
          ]
        },
        {
          "output_type": "stream",
          "name": "stdout",
          "text": [
            "/players/22826/\n"
          ]
        },
        {
          "output_type": "stream",
          "name": "stderr",
          "text": [
            "<ipython-input-7-5e25f54b2bf4>:39: FutureWarning: The frame.append method is deprecated and will be removed from pandas in a future version. Use pandas.concat instead.\n",
            "  list_player_info = list_player_info.append(player_info, ignore_index=True)\n",
            "<ipython-input-7-5e25f54b2bf4>:41: FutureWarning: The frame.append method is deprecated and will be removed from pandas in a future version. Use pandas.concat instead.\n",
            "  list_player_khl_stat = list_player_khl_stat.append(player_khl_stat, ignore_index=True)\n"
          ]
        },
        {
          "output_type": "stream",
          "name": "stdout",
          "text": [
            "/players/22827/\n"
          ]
        },
        {
          "output_type": "stream",
          "name": "stderr",
          "text": [
            "<ipython-input-7-5e25f54b2bf4>:39: FutureWarning: The frame.append method is deprecated and will be removed from pandas in a future version. Use pandas.concat instead.\n",
            "  list_player_info = list_player_info.append(player_info, ignore_index=True)\n",
            "<ipython-input-7-5e25f54b2bf4>:41: FutureWarning: The frame.append method is deprecated and will be removed from pandas in a future version. Use pandas.concat instead.\n",
            "  list_player_khl_stat = list_player_khl_stat.append(player_khl_stat, ignore_index=True)\n"
          ]
        },
        {
          "output_type": "stream",
          "name": "stdout",
          "text": [
            "/players/16166/\n"
          ]
        },
        {
          "output_type": "stream",
          "name": "stderr",
          "text": [
            "<ipython-input-7-5e25f54b2bf4>:39: FutureWarning: The frame.append method is deprecated and will be removed from pandas in a future version. Use pandas.concat instead.\n",
            "  list_player_info = list_player_info.append(player_info, ignore_index=True)\n",
            "<ipython-input-7-5e25f54b2bf4>:41: FutureWarning: The frame.append method is deprecated and will be removed from pandas in a future version. Use pandas.concat instead.\n",
            "  list_player_khl_stat = list_player_khl_stat.append(player_khl_stat, ignore_index=True)\n"
          ]
        },
        {
          "output_type": "stream",
          "name": "stdout",
          "text": [
            "/players/15357/\n"
          ]
        },
        {
          "output_type": "stream",
          "name": "stderr",
          "text": [
            "<ipython-input-7-5e25f54b2bf4>:39: FutureWarning: The frame.append method is deprecated and will be removed from pandas in a future version. Use pandas.concat instead.\n",
            "  list_player_info = list_player_info.append(player_info, ignore_index=True)\n",
            "<ipython-input-7-5e25f54b2bf4>:41: FutureWarning: The frame.append method is deprecated and will be removed from pandas in a future version. Use pandas.concat instead.\n",
            "  list_player_khl_stat = list_player_khl_stat.append(player_khl_stat, ignore_index=True)\n"
          ]
        },
        {
          "output_type": "stream",
          "name": "stdout",
          "text": [
            "/players/18742/\n"
          ]
        },
        {
          "output_type": "stream",
          "name": "stderr",
          "text": [
            "<ipython-input-7-5e25f54b2bf4>:39: FutureWarning: The frame.append method is deprecated and will be removed from pandas in a future version. Use pandas.concat instead.\n",
            "  list_player_info = list_player_info.append(player_info, ignore_index=True)\n",
            "<ipython-input-7-5e25f54b2bf4>:41: FutureWarning: The frame.append method is deprecated and will be removed from pandas in a future version. Use pandas.concat instead.\n",
            "  list_player_khl_stat = list_player_khl_stat.append(player_khl_stat, ignore_index=True)\n"
          ]
        },
        {
          "output_type": "stream",
          "name": "stdout",
          "text": [
            "/players/16595/\n"
          ]
        },
        {
          "output_type": "stream",
          "name": "stderr",
          "text": [
            "<ipython-input-7-5e25f54b2bf4>:39: FutureWarning: The frame.append method is deprecated and will be removed from pandas in a future version. Use pandas.concat instead.\n",
            "  list_player_info = list_player_info.append(player_info, ignore_index=True)\n",
            "<ipython-input-7-5e25f54b2bf4>:41: FutureWarning: The frame.append method is deprecated and will be removed from pandas in a future version. Use pandas.concat instead.\n",
            "  list_player_khl_stat = list_player_khl_stat.append(player_khl_stat, ignore_index=True)\n"
          ]
        },
        {
          "output_type": "stream",
          "name": "stdout",
          "text": [
            "/players/14550/\n"
          ]
        },
        {
          "output_type": "stream",
          "name": "stderr",
          "text": [
            "<ipython-input-7-5e25f54b2bf4>:39: FutureWarning: The frame.append method is deprecated and will be removed from pandas in a future version. Use pandas.concat instead.\n",
            "  list_player_info = list_player_info.append(player_info, ignore_index=True)\n",
            "<ipython-input-7-5e25f54b2bf4>:41: FutureWarning: The frame.append method is deprecated and will be removed from pandas in a future version. Use pandas.concat instead.\n",
            "  list_player_khl_stat = list_player_khl_stat.append(player_khl_stat, ignore_index=True)\n"
          ]
        },
        {
          "output_type": "stream",
          "name": "stdout",
          "text": [
            "/players/24695/\n"
          ]
        },
        {
          "output_type": "stream",
          "name": "stderr",
          "text": [
            "<ipython-input-7-5e25f54b2bf4>:39: FutureWarning: The frame.append method is deprecated and will be removed from pandas in a future version. Use pandas.concat instead.\n",
            "  list_player_info = list_player_info.append(player_info, ignore_index=True)\n",
            "<ipython-input-7-5e25f54b2bf4>:41: FutureWarning: The frame.append method is deprecated and will be removed from pandas in a future version. Use pandas.concat instead.\n",
            "  list_player_khl_stat = list_player_khl_stat.append(player_khl_stat, ignore_index=True)\n"
          ]
        },
        {
          "output_type": "stream",
          "name": "stdout",
          "text": [
            "/players/33917/\n"
          ]
        },
        {
          "output_type": "stream",
          "name": "stderr",
          "text": [
            "<ipython-input-7-5e25f54b2bf4>:39: FutureWarning: The frame.append method is deprecated and will be removed from pandas in a future version. Use pandas.concat instead.\n",
            "  list_player_info = list_player_info.append(player_info, ignore_index=True)\n",
            "<ipython-input-7-5e25f54b2bf4>:41: FutureWarning: The frame.append method is deprecated and will be removed from pandas in a future version. Use pandas.concat instead.\n",
            "  list_player_khl_stat = list_player_khl_stat.append(player_khl_stat, ignore_index=True)\n"
          ]
        },
        {
          "output_type": "stream",
          "name": "stdout",
          "text": [
            "/players/16400/\n"
          ]
        },
        {
          "output_type": "stream",
          "name": "stderr",
          "text": [
            "<ipython-input-7-5e25f54b2bf4>:39: FutureWarning: The frame.append method is deprecated and will be removed from pandas in a future version. Use pandas.concat instead.\n",
            "  list_player_info = list_player_info.append(player_info, ignore_index=True)\n",
            "<ipython-input-7-5e25f54b2bf4>:41: FutureWarning: The frame.append method is deprecated and will be removed from pandas in a future version. Use pandas.concat instead.\n",
            "  list_player_khl_stat = list_player_khl_stat.append(player_khl_stat, ignore_index=True)\n"
          ]
        },
        {
          "output_type": "stream",
          "name": "stdout",
          "text": [
            "/players/20642/\n"
          ]
        },
        {
          "output_type": "stream",
          "name": "stderr",
          "text": [
            "<ipython-input-7-5e25f54b2bf4>:39: FutureWarning: The frame.append method is deprecated and will be removed from pandas in a future version. Use pandas.concat instead.\n",
            "  list_player_info = list_player_info.append(player_info, ignore_index=True)\n",
            "<ipython-input-7-5e25f54b2bf4>:41: FutureWarning: The frame.append method is deprecated and will be removed from pandas in a future version. Use pandas.concat instead.\n",
            "  list_player_khl_stat = list_player_khl_stat.append(player_khl_stat, ignore_index=True)\n"
          ]
        },
        {
          "output_type": "stream",
          "name": "stdout",
          "text": [
            "/players/13721/\n"
          ]
        },
        {
          "output_type": "stream",
          "name": "stderr",
          "text": [
            "<ipython-input-7-5e25f54b2bf4>:39: FutureWarning: The frame.append method is deprecated and will be removed from pandas in a future version. Use pandas.concat instead.\n",
            "  list_player_info = list_player_info.append(player_info, ignore_index=True)\n",
            "<ipython-input-7-5e25f54b2bf4>:41: FutureWarning: The frame.append method is deprecated and will be removed from pandas in a future version. Use pandas.concat instead.\n",
            "  list_player_khl_stat = list_player_khl_stat.append(player_khl_stat, ignore_index=True)\n"
          ]
        },
        {
          "output_type": "stream",
          "name": "stdout",
          "text": [
            "/players/23650/\n"
          ]
        },
        {
          "output_type": "stream",
          "name": "stderr",
          "text": [
            "<ipython-input-7-5e25f54b2bf4>:39: FutureWarning: The frame.append method is deprecated and will be removed from pandas in a future version. Use pandas.concat instead.\n",
            "  list_player_info = list_player_info.append(player_info, ignore_index=True)\n",
            "<ipython-input-7-5e25f54b2bf4>:41: FutureWarning: The frame.append method is deprecated and will be removed from pandas in a future version. Use pandas.concat instead.\n",
            "  list_player_khl_stat = list_player_khl_stat.append(player_khl_stat, ignore_index=True)\n"
          ]
        },
        {
          "output_type": "stream",
          "name": "stdout",
          "text": [
            "/players/16225/\n"
          ]
        },
        {
          "output_type": "stream",
          "name": "stderr",
          "text": [
            "<ipython-input-7-5e25f54b2bf4>:39: FutureWarning: The frame.append method is deprecated and will be removed from pandas in a future version. Use pandas.concat instead.\n",
            "  list_player_info = list_player_info.append(player_info, ignore_index=True)\n",
            "<ipython-input-7-5e25f54b2bf4>:41: FutureWarning: The frame.append method is deprecated and will be removed from pandas in a future version. Use pandas.concat instead.\n",
            "  list_player_khl_stat = list_player_khl_stat.append(player_khl_stat, ignore_index=True)\n"
          ]
        },
        {
          "output_type": "stream",
          "name": "stdout",
          "text": [
            "/players/20806/\n"
          ]
        },
        {
          "output_type": "stream",
          "name": "stderr",
          "text": [
            "<ipython-input-7-5e25f54b2bf4>:39: FutureWarning: The frame.append method is deprecated and will be removed from pandas in a future version. Use pandas.concat instead.\n",
            "  list_player_info = list_player_info.append(player_info, ignore_index=True)\n",
            "<ipython-input-7-5e25f54b2bf4>:41: FutureWarning: The frame.append method is deprecated and will be removed from pandas in a future version. Use pandas.concat instead.\n",
            "  list_player_khl_stat = list_player_khl_stat.append(player_khl_stat, ignore_index=True)\n"
          ]
        },
        {
          "output_type": "stream",
          "name": "stdout",
          "text": [
            "/players/20841/\n"
          ]
        },
        {
          "output_type": "stream",
          "name": "stderr",
          "text": [
            "<ipython-input-7-5e25f54b2bf4>:39: FutureWarning: The frame.append method is deprecated and will be removed from pandas in a future version. Use pandas.concat instead.\n",
            "  list_player_info = list_player_info.append(player_info, ignore_index=True)\n",
            "<ipython-input-7-5e25f54b2bf4>:41: FutureWarning: The frame.append method is deprecated and will be removed from pandas in a future version. Use pandas.concat instead.\n",
            "  list_player_khl_stat = list_player_khl_stat.append(player_khl_stat, ignore_index=True)\n"
          ]
        },
        {
          "output_type": "stream",
          "name": "stdout",
          "text": [
            "/players/16140/\n"
          ]
        },
        {
          "output_type": "stream",
          "name": "stderr",
          "text": [
            "<ipython-input-7-5e25f54b2bf4>:39: FutureWarning: The frame.append method is deprecated and will be removed from pandas in a future version. Use pandas.concat instead.\n",
            "  list_player_info = list_player_info.append(player_info, ignore_index=True)\n",
            "<ipython-input-7-5e25f54b2bf4>:41: FutureWarning: The frame.append method is deprecated and will be removed from pandas in a future version. Use pandas.concat instead.\n",
            "  list_player_khl_stat = list_player_khl_stat.append(player_khl_stat, ignore_index=True)\n"
          ]
        },
        {
          "output_type": "stream",
          "name": "stdout",
          "text": [
            "/players/16647/\n"
          ]
        },
        {
          "output_type": "stream",
          "name": "stderr",
          "text": [
            "<ipython-input-7-5e25f54b2bf4>:39: FutureWarning: The frame.append method is deprecated and will be removed from pandas in a future version. Use pandas.concat instead.\n",
            "  list_player_info = list_player_info.append(player_info, ignore_index=True)\n",
            "<ipython-input-7-5e25f54b2bf4>:41: FutureWarning: The frame.append method is deprecated and will be removed from pandas in a future version. Use pandas.concat instead.\n",
            "  list_player_khl_stat = list_player_khl_stat.append(player_khl_stat, ignore_index=True)\n"
          ]
        },
        {
          "output_type": "stream",
          "name": "stdout",
          "text": [
            "/players/19277/\n"
          ]
        },
        {
          "output_type": "stream",
          "name": "stderr",
          "text": [
            "<ipython-input-7-5e25f54b2bf4>:39: FutureWarning: The frame.append method is deprecated and will be removed from pandas in a future version. Use pandas.concat instead.\n",
            "  list_player_info = list_player_info.append(player_info, ignore_index=True)\n",
            "<ipython-input-7-5e25f54b2bf4>:41: FutureWarning: The frame.append method is deprecated and will be removed from pandas in a future version. Use pandas.concat instead.\n",
            "  list_player_khl_stat = list_player_khl_stat.append(player_khl_stat, ignore_index=True)\n"
          ]
        },
        {
          "output_type": "stream",
          "name": "stdout",
          "text": [
            "/players/16421/\n"
          ]
        },
        {
          "output_type": "stream",
          "name": "stderr",
          "text": [
            "<ipython-input-7-5e25f54b2bf4>:39: FutureWarning: The frame.append method is deprecated and will be removed from pandas in a future version. Use pandas.concat instead.\n",
            "  list_player_info = list_player_info.append(player_info, ignore_index=True)\n",
            "<ipython-input-7-5e25f54b2bf4>:41: FutureWarning: The frame.append method is deprecated and will be removed from pandas in a future version. Use pandas.concat instead.\n",
            "  list_player_khl_stat = list_player_khl_stat.append(player_khl_stat, ignore_index=True)\n"
          ]
        },
        {
          "output_type": "stream",
          "name": "stdout",
          "text": [
            "/players/17662/\n"
          ]
        },
        {
          "output_type": "stream",
          "name": "stderr",
          "text": [
            "<ipython-input-7-5e25f54b2bf4>:39: FutureWarning: The frame.append method is deprecated and will be removed from pandas in a future version. Use pandas.concat instead.\n",
            "  list_player_info = list_player_info.append(player_info, ignore_index=True)\n",
            "<ipython-input-7-5e25f54b2bf4>:41: FutureWarning: The frame.append method is deprecated and will be removed from pandas in a future version. Use pandas.concat instead.\n",
            "  list_player_khl_stat = list_player_khl_stat.append(player_khl_stat, ignore_index=True)\n"
          ]
        },
        {
          "output_type": "stream",
          "name": "stdout",
          "text": [
            "/players/16655/\n"
          ]
        },
        {
          "output_type": "stream",
          "name": "stderr",
          "text": [
            "<ipython-input-7-5e25f54b2bf4>:39: FutureWarning: The frame.append method is deprecated and will be removed from pandas in a future version. Use pandas.concat instead.\n",
            "  list_player_info = list_player_info.append(player_info, ignore_index=True)\n",
            "<ipython-input-7-5e25f54b2bf4>:41: FutureWarning: The frame.append method is deprecated and will be removed from pandas in a future version. Use pandas.concat instead.\n",
            "  list_player_khl_stat = list_player_khl_stat.append(player_khl_stat, ignore_index=True)\n"
          ]
        },
        {
          "output_type": "stream",
          "name": "stdout",
          "text": [
            "/players/7268/\n"
          ]
        },
        {
          "output_type": "stream",
          "name": "stderr",
          "text": [
            "<ipython-input-7-5e25f54b2bf4>:39: FutureWarning: The frame.append method is deprecated and will be removed from pandas in a future version. Use pandas.concat instead.\n",
            "  list_player_info = list_player_info.append(player_info, ignore_index=True)\n",
            "<ipython-input-7-5e25f54b2bf4>:41: FutureWarning: The frame.append method is deprecated and will be removed from pandas in a future version. Use pandas.concat instead.\n",
            "  list_player_khl_stat = list_player_khl_stat.append(player_khl_stat, ignore_index=True)\n"
          ]
        },
        {
          "output_type": "stream",
          "name": "stdout",
          "text": [
            "/players/9860/\n"
          ]
        },
        {
          "output_type": "stream",
          "name": "stderr",
          "text": [
            "<ipython-input-7-5e25f54b2bf4>:39: FutureWarning: The frame.append method is deprecated and will be removed from pandas in a future version. Use pandas.concat instead.\n",
            "  list_player_info = list_player_info.append(player_info, ignore_index=True)\n",
            "<ipython-input-7-5e25f54b2bf4>:41: FutureWarning: The frame.append method is deprecated and will be removed from pandas in a future version. Use pandas.concat instead.\n",
            "  list_player_khl_stat = list_player_khl_stat.append(player_khl_stat, ignore_index=True)\n"
          ]
        },
        {
          "output_type": "stream",
          "name": "stdout",
          "text": [
            "/players/39673/\n"
          ]
        },
        {
          "output_type": "stream",
          "name": "stderr",
          "text": [
            "<ipython-input-7-5e25f54b2bf4>:39: FutureWarning: The frame.append method is deprecated and will be removed from pandas in a future version. Use pandas.concat instead.\n",
            "  list_player_info = list_player_info.append(player_info, ignore_index=True)\n",
            "<ipython-input-7-5e25f54b2bf4>:41: FutureWarning: The frame.append method is deprecated and will be removed from pandas in a future version. Use pandas.concat instead.\n",
            "  list_player_khl_stat = list_player_khl_stat.append(player_khl_stat, ignore_index=True)\n"
          ]
        },
        {
          "output_type": "stream",
          "name": "stdout",
          "text": [
            "/players/23190/\n"
          ]
        },
        {
          "output_type": "stream",
          "name": "stderr",
          "text": [
            "<ipython-input-7-5e25f54b2bf4>:39: FutureWarning: The frame.append method is deprecated and will be removed from pandas in a future version. Use pandas.concat instead.\n",
            "  list_player_info = list_player_info.append(player_info, ignore_index=True)\n",
            "<ipython-input-7-5e25f54b2bf4>:41: FutureWarning: The frame.append method is deprecated and will be removed from pandas in a future version. Use pandas.concat instead.\n",
            "  list_player_khl_stat = list_player_khl_stat.append(player_khl_stat, ignore_index=True)\n"
          ]
        },
        {
          "output_type": "stream",
          "name": "stdout",
          "text": [
            "/players/21898/\n"
          ]
        },
        {
          "output_type": "stream",
          "name": "stderr",
          "text": [
            "<ipython-input-7-5e25f54b2bf4>:39: FutureWarning: The frame.append method is deprecated and will be removed from pandas in a future version. Use pandas.concat instead.\n",
            "  list_player_info = list_player_info.append(player_info, ignore_index=True)\n",
            "<ipython-input-7-5e25f54b2bf4>:41: FutureWarning: The frame.append method is deprecated and will be removed from pandas in a future version. Use pandas.concat instead.\n",
            "  list_player_khl_stat = list_player_khl_stat.append(player_khl_stat, ignore_index=True)\n"
          ]
        },
        {
          "output_type": "stream",
          "name": "stdout",
          "text": [
            "/players/22057/\n"
          ]
        },
        {
          "output_type": "stream",
          "name": "stderr",
          "text": [
            "<ipython-input-7-5e25f54b2bf4>:39: FutureWarning: The frame.append method is deprecated and will be removed from pandas in a future version. Use pandas.concat instead.\n",
            "  list_player_info = list_player_info.append(player_info, ignore_index=True)\n",
            "<ipython-input-7-5e25f54b2bf4>:41: FutureWarning: The frame.append method is deprecated and will be removed from pandas in a future version. Use pandas.concat instead.\n",
            "  list_player_khl_stat = list_player_khl_stat.append(player_khl_stat, ignore_index=True)\n"
          ]
        },
        {
          "output_type": "stream",
          "name": "stdout",
          "text": [
            "/players/25429/\n"
          ]
        },
        {
          "output_type": "stream",
          "name": "stderr",
          "text": [
            "<ipython-input-7-5e25f54b2bf4>:39: FutureWarning: The frame.append method is deprecated and will be removed from pandas in a future version. Use pandas.concat instead.\n",
            "  list_player_info = list_player_info.append(player_info, ignore_index=True)\n",
            "<ipython-input-7-5e25f54b2bf4>:41: FutureWarning: The frame.append method is deprecated and will be removed from pandas in a future version. Use pandas.concat instead.\n",
            "  list_player_khl_stat = list_player_khl_stat.append(player_khl_stat, ignore_index=True)\n"
          ]
        },
        {
          "output_type": "stream",
          "name": "stdout",
          "text": [
            "/players/29960/\n"
          ]
        },
        {
          "output_type": "stream",
          "name": "stderr",
          "text": [
            "<ipython-input-7-5e25f54b2bf4>:39: FutureWarning: The frame.append method is deprecated and will be removed from pandas in a future version. Use pandas.concat instead.\n",
            "  list_player_info = list_player_info.append(player_info, ignore_index=True)\n",
            "<ipython-input-7-5e25f54b2bf4>:41: FutureWarning: The frame.append method is deprecated and will be removed from pandas in a future version. Use pandas.concat instead.\n",
            "  list_player_khl_stat = list_player_khl_stat.append(player_khl_stat, ignore_index=True)\n"
          ]
        },
        {
          "output_type": "stream",
          "name": "stdout",
          "text": [
            "/players/24915/\n"
          ]
        },
        {
          "output_type": "stream",
          "name": "stderr",
          "text": [
            "<ipython-input-7-5e25f54b2bf4>:39: FutureWarning: The frame.append method is deprecated and will be removed from pandas in a future version. Use pandas.concat instead.\n",
            "  list_player_info = list_player_info.append(player_info, ignore_index=True)\n",
            "<ipython-input-7-5e25f54b2bf4>:41: FutureWarning: The frame.append method is deprecated and will be removed from pandas in a future version. Use pandas.concat instead.\n",
            "  list_player_khl_stat = list_player_khl_stat.append(player_khl_stat, ignore_index=True)\n"
          ]
        },
        {
          "output_type": "stream",
          "name": "stdout",
          "text": [
            "/players/19135/\n"
          ]
        },
        {
          "output_type": "stream",
          "name": "stderr",
          "text": [
            "<ipython-input-7-5e25f54b2bf4>:39: FutureWarning: The frame.append method is deprecated and will be removed from pandas in a future version. Use pandas.concat instead.\n",
            "  list_player_info = list_player_info.append(player_info, ignore_index=True)\n",
            "<ipython-input-7-5e25f54b2bf4>:41: FutureWarning: The frame.append method is deprecated and will be removed from pandas in a future version. Use pandas.concat instead.\n",
            "  list_player_khl_stat = list_player_khl_stat.append(player_khl_stat, ignore_index=True)\n"
          ]
        },
        {
          "output_type": "stream",
          "name": "stdout",
          "text": [
            "/players/20611/\n"
          ]
        },
        {
          "output_type": "stream",
          "name": "stderr",
          "text": [
            "<ipython-input-7-5e25f54b2bf4>:39: FutureWarning: The frame.append method is deprecated and will be removed from pandas in a future version. Use pandas.concat instead.\n",
            "  list_player_info = list_player_info.append(player_info, ignore_index=True)\n",
            "<ipython-input-7-5e25f54b2bf4>:41: FutureWarning: The frame.append method is deprecated and will be removed from pandas in a future version. Use pandas.concat instead.\n",
            "  list_player_khl_stat = list_player_khl_stat.append(player_khl_stat, ignore_index=True)\n"
          ]
        },
        {
          "output_type": "stream",
          "name": "stdout",
          "text": [
            "/players/21310/\n"
          ]
        },
        {
          "output_type": "stream",
          "name": "stderr",
          "text": [
            "<ipython-input-7-5e25f54b2bf4>:39: FutureWarning: The frame.append method is deprecated and will be removed from pandas in a future version. Use pandas.concat instead.\n",
            "  list_player_info = list_player_info.append(player_info, ignore_index=True)\n",
            "<ipython-input-7-5e25f54b2bf4>:41: FutureWarning: The frame.append method is deprecated and will be removed from pandas in a future version. Use pandas.concat instead.\n",
            "  list_player_khl_stat = list_player_khl_stat.append(player_khl_stat, ignore_index=True)\n"
          ]
        },
        {
          "output_type": "stream",
          "name": "stdout",
          "text": [
            "/players/16182/\n"
          ]
        },
        {
          "output_type": "stream",
          "name": "stderr",
          "text": [
            "<ipython-input-7-5e25f54b2bf4>:39: FutureWarning: The frame.append method is deprecated and will be removed from pandas in a future version. Use pandas.concat instead.\n",
            "  list_player_info = list_player_info.append(player_info, ignore_index=True)\n",
            "<ipython-input-7-5e25f54b2bf4>:41: FutureWarning: The frame.append method is deprecated and will be removed from pandas in a future version. Use pandas.concat instead.\n",
            "  list_player_khl_stat = list_player_khl_stat.append(player_khl_stat, ignore_index=True)\n"
          ]
        },
        {
          "output_type": "stream",
          "name": "stdout",
          "text": [
            "/players/5552/\n"
          ]
        },
        {
          "output_type": "stream",
          "name": "stderr",
          "text": [
            "<ipython-input-7-5e25f54b2bf4>:39: FutureWarning: The frame.append method is deprecated and will be removed from pandas in a future version. Use pandas.concat instead.\n",
            "  list_player_info = list_player_info.append(player_info, ignore_index=True)\n",
            "<ipython-input-7-5e25f54b2bf4>:41: FutureWarning: The frame.append method is deprecated and will be removed from pandas in a future version. Use pandas.concat instead.\n",
            "  list_player_khl_stat = list_player_khl_stat.append(player_khl_stat, ignore_index=True)\n"
          ]
        },
        {
          "output_type": "stream",
          "name": "stdout",
          "text": [
            "/players/24651/\n"
          ]
        },
        {
          "output_type": "stream",
          "name": "stderr",
          "text": [
            "<ipython-input-7-5e25f54b2bf4>:39: FutureWarning: The frame.append method is deprecated and will be removed from pandas in a future version. Use pandas.concat instead.\n",
            "  list_player_info = list_player_info.append(player_info, ignore_index=True)\n",
            "<ipython-input-7-5e25f54b2bf4>:41: FutureWarning: The frame.append method is deprecated and will be removed from pandas in a future version. Use pandas.concat instead.\n",
            "  list_player_khl_stat = list_player_khl_stat.append(player_khl_stat, ignore_index=True)\n"
          ]
        },
        {
          "output_type": "stream",
          "name": "stdout",
          "text": [
            "/players/19213/\n"
          ]
        },
        {
          "output_type": "stream",
          "name": "stderr",
          "text": [
            "<ipython-input-7-5e25f54b2bf4>:39: FutureWarning: The frame.append method is deprecated and will be removed from pandas in a future version. Use pandas.concat instead.\n",
            "  list_player_info = list_player_info.append(player_info, ignore_index=True)\n",
            "<ipython-input-7-5e25f54b2bf4>:41: FutureWarning: The frame.append method is deprecated and will be removed from pandas in a future version. Use pandas.concat instead.\n",
            "  list_player_khl_stat = list_player_khl_stat.append(player_khl_stat, ignore_index=True)\n"
          ]
        },
        {
          "output_type": "stream",
          "name": "stdout",
          "text": [
            "/players/3406/\n"
          ]
        },
        {
          "output_type": "stream",
          "name": "stderr",
          "text": [
            "<ipython-input-7-5e25f54b2bf4>:39: FutureWarning: The frame.append method is deprecated and will be removed from pandas in a future version. Use pandas.concat instead.\n",
            "  list_player_info = list_player_info.append(player_info, ignore_index=True)\n",
            "<ipython-input-7-5e25f54b2bf4>:41: FutureWarning: The frame.append method is deprecated and will be removed from pandas in a future version. Use pandas.concat instead.\n",
            "  list_player_khl_stat = list_player_khl_stat.append(player_khl_stat, ignore_index=True)\n"
          ]
        },
        {
          "output_type": "stream",
          "name": "stdout",
          "text": [
            "/players/17633/\n"
          ]
        },
        {
          "output_type": "stream",
          "name": "stderr",
          "text": [
            "<ipython-input-7-5e25f54b2bf4>:39: FutureWarning: The frame.append method is deprecated and will be removed from pandas in a future version. Use pandas.concat instead.\n",
            "  list_player_info = list_player_info.append(player_info, ignore_index=True)\n",
            "<ipython-input-7-5e25f54b2bf4>:41: FutureWarning: The frame.append method is deprecated and will be removed from pandas in a future version. Use pandas.concat instead.\n",
            "  list_player_khl_stat = list_player_khl_stat.append(player_khl_stat, ignore_index=True)\n"
          ]
        },
        {
          "output_type": "stream",
          "name": "stdout",
          "text": [
            "/players/21802/\n"
          ]
        },
        {
          "output_type": "stream",
          "name": "stderr",
          "text": [
            "<ipython-input-7-5e25f54b2bf4>:39: FutureWarning: The frame.append method is deprecated and will be removed from pandas in a future version. Use pandas.concat instead.\n",
            "  list_player_info = list_player_info.append(player_info, ignore_index=True)\n",
            "<ipython-input-7-5e25f54b2bf4>:41: FutureWarning: The frame.append method is deprecated and will be removed from pandas in a future version. Use pandas.concat instead.\n",
            "  list_player_khl_stat = list_player_khl_stat.append(player_khl_stat, ignore_index=True)\n"
          ]
        },
        {
          "output_type": "stream",
          "name": "stdout",
          "text": [
            "/players/25013/\n"
          ]
        },
        {
          "output_type": "stream",
          "name": "stderr",
          "text": [
            "<ipython-input-7-5e25f54b2bf4>:39: FutureWarning: The frame.append method is deprecated and will be removed from pandas in a future version. Use pandas.concat instead.\n",
            "  list_player_info = list_player_info.append(player_info, ignore_index=True)\n",
            "<ipython-input-7-5e25f54b2bf4>:41: FutureWarning: The frame.append method is deprecated and will be removed from pandas in a future version. Use pandas.concat instead.\n",
            "  list_player_khl_stat = list_player_khl_stat.append(player_khl_stat, ignore_index=True)\n"
          ]
        },
        {
          "output_type": "stream",
          "name": "stdout",
          "text": [
            "/players/34010/\n"
          ]
        },
        {
          "output_type": "stream",
          "name": "stderr",
          "text": [
            "<ipython-input-7-5e25f54b2bf4>:39: FutureWarning: The frame.append method is deprecated and will be removed from pandas in a future version. Use pandas.concat instead.\n",
            "  list_player_info = list_player_info.append(player_info, ignore_index=True)\n",
            "<ipython-input-7-5e25f54b2bf4>:41: FutureWarning: The frame.append method is deprecated and will be removed from pandas in a future version. Use pandas.concat instead.\n",
            "  list_player_khl_stat = list_player_khl_stat.append(player_khl_stat, ignore_index=True)\n"
          ]
        },
        {
          "output_type": "stream",
          "name": "stdout",
          "text": [
            "/players/39902/\n"
          ]
        },
        {
          "output_type": "stream",
          "name": "stderr",
          "text": [
            "<ipython-input-7-5e25f54b2bf4>:39: FutureWarning: The frame.append method is deprecated and will be removed from pandas in a future version. Use pandas.concat instead.\n",
            "  list_player_info = list_player_info.append(player_info, ignore_index=True)\n",
            "<ipython-input-7-5e25f54b2bf4>:41: FutureWarning: The frame.append method is deprecated and will be removed from pandas in a future version. Use pandas.concat instead.\n",
            "  list_player_khl_stat = list_player_khl_stat.append(player_khl_stat, ignore_index=True)\n"
          ]
        },
        {
          "output_type": "stream",
          "name": "stdout",
          "text": [
            "/players/18770/\n"
          ]
        },
        {
          "output_type": "stream",
          "name": "stderr",
          "text": [
            "<ipython-input-7-5e25f54b2bf4>:39: FutureWarning: The frame.append method is deprecated and will be removed from pandas in a future version. Use pandas.concat instead.\n",
            "  list_player_info = list_player_info.append(player_info, ignore_index=True)\n",
            "<ipython-input-7-5e25f54b2bf4>:41: FutureWarning: The frame.append method is deprecated and will be removed from pandas in a future version. Use pandas.concat instead.\n",
            "  list_player_khl_stat = list_player_khl_stat.append(player_khl_stat, ignore_index=True)\n"
          ]
        },
        {
          "output_type": "stream",
          "name": "stdout",
          "text": [
            "/players/22342/\n"
          ]
        },
        {
          "output_type": "stream",
          "name": "stderr",
          "text": [
            "<ipython-input-7-5e25f54b2bf4>:39: FutureWarning: The frame.append method is deprecated and will be removed from pandas in a future version. Use pandas.concat instead.\n",
            "  list_player_info = list_player_info.append(player_info, ignore_index=True)\n",
            "<ipython-input-7-5e25f54b2bf4>:41: FutureWarning: The frame.append method is deprecated and will be removed from pandas in a future version. Use pandas.concat instead.\n",
            "  list_player_khl_stat = list_player_khl_stat.append(player_khl_stat, ignore_index=True)\n"
          ]
        },
        {
          "output_type": "stream",
          "name": "stdout",
          "text": [
            "/players/23602/\n"
          ]
        },
        {
          "output_type": "stream",
          "name": "stderr",
          "text": [
            "<ipython-input-7-5e25f54b2bf4>:39: FutureWarning: The frame.append method is deprecated and will be removed from pandas in a future version. Use pandas.concat instead.\n",
            "  list_player_info = list_player_info.append(player_info, ignore_index=True)\n",
            "<ipython-input-7-5e25f54b2bf4>:41: FutureWarning: The frame.append method is deprecated and will be removed from pandas in a future version. Use pandas.concat instead.\n",
            "  list_player_khl_stat = list_player_khl_stat.append(player_khl_stat, ignore_index=True)\n"
          ]
        },
        {
          "output_type": "stream",
          "name": "stdout",
          "text": [
            "/players/14685/\n"
          ]
        },
        {
          "output_type": "stream",
          "name": "stderr",
          "text": [
            "<ipython-input-7-5e25f54b2bf4>:39: FutureWarning: The frame.append method is deprecated and will be removed from pandas in a future version. Use pandas.concat instead.\n",
            "  list_player_info = list_player_info.append(player_info, ignore_index=True)\n",
            "<ipython-input-7-5e25f54b2bf4>:41: FutureWarning: The frame.append method is deprecated and will be removed from pandas in a future version. Use pandas.concat instead.\n",
            "  list_player_khl_stat = list_player_khl_stat.append(player_khl_stat, ignore_index=True)\n"
          ]
        },
        {
          "output_type": "stream",
          "name": "stdout",
          "text": [
            "/players/16035/\n"
          ]
        },
        {
          "output_type": "stream",
          "name": "stderr",
          "text": [
            "<ipython-input-7-5e25f54b2bf4>:39: FutureWarning: The frame.append method is deprecated and will be removed from pandas in a future version. Use pandas.concat instead.\n",
            "  list_player_info = list_player_info.append(player_info, ignore_index=True)\n",
            "<ipython-input-7-5e25f54b2bf4>:41: FutureWarning: The frame.append method is deprecated and will be removed from pandas in a future version. Use pandas.concat instead.\n",
            "  list_player_khl_stat = list_player_khl_stat.append(player_khl_stat, ignore_index=True)\n"
          ]
        },
        {
          "output_type": "stream",
          "name": "stdout",
          "text": [
            "/players/22943/\n"
          ]
        },
        {
          "output_type": "stream",
          "name": "stderr",
          "text": [
            "<ipython-input-7-5e25f54b2bf4>:39: FutureWarning: The frame.append method is deprecated and will be removed from pandas in a future version. Use pandas.concat instead.\n",
            "  list_player_info = list_player_info.append(player_info, ignore_index=True)\n",
            "<ipython-input-7-5e25f54b2bf4>:41: FutureWarning: The frame.append method is deprecated and will be removed from pandas in a future version. Use pandas.concat instead.\n",
            "  list_player_khl_stat = list_player_khl_stat.append(player_khl_stat, ignore_index=True)\n"
          ]
        },
        {
          "output_type": "stream",
          "name": "stdout",
          "text": [
            "/players/19564/\n"
          ]
        },
        {
          "output_type": "stream",
          "name": "stderr",
          "text": [
            "<ipython-input-7-5e25f54b2bf4>:39: FutureWarning: The frame.append method is deprecated and will be removed from pandas in a future version. Use pandas.concat instead.\n",
            "  list_player_info = list_player_info.append(player_info, ignore_index=True)\n",
            "<ipython-input-7-5e25f54b2bf4>:41: FutureWarning: The frame.append method is deprecated and will be removed from pandas in a future version. Use pandas.concat instead.\n",
            "  list_player_khl_stat = list_player_khl_stat.append(player_khl_stat, ignore_index=True)\n"
          ]
        },
        {
          "output_type": "stream",
          "name": "stdout",
          "text": [
            "/players/22145/\n"
          ]
        },
        {
          "output_type": "stream",
          "name": "stderr",
          "text": [
            "<ipython-input-7-5e25f54b2bf4>:39: FutureWarning: The frame.append method is deprecated and will be removed from pandas in a future version. Use pandas.concat instead.\n",
            "  list_player_info = list_player_info.append(player_info, ignore_index=True)\n",
            "<ipython-input-7-5e25f54b2bf4>:41: FutureWarning: The frame.append method is deprecated and will be removed from pandas in a future version. Use pandas.concat instead.\n",
            "  list_player_khl_stat = list_player_khl_stat.append(player_khl_stat, ignore_index=True)\n"
          ]
        },
        {
          "output_type": "stream",
          "name": "stdout",
          "text": [
            "/players/18686/\n"
          ]
        },
        {
          "output_type": "stream",
          "name": "stderr",
          "text": [
            "<ipython-input-7-5e25f54b2bf4>:39: FutureWarning: The frame.append method is deprecated and will be removed from pandas in a future version. Use pandas.concat instead.\n",
            "  list_player_info = list_player_info.append(player_info, ignore_index=True)\n",
            "<ipython-input-7-5e25f54b2bf4>:41: FutureWarning: The frame.append method is deprecated and will be removed from pandas in a future version. Use pandas.concat instead.\n",
            "  list_player_khl_stat = list_player_khl_stat.append(player_khl_stat, ignore_index=True)\n"
          ]
        },
        {
          "output_type": "stream",
          "name": "stdout",
          "text": [
            "/players/13044/\n"
          ]
        },
        {
          "output_type": "stream",
          "name": "stderr",
          "text": [
            "<ipython-input-7-5e25f54b2bf4>:39: FutureWarning: The frame.append method is deprecated and will be removed from pandas in a future version. Use pandas.concat instead.\n",
            "  list_player_info = list_player_info.append(player_info, ignore_index=True)\n",
            "<ipython-input-7-5e25f54b2bf4>:41: FutureWarning: The frame.append method is deprecated and will be removed from pandas in a future version. Use pandas.concat instead.\n",
            "  list_player_khl_stat = list_player_khl_stat.append(player_khl_stat, ignore_index=True)\n"
          ]
        },
        {
          "output_type": "stream",
          "name": "stdout",
          "text": [
            "/players/31160/\n"
          ]
        },
        {
          "output_type": "stream",
          "name": "stderr",
          "text": [
            "<ipython-input-7-5e25f54b2bf4>:39: FutureWarning: The frame.append method is deprecated and will be removed from pandas in a future version. Use pandas.concat instead.\n",
            "  list_player_info = list_player_info.append(player_info, ignore_index=True)\n",
            "<ipython-input-7-5e25f54b2bf4>:41: FutureWarning: The frame.append method is deprecated and will be removed from pandas in a future version. Use pandas.concat instead.\n",
            "  list_player_khl_stat = list_player_khl_stat.append(player_khl_stat, ignore_index=True)\n"
          ]
        },
        {
          "output_type": "stream",
          "name": "stdout",
          "text": [
            "/players/16553/\n"
          ]
        },
        {
          "output_type": "stream",
          "name": "stderr",
          "text": [
            "<ipython-input-7-5e25f54b2bf4>:39: FutureWarning: The frame.append method is deprecated and will be removed from pandas in a future version. Use pandas.concat instead.\n",
            "  list_player_info = list_player_info.append(player_info, ignore_index=True)\n",
            "<ipython-input-7-5e25f54b2bf4>:41: FutureWarning: The frame.append method is deprecated and will be removed from pandas in a future version. Use pandas.concat instead.\n",
            "  list_player_khl_stat = list_player_khl_stat.append(player_khl_stat, ignore_index=True)\n"
          ]
        },
        {
          "output_type": "stream",
          "name": "stdout",
          "text": [
            "/players/34844/\n"
          ]
        },
        {
          "output_type": "stream",
          "name": "stderr",
          "text": [
            "<ipython-input-7-5e25f54b2bf4>:39: FutureWarning: The frame.append method is deprecated and will be removed from pandas in a future version. Use pandas.concat instead.\n",
            "  list_player_info = list_player_info.append(player_info, ignore_index=True)\n",
            "<ipython-input-7-5e25f54b2bf4>:41: FutureWarning: The frame.append method is deprecated and will be removed from pandas in a future version. Use pandas.concat instead.\n",
            "  list_player_khl_stat = list_player_khl_stat.append(player_khl_stat, ignore_index=True)\n"
          ]
        },
        {
          "output_type": "stream",
          "name": "stdout",
          "text": [
            "/players/23421/\n"
          ]
        },
        {
          "output_type": "stream",
          "name": "stderr",
          "text": [
            "<ipython-input-7-5e25f54b2bf4>:39: FutureWarning: The frame.append method is deprecated and will be removed from pandas in a future version. Use pandas.concat instead.\n",
            "  list_player_info = list_player_info.append(player_info, ignore_index=True)\n",
            "<ipython-input-7-5e25f54b2bf4>:41: FutureWarning: The frame.append method is deprecated and will be removed from pandas in a future version. Use pandas.concat instead.\n",
            "  list_player_khl_stat = list_player_khl_stat.append(player_khl_stat, ignore_index=True)\n"
          ]
        },
        {
          "output_type": "stream",
          "name": "stdout",
          "text": [
            "/players/23293/\n"
          ]
        },
        {
          "output_type": "stream",
          "name": "stderr",
          "text": [
            "<ipython-input-7-5e25f54b2bf4>:39: FutureWarning: The frame.append method is deprecated and will be removed from pandas in a future version. Use pandas.concat instead.\n",
            "  list_player_info = list_player_info.append(player_info, ignore_index=True)\n",
            "<ipython-input-7-5e25f54b2bf4>:41: FutureWarning: The frame.append method is deprecated and will be removed from pandas in a future version. Use pandas.concat instead.\n",
            "  list_player_khl_stat = list_player_khl_stat.append(player_khl_stat, ignore_index=True)\n"
          ]
        },
        {
          "output_type": "stream",
          "name": "stdout",
          "text": [
            "/players/15486/\n"
          ]
        },
        {
          "output_type": "stream",
          "name": "stderr",
          "text": [
            "<ipython-input-7-5e25f54b2bf4>:39: FutureWarning: The frame.append method is deprecated and will be removed from pandas in a future version. Use pandas.concat instead.\n",
            "  list_player_info = list_player_info.append(player_info, ignore_index=True)\n",
            "<ipython-input-7-5e25f54b2bf4>:41: FutureWarning: The frame.append method is deprecated and will be removed from pandas in a future version. Use pandas.concat instead.\n",
            "  list_player_khl_stat = list_player_khl_stat.append(player_khl_stat, ignore_index=True)\n"
          ]
        },
        {
          "output_type": "stream",
          "name": "stdout",
          "text": [
            "/players/5524/\n"
          ]
        },
        {
          "output_type": "stream",
          "name": "stderr",
          "text": [
            "<ipython-input-7-5e25f54b2bf4>:39: FutureWarning: The frame.append method is deprecated and will be removed from pandas in a future version. Use pandas.concat instead.\n",
            "  list_player_info = list_player_info.append(player_info, ignore_index=True)\n",
            "<ipython-input-7-5e25f54b2bf4>:41: FutureWarning: The frame.append method is deprecated and will be removed from pandas in a future version. Use pandas.concat instead.\n",
            "  list_player_khl_stat = list_player_khl_stat.append(player_khl_stat, ignore_index=True)\n"
          ]
        },
        {
          "output_type": "stream",
          "name": "stdout",
          "text": [
            "/players/15953/\n"
          ]
        },
        {
          "output_type": "stream",
          "name": "stderr",
          "text": [
            "<ipython-input-7-5e25f54b2bf4>:39: FutureWarning: The frame.append method is deprecated and will be removed from pandas in a future version. Use pandas.concat instead.\n",
            "  list_player_info = list_player_info.append(player_info, ignore_index=True)\n",
            "<ipython-input-7-5e25f54b2bf4>:41: FutureWarning: The frame.append method is deprecated and will be removed from pandas in a future version. Use pandas.concat instead.\n",
            "  list_player_khl_stat = list_player_khl_stat.append(player_khl_stat, ignore_index=True)\n"
          ]
        },
        {
          "output_type": "stream",
          "name": "stdout",
          "text": [
            "/players/23546/\n"
          ]
        },
        {
          "output_type": "stream",
          "name": "stderr",
          "text": [
            "<ipython-input-7-5e25f54b2bf4>:39: FutureWarning: The frame.append method is deprecated and will be removed from pandas in a future version. Use pandas.concat instead.\n",
            "  list_player_info = list_player_info.append(player_info, ignore_index=True)\n",
            "<ipython-input-7-5e25f54b2bf4>:41: FutureWarning: The frame.append method is deprecated and will be removed from pandas in a future version. Use pandas.concat instead.\n",
            "  list_player_khl_stat = list_player_khl_stat.append(player_khl_stat, ignore_index=True)\n"
          ]
        },
        {
          "output_type": "stream",
          "name": "stdout",
          "text": [
            "/players/13031/\n"
          ]
        },
        {
          "output_type": "stream",
          "name": "stderr",
          "text": [
            "<ipython-input-7-5e25f54b2bf4>:39: FutureWarning: The frame.append method is deprecated and will be removed from pandas in a future version. Use pandas.concat instead.\n",
            "  list_player_info = list_player_info.append(player_info, ignore_index=True)\n",
            "<ipython-input-7-5e25f54b2bf4>:41: FutureWarning: The frame.append method is deprecated and will be removed from pandas in a future version. Use pandas.concat instead.\n",
            "  list_player_khl_stat = list_player_khl_stat.append(player_khl_stat, ignore_index=True)\n"
          ]
        },
        {
          "output_type": "stream",
          "name": "stdout",
          "text": [
            "/players/3634/\n"
          ]
        },
        {
          "output_type": "stream",
          "name": "stderr",
          "text": [
            "<ipython-input-7-5e25f54b2bf4>:39: FutureWarning: The frame.append method is deprecated and will be removed from pandas in a future version. Use pandas.concat instead.\n",
            "  list_player_info = list_player_info.append(player_info, ignore_index=True)\n",
            "<ipython-input-7-5e25f54b2bf4>:41: FutureWarning: The frame.append method is deprecated and will be removed from pandas in a future version. Use pandas.concat instead.\n",
            "  list_player_khl_stat = list_player_khl_stat.append(player_khl_stat, ignore_index=True)\n"
          ]
        },
        {
          "output_type": "stream",
          "name": "stdout",
          "text": [
            "/players/21575/\n"
          ]
        },
        {
          "output_type": "stream",
          "name": "stderr",
          "text": [
            "<ipython-input-7-5e25f54b2bf4>:39: FutureWarning: The frame.append method is deprecated and will be removed from pandas in a future version. Use pandas.concat instead.\n",
            "  list_player_info = list_player_info.append(player_info, ignore_index=True)\n",
            "<ipython-input-7-5e25f54b2bf4>:41: FutureWarning: The frame.append method is deprecated and will be removed from pandas in a future version. Use pandas.concat instead.\n",
            "  list_player_khl_stat = list_player_khl_stat.append(player_khl_stat, ignore_index=True)\n"
          ]
        },
        {
          "output_type": "stream",
          "name": "stdout",
          "text": [
            "/players/41990/\n"
          ]
        },
        {
          "output_type": "stream",
          "name": "stderr",
          "text": [
            "<ipython-input-7-5e25f54b2bf4>:39: FutureWarning: The frame.append method is deprecated and will be removed from pandas in a future version. Use pandas.concat instead.\n",
            "  list_player_info = list_player_info.append(player_info, ignore_index=True)\n",
            "<ipython-input-7-5e25f54b2bf4>:41: FutureWarning: The frame.append method is deprecated and will be removed from pandas in a future version. Use pandas.concat instead.\n",
            "  list_player_khl_stat = list_player_khl_stat.append(player_khl_stat, ignore_index=True)\n"
          ]
        },
        {
          "output_type": "stream",
          "name": "stdout",
          "text": [
            "/players/27148/\n"
          ]
        },
        {
          "output_type": "stream",
          "name": "stderr",
          "text": [
            "<ipython-input-7-5e25f54b2bf4>:39: FutureWarning: The frame.append method is deprecated and will be removed from pandas in a future version. Use pandas.concat instead.\n",
            "  list_player_info = list_player_info.append(player_info, ignore_index=True)\n",
            "<ipython-input-7-5e25f54b2bf4>:41: FutureWarning: The frame.append method is deprecated and will be removed from pandas in a future version. Use pandas.concat instead.\n",
            "  list_player_khl_stat = list_player_khl_stat.append(player_khl_stat, ignore_index=True)\n"
          ]
        },
        {
          "output_type": "stream",
          "name": "stdout",
          "text": [
            "/players/22042/\n"
          ]
        },
        {
          "output_type": "stream",
          "name": "stderr",
          "text": [
            "<ipython-input-7-5e25f54b2bf4>:39: FutureWarning: The frame.append method is deprecated and will be removed from pandas in a future version. Use pandas.concat instead.\n",
            "  list_player_info = list_player_info.append(player_info, ignore_index=True)\n",
            "<ipython-input-7-5e25f54b2bf4>:41: FutureWarning: The frame.append method is deprecated and will be removed from pandas in a future version. Use pandas.concat instead.\n",
            "  list_player_khl_stat = list_player_khl_stat.append(player_khl_stat, ignore_index=True)\n"
          ]
        },
        {
          "output_type": "stream",
          "name": "stdout",
          "text": [
            "/players/30189/\n"
          ]
        },
        {
          "output_type": "stream",
          "name": "stderr",
          "text": [
            "<ipython-input-7-5e25f54b2bf4>:39: FutureWarning: The frame.append method is deprecated and will be removed from pandas in a future version. Use pandas.concat instead.\n",
            "  list_player_info = list_player_info.append(player_info, ignore_index=True)\n",
            "<ipython-input-7-5e25f54b2bf4>:41: FutureWarning: The frame.append method is deprecated and will be removed from pandas in a future version. Use pandas.concat instead.\n",
            "  list_player_khl_stat = list_player_khl_stat.append(player_khl_stat, ignore_index=True)\n"
          ]
        },
        {
          "output_type": "stream",
          "name": "stdout",
          "text": [
            "/players/17740/\n"
          ]
        },
        {
          "output_type": "stream",
          "name": "stderr",
          "text": [
            "<ipython-input-7-5e25f54b2bf4>:39: FutureWarning: The frame.append method is deprecated and will be removed from pandas in a future version. Use pandas.concat instead.\n",
            "  list_player_info = list_player_info.append(player_info, ignore_index=True)\n",
            "<ipython-input-7-5e25f54b2bf4>:41: FutureWarning: The frame.append method is deprecated and will be removed from pandas in a future version. Use pandas.concat instead.\n",
            "  list_player_khl_stat = list_player_khl_stat.append(player_khl_stat, ignore_index=True)\n"
          ]
        },
        {
          "output_type": "stream",
          "name": "stdout",
          "text": [
            "/players/14136/\n"
          ]
        },
        {
          "output_type": "stream",
          "name": "stderr",
          "text": [
            "<ipython-input-7-5e25f54b2bf4>:39: FutureWarning: The frame.append method is deprecated and will be removed from pandas in a future version. Use pandas.concat instead.\n",
            "  list_player_info = list_player_info.append(player_info, ignore_index=True)\n",
            "<ipython-input-7-5e25f54b2bf4>:41: FutureWarning: The frame.append method is deprecated and will be removed from pandas in a future version. Use pandas.concat instead.\n",
            "  list_player_khl_stat = list_player_khl_stat.append(player_khl_stat, ignore_index=True)\n"
          ]
        },
        {
          "output_type": "stream",
          "name": "stdout",
          "text": [
            "/players/23476/\n"
          ]
        },
        {
          "output_type": "stream",
          "name": "stderr",
          "text": [
            "<ipython-input-7-5e25f54b2bf4>:39: FutureWarning: The frame.append method is deprecated and will be removed from pandas in a future version. Use pandas.concat instead.\n",
            "  list_player_info = list_player_info.append(player_info, ignore_index=True)\n",
            "<ipython-input-7-5e25f54b2bf4>:41: FutureWarning: The frame.append method is deprecated and will be removed from pandas in a future version. Use pandas.concat instead.\n",
            "  list_player_khl_stat = list_player_khl_stat.append(player_khl_stat, ignore_index=True)\n"
          ]
        },
        {
          "output_type": "stream",
          "name": "stdout",
          "text": [
            "/players/23618/\n"
          ]
        },
        {
          "output_type": "stream",
          "name": "stderr",
          "text": [
            "<ipython-input-7-5e25f54b2bf4>:39: FutureWarning: The frame.append method is deprecated and will be removed from pandas in a future version. Use pandas.concat instead.\n",
            "  list_player_info = list_player_info.append(player_info, ignore_index=True)\n",
            "<ipython-input-7-5e25f54b2bf4>:41: FutureWarning: The frame.append method is deprecated and will be removed from pandas in a future version. Use pandas.concat instead.\n",
            "  list_player_khl_stat = list_player_khl_stat.append(player_khl_stat, ignore_index=True)\n"
          ]
        },
        {
          "output_type": "stream",
          "name": "stdout",
          "text": [
            "/players/494/\n"
          ]
        },
        {
          "output_type": "stream",
          "name": "stderr",
          "text": [
            "<ipython-input-7-5e25f54b2bf4>:39: FutureWarning: The frame.append method is deprecated and will be removed from pandas in a future version. Use pandas.concat instead.\n",
            "  list_player_info = list_player_info.append(player_info, ignore_index=True)\n",
            "<ipython-input-7-5e25f54b2bf4>:41: FutureWarning: The frame.append method is deprecated and will be removed from pandas in a future version. Use pandas.concat instead.\n",
            "  list_player_khl_stat = list_player_khl_stat.append(player_khl_stat, ignore_index=True)\n"
          ]
        },
        {
          "output_type": "stream",
          "name": "stdout",
          "text": [
            "/players/16687/\n"
          ]
        },
        {
          "output_type": "stream",
          "name": "stderr",
          "text": [
            "<ipython-input-7-5e25f54b2bf4>:39: FutureWarning: The frame.append method is deprecated and will be removed from pandas in a future version. Use pandas.concat instead.\n",
            "  list_player_info = list_player_info.append(player_info, ignore_index=True)\n",
            "<ipython-input-7-5e25f54b2bf4>:41: FutureWarning: The frame.append method is deprecated and will be removed from pandas in a future version. Use pandas.concat instead.\n",
            "  list_player_khl_stat = list_player_khl_stat.append(player_khl_stat, ignore_index=True)\n"
          ]
        },
        {
          "output_type": "stream",
          "name": "stdout",
          "text": [
            "/players/32987/\n"
          ]
        },
        {
          "output_type": "stream",
          "name": "stderr",
          "text": [
            "<ipython-input-7-5e25f54b2bf4>:39: FutureWarning: The frame.append method is deprecated and will be removed from pandas in a future version. Use pandas.concat instead.\n",
            "  list_player_info = list_player_info.append(player_info, ignore_index=True)\n",
            "<ipython-input-7-5e25f54b2bf4>:41: FutureWarning: The frame.append method is deprecated and will be removed from pandas in a future version. Use pandas.concat instead.\n",
            "  list_player_khl_stat = list_player_khl_stat.append(player_khl_stat, ignore_index=True)\n"
          ]
        },
        {
          "output_type": "stream",
          "name": "stdout",
          "text": [
            "/players/14737/\n"
          ]
        },
        {
          "output_type": "stream",
          "name": "stderr",
          "text": [
            "<ipython-input-7-5e25f54b2bf4>:39: FutureWarning: The frame.append method is deprecated and will be removed from pandas in a future version. Use pandas.concat instead.\n",
            "  list_player_info = list_player_info.append(player_info, ignore_index=True)\n",
            "<ipython-input-7-5e25f54b2bf4>:41: FutureWarning: The frame.append method is deprecated and will be removed from pandas in a future version. Use pandas.concat instead.\n",
            "  list_player_khl_stat = list_player_khl_stat.append(player_khl_stat, ignore_index=True)\n"
          ]
        },
        {
          "output_type": "stream",
          "name": "stdout",
          "text": [
            "/players/16178/\n"
          ]
        },
        {
          "output_type": "stream",
          "name": "stderr",
          "text": [
            "<ipython-input-7-5e25f54b2bf4>:39: FutureWarning: The frame.append method is deprecated and will be removed from pandas in a future version. Use pandas.concat instead.\n",
            "  list_player_info = list_player_info.append(player_info, ignore_index=True)\n",
            "<ipython-input-7-5e25f54b2bf4>:41: FutureWarning: The frame.append method is deprecated and will be removed from pandas in a future version. Use pandas.concat instead.\n",
            "  list_player_khl_stat = list_player_khl_stat.append(player_khl_stat, ignore_index=True)\n"
          ]
        },
        {
          "output_type": "stream",
          "name": "stdout",
          "text": [
            "/players/17663/\n"
          ]
        },
        {
          "output_type": "stream",
          "name": "stderr",
          "text": [
            "<ipython-input-7-5e25f54b2bf4>:39: FutureWarning: The frame.append method is deprecated and will be removed from pandas in a future version. Use pandas.concat instead.\n",
            "  list_player_info = list_player_info.append(player_info, ignore_index=True)\n",
            "<ipython-input-7-5e25f54b2bf4>:41: FutureWarning: The frame.append method is deprecated and will be removed from pandas in a future version. Use pandas.concat instead.\n",
            "  list_player_khl_stat = list_player_khl_stat.append(player_khl_stat, ignore_index=True)\n"
          ]
        },
        {
          "output_type": "stream",
          "name": "stdout",
          "text": [
            "/players/4499/\n"
          ]
        },
        {
          "output_type": "stream",
          "name": "stderr",
          "text": [
            "<ipython-input-7-5e25f54b2bf4>:39: FutureWarning: The frame.append method is deprecated and will be removed from pandas in a future version. Use pandas.concat instead.\n",
            "  list_player_info = list_player_info.append(player_info, ignore_index=True)\n",
            "<ipython-input-7-5e25f54b2bf4>:41: FutureWarning: The frame.append method is deprecated and will be removed from pandas in a future version. Use pandas.concat instead.\n",
            "  list_player_khl_stat = list_player_khl_stat.append(player_khl_stat, ignore_index=True)\n"
          ]
        },
        {
          "output_type": "stream",
          "name": "stdout",
          "text": [
            "/players/10894/\n"
          ]
        },
        {
          "output_type": "stream",
          "name": "stderr",
          "text": [
            "<ipython-input-7-5e25f54b2bf4>:39: FutureWarning: The frame.append method is deprecated and will be removed from pandas in a future version. Use pandas.concat instead.\n",
            "  list_player_info = list_player_info.append(player_info, ignore_index=True)\n",
            "<ipython-input-7-5e25f54b2bf4>:41: FutureWarning: The frame.append method is deprecated and will be removed from pandas in a future version. Use pandas.concat instead.\n",
            "  list_player_khl_stat = list_player_khl_stat.append(player_khl_stat, ignore_index=True)\n"
          ]
        },
        {
          "output_type": "stream",
          "name": "stdout",
          "text": [
            "/players/18971/\n"
          ]
        },
        {
          "output_type": "stream",
          "name": "stderr",
          "text": [
            "<ipython-input-7-5e25f54b2bf4>:39: FutureWarning: The frame.append method is deprecated and will be removed from pandas in a future version. Use pandas.concat instead.\n",
            "  list_player_info = list_player_info.append(player_info, ignore_index=True)\n",
            "<ipython-input-7-5e25f54b2bf4>:41: FutureWarning: The frame.append method is deprecated and will be removed from pandas in a future version. Use pandas.concat instead.\n",
            "  list_player_khl_stat = list_player_khl_stat.append(player_khl_stat, ignore_index=True)\n"
          ]
        },
        {
          "output_type": "stream",
          "name": "stdout",
          "text": [
            "/players/15872/\n"
          ]
        },
        {
          "output_type": "stream",
          "name": "stderr",
          "text": [
            "<ipython-input-7-5e25f54b2bf4>:39: FutureWarning: The frame.append method is deprecated and will be removed from pandas in a future version. Use pandas.concat instead.\n",
            "  list_player_info = list_player_info.append(player_info, ignore_index=True)\n",
            "<ipython-input-7-5e25f54b2bf4>:41: FutureWarning: The frame.append method is deprecated and will be removed from pandas in a future version. Use pandas.concat instead.\n",
            "  list_player_khl_stat = list_player_khl_stat.append(player_khl_stat, ignore_index=True)\n"
          ]
        },
        {
          "output_type": "stream",
          "name": "stdout",
          "text": [
            "/players/35018/\n"
          ]
        },
        {
          "output_type": "stream",
          "name": "stderr",
          "text": [
            "<ipython-input-7-5e25f54b2bf4>:39: FutureWarning: The frame.append method is deprecated and will be removed from pandas in a future version. Use pandas.concat instead.\n",
            "  list_player_info = list_player_info.append(player_info, ignore_index=True)\n",
            "<ipython-input-7-5e25f54b2bf4>:41: FutureWarning: The frame.append method is deprecated and will be removed from pandas in a future version. Use pandas.concat instead.\n",
            "  list_player_khl_stat = list_player_khl_stat.append(player_khl_stat, ignore_index=True)\n"
          ]
        },
        {
          "output_type": "stream",
          "name": "stdout",
          "text": [
            "/players/19637/\n"
          ]
        },
        {
          "output_type": "stream",
          "name": "stderr",
          "text": [
            "<ipython-input-7-5e25f54b2bf4>:39: FutureWarning: The frame.append method is deprecated and will be removed from pandas in a future version. Use pandas.concat instead.\n",
            "  list_player_info = list_player_info.append(player_info, ignore_index=True)\n",
            "<ipython-input-7-5e25f54b2bf4>:41: FutureWarning: The frame.append method is deprecated and will be removed from pandas in a future version. Use pandas.concat instead.\n",
            "  list_player_khl_stat = list_player_khl_stat.append(player_khl_stat, ignore_index=True)\n"
          ]
        },
        {
          "output_type": "stream",
          "name": "stdout",
          "text": [
            "/players/15209/\n"
          ]
        },
        {
          "output_type": "stream",
          "name": "stderr",
          "text": [
            "<ipython-input-7-5e25f54b2bf4>:39: FutureWarning: The frame.append method is deprecated and will be removed from pandas in a future version. Use pandas.concat instead.\n",
            "  list_player_info = list_player_info.append(player_info, ignore_index=True)\n",
            "<ipython-input-7-5e25f54b2bf4>:41: FutureWarning: The frame.append method is deprecated and will be removed from pandas in a future version. Use pandas.concat instead.\n",
            "  list_player_khl_stat = list_player_khl_stat.append(player_khl_stat, ignore_index=True)\n"
          ]
        },
        {
          "output_type": "stream",
          "name": "stdout",
          "text": [
            "/players/496/\n"
          ]
        },
        {
          "output_type": "stream",
          "name": "stderr",
          "text": [
            "<ipython-input-7-5e25f54b2bf4>:39: FutureWarning: The frame.append method is deprecated and will be removed from pandas in a future version. Use pandas.concat instead.\n",
            "  list_player_info = list_player_info.append(player_info, ignore_index=True)\n",
            "<ipython-input-7-5e25f54b2bf4>:41: FutureWarning: The frame.append method is deprecated and will be removed from pandas in a future version. Use pandas.concat instead.\n",
            "  list_player_khl_stat = list_player_khl_stat.append(player_khl_stat, ignore_index=True)\n"
          ]
        },
        {
          "output_type": "stream",
          "name": "stdout",
          "text": [
            "/players/3641/\n"
          ]
        },
        {
          "output_type": "stream",
          "name": "stderr",
          "text": [
            "<ipython-input-7-5e25f54b2bf4>:39: FutureWarning: The frame.append method is deprecated and will be removed from pandas in a future version. Use pandas.concat instead.\n",
            "  list_player_info = list_player_info.append(player_info, ignore_index=True)\n",
            "<ipython-input-7-5e25f54b2bf4>:41: FutureWarning: The frame.append method is deprecated and will be removed from pandas in a future version. Use pandas.concat instead.\n",
            "  list_player_khl_stat = list_player_khl_stat.append(player_khl_stat, ignore_index=True)\n"
          ]
        },
        {
          "output_type": "stream",
          "name": "stdout",
          "text": [
            "/players/17954/\n"
          ]
        },
        {
          "output_type": "stream",
          "name": "stderr",
          "text": [
            "<ipython-input-7-5e25f54b2bf4>:39: FutureWarning: The frame.append method is deprecated and will be removed from pandas in a future version. Use pandas.concat instead.\n",
            "  list_player_info = list_player_info.append(player_info, ignore_index=True)\n",
            "<ipython-input-7-5e25f54b2bf4>:41: FutureWarning: The frame.append method is deprecated and will be removed from pandas in a future version. Use pandas.concat instead.\n",
            "  list_player_khl_stat = list_player_khl_stat.append(player_khl_stat, ignore_index=True)\n"
          ]
        },
        {
          "output_type": "stream",
          "name": "stdout",
          "text": [
            "/players/15141/\n"
          ]
        },
        {
          "output_type": "stream",
          "name": "stderr",
          "text": [
            "<ipython-input-7-5e25f54b2bf4>:39: FutureWarning: The frame.append method is deprecated and will be removed from pandas in a future version. Use pandas.concat instead.\n",
            "  list_player_info = list_player_info.append(player_info, ignore_index=True)\n",
            "<ipython-input-7-5e25f54b2bf4>:41: FutureWarning: The frame.append method is deprecated and will be removed from pandas in a future version. Use pandas.concat instead.\n",
            "  list_player_khl_stat = list_player_khl_stat.append(player_khl_stat, ignore_index=True)\n"
          ]
        },
        {
          "output_type": "stream",
          "name": "stdout",
          "text": [
            "/players/16087/\n"
          ]
        },
        {
          "output_type": "stream",
          "name": "stderr",
          "text": [
            "<ipython-input-7-5e25f54b2bf4>:39: FutureWarning: The frame.append method is deprecated and will be removed from pandas in a future version. Use pandas.concat instead.\n",
            "  list_player_info = list_player_info.append(player_info, ignore_index=True)\n",
            "<ipython-input-7-5e25f54b2bf4>:41: FutureWarning: The frame.append method is deprecated and will be removed from pandas in a future version. Use pandas.concat instead.\n",
            "  list_player_khl_stat = list_player_khl_stat.append(player_khl_stat, ignore_index=True)\n"
          ]
        },
        {
          "output_type": "stream",
          "name": "stdout",
          "text": [
            "/players/23638/\n"
          ]
        },
        {
          "output_type": "stream",
          "name": "stderr",
          "text": [
            "<ipython-input-7-5e25f54b2bf4>:39: FutureWarning: The frame.append method is deprecated and will be removed from pandas in a future version. Use pandas.concat instead.\n",
            "  list_player_info = list_player_info.append(player_info, ignore_index=True)\n",
            "<ipython-input-7-5e25f54b2bf4>:41: FutureWarning: The frame.append method is deprecated and will be removed from pandas in a future version. Use pandas.concat instead.\n",
            "  list_player_khl_stat = list_player_khl_stat.append(player_khl_stat, ignore_index=True)\n"
          ]
        },
        {
          "output_type": "stream",
          "name": "stdout",
          "text": [
            "/players/17845/\n"
          ]
        },
        {
          "output_type": "stream",
          "name": "stderr",
          "text": [
            "<ipython-input-7-5e25f54b2bf4>:39: FutureWarning: The frame.append method is deprecated and will be removed from pandas in a future version. Use pandas.concat instead.\n",
            "  list_player_info = list_player_info.append(player_info, ignore_index=True)\n",
            "<ipython-input-7-5e25f54b2bf4>:41: FutureWarning: The frame.append method is deprecated and will be removed from pandas in a future version. Use pandas.concat instead.\n",
            "  list_player_khl_stat = list_player_khl_stat.append(player_khl_stat, ignore_index=True)\n"
          ]
        },
        {
          "output_type": "stream",
          "name": "stdout",
          "text": [
            "/players/20190/\n"
          ]
        },
        {
          "output_type": "stream",
          "name": "stderr",
          "text": [
            "<ipython-input-7-5e25f54b2bf4>:39: FutureWarning: The frame.append method is deprecated and will be removed from pandas in a future version. Use pandas.concat instead.\n",
            "  list_player_info = list_player_info.append(player_info, ignore_index=True)\n",
            "<ipython-input-7-5e25f54b2bf4>:41: FutureWarning: The frame.append method is deprecated and will be removed from pandas in a future version. Use pandas.concat instead.\n",
            "  list_player_khl_stat = list_player_khl_stat.append(player_khl_stat, ignore_index=True)\n"
          ]
        },
        {
          "output_type": "stream",
          "name": "stdout",
          "text": [
            "/players/39150/\n"
          ]
        },
        {
          "output_type": "stream",
          "name": "stderr",
          "text": [
            "<ipython-input-7-5e25f54b2bf4>:39: FutureWarning: The frame.append method is deprecated and will be removed from pandas in a future version. Use pandas.concat instead.\n",
            "  list_player_info = list_player_info.append(player_info, ignore_index=True)\n",
            "<ipython-input-7-5e25f54b2bf4>:41: FutureWarning: The frame.append method is deprecated and will be removed from pandas in a future version. Use pandas.concat instead.\n",
            "  list_player_khl_stat = list_player_khl_stat.append(player_khl_stat, ignore_index=True)\n"
          ]
        },
        {
          "output_type": "stream",
          "name": "stdout",
          "text": [
            "/players/31190/\n"
          ]
        },
        {
          "output_type": "stream",
          "name": "stderr",
          "text": [
            "<ipython-input-7-5e25f54b2bf4>:39: FutureWarning: The frame.append method is deprecated and will be removed from pandas in a future version. Use pandas.concat instead.\n",
            "  list_player_info = list_player_info.append(player_info, ignore_index=True)\n",
            "<ipython-input-7-5e25f54b2bf4>:41: FutureWarning: The frame.append method is deprecated and will be removed from pandas in a future version. Use pandas.concat instead.\n",
            "  list_player_khl_stat = list_player_khl_stat.append(player_khl_stat, ignore_index=True)\n"
          ]
        },
        {
          "output_type": "stream",
          "name": "stdout",
          "text": [
            "/players/27840/\n"
          ]
        },
        {
          "output_type": "stream",
          "name": "stderr",
          "text": [
            "<ipython-input-7-5e25f54b2bf4>:39: FutureWarning: The frame.append method is deprecated and will be removed from pandas in a future version. Use pandas.concat instead.\n",
            "  list_player_info = list_player_info.append(player_info, ignore_index=True)\n",
            "<ipython-input-7-5e25f54b2bf4>:41: FutureWarning: The frame.append method is deprecated and will be removed from pandas in a future version. Use pandas.concat instead.\n",
            "  list_player_khl_stat = list_player_khl_stat.append(player_khl_stat, ignore_index=True)\n"
          ]
        },
        {
          "output_type": "stream",
          "name": "stdout",
          "text": [
            "/players/31418/\n"
          ]
        },
        {
          "output_type": "stream",
          "name": "stderr",
          "text": [
            "<ipython-input-7-5e25f54b2bf4>:39: FutureWarning: The frame.append method is deprecated and will be removed from pandas in a future version. Use pandas.concat instead.\n",
            "  list_player_info = list_player_info.append(player_info, ignore_index=True)\n",
            "<ipython-input-7-5e25f54b2bf4>:41: FutureWarning: The frame.append method is deprecated and will be removed from pandas in a future version. Use pandas.concat instead.\n",
            "  list_player_khl_stat = list_player_khl_stat.append(player_khl_stat, ignore_index=True)\n"
          ]
        },
        {
          "output_type": "stream",
          "name": "stdout",
          "text": [
            "/players/22987/\n"
          ]
        },
        {
          "output_type": "stream",
          "name": "stderr",
          "text": [
            "<ipython-input-7-5e25f54b2bf4>:39: FutureWarning: The frame.append method is deprecated and will be removed from pandas in a future version. Use pandas.concat instead.\n",
            "  list_player_info = list_player_info.append(player_info, ignore_index=True)\n",
            "<ipython-input-7-5e25f54b2bf4>:41: FutureWarning: The frame.append method is deprecated and will be removed from pandas in a future version. Use pandas.concat instead.\n",
            "  list_player_khl_stat = list_player_khl_stat.append(player_khl_stat, ignore_index=True)\n"
          ]
        },
        {
          "output_type": "stream",
          "name": "stdout",
          "text": [
            "/players/16386/\n"
          ]
        },
        {
          "output_type": "stream",
          "name": "stderr",
          "text": [
            "<ipython-input-7-5e25f54b2bf4>:39: FutureWarning: The frame.append method is deprecated and will be removed from pandas in a future version. Use pandas.concat instead.\n",
            "  list_player_info = list_player_info.append(player_info, ignore_index=True)\n",
            "<ipython-input-7-5e25f54b2bf4>:41: FutureWarning: The frame.append method is deprecated and will be removed from pandas in a future version. Use pandas.concat instead.\n",
            "  list_player_khl_stat = list_player_khl_stat.append(player_khl_stat, ignore_index=True)\n"
          ]
        },
        {
          "output_type": "stream",
          "name": "stdout",
          "text": [
            "/players/19705/\n"
          ]
        },
        {
          "output_type": "stream",
          "name": "stderr",
          "text": [
            "<ipython-input-7-5e25f54b2bf4>:39: FutureWarning: The frame.append method is deprecated and will be removed from pandas in a future version. Use pandas.concat instead.\n",
            "  list_player_info = list_player_info.append(player_info, ignore_index=True)\n",
            "<ipython-input-7-5e25f54b2bf4>:41: FutureWarning: The frame.append method is deprecated and will be removed from pandas in a future version. Use pandas.concat instead.\n",
            "  list_player_khl_stat = list_player_khl_stat.append(player_khl_stat, ignore_index=True)\n"
          ]
        },
        {
          "output_type": "stream",
          "name": "stdout",
          "text": [
            "/players/25282/\n"
          ]
        },
        {
          "output_type": "stream",
          "name": "stderr",
          "text": [
            "<ipython-input-7-5e25f54b2bf4>:39: FutureWarning: The frame.append method is deprecated and will be removed from pandas in a future version. Use pandas.concat instead.\n",
            "  list_player_info = list_player_info.append(player_info, ignore_index=True)\n",
            "<ipython-input-7-5e25f54b2bf4>:41: FutureWarning: The frame.append method is deprecated and will be removed from pandas in a future version. Use pandas.concat instead.\n",
            "  list_player_khl_stat = list_player_khl_stat.append(player_khl_stat, ignore_index=True)\n"
          ]
        },
        {
          "output_type": "stream",
          "name": "stdout",
          "text": [
            "/players/24912/\n"
          ]
        },
        {
          "output_type": "stream",
          "name": "stderr",
          "text": [
            "<ipython-input-7-5e25f54b2bf4>:39: FutureWarning: The frame.append method is deprecated and will be removed from pandas in a future version. Use pandas.concat instead.\n",
            "  list_player_info = list_player_info.append(player_info, ignore_index=True)\n",
            "<ipython-input-7-5e25f54b2bf4>:41: FutureWarning: The frame.append method is deprecated and will be removed from pandas in a future version. Use pandas.concat instead.\n",
            "  list_player_khl_stat = list_player_khl_stat.append(player_khl_stat, ignore_index=True)\n"
          ]
        },
        {
          "output_type": "stream",
          "name": "stdout",
          "text": [
            "/players/9463/\n"
          ]
        },
        {
          "output_type": "stream",
          "name": "stderr",
          "text": [
            "<ipython-input-7-5e25f54b2bf4>:39: FutureWarning: The frame.append method is deprecated and will be removed from pandas in a future version. Use pandas.concat instead.\n",
            "  list_player_info = list_player_info.append(player_info, ignore_index=True)\n",
            "<ipython-input-7-5e25f54b2bf4>:41: FutureWarning: The frame.append method is deprecated and will be removed from pandas in a future version. Use pandas.concat instead.\n",
            "  list_player_khl_stat = list_player_khl_stat.append(player_khl_stat, ignore_index=True)\n"
          ]
        },
        {
          "output_type": "stream",
          "name": "stdout",
          "text": [
            "/players/21163/\n"
          ]
        },
        {
          "output_type": "stream",
          "name": "stderr",
          "text": [
            "<ipython-input-7-5e25f54b2bf4>:39: FutureWarning: The frame.append method is deprecated and will be removed from pandas in a future version. Use pandas.concat instead.\n",
            "  list_player_info = list_player_info.append(player_info, ignore_index=True)\n",
            "<ipython-input-7-5e25f54b2bf4>:41: FutureWarning: The frame.append method is deprecated and will be removed from pandas in a future version. Use pandas.concat instead.\n",
            "  list_player_khl_stat = list_player_khl_stat.append(player_khl_stat, ignore_index=True)\n"
          ]
        },
        {
          "output_type": "stream",
          "name": "stdout",
          "text": [
            "/players/22350/\n"
          ]
        },
        {
          "output_type": "stream",
          "name": "stderr",
          "text": [
            "<ipython-input-7-5e25f54b2bf4>:39: FutureWarning: The frame.append method is deprecated and will be removed from pandas in a future version. Use pandas.concat instead.\n",
            "  list_player_info = list_player_info.append(player_info, ignore_index=True)\n",
            "<ipython-input-7-5e25f54b2bf4>:41: FutureWarning: The frame.append method is deprecated and will be removed from pandas in a future version. Use pandas.concat instead.\n",
            "  list_player_khl_stat = list_player_khl_stat.append(player_khl_stat, ignore_index=True)\n"
          ]
        },
        {
          "output_type": "stream",
          "name": "stdout",
          "text": [
            "/players/18250/\n"
          ]
        },
        {
          "output_type": "stream",
          "name": "stderr",
          "text": [
            "<ipython-input-7-5e25f54b2bf4>:39: FutureWarning: The frame.append method is deprecated and will be removed from pandas in a future version. Use pandas.concat instead.\n",
            "  list_player_info = list_player_info.append(player_info, ignore_index=True)\n",
            "<ipython-input-7-5e25f54b2bf4>:41: FutureWarning: The frame.append method is deprecated and will be removed from pandas in a future version. Use pandas.concat instead.\n",
            "  list_player_khl_stat = list_player_khl_stat.append(player_khl_stat, ignore_index=True)\n"
          ]
        },
        {
          "output_type": "stream",
          "name": "stdout",
          "text": [
            "/players/16464/\n"
          ]
        },
        {
          "output_type": "stream",
          "name": "stderr",
          "text": [
            "<ipython-input-7-5e25f54b2bf4>:39: FutureWarning: The frame.append method is deprecated and will be removed from pandas in a future version. Use pandas.concat instead.\n",
            "  list_player_info = list_player_info.append(player_info, ignore_index=True)\n",
            "<ipython-input-7-5e25f54b2bf4>:41: FutureWarning: The frame.append method is deprecated and will be removed from pandas in a future version. Use pandas.concat instead.\n",
            "  list_player_khl_stat = list_player_khl_stat.append(player_khl_stat, ignore_index=True)\n"
          ]
        },
        {
          "output_type": "stream",
          "name": "stdout",
          "text": [
            "/players/25096/\n"
          ]
        },
        {
          "output_type": "stream",
          "name": "stderr",
          "text": [
            "<ipython-input-7-5e25f54b2bf4>:39: FutureWarning: The frame.append method is deprecated and will be removed from pandas in a future version. Use pandas.concat instead.\n",
            "  list_player_info = list_player_info.append(player_info, ignore_index=True)\n",
            "<ipython-input-7-5e25f54b2bf4>:41: FutureWarning: The frame.append method is deprecated and will be removed from pandas in a future version. Use pandas.concat instead.\n",
            "  list_player_khl_stat = list_player_khl_stat.append(player_khl_stat, ignore_index=True)\n"
          ]
        },
        {
          "output_type": "stream",
          "name": "stdout",
          "text": [
            "/players/24706/\n"
          ]
        },
        {
          "output_type": "stream",
          "name": "stderr",
          "text": [
            "<ipython-input-7-5e25f54b2bf4>:39: FutureWarning: The frame.append method is deprecated and will be removed from pandas in a future version. Use pandas.concat instead.\n",
            "  list_player_info = list_player_info.append(player_info, ignore_index=True)\n",
            "<ipython-input-7-5e25f54b2bf4>:41: FutureWarning: The frame.append method is deprecated and will be removed from pandas in a future version. Use pandas.concat instead.\n",
            "  list_player_khl_stat = list_player_khl_stat.append(player_khl_stat, ignore_index=True)\n"
          ]
        },
        {
          "output_type": "stream",
          "name": "stdout",
          "text": [
            "/players/34511/\n"
          ]
        },
        {
          "output_type": "stream",
          "name": "stderr",
          "text": [
            "<ipython-input-7-5e25f54b2bf4>:39: FutureWarning: The frame.append method is deprecated and will be removed from pandas in a future version. Use pandas.concat instead.\n",
            "  list_player_info = list_player_info.append(player_info, ignore_index=True)\n",
            "<ipython-input-7-5e25f54b2bf4>:41: FutureWarning: The frame.append method is deprecated and will be removed from pandas in a future version. Use pandas.concat instead.\n",
            "  list_player_khl_stat = list_player_khl_stat.append(player_khl_stat, ignore_index=True)\n"
          ]
        },
        {
          "output_type": "stream",
          "name": "stdout",
          "text": [
            "/players/30665/\n"
          ]
        },
        {
          "output_type": "stream",
          "name": "stderr",
          "text": [
            "<ipython-input-7-5e25f54b2bf4>:39: FutureWarning: The frame.append method is deprecated and will be removed from pandas in a future version. Use pandas.concat instead.\n",
            "  list_player_info = list_player_info.append(player_info, ignore_index=True)\n",
            "<ipython-input-7-5e25f54b2bf4>:41: FutureWarning: The frame.append method is deprecated and will be removed from pandas in a future version. Use pandas.concat instead.\n",
            "  list_player_khl_stat = list_player_khl_stat.append(player_khl_stat, ignore_index=True)\n"
          ]
        },
        {
          "output_type": "stream",
          "name": "stdout",
          "text": [
            "/players/13149/\n"
          ]
        },
        {
          "output_type": "stream",
          "name": "stderr",
          "text": [
            "<ipython-input-7-5e25f54b2bf4>:39: FutureWarning: The frame.append method is deprecated and will be removed from pandas in a future version. Use pandas.concat instead.\n",
            "  list_player_info = list_player_info.append(player_info, ignore_index=True)\n",
            "<ipython-input-7-5e25f54b2bf4>:41: FutureWarning: The frame.append method is deprecated and will be removed from pandas in a future version. Use pandas.concat instead.\n",
            "  list_player_khl_stat = list_player_khl_stat.append(player_khl_stat, ignore_index=True)\n"
          ]
        },
        {
          "output_type": "stream",
          "name": "stdout",
          "text": [
            "/players/17846/\n"
          ]
        },
        {
          "output_type": "stream",
          "name": "stderr",
          "text": [
            "<ipython-input-7-5e25f54b2bf4>:39: FutureWarning: The frame.append method is deprecated and will be removed from pandas in a future version. Use pandas.concat instead.\n",
            "  list_player_info = list_player_info.append(player_info, ignore_index=True)\n",
            "<ipython-input-7-5e25f54b2bf4>:41: FutureWarning: The frame.append method is deprecated and will be removed from pandas in a future version. Use pandas.concat instead.\n",
            "  list_player_khl_stat = list_player_khl_stat.append(player_khl_stat, ignore_index=True)\n"
          ]
        },
        {
          "output_type": "stream",
          "name": "stdout",
          "text": [
            "/players/17795/\n"
          ]
        },
        {
          "output_type": "stream",
          "name": "stderr",
          "text": [
            "<ipython-input-7-5e25f54b2bf4>:39: FutureWarning: The frame.append method is deprecated and will be removed from pandas in a future version. Use pandas.concat instead.\n",
            "  list_player_info = list_player_info.append(player_info, ignore_index=True)\n",
            "<ipython-input-7-5e25f54b2bf4>:41: FutureWarning: The frame.append method is deprecated and will be removed from pandas in a future version. Use pandas.concat instead.\n",
            "  list_player_khl_stat = list_player_khl_stat.append(player_khl_stat, ignore_index=True)\n"
          ]
        },
        {
          "output_type": "stream",
          "name": "stdout",
          "text": [
            "/players/21499/\n"
          ]
        },
        {
          "output_type": "stream",
          "name": "stderr",
          "text": [
            "<ipython-input-7-5e25f54b2bf4>:39: FutureWarning: The frame.append method is deprecated and will be removed from pandas in a future version. Use pandas.concat instead.\n",
            "  list_player_info = list_player_info.append(player_info, ignore_index=True)\n",
            "<ipython-input-7-5e25f54b2bf4>:41: FutureWarning: The frame.append method is deprecated and will be removed from pandas in a future version. Use pandas.concat instead.\n",
            "  list_player_khl_stat = list_player_khl_stat.append(player_khl_stat, ignore_index=True)\n"
          ]
        },
        {
          "output_type": "stream",
          "name": "stdout",
          "text": [
            "/players/20742/\n"
          ]
        },
        {
          "output_type": "stream",
          "name": "stderr",
          "text": [
            "<ipython-input-7-5e25f54b2bf4>:39: FutureWarning: The frame.append method is deprecated and will be removed from pandas in a future version. Use pandas.concat instead.\n",
            "  list_player_info = list_player_info.append(player_info, ignore_index=True)\n",
            "<ipython-input-7-5e25f54b2bf4>:41: FutureWarning: The frame.append method is deprecated and will be removed from pandas in a future version. Use pandas.concat instead.\n",
            "  list_player_khl_stat = list_player_khl_stat.append(player_khl_stat, ignore_index=True)\n"
          ]
        },
        {
          "output_type": "stream",
          "name": "stdout",
          "text": [
            "/players/16526/\n"
          ]
        },
        {
          "output_type": "stream",
          "name": "stderr",
          "text": [
            "<ipython-input-7-5e25f54b2bf4>:39: FutureWarning: The frame.append method is deprecated and will be removed from pandas in a future version. Use pandas.concat instead.\n",
            "  list_player_info = list_player_info.append(player_info, ignore_index=True)\n",
            "<ipython-input-7-5e25f54b2bf4>:41: FutureWarning: The frame.append method is deprecated and will be removed from pandas in a future version. Use pandas.concat instead.\n",
            "  list_player_khl_stat = list_player_khl_stat.append(player_khl_stat, ignore_index=True)\n"
          ]
        },
        {
          "output_type": "stream",
          "name": "stdout",
          "text": [
            "/players/22357/\n"
          ]
        },
        {
          "output_type": "stream",
          "name": "stderr",
          "text": [
            "<ipython-input-7-5e25f54b2bf4>:39: FutureWarning: The frame.append method is deprecated and will be removed from pandas in a future version. Use pandas.concat instead.\n",
            "  list_player_info = list_player_info.append(player_info, ignore_index=True)\n",
            "<ipython-input-7-5e25f54b2bf4>:41: FutureWarning: The frame.append method is deprecated and will be removed from pandas in a future version. Use pandas.concat instead.\n",
            "  list_player_khl_stat = list_player_khl_stat.append(player_khl_stat, ignore_index=True)\n"
          ]
        },
        {
          "output_type": "stream",
          "name": "stdout",
          "text": [
            "/players/20189/\n"
          ]
        },
        {
          "output_type": "stream",
          "name": "stderr",
          "text": [
            "<ipython-input-7-5e25f54b2bf4>:39: FutureWarning: The frame.append method is deprecated and will be removed from pandas in a future version. Use pandas.concat instead.\n",
            "  list_player_info = list_player_info.append(player_info, ignore_index=True)\n",
            "<ipython-input-7-5e25f54b2bf4>:41: FutureWarning: The frame.append method is deprecated and will be removed from pandas in a future version. Use pandas.concat instead.\n",
            "  list_player_khl_stat = list_player_khl_stat.append(player_khl_stat, ignore_index=True)\n"
          ]
        },
        {
          "output_type": "stream",
          "name": "stdout",
          "text": [
            "/players/17911/\n"
          ]
        },
        {
          "output_type": "stream",
          "name": "stderr",
          "text": [
            "<ipython-input-7-5e25f54b2bf4>:39: FutureWarning: The frame.append method is deprecated and will be removed from pandas in a future version. Use pandas.concat instead.\n",
            "  list_player_info = list_player_info.append(player_info, ignore_index=True)\n",
            "<ipython-input-7-5e25f54b2bf4>:41: FutureWarning: The frame.append method is deprecated and will be removed from pandas in a future version. Use pandas.concat instead.\n",
            "  list_player_khl_stat = list_player_khl_stat.append(player_khl_stat, ignore_index=True)\n"
          ]
        },
        {
          "output_type": "stream",
          "name": "stdout",
          "text": [
            "/players/20215/\n"
          ]
        },
        {
          "output_type": "stream",
          "name": "stderr",
          "text": [
            "<ipython-input-7-5e25f54b2bf4>:39: FutureWarning: The frame.append method is deprecated and will be removed from pandas in a future version. Use pandas.concat instead.\n",
            "  list_player_info = list_player_info.append(player_info, ignore_index=True)\n",
            "<ipython-input-7-5e25f54b2bf4>:41: FutureWarning: The frame.append method is deprecated and will be removed from pandas in a future version. Use pandas.concat instead.\n",
            "  list_player_khl_stat = list_player_khl_stat.append(player_khl_stat, ignore_index=True)\n"
          ]
        },
        {
          "output_type": "stream",
          "name": "stdout",
          "text": [
            "/players/22358/\n"
          ]
        },
        {
          "output_type": "stream",
          "name": "stderr",
          "text": [
            "<ipython-input-7-5e25f54b2bf4>:39: FutureWarning: The frame.append method is deprecated and will be removed from pandas in a future version. Use pandas.concat instead.\n",
            "  list_player_info = list_player_info.append(player_info, ignore_index=True)\n",
            "<ipython-input-7-5e25f54b2bf4>:41: FutureWarning: The frame.append method is deprecated and will be removed from pandas in a future version. Use pandas.concat instead.\n",
            "  list_player_khl_stat = list_player_khl_stat.append(player_khl_stat, ignore_index=True)\n"
          ]
        },
        {
          "output_type": "stream",
          "name": "stdout",
          "text": [
            "/players/30923/\n"
          ]
        },
        {
          "output_type": "stream",
          "name": "stderr",
          "text": [
            "<ipython-input-7-5e25f54b2bf4>:39: FutureWarning: The frame.append method is deprecated and will be removed from pandas in a future version. Use pandas.concat instead.\n",
            "  list_player_info = list_player_info.append(player_info, ignore_index=True)\n",
            "<ipython-input-7-5e25f54b2bf4>:41: FutureWarning: The frame.append method is deprecated and will be removed from pandas in a future version. Use pandas.concat instead.\n",
            "  list_player_khl_stat = list_player_khl_stat.append(player_khl_stat, ignore_index=True)\n"
          ]
        },
        {
          "output_type": "stream",
          "name": "stdout",
          "text": [
            "/players/132/\n"
          ]
        },
        {
          "output_type": "stream",
          "name": "stderr",
          "text": [
            "<ipython-input-7-5e25f54b2bf4>:39: FutureWarning: The frame.append method is deprecated and will be removed from pandas in a future version. Use pandas.concat instead.\n",
            "  list_player_info = list_player_info.append(player_info, ignore_index=True)\n",
            "<ipython-input-7-5e25f54b2bf4>:41: FutureWarning: The frame.append method is deprecated and will be removed from pandas in a future version. Use pandas.concat instead.\n",
            "  list_player_khl_stat = list_player_khl_stat.append(player_khl_stat, ignore_index=True)\n"
          ]
        },
        {
          "output_type": "stream",
          "name": "stdout",
          "text": [
            "/players/38172/\n"
          ]
        },
        {
          "output_type": "stream",
          "name": "stderr",
          "text": [
            "<ipython-input-7-5e25f54b2bf4>:39: FutureWarning: The frame.append method is deprecated and will be removed from pandas in a future version. Use pandas.concat instead.\n",
            "  list_player_info = list_player_info.append(player_info, ignore_index=True)\n",
            "<ipython-input-7-5e25f54b2bf4>:41: FutureWarning: The frame.append method is deprecated and will be removed from pandas in a future version. Use pandas.concat instead.\n",
            "  list_player_khl_stat = list_player_khl_stat.append(player_khl_stat, ignore_index=True)\n"
          ]
        },
        {
          "output_type": "stream",
          "name": "stdout",
          "text": [
            "/players/22278/\n"
          ]
        },
        {
          "output_type": "stream",
          "name": "stderr",
          "text": [
            "<ipython-input-7-5e25f54b2bf4>:39: FutureWarning: The frame.append method is deprecated and will be removed from pandas in a future version. Use pandas.concat instead.\n",
            "  list_player_info = list_player_info.append(player_info, ignore_index=True)\n",
            "<ipython-input-7-5e25f54b2bf4>:41: FutureWarning: The frame.append method is deprecated and will be removed from pandas in a future version. Use pandas.concat instead.\n",
            "  list_player_khl_stat = list_player_khl_stat.append(player_khl_stat, ignore_index=True)\n"
          ]
        },
        {
          "output_type": "stream",
          "name": "stdout",
          "text": [
            "/players/24005/\n"
          ]
        },
        {
          "output_type": "stream",
          "name": "stderr",
          "text": [
            "<ipython-input-7-5e25f54b2bf4>:39: FutureWarning: The frame.append method is deprecated and will be removed from pandas in a future version. Use pandas.concat instead.\n",
            "  list_player_info = list_player_info.append(player_info, ignore_index=True)\n",
            "<ipython-input-7-5e25f54b2bf4>:41: FutureWarning: The frame.append method is deprecated and will be removed from pandas in a future version. Use pandas.concat instead.\n",
            "  list_player_khl_stat = list_player_khl_stat.append(player_khl_stat, ignore_index=True)\n"
          ]
        },
        {
          "output_type": "stream",
          "name": "stdout",
          "text": [
            "/players/17256/\n"
          ]
        },
        {
          "output_type": "stream",
          "name": "stderr",
          "text": [
            "<ipython-input-7-5e25f54b2bf4>:39: FutureWarning: The frame.append method is deprecated and will be removed from pandas in a future version. Use pandas.concat instead.\n",
            "  list_player_info = list_player_info.append(player_info, ignore_index=True)\n",
            "<ipython-input-7-5e25f54b2bf4>:41: FutureWarning: The frame.append method is deprecated and will be removed from pandas in a future version. Use pandas.concat instead.\n",
            "  list_player_khl_stat = list_player_khl_stat.append(player_khl_stat, ignore_index=True)\n"
          ]
        },
        {
          "output_type": "stream",
          "name": "stdout",
          "text": [
            "/players/15625/\n"
          ]
        },
        {
          "output_type": "stream",
          "name": "stderr",
          "text": [
            "<ipython-input-7-5e25f54b2bf4>:39: FutureWarning: The frame.append method is deprecated and will be removed from pandas in a future version. Use pandas.concat instead.\n",
            "  list_player_info = list_player_info.append(player_info, ignore_index=True)\n",
            "<ipython-input-7-5e25f54b2bf4>:41: FutureWarning: The frame.append method is deprecated and will be removed from pandas in a future version. Use pandas.concat instead.\n",
            "  list_player_khl_stat = list_player_khl_stat.append(player_khl_stat, ignore_index=True)\n"
          ]
        },
        {
          "output_type": "stream",
          "name": "stdout",
          "text": [
            "/players/17673/\n"
          ]
        },
        {
          "output_type": "stream",
          "name": "stderr",
          "text": [
            "<ipython-input-7-5e25f54b2bf4>:39: FutureWarning: The frame.append method is deprecated and will be removed from pandas in a future version. Use pandas.concat instead.\n",
            "  list_player_info = list_player_info.append(player_info, ignore_index=True)\n",
            "<ipython-input-7-5e25f54b2bf4>:41: FutureWarning: The frame.append method is deprecated and will be removed from pandas in a future version. Use pandas.concat instead.\n",
            "  list_player_khl_stat = list_player_khl_stat.append(player_khl_stat, ignore_index=True)\n"
          ]
        },
        {
          "output_type": "stream",
          "name": "stdout",
          "text": [
            "/players/23423/\n"
          ]
        },
        {
          "output_type": "stream",
          "name": "stderr",
          "text": [
            "<ipython-input-7-5e25f54b2bf4>:39: FutureWarning: The frame.append method is deprecated and will be removed from pandas in a future version. Use pandas.concat instead.\n",
            "  list_player_info = list_player_info.append(player_info, ignore_index=True)\n",
            "<ipython-input-7-5e25f54b2bf4>:41: FutureWarning: The frame.append method is deprecated and will be removed from pandas in a future version. Use pandas.concat instead.\n",
            "  list_player_khl_stat = list_player_khl_stat.append(player_khl_stat, ignore_index=True)\n"
          ]
        },
        {
          "output_type": "stream",
          "name": "stdout",
          "text": [
            "/players/22281/\n"
          ]
        },
        {
          "output_type": "stream",
          "name": "stderr",
          "text": [
            "<ipython-input-7-5e25f54b2bf4>:39: FutureWarning: The frame.append method is deprecated and will be removed from pandas in a future version. Use pandas.concat instead.\n",
            "  list_player_info = list_player_info.append(player_info, ignore_index=True)\n",
            "<ipython-input-7-5e25f54b2bf4>:41: FutureWarning: The frame.append method is deprecated and will be removed from pandas in a future version. Use pandas.concat instead.\n",
            "  list_player_khl_stat = list_player_khl_stat.append(player_khl_stat, ignore_index=True)\n"
          ]
        },
        {
          "output_type": "stream",
          "name": "stdout",
          "text": [
            "/players/24698/\n"
          ]
        },
        {
          "output_type": "stream",
          "name": "stderr",
          "text": [
            "<ipython-input-7-5e25f54b2bf4>:39: FutureWarning: The frame.append method is deprecated and will be removed from pandas in a future version. Use pandas.concat instead.\n",
            "  list_player_info = list_player_info.append(player_info, ignore_index=True)\n",
            "<ipython-input-7-5e25f54b2bf4>:41: FutureWarning: The frame.append method is deprecated and will be removed from pandas in a future version. Use pandas.concat instead.\n",
            "  list_player_khl_stat = list_player_khl_stat.append(player_khl_stat, ignore_index=True)\n"
          ]
        },
        {
          "output_type": "stream",
          "name": "stdout",
          "text": [
            "/players/24027/\n"
          ]
        },
        {
          "output_type": "stream",
          "name": "stderr",
          "text": [
            "<ipython-input-7-5e25f54b2bf4>:39: FutureWarning: The frame.append method is deprecated and will be removed from pandas in a future version. Use pandas.concat instead.\n",
            "  list_player_info = list_player_info.append(player_info, ignore_index=True)\n",
            "<ipython-input-7-5e25f54b2bf4>:41: FutureWarning: The frame.append method is deprecated and will be removed from pandas in a future version. Use pandas.concat instead.\n",
            "  list_player_khl_stat = list_player_khl_stat.append(player_khl_stat, ignore_index=True)\n"
          ]
        },
        {
          "output_type": "stream",
          "name": "stdout",
          "text": [
            "/players/25069/\n"
          ]
        },
        {
          "output_type": "stream",
          "name": "stderr",
          "text": [
            "<ipython-input-7-5e25f54b2bf4>:39: FutureWarning: The frame.append method is deprecated and will be removed from pandas in a future version. Use pandas.concat instead.\n",
            "  list_player_info = list_player_info.append(player_info, ignore_index=True)\n",
            "<ipython-input-7-5e25f54b2bf4>:41: FutureWarning: The frame.append method is deprecated and will be removed from pandas in a future version. Use pandas.concat instead.\n",
            "  list_player_khl_stat = list_player_khl_stat.append(player_khl_stat, ignore_index=True)\n"
          ]
        },
        {
          "output_type": "stream",
          "name": "stdout",
          "text": [
            "/players/27220/\n"
          ]
        },
        {
          "output_type": "stream",
          "name": "stderr",
          "text": [
            "<ipython-input-7-5e25f54b2bf4>:39: FutureWarning: The frame.append method is deprecated and will be removed from pandas in a future version. Use pandas.concat instead.\n",
            "  list_player_info = list_player_info.append(player_info, ignore_index=True)\n",
            "<ipython-input-7-5e25f54b2bf4>:41: FutureWarning: The frame.append method is deprecated and will be removed from pandas in a future version. Use pandas.concat instead.\n",
            "  list_player_khl_stat = list_player_khl_stat.append(player_khl_stat, ignore_index=True)\n"
          ]
        },
        {
          "output_type": "stream",
          "name": "stdout",
          "text": [
            "/players/35345/\n"
          ]
        },
        {
          "output_type": "stream",
          "name": "stderr",
          "text": [
            "<ipython-input-7-5e25f54b2bf4>:39: FutureWarning: The frame.append method is deprecated and will be removed from pandas in a future version. Use pandas.concat instead.\n",
            "  list_player_info = list_player_info.append(player_info, ignore_index=True)\n",
            "<ipython-input-7-5e25f54b2bf4>:41: FutureWarning: The frame.append method is deprecated and will be removed from pandas in a future version. Use pandas.concat instead.\n",
            "  list_player_khl_stat = list_player_khl_stat.append(player_khl_stat, ignore_index=True)\n"
          ]
        },
        {
          "output_type": "stream",
          "name": "stdout",
          "text": [
            "/players/15321/\n"
          ]
        },
        {
          "output_type": "stream",
          "name": "stderr",
          "text": [
            "<ipython-input-7-5e25f54b2bf4>:39: FutureWarning: The frame.append method is deprecated and will be removed from pandas in a future version. Use pandas.concat instead.\n",
            "  list_player_info = list_player_info.append(player_info, ignore_index=True)\n",
            "<ipython-input-7-5e25f54b2bf4>:41: FutureWarning: The frame.append method is deprecated and will be removed from pandas in a future version. Use pandas.concat instead.\n",
            "  list_player_khl_stat = list_player_khl_stat.append(player_khl_stat, ignore_index=True)\n"
          ]
        },
        {
          "output_type": "stream",
          "name": "stdout",
          "text": [
            "/players/15901/\n"
          ]
        },
        {
          "output_type": "stream",
          "name": "stderr",
          "text": [
            "<ipython-input-7-5e25f54b2bf4>:39: FutureWarning: The frame.append method is deprecated and will be removed from pandas in a future version. Use pandas.concat instead.\n",
            "  list_player_info = list_player_info.append(player_info, ignore_index=True)\n",
            "<ipython-input-7-5e25f54b2bf4>:41: FutureWarning: The frame.append method is deprecated and will be removed from pandas in a future version. Use pandas.concat instead.\n",
            "  list_player_khl_stat = list_player_khl_stat.append(player_khl_stat, ignore_index=True)\n"
          ]
        },
        {
          "output_type": "stream",
          "name": "stdout",
          "text": [
            "/players/15721/\n"
          ]
        },
        {
          "output_type": "stream",
          "name": "stderr",
          "text": [
            "<ipython-input-7-5e25f54b2bf4>:39: FutureWarning: The frame.append method is deprecated and will be removed from pandas in a future version. Use pandas.concat instead.\n",
            "  list_player_info = list_player_info.append(player_info, ignore_index=True)\n",
            "<ipython-input-7-5e25f54b2bf4>:41: FutureWarning: The frame.append method is deprecated and will be removed from pandas in a future version. Use pandas.concat instead.\n",
            "  list_player_khl_stat = list_player_khl_stat.append(player_khl_stat, ignore_index=True)\n"
          ]
        },
        {
          "output_type": "stream",
          "name": "stdout",
          "text": [
            "/players/4732/\n"
          ]
        },
        {
          "output_type": "stream",
          "name": "stderr",
          "text": [
            "<ipython-input-7-5e25f54b2bf4>:39: FutureWarning: The frame.append method is deprecated and will be removed from pandas in a future version. Use pandas.concat instead.\n",
            "  list_player_info = list_player_info.append(player_info, ignore_index=True)\n",
            "<ipython-input-7-5e25f54b2bf4>:41: FutureWarning: The frame.append method is deprecated and will be removed from pandas in a future version. Use pandas.concat instead.\n",
            "  list_player_khl_stat = list_player_khl_stat.append(player_khl_stat, ignore_index=True)\n"
          ]
        },
        {
          "output_type": "stream",
          "name": "stdout",
          "text": [
            "/players/15760/\n"
          ]
        },
        {
          "output_type": "stream",
          "name": "stderr",
          "text": [
            "<ipython-input-7-5e25f54b2bf4>:39: FutureWarning: The frame.append method is deprecated and will be removed from pandas in a future version. Use pandas.concat instead.\n",
            "  list_player_info = list_player_info.append(player_info, ignore_index=True)\n",
            "<ipython-input-7-5e25f54b2bf4>:41: FutureWarning: The frame.append method is deprecated and will be removed from pandas in a future version. Use pandas.concat instead.\n",
            "  list_player_khl_stat = list_player_khl_stat.append(player_khl_stat, ignore_index=True)\n"
          ]
        },
        {
          "output_type": "stream",
          "name": "stdout",
          "text": [
            "/players/6433/\n"
          ]
        },
        {
          "output_type": "stream",
          "name": "stderr",
          "text": [
            "<ipython-input-7-5e25f54b2bf4>:39: FutureWarning: The frame.append method is deprecated and will be removed from pandas in a future version. Use pandas.concat instead.\n",
            "  list_player_info = list_player_info.append(player_info, ignore_index=True)\n",
            "<ipython-input-7-5e25f54b2bf4>:41: FutureWarning: The frame.append method is deprecated and will be removed from pandas in a future version. Use pandas.concat instead.\n",
            "  list_player_khl_stat = list_player_khl_stat.append(player_khl_stat, ignore_index=True)\n"
          ]
        },
        {
          "output_type": "stream",
          "name": "stdout",
          "text": [
            "/players/20886/\n"
          ]
        },
        {
          "output_type": "stream",
          "name": "stderr",
          "text": [
            "<ipython-input-7-5e25f54b2bf4>:39: FutureWarning: The frame.append method is deprecated and will be removed from pandas in a future version. Use pandas.concat instead.\n",
            "  list_player_info = list_player_info.append(player_info, ignore_index=True)\n",
            "<ipython-input-7-5e25f54b2bf4>:41: FutureWarning: The frame.append method is deprecated and will be removed from pandas in a future version. Use pandas.concat instead.\n",
            "  list_player_khl_stat = list_player_khl_stat.append(player_khl_stat, ignore_index=True)\n"
          ]
        },
        {
          "output_type": "stream",
          "name": "stdout",
          "text": [
            "/players/18029/\n"
          ]
        },
        {
          "output_type": "stream",
          "name": "stderr",
          "text": [
            "<ipython-input-7-5e25f54b2bf4>:39: FutureWarning: The frame.append method is deprecated and will be removed from pandas in a future version. Use pandas.concat instead.\n",
            "  list_player_info = list_player_info.append(player_info, ignore_index=True)\n",
            "<ipython-input-7-5e25f54b2bf4>:41: FutureWarning: The frame.append method is deprecated and will be removed from pandas in a future version. Use pandas.concat instead.\n",
            "  list_player_khl_stat = list_player_khl_stat.append(player_khl_stat, ignore_index=True)\n"
          ]
        },
        {
          "output_type": "stream",
          "name": "stdout",
          "text": [
            "/players/16219/\n"
          ]
        },
        {
          "output_type": "stream",
          "name": "stderr",
          "text": [
            "<ipython-input-7-5e25f54b2bf4>:39: FutureWarning: The frame.append method is deprecated and will be removed from pandas in a future version. Use pandas.concat instead.\n",
            "  list_player_info = list_player_info.append(player_info, ignore_index=True)\n",
            "<ipython-input-7-5e25f54b2bf4>:41: FutureWarning: The frame.append method is deprecated and will be removed from pandas in a future version. Use pandas.concat instead.\n",
            "  list_player_khl_stat = list_player_khl_stat.append(player_khl_stat, ignore_index=True)\n"
          ]
        },
        {
          "output_type": "stream",
          "name": "stdout",
          "text": [
            "/players/4686/\n"
          ]
        },
        {
          "output_type": "stream",
          "name": "stderr",
          "text": [
            "<ipython-input-7-5e25f54b2bf4>:39: FutureWarning: The frame.append method is deprecated and will be removed from pandas in a future version. Use pandas.concat instead.\n",
            "  list_player_info = list_player_info.append(player_info, ignore_index=True)\n",
            "<ipython-input-7-5e25f54b2bf4>:41: FutureWarning: The frame.append method is deprecated and will be removed from pandas in a future version. Use pandas.concat instead.\n",
            "  list_player_khl_stat = list_player_khl_stat.append(player_khl_stat, ignore_index=True)\n"
          ]
        },
        {
          "output_type": "stream",
          "name": "stdout",
          "text": [
            "/players/20814/\n"
          ]
        },
        {
          "output_type": "stream",
          "name": "stderr",
          "text": [
            "<ipython-input-7-5e25f54b2bf4>:39: FutureWarning: The frame.append method is deprecated and will be removed from pandas in a future version. Use pandas.concat instead.\n",
            "  list_player_info = list_player_info.append(player_info, ignore_index=True)\n",
            "<ipython-input-7-5e25f54b2bf4>:41: FutureWarning: The frame.append method is deprecated and will be removed from pandas in a future version. Use pandas.concat instead.\n",
            "  list_player_khl_stat = list_player_khl_stat.append(player_khl_stat, ignore_index=True)\n"
          ]
        },
        {
          "output_type": "stream",
          "name": "stdout",
          "text": [
            "/players/16051/\n"
          ]
        },
        {
          "output_type": "stream",
          "name": "stderr",
          "text": [
            "<ipython-input-7-5e25f54b2bf4>:39: FutureWarning: The frame.append method is deprecated and will be removed from pandas in a future version. Use pandas.concat instead.\n",
            "  list_player_info = list_player_info.append(player_info, ignore_index=True)\n",
            "<ipython-input-7-5e25f54b2bf4>:41: FutureWarning: The frame.append method is deprecated and will be removed from pandas in a future version. Use pandas.concat instead.\n",
            "  list_player_khl_stat = list_player_khl_stat.append(player_khl_stat, ignore_index=True)\n"
          ]
        },
        {
          "output_type": "stream",
          "name": "stdout",
          "text": [
            "/players/15986/\n"
          ]
        },
        {
          "output_type": "stream",
          "name": "stderr",
          "text": [
            "<ipython-input-7-5e25f54b2bf4>:39: FutureWarning: The frame.append method is deprecated and will be removed from pandas in a future version. Use pandas.concat instead.\n",
            "  list_player_info = list_player_info.append(player_info, ignore_index=True)\n",
            "<ipython-input-7-5e25f54b2bf4>:41: FutureWarning: The frame.append method is deprecated and will be removed from pandas in a future version. Use pandas.concat instead.\n",
            "  list_player_khl_stat = list_player_khl_stat.append(player_khl_stat, ignore_index=True)\n"
          ]
        },
        {
          "output_type": "stream",
          "name": "stdout",
          "text": [
            "/players/31832/\n"
          ]
        },
        {
          "output_type": "stream",
          "name": "stderr",
          "text": [
            "<ipython-input-7-5e25f54b2bf4>:39: FutureWarning: The frame.append method is deprecated and will be removed from pandas in a future version. Use pandas.concat instead.\n",
            "  list_player_info = list_player_info.append(player_info, ignore_index=True)\n",
            "<ipython-input-7-5e25f54b2bf4>:41: FutureWarning: The frame.append method is deprecated and will be removed from pandas in a future version. Use pandas.concat instead.\n",
            "  list_player_khl_stat = list_player_khl_stat.append(player_khl_stat, ignore_index=True)\n"
          ]
        },
        {
          "output_type": "stream",
          "name": "stdout",
          "text": [
            "/players/4734/\n"
          ]
        },
        {
          "output_type": "stream",
          "name": "stderr",
          "text": [
            "<ipython-input-7-5e25f54b2bf4>:39: FutureWarning: The frame.append method is deprecated and will be removed from pandas in a future version. Use pandas.concat instead.\n",
            "  list_player_info = list_player_info.append(player_info, ignore_index=True)\n",
            "<ipython-input-7-5e25f54b2bf4>:41: FutureWarning: The frame.append method is deprecated and will be removed from pandas in a future version. Use pandas.concat instead.\n",
            "  list_player_khl_stat = list_player_khl_stat.append(player_khl_stat, ignore_index=True)\n"
          ]
        },
        {
          "output_type": "stream",
          "name": "stdout",
          "text": [
            "/players/34412/\n"
          ]
        },
        {
          "output_type": "stream",
          "name": "stderr",
          "text": [
            "<ipython-input-7-5e25f54b2bf4>:39: FutureWarning: The frame.append method is deprecated and will be removed from pandas in a future version. Use pandas.concat instead.\n",
            "  list_player_info = list_player_info.append(player_info, ignore_index=True)\n",
            "<ipython-input-7-5e25f54b2bf4>:41: FutureWarning: The frame.append method is deprecated and will be removed from pandas in a future version. Use pandas.concat instead.\n",
            "  list_player_khl_stat = list_player_khl_stat.append(player_khl_stat, ignore_index=True)\n"
          ]
        },
        {
          "output_type": "stream",
          "name": "stdout",
          "text": [
            "/players/14285/\n"
          ]
        },
        {
          "output_type": "stream",
          "name": "stderr",
          "text": [
            "<ipython-input-7-5e25f54b2bf4>:39: FutureWarning: The frame.append method is deprecated and will be removed from pandas in a future version. Use pandas.concat instead.\n",
            "  list_player_info = list_player_info.append(player_info, ignore_index=True)\n",
            "<ipython-input-7-5e25f54b2bf4>:41: FutureWarning: The frame.append method is deprecated and will be removed from pandas in a future version. Use pandas.concat instead.\n",
            "  list_player_khl_stat = list_player_khl_stat.append(player_khl_stat, ignore_index=True)\n"
          ]
        },
        {
          "output_type": "stream",
          "name": "stdout",
          "text": [
            "/players/15644/\n"
          ]
        },
        {
          "output_type": "stream",
          "name": "stderr",
          "text": [
            "<ipython-input-7-5e25f54b2bf4>:39: FutureWarning: The frame.append method is deprecated and will be removed from pandas in a future version. Use pandas.concat instead.\n",
            "  list_player_info = list_player_info.append(player_info, ignore_index=True)\n",
            "<ipython-input-7-5e25f54b2bf4>:41: FutureWarning: The frame.append method is deprecated and will be removed from pandas in a future version. Use pandas.concat instead.\n",
            "  list_player_khl_stat = list_player_khl_stat.append(player_khl_stat, ignore_index=True)\n"
          ]
        },
        {
          "output_type": "stream",
          "name": "stdout",
          "text": [
            "/players/20650/\n"
          ]
        },
        {
          "output_type": "stream",
          "name": "stderr",
          "text": [
            "<ipython-input-7-5e25f54b2bf4>:39: FutureWarning: The frame.append method is deprecated and will be removed from pandas in a future version. Use pandas.concat instead.\n",
            "  list_player_info = list_player_info.append(player_info, ignore_index=True)\n",
            "<ipython-input-7-5e25f54b2bf4>:41: FutureWarning: The frame.append method is deprecated and will be removed from pandas in a future version. Use pandas.concat instead.\n",
            "  list_player_khl_stat = list_player_khl_stat.append(player_khl_stat, ignore_index=True)\n"
          ]
        },
        {
          "output_type": "stream",
          "name": "stdout",
          "text": [
            "/players/14778/\n"
          ]
        },
        {
          "output_type": "stream",
          "name": "stderr",
          "text": [
            "<ipython-input-7-5e25f54b2bf4>:39: FutureWarning: The frame.append method is deprecated and will be removed from pandas in a future version. Use pandas.concat instead.\n",
            "  list_player_info = list_player_info.append(player_info, ignore_index=True)\n",
            "<ipython-input-7-5e25f54b2bf4>:41: FutureWarning: The frame.append method is deprecated and will be removed from pandas in a future version. Use pandas.concat instead.\n",
            "  list_player_khl_stat = list_player_khl_stat.append(player_khl_stat, ignore_index=True)\n"
          ]
        },
        {
          "output_type": "stream",
          "name": "stdout",
          "text": [
            "/players/20963/\n"
          ]
        },
        {
          "output_type": "stream",
          "name": "stderr",
          "text": [
            "<ipython-input-7-5e25f54b2bf4>:39: FutureWarning: The frame.append method is deprecated and will be removed from pandas in a future version. Use pandas.concat instead.\n",
            "  list_player_info = list_player_info.append(player_info, ignore_index=True)\n",
            "<ipython-input-7-5e25f54b2bf4>:41: FutureWarning: The frame.append method is deprecated and will be removed from pandas in a future version. Use pandas.concat instead.\n",
            "  list_player_khl_stat = list_player_khl_stat.append(player_khl_stat, ignore_index=True)\n"
          ]
        },
        {
          "output_type": "stream",
          "name": "stdout",
          "text": [
            "/players/15359/\n"
          ]
        },
        {
          "output_type": "stream",
          "name": "stderr",
          "text": [
            "<ipython-input-7-5e25f54b2bf4>:39: FutureWarning: The frame.append method is deprecated and will be removed from pandas in a future version. Use pandas.concat instead.\n",
            "  list_player_info = list_player_info.append(player_info, ignore_index=True)\n",
            "<ipython-input-7-5e25f54b2bf4>:41: FutureWarning: The frame.append method is deprecated and will be removed from pandas in a future version. Use pandas.concat instead.\n",
            "  list_player_khl_stat = list_player_khl_stat.append(player_khl_stat, ignore_index=True)\n"
          ]
        },
        {
          "output_type": "stream",
          "name": "stdout",
          "text": [
            "/players/17075/\n"
          ]
        },
        {
          "output_type": "stream",
          "name": "stderr",
          "text": [
            "<ipython-input-7-5e25f54b2bf4>:39: FutureWarning: The frame.append method is deprecated and will be removed from pandas in a future version. Use pandas.concat instead.\n",
            "  list_player_info = list_player_info.append(player_info, ignore_index=True)\n",
            "<ipython-input-7-5e25f54b2bf4>:41: FutureWarning: The frame.append method is deprecated and will be removed from pandas in a future version. Use pandas.concat instead.\n",
            "  list_player_khl_stat = list_player_khl_stat.append(player_khl_stat, ignore_index=True)\n"
          ]
        },
        {
          "output_type": "stream",
          "name": "stdout",
          "text": [
            "/players/3763/\n"
          ]
        },
        {
          "output_type": "stream",
          "name": "stderr",
          "text": [
            "<ipython-input-7-5e25f54b2bf4>:39: FutureWarning: The frame.append method is deprecated and will be removed from pandas in a future version. Use pandas.concat instead.\n",
            "  list_player_info = list_player_info.append(player_info, ignore_index=True)\n",
            "<ipython-input-7-5e25f54b2bf4>:41: FutureWarning: The frame.append method is deprecated and will be removed from pandas in a future version. Use pandas.concat instead.\n",
            "  list_player_khl_stat = list_player_khl_stat.append(player_khl_stat, ignore_index=True)\n"
          ]
        },
        {
          "output_type": "stream",
          "name": "stdout",
          "text": [
            "/players/22017/\n"
          ]
        },
        {
          "output_type": "stream",
          "name": "stderr",
          "text": [
            "<ipython-input-7-5e25f54b2bf4>:39: FutureWarning: The frame.append method is deprecated and will be removed from pandas in a future version. Use pandas.concat instead.\n",
            "  list_player_info = list_player_info.append(player_info, ignore_index=True)\n",
            "<ipython-input-7-5e25f54b2bf4>:41: FutureWarning: The frame.append method is deprecated and will be removed from pandas in a future version. Use pandas.concat instead.\n",
            "  list_player_khl_stat = list_player_khl_stat.append(player_khl_stat, ignore_index=True)\n"
          ]
        },
        {
          "output_type": "stream",
          "name": "stdout",
          "text": [
            "/players/22325/\n"
          ]
        },
        {
          "output_type": "stream",
          "name": "stderr",
          "text": [
            "<ipython-input-7-5e25f54b2bf4>:39: FutureWarning: The frame.append method is deprecated and will be removed from pandas in a future version. Use pandas.concat instead.\n",
            "  list_player_info = list_player_info.append(player_info, ignore_index=True)\n",
            "<ipython-input-7-5e25f54b2bf4>:41: FutureWarning: The frame.append method is deprecated and will be removed from pandas in a future version. Use pandas.concat instead.\n",
            "  list_player_khl_stat = list_player_khl_stat.append(player_khl_stat, ignore_index=True)\n"
          ]
        },
        {
          "output_type": "stream",
          "name": "stdout",
          "text": [
            "/players/35196/\n"
          ]
        },
        {
          "output_type": "stream",
          "name": "stderr",
          "text": [
            "<ipython-input-7-5e25f54b2bf4>:39: FutureWarning: The frame.append method is deprecated and will be removed from pandas in a future version. Use pandas.concat instead.\n",
            "  list_player_info = list_player_info.append(player_info, ignore_index=True)\n",
            "<ipython-input-7-5e25f54b2bf4>:41: FutureWarning: The frame.append method is deprecated and will be removed from pandas in a future version. Use pandas.concat instead.\n",
            "  list_player_khl_stat = list_player_khl_stat.append(player_khl_stat, ignore_index=True)\n"
          ]
        },
        {
          "output_type": "stream",
          "name": "stdout",
          "text": [
            "/players/15744/\n"
          ]
        },
        {
          "output_type": "stream",
          "name": "stderr",
          "text": [
            "<ipython-input-7-5e25f54b2bf4>:39: FutureWarning: The frame.append method is deprecated and will be removed from pandas in a future version. Use pandas.concat instead.\n",
            "  list_player_info = list_player_info.append(player_info, ignore_index=True)\n",
            "<ipython-input-7-5e25f54b2bf4>:41: FutureWarning: The frame.append method is deprecated and will be removed from pandas in a future version. Use pandas.concat instead.\n",
            "  list_player_khl_stat = list_player_khl_stat.append(player_khl_stat, ignore_index=True)\n"
          ]
        },
        {
          "output_type": "stream",
          "name": "stdout",
          "text": [
            "/players/15274/\n"
          ]
        },
        {
          "output_type": "stream",
          "name": "stderr",
          "text": [
            "<ipython-input-7-5e25f54b2bf4>:39: FutureWarning: The frame.append method is deprecated and will be removed from pandas in a future version. Use pandas.concat instead.\n",
            "  list_player_info = list_player_info.append(player_info, ignore_index=True)\n",
            "<ipython-input-7-5e25f54b2bf4>:41: FutureWarning: The frame.append method is deprecated and will be removed from pandas in a future version. Use pandas.concat instead.\n",
            "  list_player_khl_stat = list_player_khl_stat.append(player_khl_stat, ignore_index=True)\n"
          ]
        },
        {
          "output_type": "stream",
          "name": "stdout",
          "text": [
            "/players/5001/\n"
          ]
        },
        {
          "output_type": "stream",
          "name": "stderr",
          "text": [
            "<ipython-input-7-5e25f54b2bf4>:39: FutureWarning: The frame.append method is deprecated and will be removed from pandas in a future version. Use pandas.concat instead.\n",
            "  list_player_info = list_player_info.append(player_info, ignore_index=True)\n",
            "<ipython-input-7-5e25f54b2bf4>:41: FutureWarning: The frame.append method is deprecated and will be removed from pandas in a future version. Use pandas.concat instead.\n",
            "  list_player_khl_stat = list_player_khl_stat.append(player_khl_stat, ignore_index=True)\n"
          ]
        },
        {
          "output_type": "stream",
          "name": "stdout",
          "text": [
            "/players/17940/\n"
          ]
        },
        {
          "output_type": "stream",
          "name": "stderr",
          "text": [
            "<ipython-input-7-5e25f54b2bf4>:39: FutureWarning: The frame.append method is deprecated and will be removed from pandas in a future version. Use pandas.concat instead.\n",
            "  list_player_info = list_player_info.append(player_info, ignore_index=True)\n",
            "<ipython-input-7-5e25f54b2bf4>:41: FutureWarning: The frame.append method is deprecated and will be removed from pandas in a future version. Use pandas.concat instead.\n",
            "  list_player_khl_stat = list_player_khl_stat.append(player_khl_stat, ignore_index=True)\n"
          ]
        },
        {
          "output_type": "stream",
          "name": "stdout",
          "text": [
            "/players/17941/\n"
          ]
        },
        {
          "output_type": "stream",
          "name": "stderr",
          "text": [
            "<ipython-input-7-5e25f54b2bf4>:39: FutureWarning: The frame.append method is deprecated and will be removed from pandas in a future version. Use pandas.concat instead.\n",
            "  list_player_info = list_player_info.append(player_info, ignore_index=True)\n",
            "<ipython-input-7-5e25f54b2bf4>:41: FutureWarning: The frame.append method is deprecated and will be removed from pandas in a future version. Use pandas.concat instead.\n",
            "  list_player_khl_stat = list_player_khl_stat.append(player_khl_stat, ignore_index=True)\n"
          ]
        },
        {
          "output_type": "stream",
          "name": "stdout",
          "text": [
            "/players/18172/\n"
          ]
        },
        {
          "output_type": "stream",
          "name": "stderr",
          "text": [
            "<ipython-input-7-5e25f54b2bf4>:39: FutureWarning: The frame.append method is deprecated and will be removed from pandas in a future version. Use pandas.concat instead.\n",
            "  list_player_info = list_player_info.append(player_info, ignore_index=True)\n",
            "<ipython-input-7-5e25f54b2bf4>:41: FutureWarning: The frame.append method is deprecated and will be removed from pandas in a future version. Use pandas.concat instead.\n",
            "  list_player_khl_stat = list_player_khl_stat.append(player_khl_stat, ignore_index=True)\n"
          ]
        },
        {
          "output_type": "stream",
          "name": "stdout",
          "text": [
            "/players/35096/\n"
          ]
        },
        {
          "output_type": "stream",
          "name": "stderr",
          "text": [
            "<ipython-input-7-5e25f54b2bf4>:39: FutureWarning: The frame.append method is deprecated and will be removed from pandas in a future version. Use pandas.concat instead.\n",
            "  list_player_info = list_player_info.append(player_info, ignore_index=True)\n",
            "<ipython-input-7-5e25f54b2bf4>:41: FutureWarning: The frame.append method is deprecated and will be removed from pandas in a future version. Use pandas.concat instead.\n",
            "  list_player_khl_stat = list_player_khl_stat.append(player_khl_stat, ignore_index=True)\n"
          ]
        },
        {
          "output_type": "stream",
          "name": "stdout",
          "text": [
            "/players/35223/\n"
          ]
        },
        {
          "output_type": "stream",
          "name": "stderr",
          "text": [
            "<ipython-input-7-5e25f54b2bf4>:39: FutureWarning: The frame.append method is deprecated and will be removed from pandas in a future version. Use pandas.concat instead.\n",
            "  list_player_info = list_player_info.append(player_info, ignore_index=True)\n",
            "<ipython-input-7-5e25f54b2bf4>:41: FutureWarning: The frame.append method is deprecated and will be removed from pandas in a future version. Use pandas.concat instead.\n",
            "  list_player_khl_stat = list_player_khl_stat.append(player_khl_stat, ignore_index=True)\n"
          ]
        },
        {
          "output_type": "stream",
          "name": "stdout",
          "text": [
            "/players/22262/\n"
          ]
        },
        {
          "output_type": "stream",
          "name": "stderr",
          "text": [
            "<ipython-input-7-5e25f54b2bf4>:39: FutureWarning: The frame.append method is deprecated and will be removed from pandas in a future version. Use pandas.concat instead.\n",
            "  list_player_info = list_player_info.append(player_info, ignore_index=True)\n",
            "<ipython-input-7-5e25f54b2bf4>:41: FutureWarning: The frame.append method is deprecated and will be removed from pandas in a future version. Use pandas.concat instead.\n",
            "  list_player_khl_stat = list_player_khl_stat.append(player_khl_stat, ignore_index=True)\n"
          ]
        },
        {
          "output_type": "stream",
          "name": "stdout",
          "text": [
            "/players/16124/\n"
          ]
        },
        {
          "output_type": "stream",
          "name": "stderr",
          "text": [
            "<ipython-input-7-5e25f54b2bf4>:39: FutureWarning: The frame.append method is deprecated and will be removed from pandas in a future version. Use pandas.concat instead.\n",
            "  list_player_info = list_player_info.append(player_info, ignore_index=True)\n",
            "<ipython-input-7-5e25f54b2bf4>:41: FutureWarning: The frame.append method is deprecated and will be removed from pandas in a future version. Use pandas.concat instead.\n",
            "  list_player_khl_stat = list_player_khl_stat.append(player_khl_stat, ignore_index=True)\n"
          ]
        },
        {
          "output_type": "stream",
          "name": "stdout",
          "text": [
            "/players/35195/\n"
          ]
        },
        {
          "output_type": "stream",
          "name": "stderr",
          "text": [
            "<ipython-input-7-5e25f54b2bf4>:39: FutureWarning: The frame.append method is deprecated and will be removed from pandas in a future version. Use pandas.concat instead.\n",
            "  list_player_info = list_player_info.append(player_info, ignore_index=True)\n",
            "<ipython-input-7-5e25f54b2bf4>:41: FutureWarning: The frame.append method is deprecated and will be removed from pandas in a future version. Use pandas.concat instead.\n",
            "  list_player_khl_stat = list_player_khl_stat.append(player_khl_stat, ignore_index=True)\n"
          ]
        },
        {
          "output_type": "stream",
          "name": "stdout",
          "text": [
            "/players/16363/\n"
          ]
        },
        {
          "output_type": "stream",
          "name": "stderr",
          "text": [
            "<ipython-input-7-5e25f54b2bf4>:39: FutureWarning: The frame.append method is deprecated and will be removed from pandas in a future version. Use pandas.concat instead.\n",
            "  list_player_info = list_player_info.append(player_info, ignore_index=True)\n",
            "<ipython-input-7-5e25f54b2bf4>:41: FutureWarning: The frame.append method is deprecated and will be removed from pandas in a future version. Use pandas.concat instead.\n",
            "  list_player_khl_stat = list_player_khl_stat.append(player_khl_stat, ignore_index=True)\n"
          ]
        },
        {
          "output_type": "stream",
          "name": "stdout",
          "text": [
            "/players/22412/\n"
          ]
        },
        {
          "output_type": "stream",
          "name": "stderr",
          "text": [
            "<ipython-input-7-5e25f54b2bf4>:39: FutureWarning: The frame.append method is deprecated and will be removed from pandas in a future version. Use pandas.concat instead.\n",
            "  list_player_info = list_player_info.append(player_info, ignore_index=True)\n",
            "<ipython-input-7-5e25f54b2bf4>:41: FutureWarning: The frame.append method is deprecated and will be removed from pandas in a future version. Use pandas.concat instead.\n",
            "  list_player_khl_stat = list_player_khl_stat.append(player_khl_stat, ignore_index=True)\n"
          ]
        },
        {
          "output_type": "stream",
          "name": "stdout",
          "text": [
            "/players/14529/\n"
          ]
        },
        {
          "output_type": "stream",
          "name": "stderr",
          "text": [
            "<ipython-input-7-5e25f54b2bf4>:39: FutureWarning: The frame.append method is deprecated and will be removed from pandas in a future version. Use pandas.concat instead.\n",
            "  list_player_info = list_player_info.append(player_info, ignore_index=True)\n",
            "<ipython-input-7-5e25f54b2bf4>:41: FutureWarning: The frame.append method is deprecated and will be removed from pandas in a future version. Use pandas.concat instead.\n",
            "  list_player_khl_stat = list_player_khl_stat.append(player_khl_stat, ignore_index=True)\n"
          ]
        },
        {
          "output_type": "stream",
          "name": "stdout",
          "text": [
            "/players/20722/\n"
          ]
        },
        {
          "output_type": "stream",
          "name": "stderr",
          "text": [
            "<ipython-input-7-5e25f54b2bf4>:39: FutureWarning: The frame.append method is deprecated and will be removed from pandas in a future version. Use pandas.concat instead.\n",
            "  list_player_info = list_player_info.append(player_info, ignore_index=True)\n",
            "<ipython-input-7-5e25f54b2bf4>:41: FutureWarning: The frame.append method is deprecated and will be removed from pandas in a future version. Use pandas.concat instead.\n",
            "  list_player_khl_stat = list_player_khl_stat.append(player_khl_stat, ignore_index=True)\n"
          ]
        },
        {
          "output_type": "stream",
          "name": "stdout",
          "text": [
            "/players/16075/\n"
          ]
        },
        {
          "output_type": "stream",
          "name": "stderr",
          "text": [
            "<ipython-input-7-5e25f54b2bf4>:39: FutureWarning: The frame.append method is deprecated and will be removed from pandas in a future version. Use pandas.concat instead.\n",
            "  list_player_info = list_player_info.append(player_info, ignore_index=True)\n",
            "<ipython-input-7-5e25f54b2bf4>:41: FutureWarning: The frame.append method is deprecated and will be removed from pandas in a future version. Use pandas.concat instead.\n",
            "  list_player_khl_stat = list_player_khl_stat.append(player_khl_stat, ignore_index=True)\n"
          ]
        },
        {
          "output_type": "stream",
          "name": "stdout",
          "text": [
            "/players/21925/\n"
          ]
        },
        {
          "output_type": "stream",
          "name": "stderr",
          "text": [
            "<ipython-input-7-5e25f54b2bf4>:39: FutureWarning: The frame.append method is deprecated and will be removed from pandas in a future version. Use pandas.concat instead.\n",
            "  list_player_info = list_player_info.append(player_info, ignore_index=True)\n",
            "<ipython-input-7-5e25f54b2bf4>:41: FutureWarning: The frame.append method is deprecated and will be removed from pandas in a future version. Use pandas.concat instead.\n",
            "  list_player_khl_stat = list_player_khl_stat.append(player_khl_stat, ignore_index=True)\n"
          ]
        },
        {
          "output_type": "stream",
          "name": "stdout",
          "text": [
            "/players/14259/\n"
          ]
        },
        {
          "output_type": "stream",
          "name": "stderr",
          "text": [
            "<ipython-input-7-5e25f54b2bf4>:39: FutureWarning: The frame.append method is deprecated and will be removed from pandas in a future version. Use pandas.concat instead.\n",
            "  list_player_info = list_player_info.append(player_info, ignore_index=True)\n",
            "<ipython-input-7-5e25f54b2bf4>:41: FutureWarning: The frame.append method is deprecated and will be removed from pandas in a future version. Use pandas.concat instead.\n",
            "  list_player_khl_stat = list_player_khl_stat.append(player_khl_stat, ignore_index=True)\n"
          ]
        },
        {
          "output_type": "stream",
          "name": "stdout",
          "text": [
            "/players/16316/\n"
          ]
        },
        {
          "output_type": "stream",
          "name": "stderr",
          "text": [
            "<ipython-input-7-5e25f54b2bf4>:39: FutureWarning: The frame.append method is deprecated and will be removed from pandas in a future version. Use pandas.concat instead.\n",
            "  list_player_info = list_player_info.append(player_info, ignore_index=True)\n",
            "<ipython-input-7-5e25f54b2bf4>:41: FutureWarning: The frame.append method is deprecated and will be removed from pandas in a future version. Use pandas.concat instead.\n",
            "  list_player_khl_stat = list_player_khl_stat.append(player_khl_stat, ignore_index=True)\n"
          ]
        },
        {
          "output_type": "stream",
          "name": "stdout",
          "text": [
            "/players/25801/\n"
          ]
        },
        {
          "output_type": "stream",
          "name": "stderr",
          "text": [
            "<ipython-input-7-5e25f54b2bf4>:39: FutureWarning: The frame.append method is deprecated and will be removed from pandas in a future version. Use pandas.concat instead.\n",
            "  list_player_info = list_player_info.append(player_info, ignore_index=True)\n",
            "<ipython-input-7-5e25f54b2bf4>:41: FutureWarning: The frame.append method is deprecated and will be removed from pandas in a future version. Use pandas.concat instead.\n",
            "  list_player_khl_stat = list_player_khl_stat.append(player_khl_stat, ignore_index=True)\n"
          ]
        },
        {
          "output_type": "stream",
          "name": "stdout",
          "text": [
            "/players/19843/\n"
          ]
        },
        {
          "output_type": "stream",
          "name": "stderr",
          "text": [
            "<ipython-input-7-5e25f54b2bf4>:39: FutureWarning: The frame.append method is deprecated and will be removed from pandas in a future version. Use pandas.concat instead.\n",
            "  list_player_info = list_player_info.append(player_info, ignore_index=True)\n",
            "<ipython-input-7-5e25f54b2bf4>:41: FutureWarning: The frame.append method is deprecated and will be removed from pandas in a future version. Use pandas.concat instead.\n",
            "  list_player_khl_stat = list_player_khl_stat.append(player_khl_stat, ignore_index=True)\n"
          ]
        },
        {
          "output_type": "stream",
          "name": "stdout",
          "text": [
            "/players/17934/\n"
          ]
        },
        {
          "output_type": "stream",
          "name": "stderr",
          "text": [
            "<ipython-input-7-5e25f54b2bf4>:39: FutureWarning: The frame.append method is deprecated and will be removed from pandas in a future version. Use pandas.concat instead.\n",
            "  list_player_info = list_player_info.append(player_info, ignore_index=True)\n",
            "<ipython-input-7-5e25f54b2bf4>:41: FutureWarning: The frame.append method is deprecated and will be removed from pandas in a future version. Use pandas.concat instead.\n",
            "  list_player_khl_stat = list_player_khl_stat.append(player_khl_stat, ignore_index=True)\n"
          ]
        },
        {
          "output_type": "stream",
          "name": "stdout",
          "text": [
            "/players/18687/\n"
          ]
        },
        {
          "output_type": "stream",
          "name": "stderr",
          "text": [
            "<ipython-input-7-5e25f54b2bf4>:39: FutureWarning: The frame.append method is deprecated and will be removed from pandas in a future version. Use pandas.concat instead.\n",
            "  list_player_info = list_player_info.append(player_info, ignore_index=True)\n",
            "<ipython-input-7-5e25f54b2bf4>:41: FutureWarning: The frame.append method is deprecated and will be removed from pandas in a future version. Use pandas.concat instead.\n",
            "  list_player_khl_stat = list_player_khl_stat.append(player_khl_stat, ignore_index=True)\n"
          ]
        },
        {
          "output_type": "stream",
          "name": "stdout",
          "text": [
            "/players/31052/\n"
          ]
        },
        {
          "output_type": "stream",
          "name": "stderr",
          "text": [
            "<ipython-input-7-5e25f54b2bf4>:39: FutureWarning: The frame.append method is deprecated and will be removed from pandas in a future version. Use pandas.concat instead.\n",
            "  list_player_info = list_player_info.append(player_info, ignore_index=True)\n",
            "<ipython-input-7-5e25f54b2bf4>:41: FutureWarning: The frame.append method is deprecated and will be removed from pandas in a future version. Use pandas.concat instead.\n",
            "  list_player_khl_stat = list_player_khl_stat.append(player_khl_stat, ignore_index=True)\n"
          ]
        },
        {
          "output_type": "stream",
          "name": "stdout",
          "text": [
            "/players/24700/\n"
          ]
        },
        {
          "output_type": "stream",
          "name": "stderr",
          "text": [
            "<ipython-input-7-5e25f54b2bf4>:39: FutureWarning: The frame.append method is deprecated and will be removed from pandas in a future version. Use pandas.concat instead.\n",
            "  list_player_info = list_player_info.append(player_info, ignore_index=True)\n",
            "<ipython-input-7-5e25f54b2bf4>:41: FutureWarning: The frame.append method is deprecated and will be removed from pandas in a future version. Use pandas.concat instead.\n",
            "  list_player_khl_stat = list_player_khl_stat.append(player_khl_stat, ignore_index=True)\n"
          ]
        },
        {
          "output_type": "stream",
          "name": "stdout",
          "text": [
            "/players/15476/\n"
          ]
        },
        {
          "output_type": "stream",
          "name": "stderr",
          "text": [
            "<ipython-input-7-5e25f54b2bf4>:39: FutureWarning: The frame.append method is deprecated and will be removed from pandas in a future version. Use pandas.concat instead.\n",
            "  list_player_info = list_player_info.append(player_info, ignore_index=True)\n",
            "<ipython-input-7-5e25f54b2bf4>:41: FutureWarning: The frame.append method is deprecated and will be removed from pandas in a future version. Use pandas.concat instead.\n",
            "  list_player_khl_stat = list_player_khl_stat.append(player_khl_stat, ignore_index=True)\n"
          ]
        },
        {
          "output_type": "stream",
          "name": "stdout",
          "text": [
            "/players/15546/\n"
          ]
        },
        {
          "output_type": "stream",
          "name": "stderr",
          "text": [
            "<ipython-input-7-5e25f54b2bf4>:39: FutureWarning: The frame.append method is deprecated and will be removed from pandas in a future version. Use pandas.concat instead.\n",
            "  list_player_info = list_player_info.append(player_info, ignore_index=True)\n",
            "<ipython-input-7-5e25f54b2bf4>:41: FutureWarning: The frame.append method is deprecated and will be removed from pandas in a future version. Use pandas.concat instead.\n",
            "  list_player_khl_stat = list_player_khl_stat.append(player_khl_stat, ignore_index=True)\n"
          ]
        },
        {
          "output_type": "stream",
          "name": "stdout",
          "text": [
            "/players/33905/\n"
          ]
        },
        {
          "output_type": "stream",
          "name": "stderr",
          "text": [
            "<ipython-input-7-5e25f54b2bf4>:39: FutureWarning: The frame.append method is deprecated and will be removed from pandas in a future version. Use pandas.concat instead.\n",
            "  list_player_info = list_player_info.append(player_info, ignore_index=True)\n",
            "<ipython-input-7-5e25f54b2bf4>:41: FutureWarning: The frame.append method is deprecated and will be removed from pandas in a future version. Use pandas.concat instead.\n",
            "  list_player_khl_stat = list_player_khl_stat.append(player_khl_stat, ignore_index=True)\n"
          ]
        },
        {
          "output_type": "stream",
          "name": "stdout",
          "text": [
            "/players/19066/\n"
          ]
        },
        {
          "output_type": "stream",
          "name": "stderr",
          "text": [
            "<ipython-input-7-5e25f54b2bf4>:39: FutureWarning: The frame.append method is deprecated and will be removed from pandas in a future version. Use pandas.concat instead.\n",
            "  list_player_info = list_player_info.append(player_info, ignore_index=True)\n",
            "<ipython-input-7-5e25f54b2bf4>:41: FutureWarning: The frame.append method is deprecated and will be removed from pandas in a future version. Use pandas.concat instead.\n",
            "  list_player_khl_stat = list_player_khl_stat.append(player_khl_stat, ignore_index=True)\n"
          ]
        },
        {
          "output_type": "stream",
          "name": "stdout",
          "text": [
            "/players/4692/\n"
          ]
        },
        {
          "output_type": "stream",
          "name": "stderr",
          "text": [
            "<ipython-input-7-5e25f54b2bf4>:39: FutureWarning: The frame.append method is deprecated and will be removed from pandas in a future version. Use pandas.concat instead.\n",
            "  list_player_info = list_player_info.append(player_info, ignore_index=True)\n",
            "<ipython-input-7-5e25f54b2bf4>:41: FutureWarning: The frame.append method is deprecated and will be removed from pandas in a future version. Use pandas.concat instead.\n",
            "  list_player_khl_stat = list_player_khl_stat.append(player_khl_stat, ignore_index=True)\n"
          ]
        },
        {
          "output_type": "stream",
          "name": "stdout",
          "text": [
            "/players/13193/\n"
          ]
        },
        {
          "output_type": "stream",
          "name": "stderr",
          "text": [
            "<ipython-input-7-5e25f54b2bf4>:39: FutureWarning: The frame.append method is deprecated and will be removed from pandas in a future version. Use pandas.concat instead.\n",
            "  list_player_info = list_player_info.append(player_info, ignore_index=True)\n",
            "<ipython-input-7-5e25f54b2bf4>:41: FutureWarning: The frame.append method is deprecated and will be removed from pandas in a future version. Use pandas.concat instead.\n",
            "  list_player_khl_stat = list_player_khl_stat.append(player_khl_stat, ignore_index=True)\n"
          ]
        },
        {
          "output_type": "stream",
          "name": "stdout",
          "text": [
            "/players/26210/\n"
          ]
        },
        {
          "output_type": "stream",
          "name": "stderr",
          "text": [
            "<ipython-input-7-5e25f54b2bf4>:39: FutureWarning: The frame.append method is deprecated and will be removed from pandas in a future version. Use pandas.concat instead.\n",
            "  list_player_info = list_player_info.append(player_info, ignore_index=True)\n",
            "<ipython-input-7-5e25f54b2bf4>:41: FutureWarning: The frame.append method is deprecated and will be removed from pandas in a future version. Use pandas.concat instead.\n",
            "  list_player_khl_stat = list_player_khl_stat.append(player_khl_stat, ignore_index=True)\n"
          ]
        },
        {
          "output_type": "stream",
          "name": "stdout",
          "text": [
            "/players/4967/\n"
          ]
        },
        {
          "output_type": "stream",
          "name": "stderr",
          "text": [
            "<ipython-input-7-5e25f54b2bf4>:39: FutureWarning: The frame.append method is deprecated and will be removed from pandas in a future version. Use pandas.concat instead.\n",
            "  list_player_info = list_player_info.append(player_info, ignore_index=True)\n",
            "<ipython-input-7-5e25f54b2bf4>:41: FutureWarning: The frame.append method is deprecated and will be removed from pandas in a future version. Use pandas.concat instead.\n",
            "  list_player_khl_stat = list_player_khl_stat.append(player_khl_stat, ignore_index=True)\n"
          ]
        },
        {
          "output_type": "stream",
          "name": "stdout",
          "text": [
            "/players/39842/\n"
          ]
        },
        {
          "output_type": "stream",
          "name": "stderr",
          "text": [
            "<ipython-input-7-5e25f54b2bf4>:39: FutureWarning: The frame.append method is deprecated and will be removed from pandas in a future version. Use pandas.concat instead.\n",
            "  list_player_info = list_player_info.append(player_info, ignore_index=True)\n",
            "<ipython-input-7-5e25f54b2bf4>:41: FutureWarning: The frame.append method is deprecated and will be removed from pandas in a future version. Use pandas.concat instead.\n",
            "  list_player_khl_stat = list_player_khl_stat.append(player_khl_stat, ignore_index=True)\n"
          ]
        },
        {
          "output_type": "stream",
          "name": "stdout",
          "text": [
            "/players/14155/\n"
          ]
        },
        {
          "output_type": "stream",
          "name": "stderr",
          "text": [
            "<ipython-input-7-5e25f54b2bf4>:39: FutureWarning: The frame.append method is deprecated and will be removed from pandas in a future version. Use pandas.concat instead.\n",
            "  list_player_info = list_player_info.append(player_info, ignore_index=True)\n",
            "<ipython-input-7-5e25f54b2bf4>:41: FutureWarning: The frame.append method is deprecated and will be removed from pandas in a future version. Use pandas.concat instead.\n",
            "  list_player_khl_stat = list_player_khl_stat.append(player_khl_stat, ignore_index=True)\n"
          ]
        },
        {
          "output_type": "stream",
          "name": "stdout",
          "text": [
            "/players/28208/\n"
          ]
        },
        {
          "output_type": "stream",
          "name": "stderr",
          "text": [
            "<ipython-input-7-5e25f54b2bf4>:39: FutureWarning: The frame.append method is deprecated and will be removed from pandas in a future version. Use pandas.concat instead.\n",
            "  list_player_info = list_player_info.append(player_info, ignore_index=True)\n",
            "<ipython-input-7-5e25f54b2bf4>:41: FutureWarning: The frame.append method is deprecated and will be removed from pandas in a future version. Use pandas.concat instead.\n",
            "  list_player_khl_stat = list_player_khl_stat.append(player_khl_stat, ignore_index=True)\n"
          ]
        },
        {
          "output_type": "stream",
          "name": "stdout",
          "text": [
            "/players/15204/\n"
          ]
        },
        {
          "output_type": "stream",
          "name": "stderr",
          "text": [
            "<ipython-input-7-5e25f54b2bf4>:39: FutureWarning: The frame.append method is deprecated and will be removed from pandas in a future version. Use pandas.concat instead.\n",
            "  list_player_info = list_player_info.append(player_info, ignore_index=True)\n",
            "<ipython-input-7-5e25f54b2bf4>:41: FutureWarning: The frame.append method is deprecated and will be removed from pandas in a future version. Use pandas.concat instead.\n",
            "  list_player_khl_stat = list_player_khl_stat.append(player_khl_stat, ignore_index=True)\n"
          ]
        },
        {
          "output_type": "stream",
          "name": "stdout",
          "text": [
            "/players/15240/\n"
          ]
        },
        {
          "output_type": "stream",
          "name": "stderr",
          "text": [
            "<ipython-input-7-5e25f54b2bf4>:39: FutureWarning: The frame.append method is deprecated and will be removed from pandas in a future version. Use pandas.concat instead.\n",
            "  list_player_info = list_player_info.append(player_info, ignore_index=True)\n",
            "<ipython-input-7-5e25f54b2bf4>:41: FutureWarning: The frame.append method is deprecated and will be removed from pandas in a future version. Use pandas.concat instead.\n",
            "  list_player_khl_stat = list_player_khl_stat.append(player_khl_stat, ignore_index=True)\n"
          ]
        },
        {
          "output_type": "stream",
          "name": "stdout",
          "text": [
            "/players/21423/\n"
          ]
        },
        {
          "output_type": "stream",
          "name": "stderr",
          "text": [
            "<ipython-input-7-5e25f54b2bf4>:39: FutureWarning: The frame.append method is deprecated and will be removed from pandas in a future version. Use pandas.concat instead.\n",
            "  list_player_info = list_player_info.append(player_info, ignore_index=True)\n",
            "<ipython-input-7-5e25f54b2bf4>:41: FutureWarning: The frame.append method is deprecated and will be removed from pandas in a future version. Use pandas.concat instead.\n",
            "  list_player_khl_stat = list_player_khl_stat.append(player_khl_stat, ignore_index=True)\n"
          ]
        },
        {
          "output_type": "stream",
          "name": "stdout",
          "text": [
            "/players/24705/\n"
          ]
        },
        {
          "output_type": "stream",
          "name": "stderr",
          "text": [
            "<ipython-input-7-5e25f54b2bf4>:39: FutureWarning: The frame.append method is deprecated and will be removed from pandas in a future version. Use pandas.concat instead.\n",
            "  list_player_info = list_player_info.append(player_info, ignore_index=True)\n",
            "<ipython-input-7-5e25f54b2bf4>:41: FutureWarning: The frame.append method is deprecated and will be removed from pandas in a future version. Use pandas.concat instead.\n",
            "  list_player_khl_stat = list_player_khl_stat.append(player_khl_stat, ignore_index=True)\n"
          ]
        },
        {
          "output_type": "stream",
          "name": "stdout",
          "text": [
            "/players/15369/\n"
          ]
        },
        {
          "output_type": "stream",
          "name": "stderr",
          "text": [
            "<ipython-input-7-5e25f54b2bf4>:39: FutureWarning: The frame.append method is deprecated and will be removed from pandas in a future version. Use pandas.concat instead.\n",
            "  list_player_info = list_player_info.append(player_info, ignore_index=True)\n",
            "<ipython-input-7-5e25f54b2bf4>:41: FutureWarning: The frame.append method is deprecated and will be removed from pandas in a future version. Use pandas.concat instead.\n",
            "  list_player_khl_stat = list_player_khl_stat.append(player_khl_stat, ignore_index=True)\n"
          ]
        },
        {
          "output_type": "stream",
          "name": "stdout",
          "text": [
            "/players/20523/\n"
          ]
        },
        {
          "output_type": "stream",
          "name": "stderr",
          "text": [
            "<ipython-input-7-5e25f54b2bf4>:39: FutureWarning: The frame.append method is deprecated and will be removed from pandas in a future version. Use pandas.concat instead.\n",
            "  list_player_info = list_player_info.append(player_info, ignore_index=True)\n",
            "<ipython-input-7-5e25f54b2bf4>:41: FutureWarning: The frame.append method is deprecated and will be removed from pandas in a future version. Use pandas.concat instead.\n",
            "  list_player_khl_stat = list_player_khl_stat.append(player_khl_stat, ignore_index=True)\n"
          ]
        },
        {
          "output_type": "stream",
          "name": "stdout",
          "text": [
            "/players/25552/\n"
          ]
        },
        {
          "output_type": "stream",
          "name": "stderr",
          "text": [
            "<ipython-input-7-5e25f54b2bf4>:39: FutureWarning: The frame.append method is deprecated and will be removed from pandas in a future version. Use pandas.concat instead.\n",
            "  list_player_info = list_player_info.append(player_info, ignore_index=True)\n",
            "<ipython-input-7-5e25f54b2bf4>:41: FutureWarning: The frame.append method is deprecated and will be removed from pandas in a future version. Use pandas.concat instead.\n",
            "  list_player_khl_stat = list_player_khl_stat.append(player_khl_stat, ignore_index=True)\n"
          ]
        },
        {
          "output_type": "stream",
          "name": "stdout",
          "text": [
            "/players/16701/\n"
          ]
        },
        {
          "output_type": "stream",
          "name": "stderr",
          "text": [
            "<ipython-input-7-5e25f54b2bf4>:39: FutureWarning: The frame.append method is deprecated and will be removed from pandas in a future version. Use pandas.concat instead.\n",
            "  list_player_info = list_player_info.append(player_info, ignore_index=True)\n",
            "<ipython-input-7-5e25f54b2bf4>:41: FutureWarning: The frame.append method is deprecated and will be removed from pandas in a future version. Use pandas.concat instead.\n",
            "  list_player_khl_stat = list_player_khl_stat.append(player_khl_stat, ignore_index=True)\n"
          ]
        },
        {
          "output_type": "stream",
          "name": "stdout",
          "text": [
            "/players/15216/\n"
          ]
        },
        {
          "output_type": "stream",
          "name": "stderr",
          "text": [
            "<ipython-input-7-5e25f54b2bf4>:39: FutureWarning: The frame.append method is deprecated and will be removed from pandas in a future version. Use pandas.concat instead.\n",
            "  list_player_info = list_player_info.append(player_info, ignore_index=True)\n",
            "<ipython-input-7-5e25f54b2bf4>:41: FutureWarning: The frame.append method is deprecated and will be removed from pandas in a future version. Use pandas.concat instead.\n",
            "  list_player_khl_stat = list_player_khl_stat.append(player_khl_stat, ignore_index=True)\n"
          ]
        },
        {
          "output_type": "stream",
          "name": "stdout",
          "text": [
            "/players/17542/\n"
          ]
        },
        {
          "output_type": "stream",
          "name": "stderr",
          "text": [
            "<ipython-input-7-5e25f54b2bf4>:39: FutureWarning: The frame.append method is deprecated and will be removed from pandas in a future version. Use pandas.concat instead.\n",
            "  list_player_info = list_player_info.append(player_info, ignore_index=True)\n",
            "<ipython-input-7-5e25f54b2bf4>:41: FutureWarning: The frame.append method is deprecated and will be removed from pandas in a future version. Use pandas.concat instead.\n",
            "  list_player_khl_stat = list_player_khl_stat.append(player_khl_stat, ignore_index=True)\n"
          ]
        },
        {
          "output_type": "stream",
          "name": "stdout",
          "text": [
            "/players/16786/\n"
          ]
        },
        {
          "output_type": "stream",
          "name": "stderr",
          "text": [
            "<ipython-input-7-5e25f54b2bf4>:39: FutureWarning: The frame.append method is deprecated and will be removed from pandas in a future version. Use pandas.concat instead.\n",
            "  list_player_info = list_player_info.append(player_info, ignore_index=True)\n",
            "<ipython-input-7-5e25f54b2bf4>:41: FutureWarning: The frame.append method is deprecated and will be removed from pandas in a future version. Use pandas.concat instead.\n",
            "  list_player_khl_stat = list_player_khl_stat.append(player_khl_stat, ignore_index=True)\n"
          ]
        },
        {
          "output_type": "stream",
          "name": "stdout",
          "text": [
            "/players/20117/\n"
          ]
        },
        {
          "output_type": "stream",
          "name": "stderr",
          "text": [
            "<ipython-input-7-5e25f54b2bf4>:39: FutureWarning: The frame.append method is deprecated and will be removed from pandas in a future version. Use pandas.concat instead.\n",
            "  list_player_info = list_player_info.append(player_info, ignore_index=True)\n",
            "<ipython-input-7-5e25f54b2bf4>:41: FutureWarning: The frame.append method is deprecated and will be removed from pandas in a future version. Use pandas.concat instead.\n",
            "  list_player_khl_stat = list_player_khl_stat.append(player_khl_stat, ignore_index=True)\n"
          ]
        },
        {
          "output_type": "stream",
          "name": "stdout",
          "text": [
            "/players/20931/\n"
          ]
        },
        {
          "output_type": "stream",
          "name": "stderr",
          "text": [
            "<ipython-input-7-5e25f54b2bf4>:39: FutureWarning: The frame.append method is deprecated and will be removed from pandas in a future version. Use pandas.concat instead.\n",
            "  list_player_info = list_player_info.append(player_info, ignore_index=True)\n",
            "<ipython-input-7-5e25f54b2bf4>:41: FutureWarning: The frame.append method is deprecated and will be removed from pandas in a future version. Use pandas.concat instead.\n",
            "  list_player_khl_stat = list_player_khl_stat.append(player_khl_stat, ignore_index=True)\n"
          ]
        },
        {
          "output_type": "stream",
          "name": "stdout",
          "text": [
            "/players/23540/\n"
          ]
        },
        {
          "output_type": "stream",
          "name": "stderr",
          "text": [
            "<ipython-input-7-5e25f54b2bf4>:39: FutureWarning: The frame.append method is deprecated and will be removed from pandas in a future version. Use pandas.concat instead.\n",
            "  list_player_info = list_player_info.append(player_info, ignore_index=True)\n",
            "<ipython-input-7-5e25f54b2bf4>:41: FutureWarning: The frame.append method is deprecated and will be removed from pandas in a future version. Use pandas.concat instead.\n",
            "  list_player_khl_stat = list_player_khl_stat.append(player_khl_stat, ignore_index=True)\n"
          ]
        },
        {
          "output_type": "stream",
          "name": "stdout",
          "text": [
            "/players/40257/\n"
          ]
        },
        {
          "output_type": "stream",
          "name": "stderr",
          "text": [
            "<ipython-input-7-5e25f54b2bf4>:39: FutureWarning: The frame.append method is deprecated and will be removed from pandas in a future version. Use pandas.concat instead.\n",
            "  list_player_info = list_player_info.append(player_info, ignore_index=True)\n",
            "<ipython-input-7-5e25f54b2bf4>:41: FutureWarning: The frame.append method is deprecated and will be removed from pandas in a future version. Use pandas.concat instead.\n",
            "  list_player_khl_stat = list_player_khl_stat.append(player_khl_stat, ignore_index=True)\n"
          ]
        },
        {
          "output_type": "stream",
          "name": "stdout",
          "text": [
            "/players/15242/\n"
          ]
        },
        {
          "output_type": "stream",
          "name": "stderr",
          "text": [
            "<ipython-input-7-5e25f54b2bf4>:39: FutureWarning: The frame.append method is deprecated and will be removed from pandas in a future version. Use pandas.concat instead.\n",
            "  list_player_info = list_player_info.append(player_info, ignore_index=True)\n",
            "<ipython-input-7-5e25f54b2bf4>:41: FutureWarning: The frame.append method is deprecated and will be removed from pandas in a future version. Use pandas.concat instead.\n",
            "  list_player_khl_stat = list_player_khl_stat.append(player_khl_stat, ignore_index=True)\n"
          ]
        },
        {
          "output_type": "stream",
          "name": "stdout",
          "text": [
            "/players/14607/\n"
          ]
        },
        {
          "output_type": "stream",
          "name": "stderr",
          "text": [
            "<ipython-input-7-5e25f54b2bf4>:39: FutureWarning: The frame.append method is deprecated and will be removed from pandas in a future version. Use pandas.concat instead.\n",
            "  list_player_info = list_player_info.append(player_info, ignore_index=True)\n",
            "<ipython-input-7-5e25f54b2bf4>:41: FutureWarning: The frame.append method is deprecated and will be removed from pandas in a future version. Use pandas.concat instead.\n",
            "  list_player_khl_stat = list_player_khl_stat.append(player_khl_stat, ignore_index=True)\n"
          ]
        },
        {
          "output_type": "stream",
          "name": "stdout",
          "text": [
            "/players/23687/\n"
          ]
        },
        {
          "output_type": "stream",
          "name": "stderr",
          "text": [
            "<ipython-input-7-5e25f54b2bf4>:39: FutureWarning: The frame.append method is deprecated and will be removed from pandas in a future version. Use pandas.concat instead.\n",
            "  list_player_info = list_player_info.append(player_info, ignore_index=True)\n",
            "<ipython-input-7-5e25f54b2bf4>:41: FutureWarning: The frame.append method is deprecated and will be removed from pandas in a future version. Use pandas.concat instead.\n",
            "  list_player_khl_stat = list_player_khl_stat.append(player_khl_stat, ignore_index=True)\n"
          ]
        },
        {
          "output_type": "stream",
          "name": "stdout",
          "text": [
            "/players/17296/\n"
          ]
        },
        {
          "output_type": "stream",
          "name": "stderr",
          "text": [
            "<ipython-input-7-5e25f54b2bf4>:39: FutureWarning: The frame.append method is deprecated and will be removed from pandas in a future version. Use pandas.concat instead.\n",
            "  list_player_info = list_player_info.append(player_info, ignore_index=True)\n",
            "<ipython-input-7-5e25f54b2bf4>:41: FutureWarning: The frame.append method is deprecated and will be removed from pandas in a future version. Use pandas.concat instead.\n",
            "  list_player_khl_stat = list_player_khl_stat.append(player_khl_stat, ignore_index=True)\n"
          ]
        },
        {
          "output_type": "stream",
          "name": "stdout",
          "text": [
            "/players/27372/\n"
          ]
        },
        {
          "output_type": "stream",
          "name": "stderr",
          "text": [
            "<ipython-input-7-5e25f54b2bf4>:39: FutureWarning: The frame.append method is deprecated and will be removed from pandas in a future version. Use pandas.concat instead.\n",
            "  list_player_info = list_player_info.append(player_info, ignore_index=True)\n",
            "<ipython-input-7-5e25f54b2bf4>:41: FutureWarning: The frame.append method is deprecated and will be removed from pandas in a future version. Use pandas.concat instead.\n",
            "  list_player_khl_stat = list_player_khl_stat.append(player_khl_stat, ignore_index=True)\n"
          ]
        },
        {
          "output_type": "stream",
          "name": "stdout",
          "text": [
            "/players/15315/\n"
          ]
        },
        {
          "output_type": "stream",
          "name": "stderr",
          "text": [
            "<ipython-input-7-5e25f54b2bf4>:39: FutureWarning: The frame.append method is deprecated and will be removed from pandas in a future version. Use pandas.concat instead.\n",
            "  list_player_info = list_player_info.append(player_info, ignore_index=True)\n",
            "<ipython-input-7-5e25f54b2bf4>:41: FutureWarning: The frame.append method is deprecated and will be removed from pandas in a future version. Use pandas.concat instead.\n",
            "  list_player_khl_stat = list_player_khl_stat.append(player_khl_stat, ignore_index=True)\n"
          ]
        },
        {
          "output_type": "stream",
          "name": "stdout",
          "text": [
            "/players/22058/\n"
          ]
        },
        {
          "output_type": "stream",
          "name": "stderr",
          "text": [
            "<ipython-input-7-5e25f54b2bf4>:39: FutureWarning: The frame.append method is deprecated and will be removed from pandas in a future version. Use pandas.concat instead.\n",
            "  list_player_info = list_player_info.append(player_info, ignore_index=True)\n",
            "<ipython-input-7-5e25f54b2bf4>:41: FutureWarning: The frame.append method is deprecated and will be removed from pandas in a future version. Use pandas.concat instead.\n",
            "  list_player_khl_stat = list_player_khl_stat.append(player_khl_stat, ignore_index=True)\n"
          ]
        },
        {
          "output_type": "stream",
          "name": "stdout",
          "text": [
            "/players/34919/\n"
          ]
        },
        {
          "output_type": "stream",
          "name": "stderr",
          "text": [
            "<ipython-input-7-5e25f54b2bf4>:39: FutureWarning: The frame.append method is deprecated and will be removed from pandas in a future version. Use pandas.concat instead.\n",
            "  list_player_info = list_player_info.append(player_info, ignore_index=True)\n",
            "<ipython-input-7-5e25f54b2bf4>:41: FutureWarning: The frame.append method is deprecated and will be removed from pandas in a future version. Use pandas.concat instead.\n",
            "  list_player_khl_stat = list_player_khl_stat.append(player_khl_stat, ignore_index=True)\n"
          ]
        },
        {
          "output_type": "stream",
          "name": "stdout",
          "text": [
            "/players/22146/\n"
          ]
        },
        {
          "output_type": "stream",
          "name": "stderr",
          "text": [
            "<ipython-input-7-5e25f54b2bf4>:39: FutureWarning: The frame.append method is deprecated and will be removed from pandas in a future version. Use pandas.concat instead.\n",
            "  list_player_info = list_player_info.append(player_info, ignore_index=True)\n",
            "<ipython-input-7-5e25f54b2bf4>:41: FutureWarning: The frame.append method is deprecated and will be removed from pandas in a future version. Use pandas.concat instead.\n",
            "  list_player_khl_stat = list_player_khl_stat.append(player_khl_stat, ignore_index=True)\n"
          ]
        },
        {
          "output_type": "stream",
          "name": "stdout",
          "text": [
            "/players/23316/\n"
          ]
        },
        {
          "output_type": "stream",
          "name": "stderr",
          "text": [
            "<ipython-input-7-5e25f54b2bf4>:39: FutureWarning: The frame.append method is deprecated and will be removed from pandas in a future version. Use pandas.concat instead.\n",
            "  list_player_info = list_player_info.append(player_info, ignore_index=True)\n",
            "<ipython-input-7-5e25f54b2bf4>:41: FutureWarning: The frame.append method is deprecated and will be removed from pandas in a future version. Use pandas.concat instead.\n",
            "  list_player_khl_stat = list_player_khl_stat.append(player_khl_stat, ignore_index=True)\n"
          ]
        },
        {
          "output_type": "stream",
          "name": "stdout",
          "text": [
            "/players/39087/\n"
          ]
        },
        {
          "output_type": "stream",
          "name": "stderr",
          "text": [
            "<ipython-input-7-5e25f54b2bf4>:39: FutureWarning: The frame.append method is deprecated and will be removed from pandas in a future version. Use pandas.concat instead.\n",
            "  list_player_info = list_player_info.append(player_info, ignore_index=True)\n",
            "<ipython-input-7-5e25f54b2bf4>:41: FutureWarning: The frame.append method is deprecated and will be removed from pandas in a future version. Use pandas.concat instead.\n",
            "  list_player_khl_stat = list_player_khl_stat.append(player_khl_stat, ignore_index=True)\n"
          ]
        },
        {
          "output_type": "stream",
          "name": "stdout",
          "text": [
            "/players/31928/\n"
          ]
        },
        {
          "output_type": "stream",
          "name": "stderr",
          "text": [
            "<ipython-input-7-5e25f54b2bf4>:39: FutureWarning: The frame.append method is deprecated and will be removed from pandas in a future version. Use pandas.concat instead.\n",
            "  list_player_info = list_player_info.append(player_info, ignore_index=True)\n",
            "<ipython-input-7-5e25f54b2bf4>:41: FutureWarning: The frame.append method is deprecated and will be removed from pandas in a future version. Use pandas.concat instead.\n",
            "  list_player_khl_stat = list_player_khl_stat.append(player_khl_stat, ignore_index=True)\n"
          ]
        },
        {
          "output_type": "stream",
          "name": "stdout",
          "text": [
            "/players/24969/\n"
          ]
        },
        {
          "output_type": "stream",
          "name": "stderr",
          "text": [
            "<ipython-input-7-5e25f54b2bf4>:39: FutureWarning: The frame.append method is deprecated and will be removed from pandas in a future version. Use pandas.concat instead.\n",
            "  list_player_info = list_player_info.append(player_info, ignore_index=True)\n",
            "<ipython-input-7-5e25f54b2bf4>:41: FutureWarning: The frame.append method is deprecated and will be removed from pandas in a future version. Use pandas.concat instead.\n",
            "  list_player_khl_stat = list_player_khl_stat.append(player_khl_stat, ignore_index=True)\n"
          ]
        },
        {
          "output_type": "stream",
          "name": "stdout",
          "text": [
            "/players/41896/\n"
          ]
        },
        {
          "output_type": "stream",
          "name": "stderr",
          "text": [
            "<ipython-input-7-5e25f54b2bf4>:39: FutureWarning: The frame.append method is deprecated and will be removed from pandas in a future version. Use pandas.concat instead.\n",
            "  list_player_info = list_player_info.append(player_info, ignore_index=True)\n",
            "<ipython-input-7-5e25f54b2bf4>:41: FutureWarning: The frame.append method is deprecated and will be removed from pandas in a future version. Use pandas.concat instead.\n",
            "  list_player_khl_stat = list_player_khl_stat.append(player_khl_stat, ignore_index=True)\n"
          ]
        },
        {
          "output_type": "stream",
          "name": "stdout",
          "text": [
            "/players/25197/\n"
          ]
        },
        {
          "output_type": "stream",
          "name": "stderr",
          "text": [
            "<ipython-input-7-5e25f54b2bf4>:39: FutureWarning: The frame.append method is deprecated and will be removed from pandas in a future version. Use pandas.concat instead.\n",
            "  list_player_info = list_player_info.append(player_info, ignore_index=True)\n",
            "<ipython-input-7-5e25f54b2bf4>:41: FutureWarning: The frame.append method is deprecated and will be removed from pandas in a future version. Use pandas.concat instead.\n",
            "  list_player_khl_stat = list_player_khl_stat.append(player_khl_stat, ignore_index=True)\n"
          ]
        },
        {
          "output_type": "stream",
          "name": "stdout",
          "text": [
            "/players/25189/\n"
          ]
        },
        {
          "output_type": "stream",
          "name": "stderr",
          "text": [
            "<ipython-input-7-5e25f54b2bf4>:39: FutureWarning: The frame.append method is deprecated and will be removed from pandas in a future version. Use pandas.concat instead.\n",
            "  list_player_info = list_player_info.append(player_info, ignore_index=True)\n",
            "<ipython-input-7-5e25f54b2bf4>:41: FutureWarning: The frame.append method is deprecated and will be removed from pandas in a future version. Use pandas.concat instead.\n",
            "  list_player_khl_stat = list_player_khl_stat.append(player_khl_stat, ignore_index=True)\n"
          ]
        },
        {
          "output_type": "stream",
          "name": "stdout",
          "text": [
            "/players/18033/\n"
          ]
        },
        {
          "output_type": "stream",
          "name": "stderr",
          "text": [
            "<ipython-input-7-5e25f54b2bf4>:39: FutureWarning: The frame.append method is deprecated and will be removed from pandas in a future version. Use pandas.concat instead.\n",
            "  list_player_info = list_player_info.append(player_info, ignore_index=True)\n",
            "<ipython-input-7-5e25f54b2bf4>:41: FutureWarning: The frame.append method is deprecated and will be removed from pandas in a future version. Use pandas.concat instead.\n",
            "  list_player_khl_stat = list_player_khl_stat.append(player_khl_stat, ignore_index=True)\n"
          ]
        },
        {
          "output_type": "stream",
          "name": "stdout",
          "text": [
            "/players/13029/\n"
          ]
        },
        {
          "output_type": "stream",
          "name": "stderr",
          "text": [
            "<ipython-input-7-5e25f54b2bf4>:39: FutureWarning: The frame.append method is deprecated and will be removed from pandas in a future version. Use pandas.concat instead.\n",
            "  list_player_info = list_player_info.append(player_info, ignore_index=True)\n",
            "<ipython-input-7-5e25f54b2bf4>:41: FutureWarning: The frame.append method is deprecated and will be removed from pandas in a future version. Use pandas.concat instead.\n",
            "  list_player_khl_stat = list_player_khl_stat.append(player_khl_stat, ignore_index=True)\n"
          ]
        },
        {
          "output_type": "stream",
          "name": "stdout",
          "text": [
            "/players/13030/\n"
          ]
        },
        {
          "output_type": "stream",
          "name": "stderr",
          "text": [
            "<ipython-input-7-5e25f54b2bf4>:39: FutureWarning: The frame.append method is deprecated and will be removed from pandas in a future version. Use pandas.concat instead.\n",
            "  list_player_info = list_player_info.append(player_info, ignore_index=True)\n",
            "<ipython-input-7-5e25f54b2bf4>:41: FutureWarning: The frame.append method is deprecated and will be removed from pandas in a future version. Use pandas.concat instead.\n",
            "  list_player_khl_stat = list_player_khl_stat.append(player_khl_stat, ignore_index=True)\n"
          ]
        },
        {
          "output_type": "stream",
          "name": "stdout",
          "text": [
            "/players/17572/\n"
          ]
        },
        {
          "output_type": "stream",
          "name": "stderr",
          "text": [
            "<ipython-input-7-5e25f54b2bf4>:39: FutureWarning: The frame.append method is deprecated and will be removed from pandas in a future version. Use pandas.concat instead.\n",
            "  list_player_info = list_player_info.append(player_info, ignore_index=True)\n",
            "<ipython-input-7-5e25f54b2bf4>:41: FutureWarning: The frame.append method is deprecated and will be removed from pandas in a future version. Use pandas.concat instead.\n",
            "  list_player_khl_stat = list_player_khl_stat.append(player_khl_stat, ignore_index=True)\n"
          ]
        },
        {
          "output_type": "stream",
          "name": "stdout",
          "text": [
            "/players/17661/\n"
          ]
        },
        {
          "output_type": "stream",
          "name": "stderr",
          "text": [
            "<ipython-input-7-5e25f54b2bf4>:39: FutureWarning: The frame.append method is deprecated and will be removed from pandas in a future version. Use pandas.concat instead.\n",
            "  list_player_info = list_player_info.append(player_info, ignore_index=True)\n",
            "<ipython-input-7-5e25f54b2bf4>:41: FutureWarning: The frame.append method is deprecated and will be removed from pandas in a future version. Use pandas.concat instead.\n",
            "  list_player_khl_stat = list_player_khl_stat.append(player_khl_stat, ignore_index=True)\n"
          ]
        },
        {
          "output_type": "stream",
          "name": "stdout",
          "text": [
            "/players/17775/\n"
          ]
        },
        {
          "output_type": "stream",
          "name": "stderr",
          "text": [
            "<ipython-input-7-5e25f54b2bf4>:39: FutureWarning: The frame.append method is deprecated and will be removed from pandas in a future version. Use pandas.concat instead.\n",
            "  list_player_info = list_player_info.append(player_info, ignore_index=True)\n",
            "<ipython-input-7-5e25f54b2bf4>:41: FutureWarning: The frame.append method is deprecated and will be removed from pandas in a future version. Use pandas.concat instead.\n",
            "  list_player_khl_stat = list_player_khl_stat.append(player_khl_stat, ignore_index=True)\n"
          ]
        },
        {
          "output_type": "stream",
          "name": "stdout",
          "text": [
            "/players/26870/\n"
          ]
        },
        {
          "output_type": "stream",
          "name": "stderr",
          "text": [
            "<ipython-input-7-5e25f54b2bf4>:39: FutureWarning: The frame.append method is deprecated and will be removed from pandas in a future version. Use pandas.concat instead.\n",
            "  list_player_info = list_player_info.append(player_info, ignore_index=True)\n",
            "<ipython-input-7-5e25f54b2bf4>:41: FutureWarning: The frame.append method is deprecated and will be removed from pandas in a future version. Use pandas.concat instead.\n",
            "  list_player_khl_stat = list_player_khl_stat.append(player_khl_stat, ignore_index=True)\n"
          ]
        },
        {
          "output_type": "stream",
          "name": "stdout",
          "text": [
            "/players/20652/\n"
          ]
        },
        {
          "output_type": "stream",
          "name": "stderr",
          "text": [
            "<ipython-input-7-5e25f54b2bf4>:39: FutureWarning: The frame.append method is deprecated and will be removed from pandas in a future version. Use pandas.concat instead.\n",
            "  list_player_info = list_player_info.append(player_info, ignore_index=True)\n",
            "<ipython-input-7-5e25f54b2bf4>:41: FutureWarning: The frame.append method is deprecated and will be removed from pandas in a future version. Use pandas.concat instead.\n",
            "  list_player_khl_stat = list_player_khl_stat.append(player_khl_stat, ignore_index=True)\n"
          ]
        },
        {
          "output_type": "stream",
          "name": "stdout",
          "text": [
            "/players/15661/\n"
          ]
        },
        {
          "output_type": "stream",
          "name": "stderr",
          "text": [
            "<ipython-input-7-5e25f54b2bf4>:39: FutureWarning: The frame.append method is deprecated and will be removed from pandas in a future version. Use pandas.concat instead.\n",
            "  list_player_info = list_player_info.append(player_info, ignore_index=True)\n",
            "<ipython-input-7-5e25f54b2bf4>:41: FutureWarning: The frame.append method is deprecated and will be removed from pandas in a future version. Use pandas.concat instead.\n",
            "  list_player_khl_stat = list_player_khl_stat.append(player_khl_stat, ignore_index=True)\n"
          ]
        },
        {
          "output_type": "stream",
          "name": "stdout",
          "text": [
            "/players/5101/\n"
          ]
        },
        {
          "output_type": "stream",
          "name": "stderr",
          "text": [
            "<ipython-input-7-5e25f54b2bf4>:39: FutureWarning: The frame.append method is deprecated and will be removed from pandas in a future version. Use pandas.concat instead.\n",
            "  list_player_info = list_player_info.append(player_info, ignore_index=True)\n",
            "<ipython-input-7-5e25f54b2bf4>:41: FutureWarning: The frame.append method is deprecated and will be removed from pandas in a future version. Use pandas.concat instead.\n",
            "  list_player_khl_stat = list_player_khl_stat.append(player_khl_stat, ignore_index=True)\n"
          ]
        },
        {
          "output_type": "stream",
          "name": "stdout",
          "text": [
            "/players/16391/\n"
          ]
        },
        {
          "output_type": "stream",
          "name": "stderr",
          "text": [
            "<ipython-input-7-5e25f54b2bf4>:39: FutureWarning: The frame.append method is deprecated and will be removed from pandas in a future version. Use pandas.concat instead.\n",
            "  list_player_info = list_player_info.append(player_info, ignore_index=True)\n",
            "<ipython-input-7-5e25f54b2bf4>:41: FutureWarning: The frame.append method is deprecated and will be removed from pandas in a future version. Use pandas.concat instead.\n",
            "  list_player_khl_stat = list_player_khl_stat.append(player_khl_stat, ignore_index=True)\n"
          ]
        },
        {
          "output_type": "stream",
          "name": "stdout",
          "text": [
            "/players/39156/\n"
          ]
        },
        {
          "output_type": "stream",
          "name": "stderr",
          "text": [
            "<ipython-input-7-5e25f54b2bf4>:39: FutureWarning: The frame.append method is deprecated and will be removed from pandas in a future version. Use pandas.concat instead.\n",
            "  list_player_info = list_player_info.append(player_info, ignore_index=True)\n",
            "<ipython-input-7-5e25f54b2bf4>:41: FutureWarning: The frame.append method is deprecated and will be removed from pandas in a future version. Use pandas.concat instead.\n",
            "  list_player_khl_stat = list_player_khl_stat.append(player_khl_stat, ignore_index=True)\n"
          ]
        },
        {
          "output_type": "stream",
          "name": "stdout",
          "text": [
            "/players/4084/\n"
          ]
        },
        {
          "output_type": "stream",
          "name": "stderr",
          "text": [
            "<ipython-input-7-5e25f54b2bf4>:39: FutureWarning: The frame.append method is deprecated and will be removed from pandas in a future version. Use pandas.concat instead.\n",
            "  list_player_info = list_player_info.append(player_info, ignore_index=True)\n",
            "<ipython-input-7-5e25f54b2bf4>:41: FutureWarning: The frame.append method is deprecated and will be removed from pandas in a future version. Use pandas.concat instead.\n",
            "  list_player_khl_stat = list_player_khl_stat.append(player_khl_stat, ignore_index=True)\n"
          ]
        },
        {
          "output_type": "stream",
          "name": "stdout",
          "text": [
            "/players/16638/\n"
          ]
        },
        {
          "output_type": "stream",
          "name": "stderr",
          "text": [
            "<ipython-input-7-5e25f54b2bf4>:39: FutureWarning: The frame.append method is deprecated and will be removed from pandas in a future version. Use pandas.concat instead.\n",
            "  list_player_info = list_player_info.append(player_info, ignore_index=True)\n",
            "<ipython-input-7-5e25f54b2bf4>:41: FutureWarning: The frame.append method is deprecated and will be removed from pandas in a future version. Use pandas.concat instead.\n",
            "  list_player_khl_stat = list_player_khl_stat.append(player_khl_stat, ignore_index=True)\n"
          ]
        },
        {
          "output_type": "stream",
          "name": "stdout",
          "text": [
            "/players/22166/\n"
          ]
        },
        {
          "output_type": "stream",
          "name": "stderr",
          "text": [
            "<ipython-input-7-5e25f54b2bf4>:39: FutureWarning: The frame.append method is deprecated and will be removed from pandas in a future version. Use pandas.concat instead.\n",
            "  list_player_info = list_player_info.append(player_info, ignore_index=True)\n",
            "<ipython-input-7-5e25f54b2bf4>:41: FutureWarning: The frame.append method is deprecated and will be removed from pandas in a future version. Use pandas.concat instead.\n",
            "  list_player_khl_stat = list_player_khl_stat.append(player_khl_stat, ignore_index=True)\n"
          ]
        },
        {
          "output_type": "stream",
          "name": "stdout",
          "text": [
            "/players/40837/\n"
          ]
        },
        {
          "output_type": "stream",
          "name": "stderr",
          "text": [
            "<ipython-input-7-5e25f54b2bf4>:39: FutureWarning: The frame.append method is deprecated and will be removed from pandas in a future version. Use pandas.concat instead.\n",
            "  list_player_info = list_player_info.append(player_info, ignore_index=True)\n",
            "<ipython-input-7-5e25f54b2bf4>:41: FutureWarning: The frame.append method is deprecated and will be removed from pandas in a future version. Use pandas.concat instead.\n",
            "  list_player_khl_stat = list_player_khl_stat.append(player_khl_stat, ignore_index=True)\n"
          ]
        },
        {
          "output_type": "stream",
          "name": "stdout",
          "text": [
            "/players/27316/\n"
          ]
        },
        {
          "output_type": "stream",
          "name": "stderr",
          "text": [
            "<ipython-input-7-5e25f54b2bf4>:39: FutureWarning: The frame.append method is deprecated and will be removed from pandas in a future version. Use pandas.concat instead.\n",
            "  list_player_info = list_player_info.append(player_info, ignore_index=True)\n",
            "<ipython-input-7-5e25f54b2bf4>:41: FutureWarning: The frame.append method is deprecated and will be removed from pandas in a future version. Use pandas.concat instead.\n",
            "  list_player_khl_stat = list_player_khl_stat.append(player_khl_stat, ignore_index=True)\n"
          ]
        },
        {
          "output_type": "stream",
          "name": "stdout",
          "text": [
            "/players/23363/\n"
          ]
        },
        {
          "output_type": "stream",
          "name": "stderr",
          "text": [
            "<ipython-input-7-5e25f54b2bf4>:39: FutureWarning: The frame.append method is deprecated and will be removed from pandas in a future version. Use pandas.concat instead.\n",
            "  list_player_info = list_player_info.append(player_info, ignore_index=True)\n",
            "<ipython-input-7-5e25f54b2bf4>:41: FutureWarning: The frame.append method is deprecated and will be removed from pandas in a future version. Use pandas.concat instead.\n",
            "  list_player_khl_stat = list_player_khl_stat.append(player_khl_stat, ignore_index=True)\n"
          ]
        },
        {
          "output_type": "stream",
          "name": "stdout",
          "text": [
            "/players/16893/\n"
          ]
        },
        {
          "output_type": "stream",
          "name": "stderr",
          "text": [
            "<ipython-input-7-5e25f54b2bf4>:39: FutureWarning: The frame.append method is deprecated and will be removed from pandas in a future version. Use pandas.concat instead.\n",
            "  list_player_info = list_player_info.append(player_info, ignore_index=True)\n",
            "<ipython-input-7-5e25f54b2bf4>:41: FutureWarning: The frame.append method is deprecated and will be removed from pandas in a future version. Use pandas.concat instead.\n",
            "  list_player_khl_stat = list_player_khl_stat.append(player_khl_stat, ignore_index=True)\n"
          ]
        },
        {
          "output_type": "stream",
          "name": "stdout",
          "text": [
            "/players/39935/\n"
          ]
        },
        {
          "output_type": "stream",
          "name": "stderr",
          "text": [
            "<ipython-input-7-5e25f54b2bf4>:39: FutureWarning: The frame.append method is deprecated and will be removed from pandas in a future version. Use pandas.concat instead.\n",
            "  list_player_info = list_player_info.append(player_info, ignore_index=True)\n",
            "<ipython-input-7-5e25f54b2bf4>:41: FutureWarning: The frame.append method is deprecated and will be removed from pandas in a future version. Use pandas.concat instead.\n",
            "  list_player_khl_stat = list_player_khl_stat.append(player_khl_stat, ignore_index=True)\n"
          ]
        },
        {
          "output_type": "stream",
          "name": "stdout",
          "text": [
            "/players/15604/\n"
          ]
        },
        {
          "output_type": "stream",
          "name": "stderr",
          "text": [
            "<ipython-input-7-5e25f54b2bf4>:39: FutureWarning: The frame.append method is deprecated and will be removed from pandas in a future version. Use pandas.concat instead.\n",
            "  list_player_info = list_player_info.append(player_info, ignore_index=True)\n",
            "<ipython-input-7-5e25f54b2bf4>:41: FutureWarning: The frame.append method is deprecated and will be removed from pandas in a future version. Use pandas.concat instead.\n",
            "  list_player_khl_stat = list_player_khl_stat.append(player_khl_stat, ignore_index=True)\n"
          ]
        },
        {
          "output_type": "stream",
          "name": "stdout",
          "text": [
            "/players/24882/\n"
          ]
        },
        {
          "output_type": "stream",
          "name": "stderr",
          "text": [
            "<ipython-input-7-5e25f54b2bf4>:39: FutureWarning: The frame.append method is deprecated and will be removed from pandas in a future version. Use pandas.concat instead.\n",
            "  list_player_info = list_player_info.append(player_info, ignore_index=True)\n",
            "<ipython-input-7-5e25f54b2bf4>:41: FutureWarning: The frame.append method is deprecated and will be removed from pandas in a future version. Use pandas.concat instead.\n",
            "  list_player_khl_stat = list_player_khl_stat.append(player_khl_stat, ignore_index=True)\n"
          ]
        },
        {
          "output_type": "stream",
          "name": "stdout",
          "text": [
            "/players/37799/\n"
          ]
        },
        {
          "output_type": "stream",
          "name": "stderr",
          "text": [
            "<ipython-input-7-5e25f54b2bf4>:39: FutureWarning: The frame.append method is deprecated and will be removed from pandas in a future version. Use pandas.concat instead.\n",
            "  list_player_info = list_player_info.append(player_info, ignore_index=True)\n",
            "<ipython-input-7-5e25f54b2bf4>:41: FutureWarning: The frame.append method is deprecated and will be removed from pandas in a future version. Use pandas.concat instead.\n",
            "  list_player_khl_stat = list_player_khl_stat.append(player_khl_stat, ignore_index=True)\n"
          ]
        },
        {
          "output_type": "stream",
          "name": "stdout",
          "text": [
            "/players/35332/\n"
          ]
        },
        {
          "output_type": "stream",
          "name": "stderr",
          "text": [
            "<ipython-input-7-5e25f54b2bf4>:39: FutureWarning: The frame.append method is deprecated and will be removed from pandas in a future version. Use pandas.concat instead.\n",
            "  list_player_info = list_player_info.append(player_info, ignore_index=True)\n",
            "<ipython-input-7-5e25f54b2bf4>:41: FutureWarning: The frame.append method is deprecated and will be removed from pandas in a future version. Use pandas.concat instead.\n",
            "  list_player_khl_stat = list_player_khl_stat.append(player_khl_stat, ignore_index=True)\n"
          ]
        },
        {
          "output_type": "stream",
          "name": "stdout",
          "text": [
            "/players/16365/\n"
          ]
        },
        {
          "output_type": "stream",
          "name": "stderr",
          "text": [
            "<ipython-input-7-5e25f54b2bf4>:39: FutureWarning: The frame.append method is deprecated and will be removed from pandas in a future version. Use pandas.concat instead.\n",
            "  list_player_info = list_player_info.append(player_info, ignore_index=True)\n",
            "<ipython-input-7-5e25f54b2bf4>:41: FutureWarning: The frame.append method is deprecated and will be removed from pandas in a future version. Use pandas.concat instead.\n",
            "  list_player_khl_stat = list_player_khl_stat.append(player_khl_stat, ignore_index=True)\n"
          ]
        },
        {
          "output_type": "stream",
          "name": "stdout",
          "text": [
            "/players/24968/\n"
          ]
        },
        {
          "output_type": "stream",
          "name": "stderr",
          "text": [
            "<ipython-input-7-5e25f54b2bf4>:39: FutureWarning: The frame.append method is deprecated and will be removed from pandas in a future version. Use pandas.concat instead.\n",
            "  list_player_info = list_player_info.append(player_info, ignore_index=True)\n",
            "<ipython-input-7-5e25f54b2bf4>:41: FutureWarning: The frame.append method is deprecated and will be removed from pandas in a future version. Use pandas.concat instead.\n",
            "  list_player_khl_stat = list_player_khl_stat.append(player_khl_stat, ignore_index=True)\n"
          ]
        },
        {
          "output_type": "stream",
          "name": "stdout",
          "text": [
            "/players/20040/\n"
          ]
        },
        {
          "output_type": "stream",
          "name": "stderr",
          "text": [
            "<ipython-input-7-5e25f54b2bf4>:39: FutureWarning: The frame.append method is deprecated and will be removed from pandas in a future version. Use pandas.concat instead.\n",
            "  list_player_info = list_player_info.append(player_info, ignore_index=True)\n",
            "<ipython-input-7-5e25f54b2bf4>:41: FutureWarning: The frame.append method is deprecated and will be removed from pandas in a future version. Use pandas.concat instead.\n",
            "  list_player_khl_stat = list_player_khl_stat.append(player_khl_stat, ignore_index=True)\n"
          ]
        },
        {
          "output_type": "stream",
          "name": "stdout",
          "text": [
            "/players/4701/\n"
          ]
        },
        {
          "output_type": "stream",
          "name": "stderr",
          "text": [
            "<ipython-input-7-5e25f54b2bf4>:39: FutureWarning: The frame.append method is deprecated and will be removed from pandas in a future version. Use pandas.concat instead.\n",
            "  list_player_info = list_player_info.append(player_info, ignore_index=True)\n",
            "<ipython-input-7-5e25f54b2bf4>:41: FutureWarning: The frame.append method is deprecated and will be removed from pandas in a future version. Use pandas.concat instead.\n",
            "  list_player_khl_stat = list_player_khl_stat.append(player_khl_stat, ignore_index=True)\n"
          ]
        },
        {
          "output_type": "stream",
          "name": "stdout",
          "text": [
            "/players/15782/\n"
          ]
        },
        {
          "output_type": "stream",
          "name": "stderr",
          "text": [
            "<ipython-input-7-5e25f54b2bf4>:39: FutureWarning: The frame.append method is deprecated and will be removed from pandas in a future version. Use pandas.concat instead.\n",
            "  list_player_info = list_player_info.append(player_info, ignore_index=True)\n",
            "<ipython-input-7-5e25f54b2bf4>:41: FutureWarning: The frame.append method is deprecated and will be removed from pandas in a future version. Use pandas.concat instead.\n",
            "  list_player_khl_stat = list_player_khl_stat.append(player_khl_stat, ignore_index=True)\n"
          ]
        },
        {
          "output_type": "stream",
          "name": "stdout",
          "text": [
            "/players/19090/\n"
          ]
        },
        {
          "output_type": "stream",
          "name": "stderr",
          "text": [
            "<ipython-input-7-5e25f54b2bf4>:39: FutureWarning: The frame.append method is deprecated and will be removed from pandas in a future version. Use pandas.concat instead.\n",
            "  list_player_info = list_player_info.append(player_info, ignore_index=True)\n",
            "<ipython-input-7-5e25f54b2bf4>:41: FutureWarning: The frame.append method is deprecated and will be removed from pandas in a future version. Use pandas.concat instead.\n",
            "  list_player_khl_stat = list_player_khl_stat.append(player_khl_stat, ignore_index=True)\n"
          ]
        },
        {
          "output_type": "stream",
          "name": "stdout",
          "text": [
            "/players/31868/\n"
          ]
        },
        {
          "output_type": "stream",
          "name": "stderr",
          "text": [
            "<ipython-input-7-5e25f54b2bf4>:39: FutureWarning: The frame.append method is deprecated and will be removed from pandas in a future version. Use pandas.concat instead.\n",
            "  list_player_info = list_player_info.append(player_info, ignore_index=True)\n",
            "<ipython-input-7-5e25f54b2bf4>:41: FutureWarning: The frame.append method is deprecated and will be removed from pandas in a future version. Use pandas.concat instead.\n",
            "  list_player_khl_stat = list_player_khl_stat.append(player_khl_stat, ignore_index=True)\n"
          ]
        },
        {
          "output_type": "stream",
          "name": "stdout",
          "text": [
            "/players/17538/\n"
          ]
        },
        {
          "output_type": "stream",
          "name": "stderr",
          "text": [
            "<ipython-input-7-5e25f54b2bf4>:39: FutureWarning: The frame.append method is deprecated and will be removed from pandas in a future version. Use pandas.concat instead.\n",
            "  list_player_info = list_player_info.append(player_info, ignore_index=True)\n",
            "<ipython-input-7-5e25f54b2bf4>:41: FutureWarning: The frame.append method is deprecated and will be removed from pandas in a future version. Use pandas.concat instead.\n",
            "  list_player_khl_stat = list_player_khl_stat.append(player_khl_stat, ignore_index=True)\n"
          ]
        },
        {
          "output_type": "stream",
          "name": "stdout",
          "text": [
            "/players/3889/\n"
          ]
        },
        {
          "output_type": "stream",
          "name": "stderr",
          "text": [
            "<ipython-input-7-5e25f54b2bf4>:39: FutureWarning: The frame.append method is deprecated and will be removed from pandas in a future version. Use pandas.concat instead.\n",
            "  list_player_info = list_player_info.append(player_info, ignore_index=True)\n",
            "<ipython-input-7-5e25f54b2bf4>:41: FutureWarning: The frame.append method is deprecated and will be removed from pandas in a future version. Use pandas.concat instead.\n",
            "  list_player_khl_stat = list_player_khl_stat.append(player_khl_stat, ignore_index=True)\n"
          ]
        },
        {
          "output_type": "stream",
          "name": "stdout",
          "text": [
            "/players/16116/\n"
          ]
        },
        {
          "output_type": "stream",
          "name": "stderr",
          "text": [
            "<ipython-input-7-5e25f54b2bf4>:39: FutureWarning: The frame.append method is deprecated and will be removed from pandas in a future version. Use pandas.concat instead.\n",
            "  list_player_info = list_player_info.append(player_info, ignore_index=True)\n",
            "<ipython-input-7-5e25f54b2bf4>:41: FutureWarning: The frame.append method is deprecated and will be removed from pandas in a future version. Use pandas.concat instead.\n",
            "  list_player_khl_stat = list_player_khl_stat.append(player_khl_stat, ignore_index=True)\n"
          ]
        },
        {
          "output_type": "stream",
          "name": "stdout",
          "text": [
            "/players/4703/\n"
          ]
        },
        {
          "output_type": "stream",
          "name": "stderr",
          "text": [
            "<ipython-input-7-5e25f54b2bf4>:39: FutureWarning: The frame.append method is deprecated and will be removed from pandas in a future version. Use pandas.concat instead.\n",
            "  list_player_info = list_player_info.append(player_info, ignore_index=True)\n",
            "<ipython-input-7-5e25f54b2bf4>:41: FutureWarning: The frame.append method is deprecated and will be removed from pandas in a future version. Use pandas.concat instead.\n",
            "  list_player_khl_stat = list_player_khl_stat.append(player_khl_stat, ignore_index=True)\n"
          ]
        },
        {
          "output_type": "stream",
          "name": "stdout",
          "text": [
            "/players/16207/\n"
          ]
        },
        {
          "output_type": "stream",
          "name": "stderr",
          "text": [
            "<ipython-input-7-5e25f54b2bf4>:39: FutureWarning: The frame.append method is deprecated and will be removed from pandas in a future version. Use pandas.concat instead.\n",
            "  list_player_info = list_player_info.append(player_info, ignore_index=True)\n",
            "<ipython-input-7-5e25f54b2bf4>:41: FutureWarning: The frame.append method is deprecated and will be removed from pandas in a future version. Use pandas.concat instead.\n",
            "  list_player_khl_stat = list_player_khl_stat.append(player_khl_stat, ignore_index=True)\n"
          ]
        },
        {
          "output_type": "stream",
          "name": "stdout",
          "text": [
            "/players/30920/\n"
          ]
        },
        {
          "output_type": "stream",
          "name": "stderr",
          "text": [
            "<ipython-input-7-5e25f54b2bf4>:39: FutureWarning: The frame.append method is deprecated and will be removed from pandas in a future version. Use pandas.concat instead.\n",
            "  list_player_info = list_player_info.append(player_info, ignore_index=True)\n",
            "<ipython-input-7-5e25f54b2bf4>:41: FutureWarning: The frame.append method is deprecated and will be removed from pandas in a future version. Use pandas.concat instead.\n",
            "  list_player_khl_stat = list_player_khl_stat.append(player_khl_stat, ignore_index=True)\n"
          ]
        },
        {
          "output_type": "stream",
          "name": "stdout",
          "text": [
            "/players/30671/\n"
          ]
        },
        {
          "output_type": "stream",
          "name": "stderr",
          "text": [
            "<ipython-input-7-5e25f54b2bf4>:39: FutureWarning: The frame.append method is deprecated and will be removed from pandas in a future version. Use pandas.concat instead.\n",
            "  list_player_info = list_player_info.append(player_info, ignore_index=True)\n",
            "<ipython-input-7-5e25f54b2bf4>:41: FutureWarning: The frame.append method is deprecated and will be removed from pandas in a future version. Use pandas.concat instead.\n",
            "  list_player_khl_stat = list_player_khl_stat.append(player_khl_stat, ignore_index=True)\n"
          ]
        },
        {
          "output_type": "stream",
          "name": "stdout",
          "text": [
            "/players/20988/\n"
          ]
        },
        {
          "output_type": "stream",
          "name": "stderr",
          "text": [
            "<ipython-input-7-5e25f54b2bf4>:39: FutureWarning: The frame.append method is deprecated and will be removed from pandas in a future version. Use pandas.concat instead.\n",
            "  list_player_info = list_player_info.append(player_info, ignore_index=True)\n",
            "<ipython-input-7-5e25f54b2bf4>:41: FutureWarning: The frame.append method is deprecated and will be removed from pandas in a future version. Use pandas.concat instead.\n",
            "  list_player_khl_stat = list_player_khl_stat.append(player_khl_stat, ignore_index=True)\n"
          ]
        },
        {
          "output_type": "stream",
          "name": "stdout",
          "text": [
            "/players/24943/\n"
          ]
        },
        {
          "output_type": "stream",
          "name": "stderr",
          "text": [
            "<ipython-input-7-5e25f54b2bf4>:39: FutureWarning: The frame.append method is deprecated and will be removed from pandas in a future version. Use pandas.concat instead.\n",
            "  list_player_info = list_player_info.append(player_info, ignore_index=True)\n",
            "<ipython-input-7-5e25f54b2bf4>:41: FutureWarning: The frame.append method is deprecated and will be removed from pandas in a future version. Use pandas.concat instead.\n",
            "  list_player_khl_stat = list_player_khl_stat.append(player_khl_stat, ignore_index=True)\n"
          ]
        },
        {
          "output_type": "stream",
          "name": "stdout",
          "text": [
            "/players/16024/\n"
          ]
        },
        {
          "output_type": "stream",
          "name": "stderr",
          "text": [
            "<ipython-input-7-5e25f54b2bf4>:39: FutureWarning: The frame.append method is deprecated and will be removed from pandas in a future version. Use pandas.concat instead.\n",
            "  list_player_info = list_player_info.append(player_info, ignore_index=True)\n",
            "<ipython-input-7-5e25f54b2bf4>:41: FutureWarning: The frame.append method is deprecated and will be removed from pandas in a future version. Use pandas.concat instead.\n",
            "  list_player_khl_stat = list_player_khl_stat.append(player_khl_stat, ignore_index=True)\n"
          ]
        },
        {
          "output_type": "stream",
          "name": "stdout",
          "text": [
            "/players/29908/\n"
          ]
        },
        {
          "output_type": "stream",
          "name": "stderr",
          "text": [
            "<ipython-input-7-5e25f54b2bf4>:39: FutureWarning: The frame.append method is deprecated and will be removed from pandas in a future version. Use pandas.concat instead.\n",
            "  list_player_info = list_player_info.append(player_info, ignore_index=True)\n",
            "<ipython-input-7-5e25f54b2bf4>:41: FutureWarning: The frame.append method is deprecated and will be removed from pandas in a future version. Use pandas.concat instead.\n",
            "  list_player_khl_stat = list_player_khl_stat.append(player_khl_stat, ignore_index=True)\n"
          ]
        },
        {
          "output_type": "stream",
          "name": "stdout",
          "text": [
            "/players/23227/\n"
          ]
        },
        {
          "output_type": "stream",
          "name": "stderr",
          "text": [
            "<ipython-input-7-5e25f54b2bf4>:39: FutureWarning: The frame.append method is deprecated and will be removed from pandas in a future version. Use pandas.concat instead.\n",
            "  list_player_info = list_player_info.append(player_info, ignore_index=True)\n",
            "<ipython-input-7-5e25f54b2bf4>:41: FutureWarning: The frame.append method is deprecated and will be removed from pandas in a future version. Use pandas.concat instead.\n",
            "  list_player_khl_stat = list_player_khl_stat.append(player_khl_stat, ignore_index=True)\n"
          ]
        },
        {
          "output_type": "stream",
          "name": "stdout",
          "text": [
            "/players/15579/\n"
          ]
        },
        {
          "output_type": "stream",
          "name": "stderr",
          "text": [
            "<ipython-input-7-5e25f54b2bf4>:39: FutureWarning: The frame.append method is deprecated and will be removed from pandas in a future version. Use pandas.concat instead.\n",
            "  list_player_info = list_player_info.append(player_info, ignore_index=True)\n",
            "<ipython-input-7-5e25f54b2bf4>:41: FutureWarning: The frame.append method is deprecated and will be removed from pandas in a future version. Use pandas.concat instead.\n",
            "  list_player_khl_stat = list_player_khl_stat.append(player_khl_stat, ignore_index=True)\n"
          ]
        },
        {
          "output_type": "stream",
          "name": "stdout",
          "text": [
            "/players/13928/\n"
          ]
        },
        {
          "output_type": "stream",
          "name": "stderr",
          "text": [
            "<ipython-input-7-5e25f54b2bf4>:39: FutureWarning: The frame.append method is deprecated and will be removed from pandas in a future version. Use pandas.concat instead.\n",
            "  list_player_info = list_player_info.append(player_info, ignore_index=True)\n",
            "<ipython-input-7-5e25f54b2bf4>:41: FutureWarning: The frame.append method is deprecated and will be removed from pandas in a future version. Use pandas.concat instead.\n",
            "  list_player_khl_stat = list_player_khl_stat.append(player_khl_stat, ignore_index=True)\n"
          ]
        },
        {
          "output_type": "stream",
          "name": "stdout",
          "text": [
            "/players/27096/\n"
          ]
        },
        {
          "output_type": "stream",
          "name": "stderr",
          "text": [
            "<ipython-input-7-5e25f54b2bf4>:39: FutureWarning: The frame.append method is deprecated and will be removed from pandas in a future version. Use pandas.concat instead.\n",
            "  list_player_info = list_player_info.append(player_info, ignore_index=True)\n",
            "<ipython-input-7-5e25f54b2bf4>:41: FutureWarning: The frame.append method is deprecated and will be removed from pandas in a future version. Use pandas.concat instead.\n",
            "  list_player_khl_stat = list_player_khl_stat.append(player_khl_stat, ignore_index=True)\n"
          ]
        },
        {
          "output_type": "stream",
          "name": "stdout",
          "text": [
            "/players/16443/\n"
          ]
        },
        {
          "output_type": "stream",
          "name": "stderr",
          "text": [
            "<ipython-input-7-5e25f54b2bf4>:39: FutureWarning: The frame.append method is deprecated and will be removed from pandas in a future version. Use pandas.concat instead.\n",
            "  list_player_info = list_player_info.append(player_info, ignore_index=True)\n",
            "<ipython-input-7-5e25f54b2bf4>:41: FutureWarning: The frame.append method is deprecated and will be removed from pandas in a future version. Use pandas.concat instead.\n",
            "  list_player_khl_stat = list_player_khl_stat.append(player_khl_stat, ignore_index=True)\n"
          ]
        },
        {
          "output_type": "stream",
          "name": "stdout",
          "text": [
            "/players/19061/\n"
          ]
        },
        {
          "output_type": "stream",
          "name": "stderr",
          "text": [
            "<ipython-input-7-5e25f54b2bf4>:39: FutureWarning: The frame.append method is deprecated and will be removed from pandas in a future version. Use pandas.concat instead.\n",
            "  list_player_info = list_player_info.append(player_info, ignore_index=True)\n",
            "<ipython-input-7-5e25f54b2bf4>:41: FutureWarning: The frame.append method is deprecated and will be removed from pandas in a future version. Use pandas.concat instead.\n",
            "  list_player_khl_stat = list_player_khl_stat.append(player_khl_stat, ignore_index=True)\n"
          ]
        },
        {
          "output_type": "stream",
          "name": "stdout",
          "text": [
            "/players/17610/\n"
          ]
        },
        {
          "output_type": "stream",
          "name": "stderr",
          "text": [
            "<ipython-input-7-5e25f54b2bf4>:39: FutureWarning: The frame.append method is deprecated and will be removed from pandas in a future version. Use pandas.concat instead.\n",
            "  list_player_info = list_player_info.append(player_info, ignore_index=True)\n",
            "<ipython-input-7-5e25f54b2bf4>:41: FutureWarning: The frame.append method is deprecated and will be removed from pandas in a future version. Use pandas.concat instead.\n",
            "  list_player_khl_stat = list_player_khl_stat.append(player_khl_stat, ignore_index=True)\n"
          ]
        },
        {
          "output_type": "stream",
          "name": "stdout",
          "text": [
            "/players/33632/\n"
          ]
        },
        {
          "output_type": "stream",
          "name": "stderr",
          "text": [
            "<ipython-input-7-5e25f54b2bf4>:39: FutureWarning: The frame.append method is deprecated and will be removed from pandas in a future version. Use pandas.concat instead.\n",
            "  list_player_info = list_player_info.append(player_info, ignore_index=True)\n",
            "<ipython-input-7-5e25f54b2bf4>:41: FutureWarning: The frame.append method is deprecated and will be removed from pandas in a future version. Use pandas.concat instead.\n",
            "  list_player_khl_stat = list_player_khl_stat.append(player_khl_stat, ignore_index=True)\n"
          ]
        },
        {
          "output_type": "stream",
          "name": "stdout",
          "text": [
            "/players/16125/\n"
          ]
        },
        {
          "output_type": "stream",
          "name": "stderr",
          "text": [
            "<ipython-input-7-5e25f54b2bf4>:39: FutureWarning: The frame.append method is deprecated and will be removed from pandas in a future version. Use pandas.concat instead.\n",
            "  list_player_info = list_player_info.append(player_info, ignore_index=True)\n",
            "<ipython-input-7-5e25f54b2bf4>:41: FutureWarning: The frame.append method is deprecated and will be removed from pandas in a future version. Use pandas.concat instead.\n",
            "  list_player_khl_stat = list_player_khl_stat.append(player_khl_stat, ignore_index=True)\n"
          ]
        },
        {
          "output_type": "stream",
          "name": "stdout",
          "text": [
            "/players/9495/\n"
          ]
        },
        {
          "output_type": "stream",
          "name": "stderr",
          "text": [
            "<ipython-input-7-5e25f54b2bf4>:39: FutureWarning: The frame.append method is deprecated and will be removed from pandas in a future version. Use pandas.concat instead.\n",
            "  list_player_info = list_player_info.append(player_info, ignore_index=True)\n",
            "<ipython-input-7-5e25f54b2bf4>:41: FutureWarning: The frame.append method is deprecated and will be removed from pandas in a future version. Use pandas.concat instead.\n",
            "  list_player_khl_stat = list_player_khl_stat.append(player_khl_stat, ignore_index=True)\n"
          ]
        }
      ]
    },
    {
      "cell_type": "code",
      "source": [
        "list_player_info"
      ],
      "metadata": {
        "colab": {
          "base_uri": "https://localhost:8080/",
          "height": 748
        },
        "id": "h6fcrztfiUKL",
        "outputId": "69b9929e-483c-462e-e08e-8951dedc2fe8"
      },
      "execution_count": null,
      "outputs": [
        {
          "output_type": "execute_result",
          "data": {
            "text/plain": [
              "                                   URL          Player name Position  \\\n",
              "0    https://en.khl.ru//players/16785/   Juhamatti Aaltonen  forward   \n",
              "1    https://en.khl.ru//players/17585/        Miro Aaltonen  forward   \n",
              "2    https://en.khl.ru//players/13041/  Ruslan Abdrakhmanov  forward   \n",
              "3    https://en.khl.ru//players/38736/       Jindrich Abdul  forward   \n",
              "4    https://en.khl.ru//players/13873/       Denis Abdullin  forward   \n",
              "..                                 ...                  ...      ...   \n",
              "613  https://en.khl.ru//players/19061/      Viktor Zakharov  forward   \n",
              "614  https://en.khl.ru//players/17610/    Vladilen Zakharov  forward   \n",
              "615  https://en.khl.ru//players/33632/   Zakhar V. Zakharov  forward   \n",
              "616  https://en.khl.ru//players/16125/    Alexander Zakirov  forward   \n",
              "617   https://en.khl.ru//players/9495/        Radik Zakiyev  forward   \n",
              "\n",
              "              (Born,) (Age,) (Country,) (Height,) (Weight,) (Shoots,)  \\\n",
              "0         4 June 1985     37    Finland       184        89     right   \n",
              "1         7 June 1993     29    Finland       177        84      left   \n",
              "2    25 December 1984     38     Russia       178        77      left   \n",
              "3     1 February 1996     27    Czechia       185        85      left   \n",
              "4      1 January 1985     38     Russia       185        90      left   \n",
              "..                ...    ...        ...       ...       ...       ...   \n",
              "613    8 January 1994     29    Ukraine       194        85      left   \n",
              "614   12 January 1994     29     Russia       194       104     right   \n",
              "615    9 January 2002     21     Russia       181        69      left   \n",
              "616       8 July 1992     30     Russia       175        78      left   \n",
              "617  23 December 1986     36     Russia       188        95      left   \n",
              "\n",
              "    (Contract to:,) (Contract type:,) (Died,)  \n",
              "0               NaN               NaN     NaN  \n",
              "1               NaN               NaN     NaN  \n",
              "2               NaN               NaN     NaN  \n",
              "3               NaN               NaN     NaN  \n",
              "4               NaN               NaN     NaN  \n",
              "..              ...               ...     ...  \n",
              "613             NaN               NaN     NaN  \n",
              "614             NaN               NaN     NaN  \n",
              "615             NaN               NaN     NaN  \n",
              "616             NaN               NaN     NaN  \n",
              "617             NaN               NaN     NaN  \n",
              "\n",
              "[618 rows x 12 columns]"
            ],
            "text/html": [
              "\n",
              "  <div id=\"df-4d808061-436a-4d58-b3e8-061a6d5f1f04\">\n",
              "    <div class=\"colab-df-container\">\n",
              "      <div>\n",
              "<style scoped>\n",
              "    .dataframe tbody tr th:only-of-type {\n",
              "        vertical-align: middle;\n",
              "    }\n",
              "\n",
              "    .dataframe tbody tr th {\n",
              "        vertical-align: top;\n",
              "    }\n",
              "\n",
              "    .dataframe thead th {\n",
              "        text-align: right;\n",
              "    }\n",
              "</style>\n",
              "<table border=\"1\" class=\"dataframe\">\n",
              "  <thead>\n",
              "    <tr style=\"text-align: right;\">\n",
              "      <th></th>\n",
              "      <th>URL</th>\n",
              "      <th>Player name</th>\n",
              "      <th>Position</th>\n",
              "      <th>(Born,)</th>\n",
              "      <th>(Age,)</th>\n",
              "      <th>(Country,)</th>\n",
              "      <th>(Height,)</th>\n",
              "      <th>(Weight,)</th>\n",
              "      <th>(Shoots,)</th>\n",
              "      <th>(Contract to:,)</th>\n",
              "      <th>(Contract type:,)</th>\n",
              "      <th>(Died,)</th>\n",
              "    </tr>\n",
              "  </thead>\n",
              "  <tbody>\n",
              "    <tr>\n",
              "      <th>0</th>\n",
              "      <td>https://en.khl.ru//players/16785/</td>\n",
              "      <td>Juhamatti Aaltonen</td>\n",
              "      <td>forward</td>\n",
              "      <td>4 June 1985</td>\n",
              "      <td>37</td>\n",
              "      <td>Finland</td>\n",
              "      <td>184</td>\n",
              "      <td>89</td>\n",
              "      <td>right</td>\n",
              "      <td>NaN</td>\n",
              "      <td>NaN</td>\n",
              "      <td>NaN</td>\n",
              "    </tr>\n",
              "    <tr>\n",
              "      <th>1</th>\n",
              "      <td>https://en.khl.ru//players/17585/</td>\n",
              "      <td>Miro Aaltonen</td>\n",
              "      <td>forward</td>\n",
              "      <td>7 June 1993</td>\n",
              "      <td>29</td>\n",
              "      <td>Finland</td>\n",
              "      <td>177</td>\n",
              "      <td>84</td>\n",
              "      <td>left</td>\n",
              "      <td>NaN</td>\n",
              "      <td>NaN</td>\n",
              "      <td>NaN</td>\n",
              "    </tr>\n",
              "    <tr>\n",
              "      <th>2</th>\n",
              "      <td>https://en.khl.ru//players/13041/</td>\n",
              "      <td>Ruslan Abdrakhmanov</td>\n",
              "      <td>forward</td>\n",
              "      <td>25 December 1984</td>\n",
              "      <td>38</td>\n",
              "      <td>Russia</td>\n",
              "      <td>178</td>\n",
              "      <td>77</td>\n",
              "      <td>left</td>\n",
              "      <td>NaN</td>\n",
              "      <td>NaN</td>\n",
              "      <td>NaN</td>\n",
              "    </tr>\n",
              "    <tr>\n",
              "      <th>3</th>\n",
              "      <td>https://en.khl.ru//players/38736/</td>\n",
              "      <td>Jindrich Abdul</td>\n",
              "      <td>forward</td>\n",
              "      <td>1 February 1996</td>\n",
              "      <td>27</td>\n",
              "      <td>Czechia</td>\n",
              "      <td>185</td>\n",
              "      <td>85</td>\n",
              "      <td>left</td>\n",
              "      <td>NaN</td>\n",
              "      <td>NaN</td>\n",
              "      <td>NaN</td>\n",
              "    </tr>\n",
              "    <tr>\n",
              "      <th>4</th>\n",
              "      <td>https://en.khl.ru//players/13873/</td>\n",
              "      <td>Denis Abdullin</td>\n",
              "      <td>forward</td>\n",
              "      <td>1 January 1985</td>\n",
              "      <td>38</td>\n",
              "      <td>Russia</td>\n",
              "      <td>185</td>\n",
              "      <td>90</td>\n",
              "      <td>left</td>\n",
              "      <td>NaN</td>\n",
              "      <td>NaN</td>\n",
              "      <td>NaN</td>\n",
              "    </tr>\n",
              "    <tr>\n",
              "      <th>...</th>\n",
              "      <td>...</td>\n",
              "      <td>...</td>\n",
              "      <td>...</td>\n",
              "      <td>...</td>\n",
              "      <td>...</td>\n",
              "      <td>...</td>\n",
              "      <td>...</td>\n",
              "      <td>...</td>\n",
              "      <td>...</td>\n",
              "      <td>...</td>\n",
              "      <td>...</td>\n",
              "      <td>...</td>\n",
              "    </tr>\n",
              "    <tr>\n",
              "      <th>613</th>\n",
              "      <td>https://en.khl.ru//players/19061/</td>\n",
              "      <td>Viktor Zakharov</td>\n",
              "      <td>forward</td>\n",
              "      <td>8 January 1994</td>\n",
              "      <td>29</td>\n",
              "      <td>Ukraine</td>\n",
              "      <td>194</td>\n",
              "      <td>85</td>\n",
              "      <td>left</td>\n",
              "      <td>NaN</td>\n",
              "      <td>NaN</td>\n",
              "      <td>NaN</td>\n",
              "    </tr>\n",
              "    <tr>\n",
              "      <th>614</th>\n",
              "      <td>https://en.khl.ru//players/17610/</td>\n",
              "      <td>Vladilen Zakharov</td>\n",
              "      <td>forward</td>\n",
              "      <td>12 January 1994</td>\n",
              "      <td>29</td>\n",
              "      <td>Russia</td>\n",
              "      <td>194</td>\n",
              "      <td>104</td>\n",
              "      <td>right</td>\n",
              "      <td>NaN</td>\n",
              "      <td>NaN</td>\n",
              "      <td>NaN</td>\n",
              "    </tr>\n",
              "    <tr>\n",
              "      <th>615</th>\n",
              "      <td>https://en.khl.ru//players/33632/</td>\n",
              "      <td>Zakhar V. Zakharov</td>\n",
              "      <td>forward</td>\n",
              "      <td>9 January 2002</td>\n",
              "      <td>21</td>\n",
              "      <td>Russia</td>\n",
              "      <td>181</td>\n",
              "      <td>69</td>\n",
              "      <td>left</td>\n",
              "      <td>NaN</td>\n",
              "      <td>NaN</td>\n",
              "      <td>NaN</td>\n",
              "    </tr>\n",
              "    <tr>\n",
              "      <th>616</th>\n",
              "      <td>https://en.khl.ru//players/16125/</td>\n",
              "      <td>Alexander Zakirov</td>\n",
              "      <td>forward</td>\n",
              "      <td>8 July 1992</td>\n",
              "      <td>30</td>\n",
              "      <td>Russia</td>\n",
              "      <td>175</td>\n",
              "      <td>78</td>\n",
              "      <td>left</td>\n",
              "      <td>NaN</td>\n",
              "      <td>NaN</td>\n",
              "      <td>NaN</td>\n",
              "    </tr>\n",
              "    <tr>\n",
              "      <th>617</th>\n",
              "      <td>https://en.khl.ru//players/9495/</td>\n",
              "      <td>Radik Zakiyev</td>\n",
              "      <td>forward</td>\n",
              "      <td>23 December 1986</td>\n",
              "      <td>36</td>\n",
              "      <td>Russia</td>\n",
              "      <td>188</td>\n",
              "      <td>95</td>\n",
              "      <td>left</td>\n",
              "      <td>NaN</td>\n",
              "      <td>NaN</td>\n",
              "      <td>NaN</td>\n",
              "    </tr>\n",
              "  </tbody>\n",
              "</table>\n",
              "<p>618 rows × 12 columns</p>\n",
              "</div>\n",
              "      <button class=\"colab-df-convert\" onclick=\"convertToInteractive('df-4d808061-436a-4d58-b3e8-061a6d5f1f04')\"\n",
              "              title=\"Convert this dataframe to an interactive table.\"\n",
              "              style=\"display:none;\">\n",
              "        \n",
              "  <svg xmlns=\"http://www.w3.org/2000/svg\" height=\"24px\"viewBox=\"0 0 24 24\"\n",
              "       width=\"24px\">\n",
              "    <path d=\"M0 0h24v24H0V0z\" fill=\"none\"/>\n",
              "    <path d=\"M18.56 5.44l.94 2.06.94-2.06 2.06-.94-2.06-.94-.94-2.06-.94 2.06-2.06.94zm-11 1L8.5 8.5l.94-2.06 2.06-.94-2.06-.94L8.5 2.5l-.94 2.06-2.06.94zm10 10l.94 2.06.94-2.06 2.06-.94-2.06-.94-.94-2.06-.94 2.06-2.06.94z\"/><path d=\"M17.41 7.96l-1.37-1.37c-.4-.4-.92-.59-1.43-.59-.52 0-1.04.2-1.43.59L10.3 9.45l-7.72 7.72c-.78.78-.78 2.05 0 2.83L4 21.41c.39.39.9.59 1.41.59.51 0 1.02-.2 1.41-.59l7.78-7.78 2.81-2.81c.8-.78.8-2.07 0-2.86zM5.41 20L4 18.59l7.72-7.72 1.47 1.35L5.41 20z\"/>\n",
              "  </svg>\n",
              "      </button>\n",
              "      \n",
              "  <style>\n",
              "    .colab-df-container {\n",
              "      display:flex;\n",
              "      flex-wrap:wrap;\n",
              "      gap: 12px;\n",
              "    }\n",
              "\n",
              "    .colab-df-convert {\n",
              "      background-color: #E8F0FE;\n",
              "      border: none;\n",
              "      border-radius: 50%;\n",
              "      cursor: pointer;\n",
              "      display: none;\n",
              "      fill: #1967D2;\n",
              "      height: 32px;\n",
              "      padding: 0 0 0 0;\n",
              "      width: 32px;\n",
              "    }\n",
              "\n",
              "    .colab-df-convert:hover {\n",
              "      background-color: #E2EBFA;\n",
              "      box-shadow: 0px 1px 2px rgba(60, 64, 67, 0.3), 0px 1px 3px 1px rgba(60, 64, 67, 0.15);\n",
              "      fill: #174EA6;\n",
              "    }\n",
              "\n",
              "    [theme=dark] .colab-df-convert {\n",
              "      background-color: #3B4455;\n",
              "      fill: #D2E3FC;\n",
              "    }\n",
              "\n",
              "    [theme=dark] .colab-df-convert:hover {\n",
              "      background-color: #434B5C;\n",
              "      box-shadow: 0px 1px 3px 1px rgba(0, 0, 0, 0.15);\n",
              "      filter: drop-shadow(0px 1px 2px rgba(0, 0, 0, 0.3));\n",
              "      fill: #FFFFFF;\n",
              "    }\n",
              "  </style>\n",
              "\n",
              "      <script>\n",
              "        const buttonEl =\n",
              "          document.querySelector('#df-4d808061-436a-4d58-b3e8-061a6d5f1f04 button.colab-df-convert');\n",
              "        buttonEl.style.display =\n",
              "          google.colab.kernel.accessAllowed ? 'block' : 'none';\n",
              "\n",
              "        async function convertToInteractive(key) {\n",
              "          const element = document.querySelector('#df-4d808061-436a-4d58-b3e8-061a6d5f1f04');\n",
              "          const dataTable =\n",
              "            await google.colab.kernel.invokeFunction('convertToInteractive',\n",
              "                                                     [key], {});\n",
              "          if (!dataTable) return;\n",
              "\n",
              "          const docLinkHtml = 'Like what you see? Visit the ' +\n",
              "            '<a target=\"_blank\" href=https://colab.research.google.com/notebooks/data_table.ipynb>data table notebook</a>'\n",
              "            + ' to learn more about interactive tables.';\n",
              "          element.innerHTML = '';\n",
              "          dataTable['output_type'] = 'display_data';\n",
              "          await google.colab.output.renderOutput(dataTable, element);\n",
              "          const docLink = document.createElement('div');\n",
              "          docLink.innerHTML = docLinkHtml;\n",
              "          element.appendChild(docLink);\n",
              "        }\n",
              "      </script>\n",
              "    </div>\n",
              "  </div>\n",
              "  "
            ]
          },
          "metadata": {},
          "execution_count": 8
        }
      ]
    },
    {
      "cell_type": "code",
      "source": [
        "list_player_career_stat"
      ],
      "metadata": {
        "colab": {
          "base_uri": "https://localhost:8080/",
          "height": 678
        },
        "id": "Ut4sBYntia8k",
        "outputId": "b0204476-9444-40f7-8b72-1500387307f2"
      },
      "execution_count": null,
      "outputs": [
        {
          "output_type": "execute_result",
          "data": {
            "text/plain": [
              "                                    URL         Player name Position  \\\n",
              "0     https://en.khl.ru//players/16785/  Juhamatti Aaltonen  forward   \n",
              "1     https://en.khl.ru//players/16785/  Juhamatti Aaltonen  forward   \n",
              "2     https://en.khl.ru//players/16785/  Juhamatti Aaltonen  forward   \n",
              "3     https://en.khl.ru//players/16785/  Juhamatti Aaltonen  forward   \n",
              "4     https://en.khl.ru//players/16785/  Juhamatti Aaltonen  forward   \n",
              "...                                 ...                 ...      ...   \n",
              "5202   https://en.khl.ru//players/9495/       Radik Zakiyev  forward   \n",
              "5203   https://en.khl.ru//players/9495/       Radik Zakiyev  forward   \n",
              "5204   https://en.khl.ru//players/9495/       Radik Zakiyev  forward   \n",
              "5205   https://en.khl.ru//players/9495/       Radik Zakiyev  forward   \n",
              "5206   https://en.khl.ru//players/9495/       Radik Zakiyev  forward   \n",
              "\n",
              "                Season            Tournament/Team     №    GP     G  Assists  \\\n",
              "0     15/16 | playoffs         Jokerit (Helsinki)  50.0   6.0   0.0      1.0   \n",
              "1      15/16 | regular         Jokerit (Helsinki)  50.0  45.0  15.0     13.0   \n",
              "2     14/15 | playoffs         Jokerit (Helsinki)  50.0  10.0   4.0      2.0   \n",
              "3      14/15 | regular         Jokerit (Helsinki)  50.0  48.0  10.0     24.0   \n",
              "4     11/12 | playoffs   Metallurg (Magnitogorsk)  50.0   8.0   1.0      2.0   \n",
              "...                ...                        ...   ...   ...   ...      ...   \n",
              "5202   11/12 | regular          Amur (Khabarovsk)  10.0  33.0   2.0     10.0   \n",
              "5203   11/12 | regular                   Summary:   NaN  41.0   2.0     11.0   \n",
              "5204   10/11 | regular          Amur (Khabarovsk)  10.0  54.0  12.0     13.0   \n",
              "5205   09/10 | regular          Amur (Khabarovsk)  10.0  42.0   3.0      3.0   \n",
              "5206   08/09 | regular  Neftekhimik (Nizhnekamsk)  17.0   6.0   0.0      0.0   \n",
              "\n",
              "       PTS  ...  TIE/G  SFTE/G  TIPP/G  SFTPP/G  TISH/G  SFTSH/G  HITS   BLS  \\\n",
              "0      1.0  ...  11:25   17.33   03:55      4.0   00:00      0.0   3.0   0.0   \n",
              "1     28.0  ...  12:21    17.8   02:35     3.33   00:08     0.22  10.0  10.0   \n",
              "2      6.0  ...  12:01    18.2   02:51      4.0   00:00      0.1   4.0   1.0   \n",
              "3     34.0  ...  12:26   16.56   03:14     3.92   00:02     0.06  14.0   6.0   \n",
              "4      3.0  ...  13:01    20.0   01:27     2.13   00:42     1.25   NaN   NaN   \n",
              "...    ...  ...    ...     ...     ...      ...     ...      ...   ...   ...   \n",
              "5202  12.0  ...  10:55    16.0   00:22     1.39   01:50     3.12   NaN   NaN   \n",
              "5203  13.0  ...  10:40   15.51   00:34     1.61   01:29     2.51   NaN   NaN   \n",
              "5204  25.0  ...  11:15   15.59   02:28     3.52   01:09      2.0   NaN   NaN   \n",
              "5205   6.0  ...  09:38   12.79   00:42     1.43   01:18     2.14   NaN   NaN   \n",
              "5206   0.0  ...  08:19   12.83   00:21     0.83   01:17     3.17   NaN   NaN   \n",
              "\n",
              "      FOA  TkA  \n",
              "0     1.0  NaN  \n",
              "1     9.0  NaN  \n",
              "2     3.0  NaN  \n",
              "3     9.0  NaN  \n",
              "4     NaN  NaN  \n",
              "...   ...  ...  \n",
              "5202  NaN  NaN  \n",
              "5203  NaN  NaN  \n",
              "5204  NaN  NaN  \n",
              "5205  NaN  NaN  \n",
              "5206  NaN  NaN  \n",
              "\n",
              "[3586 rows x 38 columns]"
            ],
            "text/html": [
              "\n",
              "  <div id=\"df-088d5a8b-5502-46ce-8838-24545308295d\">\n",
              "    <div class=\"colab-df-container\">\n",
              "      <div>\n",
              "<style scoped>\n",
              "    .dataframe tbody tr th:only-of-type {\n",
              "        vertical-align: middle;\n",
              "    }\n",
              "\n",
              "    .dataframe tbody tr th {\n",
              "        vertical-align: top;\n",
              "    }\n",
              "\n",
              "    .dataframe thead th {\n",
              "        text-align: right;\n",
              "    }\n",
              "</style>\n",
              "<table border=\"1\" class=\"dataframe\">\n",
              "  <thead>\n",
              "    <tr style=\"text-align: right;\">\n",
              "      <th></th>\n",
              "      <th>URL</th>\n",
              "      <th>Player name</th>\n",
              "      <th>Position</th>\n",
              "      <th>Season</th>\n",
              "      <th>Tournament/Team</th>\n",
              "      <th>№</th>\n",
              "      <th>GP</th>\n",
              "      <th>G</th>\n",
              "      <th>Assists</th>\n",
              "      <th>PTS</th>\n",
              "      <th>...</th>\n",
              "      <th>TIE/G</th>\n",
              "      <th>SFTE/G</th>\n",
              "      <th>TIPP/G</th>\n",
              "      <th>SFTPP/G</th>\n",
              "      <th>TISH/G</th>\n",
              "      <th>SFTSH/G</th>\n",
              "      <th>HITS</th>\n",
              "      <th>BLS</th>\n",
              "      <th>FOA</th>\n",
              "      <th>TkA</th>\n",
              "    </tr>\n",
              "  </thead>\n",
              "  <tbody>\n",
              "    <tr>\n",
              "      <th>0</th>\n",
              "      <td>https://en.khl.ru//players/16785/</td>\n",
              "      <td>Juhamatti Aaltonen</td>\n",
              "      <td>forward</td>\n",
              "      <td>15/16 | playoffs</td>\n",
              "      <td>Jokerit (Helsinki)</td>\n",
              "      <td>50.0</td>\n",
              "      <td>6.0</td>\n",
              "      <td>0.0</td>\n",
              "      <td>1.0</td>\n",
              "      <td>1.0</td>\n",
              "      <td>...</td>\n",
              "      <td>11:25</td>\n",
              "      <td>17.33</td>\n",
              "      <td>03:55</td>\n",
              "      <td>4.0</td>\n",
              "      <td>00:00</td>\n",
              "      <td>0.0</td>\n",
              "      <td>3.0</td>\n",
              "      <td>0.0</td>\n",
              "      <td>1.0</td>\n",
              "      <td>NaN</td>\n",
              "    </tr>\n",
              "    <tr>\n",
              "      <th>1</th>\n",
              "      <td>https://en.khl.ru//players/16785/</td>\n",
              "      <td>Juhamatti Aaltonen</td>\n",
              "      <td>forward</td>\n",
              "      <td>15/16 | regular</td>\n",
              "      <td>Jokerit (Helsinki)</td>\n",
              "      <td>50.0</td>\n",
              "      <td>45.0</td>\n",
              "      <td>15.0</td>\n",
              "      <td>13.0</td>\n",
              "      <td>28.0</td>\n",
              "      <td>...</td>\n",
              "      <td>12:21</td>\n",
              "      <td>17.8</td>\n",
              "      <td>02:35</td>\n",
              "      <td>3.33</td>\n",
              "      <td>00:08</td>\n",
              "      <td>0.22</td>\n",
              "      <td>10.0</td>\n",
              "      <td>10.0</td>\n",
              "      <td>9.0</td>\n",
              "      <td>NaN</td>\n",
              "    </tr>\n",
              "    <tr>\n",
              "      <th>2</th>\n",
              "      <td>https://en.khl.ru//players/16785/</td>\n",
              "      <td>Juhamatti Aaltonen</td>\n",
              "      <td>forward</td>\n",
              "      <td>14/15 | playoffs</td>\n",
              "      <td>Jokerit (Helsinki)</td>\n",
              "      <td>50.0</td>\n",
              "      <td>10.0</td>\n",
              "      <td>4.0</td>\n",
              "      <td>2.0</td>\n",
              "      <td>6.0</td>\n",
              "      <td>...</td>\n",
              "      <td>12:01</td>\n",
              "      <td>18.2</td>\n",
              "      <td>02:51</td>\n",
              "      <td>4.0</td>\n",
              "      <td>00:00</td>\n",
              "      <td>0.1</td>\n",
              "      <td>4.0</td>\n",
              "      <td>1.0</td>\n",
              "      <td>3.0</td>\n",
              "      <td>NaN</td>\n",
              "    </tr>\n",
              "    <tr>\n",
              "      <th>3</th>\n",
              "      <td>https://en.khl.ru//players/16785/</td>\n",
              "      <td>Juhamatti Aaltonen</td>\n",
              "      <td>forward</td>\n",
              "      <td>14/15 | regular</td>\n",
              "      <td>Jokerit (Helsinki)</td>\n",
              "      <td>50.0</td>\n",
              "      <td>48.0</td>\n",
              "      <td>10.0</td>\n",
              "      <td>24.0</td>\n",
              "      <td>34.0</td>\n",
              "      <td>...</td>\n",
              "      <td>12:26</td>\n",
              "      <td>16.56</td>\n",
              "      <td>03:14</td>\n",
              "      <td>3.92</td>\n",
              "      <td>00:02</td>\n",
              "      <td>0.06</td>\n",
              "      <td>14.0</td>\n",
              "      <td>6.0</td>\n",
              "      <td>9.0</td>\n",
              "      <td>NaN</td>\n",
              "    </tr>\n",
              "    <tr>\n",
              "      <th>4</th>\n",
              "      <td>https://en.khl.ru//players/16785/</td>\n",
              "      <td>Juhamatti Aaltonen</td>\n",
              "      <td>forward</td>\n",
              "      <td>11/12 | playoffs</td>\n",
              "      <td>Metallurg (Magnitogorsk)</td>\n",
              "      <td>50.0</td>\n",
              "      <td>8.0</td>\n",
              "      <td>1.0</td>\n",
              "      <td>2.0</td>\n",
              "      <td>3.0</td>\n",
              "      <td>...</td>\n",
              "      <td>13:01</td>\n",
              "      <td>20.0</td>\n",
              "      <td>01:27</td>\n",
              "      <td>2.13</td>\n",
              "      <td>00:42</td>\n",
              "      <td>1.25</td>\n",
              "      <td>NaN</td>\n",
              "      <td>NaN</td>\n",
              "      <td>NaN</td>\n",
              "      <td>NaN</td>\n",
              "    </tr>\n",
              "    <tr>\n",
              "      <th>...</th>\n",
              "      <td>...</td>\n",
              "      <td>...</td>\n",
              "      <td>...</td>\n",
              "      <td>...</td>\n",
              "      <td>...</td>\n",
              "      <td>...</td>\n",
              "      <td>...</td>\n",
              "      <td>...</td>\n",
              "      <td>...</td>\n",
              "      <td>...</td>\n",
              "      <td>...</td>\n",
              "      <td>...</td>\n",
              "      <td>...</td>\n",
              "      <td>...</td>\n",
              "      <td>...</td>\n",
              "      <td>...</td>\n",
              "      <td>...</td>\n",
              "      <td>...</td>\n",
              "      <td>...</td>\n",
              "      <td>...</td>\n",
              "      <td>...</td>\n",
              "    </tr>\n",
              "    <tr>\n",
              "      <th>5202</th>\n",
              "      <td>https://en.khl.ru//players/9495/</td>\n",
              "      <td>Radik Zakiyev</td>\n",
              "      <td>forward</td>\n",
              "      <td>11/12 | regular</td>\n",
              "      <td>Amur (Khabarovsk)</td>\n",
              "      <td>10.0</td>\n",
              "      <td>33.0</td>\n",
              "      <td>2.0</td>\n",
              "      <td>10.0</td>\n",
              "      <td>12.0</td>\n",
              "      <td>...</td>\n",
              "      <td>10:55</td>\n",
              "      <td>16.0</td>\n",
              "      <td>00:22</td>\n",
              "      <td>1.39</td>\n",
              "      <td>01:50</td>\n",
              "      <td>3.12</td>\n",
              "      <td>NaN</td>\n",
              "      <td>NaN</td>\n",
              "      <td>NaN</td>\n",
              "      <td>NaN</td>\n",
              "    </tr>\n",
              "    <tr>\n",
              "      <th>5203</th>\n",
              "      <td>https://en.khl.ru//players/9495/</td>\n",
              "      <td>Radik Zakiyev</td>\n",
              "      <td>forward</td>\n",
              "      <td>11/12 | regular</td>\n",
              "      <td>Summary:</td>\n",
              "      <td>NaN</td>\n",
              "      <td>41.0</td>\n",
              "      <td>2.0</td>\n",
              "      <td>11.0</td>\n",
              "      <td>13.0</td>\n",
              "      <td>...</td>\n",
              "      <td>10:40</td>\n",
              "      <td>15.51</td>\n",
              "      <td>00:34</td>\n",
              "      <td>1.61</td>\n",
              "      <td>01:29</td>\n",
              "      <td>2.51</td>\n",
              "      <td>NaN</td>\n",
              "      <td>NaN</td>\n",
              "      <td>NaN</td>\n",
              "      <td>NaN</td>\n",
              "    </tr>\n",
              "    <tr>\n",
              "      <th>5204</th>\n",
              "      <td>https://en.khl.ru//players/9495/</td>\n",
              "      <td>Radik Zakiyev</td>\n",
              "      <td>forward</td>\n",
              "      <td>10/11 | regular</td>\n",
              "      <td>Amur (Khabarovsk)</td>\n",
              "      <td>10.0</td>\n",
              "      <td>54.0</td>\n",
              "      <td>12.0</td>\n",
              "      <td>13.0</td>\n",
              "      <td>25.0</td>\n",
              "      <td>...</td>\n",
              "      <td>11:15</td>\n",
              "      <td>15.59</td>\n",
              "      <td>02:28</td>\n",
              "      <td>3.52</td>\n",
              "      <td>01:09</td>\n",
              "      <td>2.0</td>\n",
              "      <td>NaN</td>\n",
              "      <td>NaN</td>\n",
              "      <td>NaN</td>\n",
              "      <td>NaN</td>\n",
              "    </tr>\n",
              "    <tr>\n",
              "      <th>5205</th>\n",
              "      <td>https://en.khl.ru//players/9495/</td>\n",
              "      <td>Radik Zakiyev</td>\n",
              "      <td>forward</td>\n",
              "      <td>09/10 | regular</td>\n",
              "      <td>Amur (Khabarovsk)</td>\n",
              "      <td>10.0</td>\n",
              "      <td>42.0</td>\n",
              "      <td>3.0</td>\n",
              "      <td>3.0</td>\n",
              "      <td>6.0</td>\n",
              "      <td>...</td>\n",
              "      <td>09:38</td>\n",
              "      <td>12.79</td>\n",
              "      <td>00:42</td>\n",
              "      <td>1.43</td>\n",
              "      <td>01:18</td>\n",
              "      <td>2.14</td>\n",
              "      <td>NaN</td>\n",
              "      <td>NaN</td>\n",
              "      <td>NaN</td>\n",
              "      <td>NaN</td>\n",
              "    </tr>\n",
              "    <tr>\n",
              "      <th>5206</th>\n",
              "      <td>https://en.khl.ru//players/9495/</td>\n",
              "      <td>Radik Zakiyev</td>\n",
              "      <td>forward</td>\n",
              "      <td>08/09 | regular</td>\n",
              "      <td>Neftekhimik (Nizhnekamsk)</td>\n",
              "      <td>17.0</td>\n",
              "      <td>6.0</td>\n",
              "      <td>0.0</td>\n",
              "      <td>0.0</td>\n",
              "      <td>0.0</td>\n",
              "      <td>...</td>\n",
              "      <td>08:19</td>\n",
              "      <td>12.83</td>\n",
              "      <td>00:21</td>\n",
              "      <td>0.83</td>\n",
              "      <td>01:17</td>\n",
              "      <td>3.17</td>\n",
              "      <td>NaN</td>\n",
              "      <td>NaN</td>\n",
              "      <td>NaN</td>\n",
              "      <td>NaN</td>\n",
              "    </tr>\n",
              "  </tbody>\n",
              "</table>\n",
              "<p>3586 rows × 38 columns</p>\n",
              "</div>\n",
              "      <button class=\"colab-df-convert\" onclick=\"convertToInteractive('df-088d5a8b-5502-46ce-8838-24545308295d')\"\n",
              "              title=\"Convert this dataframe to an interactive table.\"\n",
              "              style=\"display:none;\">\n",
              "        \n",
              "  <svg xmlns=\"http://www.w3.org/2000/svg\" height=\"24px\"viewBox=\"0 0 24 24\"\n",
              "       width=\"24px\">\n",
              "    <path d=\"M0 0h24v24H0V0z\" fill=\"none\"/>\n",
              "    <path d=\"M18.56 5.44l.94 2.06.94-2.06 2.06-.94-2.06-.94-.94-2.06-.94 2.06-2.06.94zm-11 1L8.5 8.5l.94-2.06 2.06-.94-2.06-.94L8.5 2.5l-.94 2.06-2.06.94zm10 10l.94 2.06.94-2.06 2.06-.94-2.06-.94-.94-2.06-.94 2.06-2.06.94z\"/><path d=\"M17.41 7.96l-1.37-1.37c-.4-.4-.92-.59-1.43-.59-.52 0-1.04.2-1.43.59L10.3 9.45l-7.72 7.72c-.78.78-.78 2.05 0 2.83L4 21.41c.39.39.9.59 1.41.59.51 0 1.02-.2 1.41-.59l7.78-7.78 2.81-2.81c.8-.78.8-2.07 0-2.86zM5.41 20L4 18.59l7.72-7.72 1.47 1.35L5.41 20z\"/>\n",
              "  </svg>\n",
              "      </button>\n",
              "      \n",
              "  <style>\n",
              "    .colab-df-container {\n",
              "      display:flex;\n",
              "      flex-wrap:wrap;\n",
              "      gap: 12px;\n",
              "    }\n",
              "\n",
              "    .colab-df-convert {\n",
              "      background-color: #E8F0FE;\n",
              "      border: none;\n",
              "      border-radius: 50%;\n",
              "      cursor: pointer;\n",
              "      display: none;\n",
              "      fill: #1967D2;\n",
              "      height: 32px;\n",
              "      padding: 0 0 0 0;\n",
              "      width: 32px;\n",
              "    }\n",
              "\n",
              "    .colab-df-convert:hover {\n",
              "      background-color: #E2EBFA;\n",
              "      box-shadow: 0px 1px 2px rgba(60, 64, 67, 0.3), 0px 1px 3px 1px rgba(60, 64, 67, 0.15);\n",
              "      fill: #174EA6;\n",
              "    }\n",
              "\n",
              "    [theme=dark] .colab-df-convert {\n",
              "      background-color: #3B4455;\n",
              "      fill: #D2E3FC;\n",
              "    }\n",
              "\n",
              "    [theme=dark] .colab-df-convert:hover {\n",
              "      background-color: #434B5C;\n",
              "      box-shadow: 0px 1px 3px 1px rgba(0, 0, 0, 0.15);\n",
              "      filter: drop-shadow(0px 1px 2px rgba(0, 0, 0, 0.3));\n",
              "      fill: #FFFFFF;\n",
              "    }\n",
              "  </style>\n",
              "\n",
              "      <script>\n",
              "        const buttonEl =\n",
              "          document.querySelector('#df-088d5a8b-5502-46ce-8838-24545308295d button.colab-df-convert');\n",
              "        buttonEl.style.display =\n",
              "          google.colab.kernel.accessAllowed ? 'block' : 'none';\n",
              "\n",
              "        async function convertToInteractive(key) {\n",
              "          const element = document.querySelector('#df-088d5a8b-5502-46ce-8838-24545308295d');\n",
              "          const dataTable =\n",
              "            await google.colab.kernel.invokeFunction('convertToInteractive',\n",
              "                                                     [key], {});\n",
              "          if (!dataTable) return;\n",
              "\n",
              "          const docLinkHtml = 'Like what you see? Visit the ' +\n",
              "            '<a target=\"_blank\" href=https://colab.research.google.com/notebooks/data_table.ipynb>data table notebook</a>'\n",
              "            + ' to learn more about interactive tables.';\n",
              "          element.innerHTML = '';\n",
              "          dataTable['output_type'] = 'display_data';\n",
              "          await google.colab.output.renderOutput(dataTable, element);\n",
              "          const docLink = document.createElement('div');\n",
              "          docLink.innerHTML = docLinkHtml;\n",
              "          element.appendChild(docLink);\n",
              "        }\n",
              "      </script>\n",
              "    </div>\n",
              "  </div>\n",
              "  "
            ]
          },
          "metadata": {},
          "execution_count": 9
        }
      ]
    },
    {
      "cell_type": "code",
      "source": [
        "list_player_season_stat"
      ],
      "metadata": {
        "colab": {
          "base_uri": "https://localhost:8080/",
          "height": 678
        },
        "id": "IWP9A7wniyo4",
        "outputId": "13665292-538b-4379-b394-61b5be5d6bbf"
      },
      "execution_count": null,
      "outputs": [
        {
          "output_type": "execute_result",
          "data": {
            "text/plain": [
              "                                    URL         Player name Position  \\\n",
              "8     https://en.khl.ru//players/16785/  Juhamatti Aaltonen  forward   \n",
              "9     https://en.khl.ru//players/16785/  Juhamatti Aaltonen  forward   \n",
              "10    https://en.khl.ru//players/16785/  Juhamatti Aaltonen  forward   \n",
              "21    https://en.khl.ru//players/17585/       Miro Aaltonen  forward   \n",
              "22    https://en.khl.ru//players/17585/       Miro Aaltonen  forward   \n",
              "...                                 ...                 ...      ...   \n",
              "5197  https://en.khl.ru//players/16125/   Alexander Zakirov  forward   \n",
              "5198  https://en.khl.ru//players/16125/   Alexander Zakirov  forward   \n",
              "5207   https://en.khl.ru//players/9495/       Radik Zakiyev  forward   \n",
              "5208   https://en.khl.ru//players/9495/       Radik Zakiyev  forward   \n",
              "5209   https://en.khl.ru//players/9495/       Radik Zakiyev  forward   \n",
              "\n",
              "           Season  Tournament/Team    №     GP     G  Assists    PTS  ...  \\\n",
              "8     KHL Summary  Regular season:  NaN  201.0  67.0     65.0  132.0  ...   \n",
              "9     KHL Summary        Playoffs:  NaN   44.0  11.0      8.0   19.0  ...   \n",
              "10    KHL Summary       KHL Total:  NaN  245.0  78.0     73.0  151.0  ...   \n",
              "21    KHL Summary  Regular season:  NaN  244.0  69.0    106.0  175.0  ...   \n",
              "22    KHL Summary        Playoffs:  NaN   12.0   0.0      0.0    0.0  ...   \n",
              "...           ...              ...  ...    ...   ...      ...    ...  ...   \n",
              "5197  KHL Summary  Regular season:  NaN    8.0   0.0      0.0    0.0  ...   \n",
              "5198  KHL Summary       KHL Total:  NaN    8.0   0.0      0.0    0.0  ...   \n",
              "5207  KHL Summary  Regular season:  NaN  148.0  17.0     27.0   44.0  ...   \n",
              "5208  KHL Summary        Playoffs:  NaN    5.0   0.0      0.0    0.0  ...   \n",
              "5209  KHL Summary       KHL Total:  NaN  153.0  17.0     27.0   44.0  ...   \n",
              "\n",
              "      TIE/G  SFTE/G  TIPP/G  SFTPP/G  TISH/G  SFTSH/G   HITS    BLS   FOA  TkA  \n",
              "8     12:21   17.57   02:49     3.72   00:23     0.81   24.0   16.0  18.0  0.0  \n",
              "9     13:12   19.95   02:19     3.14   00:10     0.45    7.0    1.0   4.0  0.0  \n",
              "10    12:30    18.0   02:44     3.62   00:21     0.74   31.0   17.0  22.0  0.0  \n",
              "21    13:34   20.49   03:19     3.83   00:45     1.55  175.0  111.0  56.0  0.0  \n",
              "22    14:50   22.67   02:18     3.08   00:03     0.42    7.0    5.0   4.0  0.0  \n",
              "...     ...     ...     ...      ...     ...      ...    ...    ...   ...  ...  \n",
              "5197  03:36    5.75   00:00     0.13   00:03     0.38    0.0    0.0   0.0  0.0  \n",
              "5198  03:36    5.75   00:00     0.13   00:03     0.38    0.0    0.0   0.0  0.0  \n",
              "5207  10:23   14.43   01:17     2.18   01:15     2.16    0.0    0.0   0.0  0.0  \n",
              "5208  08:27    11.8   00:05      0.2   00:00      0.0    0.0    0.0   0.0  0.0  \n",
              "5209  10:19   14.34   01:14     2.11   01:13     2.09    0.0    0.0   0.0  0.0  \n",
              "\n",
              "[1624 rows x 38 columns]"
            ],
            "text/html": [
              "\n",
              "  <div id=\"df-3b21d5c8-6d5d-4655-b5de-0bbeacae5ddb\">\n",
              "    <div class=\"colab-df-container\">\n",
              "      <div>\n",
              "<style scoped>\n",
              "    .dataframe tbody tr th:only-of-type {\n",
              "        vertical-align: middle;\n",
              "    }\n",
              "\n",
              "    .dataframe tbody tr th {\n",
              "        vertical-align: top;\n",
              "    }\n",
              "\n",
              "    .dataframe thead th {\n",
              "        text-align: right;\n",
              "    }\n",
              "</style>\n",
              "<table border=\"1\" class=\"dataframe\">\n",
              "  <thead>\n",
              "    <tr style=\"text-align: right;\">\n",
              "      <th></th>\n",
              "      <th>URL</th>\n",
              "      <th>Player name</th>\n",
              "      <th>Position</th>\n",
              "      <th>Season</th>\n",
              "      <th>Tournament/Team</th>\n",
              "      <th>№</th>\n",
              "      <th>GP</th>\n",
              "      <th>G</th>\n",
              "      <th>Assists</th>\n",
              "      <th>PTS</th>\n",
              "      <th>...</th>\n",
              "      <th>TIE/G</th>\n",
              "      <th>SFTE/G</th>\n",
              "      <th>TIPP/G</th>\n",
              "      <th>SFTPP/G</th>\n",
              "      <th>TISH/G</th>\n",
              "      <th>SFTSH/G</th>\n",
              "      <th>HITS</th>\n",
              "      <th>BLS</th>\n",
              "      <th>FOA</th>\n",
              "      <th>TkA</th>\n",
              "    </tr>\n",
              "  </thead>\n",
              "  <tbody>\n",
              "    <tr>\n",
              "      <th>8</th>\n",
              "      <td>https://en.khl.ru//players/16785/</td>\n",
              "      <td>Juhamatti Aaltonen</td>\n",
              "      <td>forward</td>\n",
              "      <td>KHL Summary</td>\n",
              "      <td>Regular season:</td>\n",
              "      <td>NaN</td>\n",
              "      <td>201.0</td>\n",
              "      <td>67.0</td>\n",
              "      <td>65.0</td>\n",
              "      <td>132.0</td>\n",
              "      <td>...</td>\n",
              "      <td>12:21</td>\n",
              "      <td>17.57</td>\n",
              "      <td>02:49</td>\n",
              "      <td>3.72</td>\n",
              "      <td>00:23</td>\n",
              "      <td>0.81</td>\n",
              "      <td>24.0</td>\n",
              "      <td>16.0</td>\n",
              "      <td>18.0</td>\n",
              "      <td>0.0</td>\n",
              "    </tr>\n",
              "    <tr>\n",
              "      <th>9</th>\n",
              "      <td>https://en.khl.ru//players/16785/</td>\n",
              "      <td>Juhamatti Aaltonen</td>\n",
              "      <td>forward</td>\n",
              "      <td>KHL Summary</td>\n",
              "      <td>Playoffs:</td>\n",
              "      <td>NaN</td>\n",
              "      <td>44.0</td>\n",
              "      <td>11.0</td>\n",
              "      <td>8.0</td>\n",
              "      <td>19.0</td>\n",
              "      <td>...</td>\n",
              "      <td>13:12</td>\n",
              "      <td>19.95</td>\n",
              "      <td>02:19</td>\n",
              "      <td>3.14</td>\n",
              "      <td>00:10</td>\n",
              "      <td>0.45</td>\n",
              "      <td>7.0</td>\n",
              "      <td>1.0</td>\n",
              "      <td>4.0</td>\n",
              "      <td>0.0</td>\n",
              "    </tr>\n",
              "    <tr>\n",
              "      <th>10</th>\n",
              "      <td>https://en.khl.ru//players/16785/</td>\n",
              "      <td>Juhamatti Aaltonen</td>\n",
              "      <td>forward</td>\n",
              "      <td>KHL Summary</td>\n",
              "      <td>KHL Total:</td>\n",
              "      <td>NaN</td>\n",
              "      <td>245.0</td>\n",
              "      <td>78.0</td>\n",
              "      <td>73.0</td>\n",
              "      <td>151.0</td>\n",
              "      <td>...</td>\n",
              "      <td>12:30</td>\n",
              "      <td>18.0</td>\n",
              "      <td>02:44</td>\n",
              "      <td>3.62</td>\n",
              "      <td>00:21</td>\n",
              "      <td>0.74</td>\n",
              "      <td>31.0</td>\n",
              "      <td>17.0</td>\n",
              "      <td>22.0</td>\n",
              "      <td>0.0</td>\n",
              "    </tr>\n",
              "    <tr>\n",
              "      <th>21</th>\n",
              "      <td>https://en.khl.ru//players/17585/</td>\n",
              "      <td>Miro Aaltonen</td>\n",
              "      <td>forward</td>\n",
              "      <td>KHL Summary</td>\n",
              "      <td>Regular season:</td>\n",
              "      <td>NaN</td>\n",
              "      <td>244.0</td>\n",
              "      <td>69.0</td>\n",
              "      <td>106.0</td>\n",
              "      <td>175.0</td>\n",
              "      <td>...</td>\n",
              "      <td>13:34</td>\n",
              "      <td>20.49</td>\n",
              "      <td>03:19</td>\n",
              "      <td>3.83</td>\n",
              "      <td>00:45</td>\n",
              "      <td>1.55</td>\n",
              "      <td>175.0</td>\n",
              "      <td>111.0</td>\n",
              "      <td>56.0</td>\n",
              "      <td>0.0</td>\n",
              "    </tr>\n",
              "    <tr>\n",
              "      <th>22</th>\n",
              "      <td>https://en.khl.ru//players/17585/</td>\n",
              "      <td>Miro Aaltonen</td>\n",
              "      <td>forward</td>\n",
              "      <td>KHL Summary</td>\n",
              "      <td>Playoffs:</td>\n",
              "      <td>NaN</td>\n",
              "      <td>12.0</td>\n",
              "      <td>0.0</td>\n",
              "      <td>0.0</td>\n",
              "      <td>0.0</td>\n",
              "      <td>...</td>\n",
              "      <td>14:50</td>\n",
              "      <td>22.67</td>\n",
              "      <td>02:18</td>\n",
              "      <td>3.08</td>\n",
              "      <td>00:03</td>\n",
              "      <td>0.42</td>\n",
              "      <td>7.0</td>\n",
              "      <td>5.0</td>\n",
              "      <td>4.0</td>\n",
              "      <td>0.0</td>\n",
              "    </tr>\n",
              "    <tr>\n",
              "      <th>...</th>\n",
              "      <td>...</td>\n",
              "      <td>...</td>\n",
              "      <td>...</td>\n",
              "      <td>...</td>\n",
              "      <td>...</td>\n",
              "      <td>...</td>\n",
              "      <td>...</td>\n",
              "      <td>...</td>\n",
              "      <td>...</td>\n",
              "      <td>...</td>\n",
              "      <td>...</td>\n",
              "      <td>...</td>\n",
              "      <td>...</td>\n",
              "      <td>...</td>\n",
              "      <td>...</td>\n",
              "      <td>...</td>\n",
              "      <td>...</td>\n",
              "      <td>...</td>\n",
              "      <td>...</td>\n",
              "      <td>...</td>\n",
              "      <td>...</td>\n",
              "    </tr>\n",
              "    <tr>\n",
              "      <th>5197</th>\n",
              "      <td>https://en.khl.ru//players/16125/</td>\n",
              "      <td>Alexander Zakirov</td>\n",
              "      <td>forward</td>\n",
              "      <td>KHL Summary</td>\n",
              "      <td>Regular season:</td>\n",
              "      <td>NaN</td>\n",
              "      <td>8.0</td>\n",
              "      <td>0.0</td>\n",
              "      <td>0.0</td>\n",
              "      <td>0.0</td>\n",
              "      <td>...</td>\n",
              "      <td>03:36</td>\n",
              "      <td>5.75</td>\n",
              "      <td>00:00</td>\n",
              "      <td>0.13</td>\n",
              "      <td>00:03</td>\n",
              "      <td>0.38</td>\n",
              "      <td>0.0</td>\n",
              "      <td>0.0</td>\n",
              "      <td>0.0</td>\n",
              "      <td>0.0</td>\n",
              "    </tr>\n",
              "    <tr>\n",
              "      <th>5198</th>\n",
              "      <td>https://en.khl.ru//players/16125/</td>\n",
              "      <td>Alexander Zakirov</td>\n",
              "      <td>forward</td>\n",
              "      <td>KHL Summary</td>\n",
              "      <td>KHL Total:</td>\n",
              "      <td>NaN</td>\n",
              "      <td>8.0</td>\n",
              "      <td>0.0</td>\n",
              "      <td>0.0</td>\n",
              "      <td>0.0</td>\n",
              "      <td>...</td>\n",
              "      <td>03:36</td>\n",
              "      <td>5.75</td>\n",
              "      <td>00:00</td>\n",
              "      <td>0.13</td>\n",
              "      <td>00:03</td>\n",
              "      <td>0.38</td>\n",
              "      <td>0.0</td>\n",
              "      <td>0.0</td>\n",
              "      <td>0.0</td>\n",
              "      <td>0.0</td>\n",
              "    </tr>\n",
              "    <tr>\n",
              "      <th>5207</th>\n",
              "      <td>https://en.khl.ru//players/9495/</td>\n",
              "      <td>Radik Zakiyev</td>\n",
              "      <td>forward</td>\n",
              "      <td>KHL Summary</td>\n",
              "      <td>Regular season:</td>\n",
              "      <td>NaN</td>\n",
              "      <td>148.0</td>\n",
              "      <td>17.0</td>\n",
              "      <td>27.0</td>\n",
              "      <td>44.0</td>\n",
              "      <td>...</td>\n",
              "      <td>10:23</td>\n",
              "      <td>14.43</td>\n",
              "      <td>01:17</td>\n",
              "      <td>2.18</td>\n",
              "      <td>01:15</td>\n",
              "      <td>2.16</td>\n",
              "      <td>0.0</td>\n",
              "      <td>0.0</td>\n",
              "      <td>0.0</td>\n",
              "      <td>0.0</td>\n",
              "    </tr>\n",
              "    <tr>\n",
              "      <th>5208</th>\n",
              "      <td>https://en.khl.ru//players/9495/</td>\n",
              "      <td>Radik Zakiyev</td>\n",
              "      <td>forward</td>\n",
              "      <td>KHL Summary</td>\n",
              "      <td>Playoffs:</td>\n",
              "      <td>NaN</td>\n",
              "      <td>5.0</td>\n",
              "      <td>0.0</td>\n",
              "      <td>0.0</td>\n",
              "      <td>0.0</td>\n",
              "      <td>...</td>\n",
              "      <td>08:27</td>\n",
              "      <td>11.8</td>\n",
              "      <td>00:05</td>\n",
              "      <td>0.2</td>\n",
              "      <td>00:00</td>\n",
              "      <td>0.0</td>\n",
              "      <td>0.0</td>\n",
              "      <td>0.0</td>\n",
              "      <td>0.0</td>\n",
              "      <td>0.0</td>\n",
              "    </tr>\n",
              "    <tr>\n",
              "      <th>5209</th>\n",
              "      <td>https://en.khl.ru//players/9495/</td>\n",
              "      <td>Radik Zakiyev</td>\n",
              "      <td>forward</td>\n",
              "      <td>KHL Summary</td>\n",
              "      <td>KHL Total:</td>\n",
              "      <td>NaN</td>\n",
              "      <td>153.0</td>\n",
              "      <td>17.0</td>\n",
              "      <td>27.0</td>\n",
              "      <td>44.0</td>\n",
              "      <td>...</td>\n",
              "      <td>10:19</td>\n",
              "      <td>14.34</td>\n",
              "      <td>01:14</td>\n",
              "      <td>2.11</td>\n",
              "      <td>01:13</td>\n",
              "      <td>2.09</td>\n",
              "      <td>0.0</td>\n",
              "      <td>0.0</td>\n",
              "      <td>0.0</td>\n",
              "      <td>0.0</td>\n",
              "    </tr>\n",
              "  </tbody>\n",
              "</table>\n",
              "<p>1624 rows × 38 columns</p>\n",
              "</div>\n",
              "      <button class=\"colab-df-convert\" onclick=\"convertToInteractive('df-3b21d5c8-6d5d-4655-b5de-0bbeacae5ddb')\"\n",
              "              title=\"Convert this dataframe to an interactive table.\"\n",
              "              style=\"display:none;\">\n",
              "        \n",
              "  <svg xmlns=\"http://www.w3.org/2000/svg\" height=\"24px\"viewBox=\"0 0 24 24\"\n",
              "       width=\"24px\">\n",
              "    <path d=\"M0 0h24v24H0V0z\" fill=\"none\"/>\n",
              "    <path d=\"M18.56 5.44l.94 2.06.94-2.06 2.06-.94-2.06-.94-.94-2.06-.94 2.06-2.06.94zm-11 1L8.5 8.5l.94-2.06 2.06-.94-2.06-.94L8.5 2.5l-.94 2.06-2.06.94zm10 10l.94 2.06.94-2.06 2.06-.94-2.06-.94-.94-2.06-.94 2.06-2.06.94z\"/><path d=\"M17.41 7.96l-1.37-1.37c-.4-.4-.92-.59-1.43-.59-.52 0-1.04.2-1.43.59L10.3 9.45l-7.72 7.72c-.78.78-.78 2.05 0 2.83L4 21.41c.39.39.9.59 1.41.59.51 0 1.02-.2 1.41-.59l7.78-7.78 2.81-2.81c.8-.78.8-2.07 0-2.86zM5.41 20L4 18.59l7.72-7.72 1.47 1.35L5.41 20z\"/>\n",
              "  </svg>\n",
              "      </button>\n",
              "      \n",
              "  <style>\n",
              "    .colab-df-container {\n",
              "      display:flex;\n",
              "      flex-wrap:wrap;\n",
              "      gap: 12px;\n",
              "    }\n",
              "\n",
              "    .colab-df-convert {\n",
              "      background-color: #E8F0FE;\n",
              "      border: none;\n",
              "      border-radius: 50%;\n",
              "      cursor: pointer;\n",
              "      display: none;\n",
              "      fill: #1967D2;\n",
              "      height: 32px;\n",
              "      padding: 0 0 0 0;\n",
              "      width: 32px;\n",
              "    }\n",
              "\n",
              "    .colab-df-convert:hover {\n",
              "      background-color: #E2EBFA;\n",
              "      box-shadow: 0px 1px 2px rgba(60, 64, 67, 0.3), 0px 1px 3px 1px rgba(60, 64, 67, 0.15);\n",
              "      fill: #174EA6;\n",
              "    }\n",
              "\n",
              "    [theme=dark] .colab-df-convert {\n",
              "      background-color: #3B4455;\n",
              "      fill: #D2E3FC;\n",
              "    }\n",
              "\n",
              "    [theme=dark] .colab-df-convert:hover {\n",
              "      background-color: #434B5C;\n",
              "      box-shadow: 0px 1px 3px 1px rgba(0, 0, 0, 0.15);\n",
              "      filter: drop-shadow(0px 1px 2px rgba(0, 0, 0, 0.3));\n",
              "      fill: #FFFFFF;\n",
              "    }\n",
              "  </style>\n",
              "\n",
              "      <script>\n",
              "        const buttonEl =\n",
              "          document.querySelector('#df-3b21d5c8-6d5d-4655-b5de-0bbeacae5ddb button.colab-df-convert');\n",
              "        buttonEl.style.display =\n",
              "          google.colab.kernel.accessAllowed ? 'block' : 'none';\n",
              "\n",
              "        async function convertToInteractive(key) {\n",
              "          const element = document.querySelector('#df-3b21d5c8-6d5d-4655-b5de-0bbeacae5ddb');\n",
              "          const dataTable =\n",
              "            await google.colab.kernel.invokeFunction('convertToInteractive',\n",
              "                                                     [key], {});\n",
              "          if (!dataTable) return;\n",
              "\n",
              "          const docLinkHtml = 'Like what you see? Visit the ' +\n",
              "            '<a target=\"_blank\" href=https://colab.research.google.com/notebooks/data_table.ipynb>data table notebook</a>'\n",
              "            + ' to learn more about interactive tables.';\n",
              "          element.innerHTML = '';\n",
              "          dataTable['output_type'] = 'display_data';\n",
              "          await google.colab.output.renderOutput(dataTable, element);\n",
              "          const docLink = document.createElement('div');\n",
              "          docLink.innerHTML = docLinkHtml;\n",
              "          element.appendChild(docLink);\n",
              "        }\n",
              "      </script>\n",
              "    </div>\n",
              "  </div>\n",
              "  "
            ]
          },
          "metadata": {},
          "execution_count": 10
        }
      ]
    }
  ]
}